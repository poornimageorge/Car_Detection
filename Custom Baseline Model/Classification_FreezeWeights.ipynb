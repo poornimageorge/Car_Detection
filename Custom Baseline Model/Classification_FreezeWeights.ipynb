{
 "cells": [
  {
   "cell_type": "code",
   "execution_count": null,
   "metadata": {
    "colab": {
     "base_uri": "https://localhost:8080/"
    },
    "id": "hFsWf2o96oXP",
    "outputId": "5bdafce7-c020-4005-9757-eb215095d4bf"
   },
   "outputs": [
    {
     "name": "stdout",
     "output_type": "stream",
     "text": [
      "Collecting tensorflow-addons\n",
      "  Downloading tensorflow_addons-0.16.1-cp37-cp37m-manylinux_2_12_x86_64.manylinux2010_x86_64.whl (1.1 MB)\n",
      "\u001b[?25l\r",
      "\u001b[K     |▎                               | 10 kB 28.3 MB/s eta 0:00:01\r",
      "\u001b[K     |▋                               | 20 kB 9.9 MB/s eta 0:00:01\r",
      "\u001b[K     |▉                               | 30 kB 8.7 MB/s eta 0:00:01\r",
      "\u001b[K     |█▏                              | 40 kB 8.2 MB/s eta 0:00:01\r",
      "\u001b[K     |█▌                              | 51 kB 4.4 MB/s eta 0:00:01\r",
      "\u001b[K     |█▊                              | 61 kB 5.2 MB/s eta 0:00:01\r",
      "\u001b[K     |██                              | 71 kB 5.5 MB/s eta 0:00:01\r",
      "\u001b[K     |██▍                             | 81 kB 5.8 MB/s eta 0:00:01\r",
      "\u001b[K     |██▋                             | 92 kB 6.5 MB/s eta 0:00:01\r",
      "\u001b[K     |███                             | 102 kB 5.3 MB/s eta 0:00:01\r",
      "\u001b[K     |███▏                            | 112 kB 5.3 MB/s eta 0:00:01\r",
      "\u001b[K     |███▌                            | 122 kB 5.3 MB/s eta 0:00:01\r",
      "\u001b[K     |███▉                            | 133 kB 5.3 MB/s eta 0:00:01\r",
      "\u001b[K     |████                            | 143 kB 5.3 MB/s eta 0:00:01\r",
      "\u001b[K     |████▍                           | 153 kB 5.3 MB/s eta 0:00:01\r",
      "\u001b[K     |████▊                           | 163 kB 5.3 MB/s eta 0:00:01\r",
      "\u001b[K     |█████                           | 174 kB 5.3 MB/s eta 0:00:01\r",
      "\u001b[K     |█████▎                          | 184 kB 5.3 MB/s eta 0:00:01\r",
      "\u001b[K     |█████▌                          | 194 kB 5.3 MB/s eta 0:00:01\r",
      "\u001b[K     |█████▉                          | 204 kB 5.3 MB/s eta 0:00:01\r",
      "\u001b[K     |██████▏                         | 215 kB 5.3 MB/s eta 0:00:01\r",
      "\u001b[K     |██████▍                         | 225 kB 5.3 MB/s eta 0:00:01\r",
      "\u001b[K     |██████▊                         | 235 kB 5.3 MB/s eta 0:00:01\r",
      "\u001b[K     |███████                         | 245 kB 5.3 MB/s eta 0:00:01\r",
      "\u001b[K     |███████▎                        | 256 kB 5.3 MB/s eta 0:00:01\r",
      "\u001b[K     |███████▋                        | 266 kB 5.3 MB/s eta 0:00:01\r",
      "\u001b[K     |███████▉                        | 276 kB 5.3 MB/s eta 0:00:01\r",
      "\u001b[K     |████████▏                       | 286 kB 5.3 MB/s eta 0:00:01\r",
      "\u001b[K     |████████▌                       | 296 kB 5.3 MB/s eta 0:00:01\r",
      "\u001b[K     |████████▊                       | 307 kB 5.3 MB/s eta 0:00:01\r",
      "\u001b[K     |█████████                       | 317 kB 5.3 MB/s eta 0:00:01\r",
      "\u001b[K     |█████████▍                      | 327 kB 5.3 MB/s eta 0:00:01\r",
      "\u001b[K     |█████████▋                      | 337 kB 5.3 MB/s eta 0:00:01\r",
      "\u001b[K     |██████████                      | 348 kB 5.3 MB/s eta 0:00:01\r",
      "\u001b[K     |██████████▏                     | 358 kB 5.3 MB/s eta 0:00:01\r",
      "\u001b[K     |██████████▌                     | 368 kB 5.3 MB/s eta 0:00:01\r",
      "\u001b[K     |██████████▉                     | 378 kB 5.3 MB/s eta 0:00:01\r",
      "\u001b[K     |███████████                     | 389 kB 5.3 MB/s eta 0:00:01\r",
      "\u001b[K     |███████████▍                    | 399 kB 5.3 MB/s eta 0:00:01\r",
      "\u001b[K     |███████████▊                    | 409 kB 5.3 MB/s eta 0:00:01\r",
      "\u001b[K     |████████████                    | 419 kB 5.3 MB/s eta 0:00:01\r",
      "\u001b[K     |████████████▎                   | 430 kB 5.3 MB/s eta 0:00:01\r",
      "\u001b[K     |████████████▌                   | 440 kB 5.3 MB/s eta 0:00:01\r",
      "\u001b[K     |████████████▉                   | 450 kB 5.3 MB/s eta 0:00:01\r",
      "\u001b[K     |█████████████▏                  | 460 kB 5.3 MB/s eta 0:00:01\r",
      "\u001b[K     |█████████████▍                  | 471 kB 5.3 MB/s eta 0:00:01\r",
      "\u001b[K     |█████████████▊                  | 481 kB 5.3 MB/s eta 0:00:01\r",
      "\u001b[K     |██████████████                  | 491 kB 5.3 MB/s eta 0:00:01\r",
      "\u001b[K     |██████████████▎                 | 501 kB 5.3 MB/s eta 0:00:01\r",
      "\u001b[K     |██████████████▋                 | 512 kB 5.3 MB/s eta 0:00:01\r",
      "\u001b[K     |██████████████▉                 | 522 kB 5.3 MB/s eta 0:00:01\r",
      "\u001b[K     |███████████████▏                | 532 kB 5.3 MB/s eta 0:00:01\r",
      "\u001b[K     |███████████████▌                | 542 kB 5.3 MB/s eta 0:00:01\r",
      "\u001b[K     |███████████████▊                | 552 kB 5.3 MB/s eta 0:00:01\r",
      "\u001b[K     |████████████████                | 563 kB 5.3 MB/s eta 0:00:01\r",
      "\u001b[K     |████████████████▍               | 573 kB 5.3 MB/s eta 0:00:01\r",
      "\u001b[K     |████████████████▋               | 583 kB 5.3 MB/s eta 0:00:01\r",
      "\u001b[K     |█████████████████               | 593 kB 5.3 MB/s eta 0:00:01\r",
      "\u001b[K     |█████████████████▏              | 604 kB 5.3 MB/s eta 0:00:01\r",
      "\u001b[K     |█████████████████▌              | 614 kB 5.3 MB/s eta 0:00:01\r",
      "\u001b[K     |█████████████████▉              | 624 kB 5.3 MB/s eta 0:00:01\r",
      "\u001b[K     |██████████████████              | 634 kB 5.3 MB/s eta 0:00:01\r",
      "\u001b[K     |██████████████████▍             | 645 kB 5.3 MB/s eta 0:00:01\r",
      "\u001b[K     |██████████████████▊             | 655 kB 5.3 MB/s eta 0:00:01\r",
      "\u001b[K     |███████████████████             | 665 kB 5.3 MB/s eta 0:00:01\r",
      "\u001b[K     |███████████████████▎            | 675 kB 5.3 MB/s eta 0:00:01\r",
      "\u001b[K     |███████████████████▌            | 686 kB 5.3 MB/s eta 0:00:01\r",
      "\u001b[K     |███████████████████▉            | 696 kB 5.3 MB/s eta 0:00:01\r",
      "\u001b[K     |████████████████████▏           | 706 kB 5.3 MB/s eta 0:00:01\r",
      "\u001b[K     |████████████████████▍           | 716 kB 5.3 MB/s eta 0:00:01\r",
      "\u001b[K     |████████████████████▊           | 727 kB 5.3 MB/s eta 0:00:01\r",
      "\u001b[K     |█████████████████████           | 737 kB 5.3 MB/s eta 0:00:01\r",
      "\u001b[K     |█████████████████████▎          | 747 kB 5.3 MB/s eta 0:00:01\r",
      "\u001b[K     |█████████████████████▋          | 757 kB 5.3 MB/s eta 0:00:01\r",
      "\u001b[K     |█████████████████████▉          | 768 kB 5.3 MB/s eta 0:00:01\r",
      "\u001b[K     |██████████████████████▏         | 778 kB 5.3 MB/s eta 0:00:01\r",
      "\u001b[K     |██████████████████████▌         | 788 kB 5.3 MB/s eta 0:00:01\r",
      "\u001b[K     |██████████████████████▊         | 798 kB 5.3 MB/s eta 0:00:01\r",
      "\u001b[K     |███████████████████████         | 808 kB 5.3 MB/s eta 0:00:01\r",
      "\u001b[K     |███████████████████████▍        | 819 kB 5.3 MB/s eta 0:00:01\r",
      "\u001b[K     |███████████████████████▋        | 829 kB 5.3 MB/s eta 0:00:01\r",
      "\u001b[K     |████████████████████████        | 839 kB 5.3 MB/s eta 0:00:01\r",
      "\u001b[K     |████████████████████████▏       | 849 kB 5.3 MB/s eta 0:00:01\r",
      "\u001b[K     |████████████████████████▌       | 860 kB 5.3 MB/s eta 0:00:01\r",
      "\u001b[K     |████████████████████████▉       | 870 kB 5.3 MB/s eta 0:00:01\r",
      "\u001b[K     |█████████████████████████       | 880 kB 5.3 MB/s eta 0:00:01\r",
      "\u001b[K     |█████████████████████████▍      | 890 kB 5.3 MB/s eta 0:00:01\r",
      "\u001b[K     |█████████████████████████▊      | 901 kB 5.3 MB/s eta 0:00:01\r",
      "\u001b[K     |██████████████████████████      | 911 kB 5.3 MB/s eta 0:00:01\r",
      "\u001b[K     |██████████████████████████▎     | 921 kB 5.3 MB/s eta 0:00:01\r",
      "\u001b[K     |██████████████████████████▌     | 931 kB 5.3 MB/s eta 0:00:01\r",
      "\u001b[K     |██████████████████████████▉     | 942 kB 5.3 MB/s eta 0:00:01\r",
      "\u001b[K     |███████████████████████████▏    | 952 kB 5.3 MB/s eta 0:00:01\r",
      "\u001b[K     |███████████████████████████▍    | 962 kB 5.3 MB/s eta 0:00:01\r",
      "\u001b[K     |███████████████████████████▊    | 972 kB 5.3 MB/s eta 0:00:01\r",
      "\u001b[K     |████████████████████████████    | 983 kB 5.3 MB/s eta 0:00:01\r",
      "\u001b[K     |████████████████████████████▎   | 993 kB 5.3 MB/s eta 0:00:01\r",
      "\u001b[K     |████████████████████████████▋   | 1.0 MB 5.3 MB/s eta 0:00:01\r",
      "\u001b[K     |████████████████████████████▉   | 1.0 MB 5.3 MB/s eta 0:00:01\r",
      "\u001b[K     |█████████████████████████████▏  | 1.0 MB 5.3 MB/s eta 0:00:01\r",
      "\u001b[K     |█████████████████████████████▌  | 1.0 MB 5.3 MB/s eta 0:00:01\r",
      "\u001b[K     |█████████████████████████████▊  | 1.0 MB 5.3 MB/s eta 0:00:01\r",
      "\u001b[K     |██████████████████████████████  | 1.1 MB 5.3 MB/s eta 0:00:01\r",
      "\u001b[K     |██████████████████████████████▍ | 1.1 MB 5.3 MB/s eta 0:00:01\r",
      "\u001b[K     |██████████████████████████████▋ | 1.1 MB 5.3 MB/s eta 0:00:01\r",
      "\u001b[K     |███████████████████████████████ | 1.1 MB 5.3 MB/s eta 0:00:01\r",
      "\u001b[K     |███████████████████████████████▏| 1.1 MB 5.3 MB/s eta 0:00:01\r",
      "\u001b[K     |███████████████████████████████▌| 1.1 MB 5.3 MB/s eta 0:00:01\r",
      "\u001b[K     |███████████████████████████████▉| 1.1 MB 5.3 MB/s eta 0:00:01\r",
      "\u001b[K     |████████████████████████████████| 1.1 MB 5.3 MB/s \n",
      "\u001b[?25hRequirement already satisfied: typeguard>=2.7 in /usr/local/lib/python3.7/dist-packages (from tensorflow-addons) (2.7.1)\n",
      "Installing collected packages: tensorflow-addons\n",
      "Successfully installed tensorflow-addons-0.16.1\n"
     ]
    }
   ],
   "source": [
    "!pip install tensorflow-addons"
   ]
  },
  {
   "cell_type": "code",
   "execution_count": null,
   "metadata": {
    "id": "zYWOpMCLQuYn"
   },
   "outputs": [],
   "source": [
    "import matplotlib.pyplot as plt\n",
    "%matplotlib inline\n",
    "import pandas as pd\n",
    "import sys\n",
    "import numpy as np\n",
    "import seaborn as sns\n",
    "import statistics as stats\n",
    "sns.set(color_codes=True)\n",
    "from IPython.core.interactiveshell import InteractiveShell\n",
    "InteractiveShell.ast_node_interactivity = \"all\"\n",
    "#Last import allows multiple outputs from one cell\n",
    "import warnings\n",
    "# Initialize the random number generator\n",
    "import random\n",
    "random.seed(0)\n",
    "\n",
    "#Additional libs\n",
    "import matplotlib.patches as patches\n"
   ]
  },
  {
   "cell_type": "code",
   "execution_count": null,
   "metadata": {
    "id": "AjjiqRrFh65g"
   },
   "outputs": [],
   "source": [
    "import os\n",
    "import tensorflow\n",
    "from keras.models import Model\n",
    "from tensorflow.keras.optimizers import Adam, SGD\n",
    "from keras.applications.vgg16 import VGG16, preprocess_input\n",
    "from keras import layers\n",
    "from keras.preprocessing.image import ImageDataGenerator\n",
    "from keras.callbacks import ModelCheckpoint, EarlyStopping\n",
    "from keras.layers import Dense, Dropout, Flatten\n",
    "from pathlib import Path\n",
    "import numpy as np\n",
    "import tensorflow_addons as tfa"
   ]
  },
  {
   "cell_type": "code",
   "execution_count": null,
   "metadata": {
    "id": "jW6refHxQlsb"
   },
   "outputs": [],
   "source": [
    "# Useful Configuration/Setting\n",
    "\n",
    "# suppress display of warnings\n",
    "#warnings.filterwarnings('ignore')\n",
    "\n",
    "# display all dataframe columns\n",
    "pd.options.display.max_columns = None\n",
    "\n",
    "# to set the limit to 3 decimals\n",
    "pd.options.display.float_format = '{:.7f}'.format\n",
    "\n",
    "# display all dataframe rows\n",
    "pd.options.display.max_rows = None\n",
    "\n",
    "#Setting to shows all entries in array displayed\n",
    "np.set_printoptions(threshold=sys.maxsize)"
   ]
  },
  {
   "cell_type": "code",
   "execution_count": null,
   "metadata": {
    "colab": {
     "base_uri": "https://localhost:8080/"
    },
    "id": "HcwqZdY4N_gj",
    "outputId": "247e93a7-a1f5-404c-f3cc-607bf3dc6fcf"
   },
   "outputs": [
    {
     "name": "stdout",
     "output_type": "stream",
     "text": [
      "Mounted at /content/drive\n"
     ]
    }
   ],
   "source": [
    "from google.colab import drive\n",
    "drive.mount('/content/drive')"
   ]
  },
  {
   "cell_type": "code",
   "execution_count": null,
   "metadata": {
    "id": "928XeIHCQUAf"
   },
   "outputs": [],
   "source": [
    "train_data_dir = Path('/content/drive/MyDrive/Capstone/Car Images/Car Images/Train Images')\n",
    "test_data_dir = Path('/content/drive/MyDrive/Capstone/Car Images/Car Images/Test Images')\n",
    "\n",
    "BATCH_SIZE = 32 \n",
    "IMG_SIZE = 224"
   ]
  },
  {
   "cell_type": "code",
   "execution_count": null,
   "metadata": {
    "colab": {
     "base_uri": "https://localhost:8080/",
     "height": 206
    },
    "id": "kljE_9EVv7NX",
    "outputId": "c1b54fa1-3eb4-4a4d-a89e-4e560506ac0f"
   },
   "outputs": [
    {
     "data": {
      "text/html": [
       "\n",
       "  <div id=\"df-dc82173a-0b90-4a4b-bf87-831214cdcafa\">\n",
       "    <div class=\"colab-df-container\">\n",
       "      <div>\n",
       "<style scoped>\n",
       "    .dataframe tbody tr th:only-of-type {\n",
       "        vertical-align: middle;\n",
       "    }\n",
       "\n",
       "    .dataframe tbody tr th {\n",
       "        vertical-align: top;\n",
       "    }\n",
       "\n",
       "    .dataframe thead th {\n",
       "        text-align: right;\n",
       "    }\n",
       "</style>\n",
       "<table border=\"1\" class=\"dataframe\">\n",
       "  <thead>\n",
       "    <tr style=\"text-align: right;\">\n",
       "      <th></th>\n",
       "      <th>file_name</th>\n",
       "      <th>cor1</th>\n",
       "      <th>cor2</th>\n",
       "      <th>cor3</th>\n",
       "      <th>cor4</th>\n",
       "      <th>Image_Class</th>\n",
       "    </tr>\n",
       "  </thead>\n",
       "  <tbody>\n",
       "    <tr>\n",
       "      <th>0</th>\n",
       "      <td>00001.jpg</td>\n",
       "      <td>39</td>\n",
       "      <td>116</td>\n",
       "      <td>569</td>\n",
       "      <td>375</td>\n",
       "      <td>14</td>\n",
       "    </tr>\n",
       "    <tr>\n",
       "      <th>1</th>\n",
       "      <td>00002.jpg</td>\n",
       "      <td>36</td>\n",
       "      <td>116</td>\n",
       "      <td>868</td>\n",
       "      <td>587</td>\n",
       "      <td>3</td>\n",
       "    </tr>\n",
       "    <tr>\n",
       "      <th>2</th>\n",
       "      <td>00003.jpg</td>\n",
       "      <td>85</td>\n",
       "      <td>109</td>\n",
       "      <td>601</td>\n",
       "      <td>381</td>\n",
       "      <td>91</td>\n",
       "    </tr>\n",
       "    <tr>\n",
       "      <th>3</th>\n",
       "      <td>00004.jpg</td>\n",
       "      <td>621</td>\n",
       "      <td>393</td>\n",
       "      <td>1484</td>\n",
       "      <td>1096</td>\n",
       "      <td>134</td>\n",
       "    </tr>\n",
       "    <tr>\n",
       "      <th>4</th>\n",
       "      <td>00005.jpg</td>\n",
       "      <td>14</td>\n",
       "      <td>36</td>\n",
       "      <td>133</td>\n",
       "      <td>99</td>\n",
       "      <td>106</td>\n",
       "    </tr>\n",
       "  </tbody>\n",
       "</table>\n",
       "</div>\n",
       "      <button class=\"colab-df-convert\" onclick=\"convertToInteractive('df-dc82173a-0b90-4a4b-bf87-831214cdcafa')\"\n",
       "              title=\"Convert this dataframe to an interactive table.\"\n",
       "              style=\"display:none;\">\n",
       "        \n",
       "  <svg xmlns=\"http://www.w3.org/2000/svg\" height=\"24px\"viewBox=\"0 0 24 24\"\n",
       "       width=\"24px\">\n",
       "    <path d=\"M0 0h24v24H0V0z\" fill=\"none\"/>\n",
       "    <path d=\"M18.56 5.44l.94 2.06.94-2.06 2.06-.94-2.06-.94-.94-2.06-.94 2.06-2.06.94zm-11 1L8.5 8.5l.94-2.06 2.06-.94-2.06-.94L8.5 2.5l-.94 2.06-2.06.94zm10 10l.94 2.06.94-2.06 2.06-.94-2.06-.94-.94-2.06-.94 2.06-2.06.94z\"/><path d=\"M17.41 7.96l-1.37-1.37c-.4-.4-.92-.59-1.43-.59-.52 0-1.04.2-1.43.59L10.3 9.45l-7.72 7.72c-.78.78-.78 2.05 0 2.83L4 21.41c.39.39.9.59 1.41.59.51 0 1.02-.2 1.41-.59l7.78-7.78 2.81-2.81c.8-.78.8-2.07 0-2.86zM5.41 20L4 18.59l7.72-7.72 1.47 1.35L5.41 20z\"/>\n",
       "  </svg>\n",
       "      </button>\n",
       "      \n",
       "  <style>\n",
       "    .colab-df-container {\n",
       "      display:flex;\n",
       "      flex-wrap:wrap;\n",
       "      gap: 12px;\n",
       "    }\n",
       "\n",
       "    .colab-df-convert {\n",
       "      background-color: #E8F0FE;\n",
       "      border: none;\n",
       "      border-radius: 50%;\n",
       "      cursor: pointer;\n",
       "      display: none;\n",
       "      fill: #1967D2;\n",
       "      height: 32px;\n",
       "      padding: 0 0 0 0;\n",
       "      width: 32px;\n",
       "    }\n",
       "\n",
       "    .colab-df-convert:hover {\n",
       "      background-color: #E2EBFA;\n",
       "      box-shadow: 0px 1px 2px rgba(60, 64, 67, 0.3), 0px 1px 3px 1px rgba(60, 64, 67, 0.15);\n",
       "      fill: #174EA6;\n",
       "    }\n",
       "\n",
       "    [theme=dark] .colab-df-convert {\n",
       "      background-color: #3B4455;\n",
       "      fill: #D2E3FC;\n",
       "    }\n",
       "\n",
       "    [theme=dark] .colab-df-convert:hover {\n",
       "      background-color: #434B5C;\n",
       "      box-shadow: 0px 1px 3px 1px rgba(0, 0, 0, 0.15);\n",
       "      filter: drop-shadow(0px 1px 2px rgba(0, 0, 0, 0.3));\n",
       "      fill: #FFFFFF;\n",
       "    }\n",
       "  </style>\n",
       "\n",
       "      <script>\n",
       "        const buttonEl =\n",
       "          document.querySelector('#df-dc82173a-0b90-4a4b-bf87-831214cdcafa button.colab-df-convert');\n",
       "        buttonEl.style.display =\n",
       "          google.colab.kernel.accessAllowed ? 'block' : 'none';\n",
       "\n",
       "        async function convertToInteractive(key) {\n",
       "          const element = document.querySelector('#df-dc82173a-0b90-4a4b-bf87-831214cdcafa');\n",
       "          const dataTable =\n",
       "            await google.colab.kernel.invokeFunction('convertToInteractive',\n",
       "                                                     [key], {});\n",
       "          if (!dataTable) return;\n",
       "\n",
       "          const docLinkHtml = 'Like what you see? Visit the ' +\n",
       "            '<a target=\"_blank\" href=https://colab.research.google.com/notebooks/data_table.ipynb>data table notebook</a>'\n",
       "            + ' to learn more about interactive tables.';\n",
       "          element.innerHTML = '';\n",
       "          dataTable['output_type'] = 'display_data';\n",
       "          await google.colab.output.renderOutput(dataTable, element);\n",
       "          const docLink = document.createElement('div');\n",
       "          docLink.innerHTML = docLinkHtml;\n",
       "          element.appendChild(docLink);\n",
       "        }\n",
       "      </script>\n",
       "    </div>\n",
       "  </div>\n",
       "  "
      ],
      "text/plain": [
       "   file_name  cor1  cor2  cor3  cor4  Image_Class\n",
       "0  00001.jpg    39   116   569   375           14\n",
       "1  00002.jpg    36   116   868   587            3\n",
       "2  00003.jpg    85   109   601   381           91\n",
       "3  00004.jpg   621   393  1484  1096          134\n",
       "4  00005.jpg    14    36   133    99          106"
      ]
     },
     "execution_count": 8,
     "metadata": {},
     "output_type": "execute_result"
    }
   ],
   "source": [
    "import pandas as pd\n",
    "\n",
    "#Lets read the Train Annotations\n",
    "\n",
    "#Lets give our own column names as excel sheet does not have proper column names\n",
    "columnNameList=['file_name','cor1','cor2','cor3','cor4','Image_Class']\n",
    "trainAnno= pd.read_csv('/content/drive/MyDrive/Capstone/Annotations/Train Annotations.csv',names=columnNameList,header=0)\n",
    "trainAnno.head(5)"
   ]
  },
  {
   "cell_type": "code",
   "execution_count": null,
   "metadata": {
    "id": "QzfQaPu_xbCU"
   },
   "outputs": [],
   "source": [
    "files = train_data_dir.rglob('*.jpg')\n",
    "input=pd.DataFrame(files,columns =['a'])\n",
    "input['a']=input['a'].astype(str)\n",
    "df_train=input['a'].str.split('/',expand=True)\n",
    "train=input.join(df_train)[['a',8]]\n",
    "train.columns=('file_path','label')"
   ]
  },
  {
   "cell_type": "code",
   "execution_count": null,
   "metadata": {
    "colab": {
     "base_uri": "https://localhost:8080/",
     "height": 224
    },
    "id": "WsbC69ErRs4B",
    "outputId": "96d98ac5-a981-47c8-c3bd-2afd53ac23c1"
   },
   "outputs": [
    {
     "data": {
      "text/html": [
       "\n",
       "  <div id=\"df-4c9fe959-cf77-4b26-a52b-7eb2b57ccb00\">\n",
       "    <div class=\"colab-df-container\">\n",
       "      <div>\n",
       "<style scoped>\n",
       "    .dataframe tbody tr th:only-of-type {\n",
       "        vertical-align: middle;\n",
       "    }\n",
       "\n",
       "    .dataframe tbody tr th {\n",
       "        vertical-align: top;\n",
       "    }\n",
       "\n",
       "    .dataframe thead th {\n",
       "        text-align: right;\n",
       "    }\n",
       "</style>\n",
       "<table border=\"1\" class=\"dataframe\">\n",
       "  <thead>\n",
       "    <tr style=\"text-align: right;\">\n",
       "      <th></th>\n",
       "      <th>file_path</th>\n",
       "      <th>label</th>\n",
       "    </tr>\n",
       "  </thead>\n",
       "  <tbody>\n",
       "    <tr>\n",
       "      <th>0</th>\n",
       "      <td>/content/drive/MyDrive/Capstone/Car Images/Car...</td>\n",
       "      <td>Suzuki SX4 Sedan 2012</td>\n",
       "    </tr>\n",
       "    <tr>\n",
       "      <th>1</th>\n",
       "      <td>/content/drive/MyDrive/Capstone/Car Images/Car...</td>\n",
       "      <td>Suzuki SX4 Sedan 2012</td>\n",
       "    </tr>\n",
       "    <tr>\n",
       "      <th>2</th>\n",
       "      <td>/content/drive/MyDrive/Capstone/Car Images/Car...</td>\n",
       "      <td>Suzuki SX4 Sedan 2012</td>\n",
       "    </tr>\n",
       "    <tr>\n",
       "      <th>3</th>\n",
       "      <td>/content/drive/MyDrive/Capstone/Car Images/Car...</td>\n",
       "      <td>Suzuki SX4 Sedan 2012</td>\n",
       "    </tr>\n",
       "    <tr>\n",
       "      <th>4</th>\n",
       "      <td>/content/drive/MyDrive/Capstone/Car Images/Car...</td>\n",
       "      <td>Suzuki SX4 Sedan 2012</td>\n",
       "    </tr>\n",
       "  </tbody>\n",
       "</table>\n",
       "</div>\n",
       "      <button class=\"colab-df-convert\" onclick=\"convertToInteractive('df-4c9fe959-cf77-4b26-a52b-7eb2b57ccb00')\"\n",
       "              title=\"Convert this dataframe to an interactive table.\"\n",
       "              style=\"display:none;\">\n",
       "        \n",
       "  <svg xmlns=\"http://www.w3.org/2000/svg\" height=\"24px\"viewBox=\"0 0 24 24\"\n",
       "       width=\"24px\">\n",
       "    <path d=\"M0 0h24v24H0V0z\" fill=\"none\"/>\n",
       "    <path d=\"M18.56 5.44l.94 2.06.94-2.06 2.06-.94-2.06-.94-.94-2.06-.94 2.06-2.06.94zm-11 1L8.5 8.5l.94-2.06 2.06-.94-2.06-.94L8.5 2.5l-.94 2.06-2.06.94zm10 10l.94 2.06.94-2.06 2.06-.94-2.06-.94-.94-2.06-.94 2.06-2.06.94z\"/><path d=\"M17.41 7.96l-1.37-1.37c-.4-.4-.92-.59-1.43-.59-.52 0-1.04.2-1.43.59L10.3 9.45l-7.72 7.72c-.78.78-.78 2.05 0 2.83L4 21.41c.39.39.9.59 1.41.59.51 0 1.02-.2 1.41-.59l7.78-7.78 2.81-2.81c.8-.78.8-2.07 0-2.86zM5.41 20L4 18.59l7.72-7.72 1.47 1.35L5.41 20z\"/>\n",
       "  </svg>\n",
       "      </button>\n",
       "      \n",
       "  <style>\n",
       "    .colab-df-container {\n",
       "      display:flex;\n",
       "      flex-wrap:wrap;\n",
       "      gap: 12px;\n",
       "    }\n",
       "\n",
       "    .colab-df-convert {\n",
       "      background-color: #E8F0FE;\n",
       "      border: none;\n",
       "      border-radius: 50%;\n",
       "      cursor: pointer;\n",
       "      display: none;\n",
       "      fill: #1967D2;\n",
       "      height: 32px;\n",
       "      padding: 0 0 0 0;\n",
       "      width: 32px;\n",
       "    }\n",
       "\n",
       "    .colab-df-convert:hover {\n",
       "      background-color: #E2EBFA;\n",
       "      box-shadow: 0px 1px 2px rgba(60, 64, 67, 0.3), 0px 1px 3px 1px rgba(60, 64, 67, 0.15);\n",
       "      fill: #174EA6;\n",
       "    }\n",
       "\n",
       "    [theme=dark] .colab-df-convert {\n",
       "      background-color: #3B4455;\n",
       "      fill: #D2E3FC;\n",
       "    }\n",
       "\n",
       "    [theme=dark] .colab-df-convert:hover {\n",
       "      background-color: #434B5C;\n",
       "      box-shadow: 0px 1px 3px 1px rgba(0, 0, 0, 0.15);\n",
       "      filter: drop-shadow(0px 1px 2px rgba(0, 0, 0, 0.3));\n",
       "      fill: #FFFFFF;\n",
       "    }\n",
       "  </style>\n",
       "\n",
       "      <script>\n",
       "        const buttonEl =\n",
       "          document.querySelector('#df-4c9fe959-cf77-4b26-a52b-7eb2b57ccb00 button.colab-df-convert');\n",
       "        buttonEl.style.display =\n",
       "          google.colab.kernel.accessAllowed ? 'block' : 'none';\n",
       "\n",
       "        async function convertToInteractive(key) {\n",
       "          const element = document.querySelector('#df-4c9fe959-cf77-4b26-a52b-7eb2b57ccb00');\n",
       "          const dataTable =\n",
       "            await google.colab.kernel.invokeFunction('convertToInteractive',\n",
       "                                                     [key], {});\n",
       "          if (!dataTable) return;\n",
       "\n",
       "          const docLinkHtml = 'Like what you see? Visit the ' +\n",
       "            '<a target=\"_blank\" href=https://colab.research.google.com/notebooks/data_table.ipynb>data table notebook</a>'\n",
       "            + ' to learn more about interactive tables.';\n",
       "          element.innerHTML = '';\n",
       "          dataTable['output_type'] = 'display_data';\n",
       "          await google.colab.output.renderOutput(dataTable, element);\n",
       "          const docLink = document.createElement('div');\n",
       "          docLink.innerHTML = docLinkHtml;\n",
       "          element.appendChild(docLink);\n",
       "        }\n",
       "      </script>\n",
       "    </div>\n",
       "  </div>\n",
       "  "
      ],
      "text/plain": [
       "                                           file_path                  label\n",
       "0  /content/drive/MyDrive/Capstone/Car Images/Car...  Suzuki SX4 Sedan 2012\n",
       "1  /content/drive/MyDrive/Capstone/Car Images/Car...  Suzuki SX4 Sedan 2012\n",
       "2  /content/drive/MyDrive/Capstone/Car Images/Car...  Suzuki SX4 Sedan 2012\n",
       "3  /content/drive/MyDrive/Capstone/Car Images/Car...  Suzuki SX4 Sedan 2012\n",
       "4  /content/drive/MyDrive/Capstone/Car Images/Car...  Suzuki SX4 Sedan 2012"
      ]
     },
     "execution_count": 10,
     "metadata": {},
     "output_type": "execute_result"
    },
    {
     "data": {
      "text/plain": [
       "8144"
      ]
     },
     "execution_count": 10,
     "metadata": {},
     "output_type": "execute_result"
    }
   ],
   "source": [
    "train.head()\n",
    "len(train)"
   ]
  },
  {
   "cell_type": "code",
   "execution_count": null,
   "metadata": {
    "colab": {
     "base_uri": "https://localhost:8080/",
     "height": 206
    },
    "id": "nwQrSeTU85ZI",
    "outputId": "f359cb06-dbb7-47b5-de1c-f5675982f318"
   },
   "outputs": [
    {
     "data": {
      "text/html": [
       "\n",
       "  <div id=\"df-5381e4ed-1f25-4c0a-af78-c05ea85e5dab\">\n",
       "    <div class=\"colab-df-container\">\n",
       "      <div>\n",
       "<style scoped>\n",
       "    .dataframe tbody tr th:only-of-type {\n",
       "        vertical-align: middle;\n",
       "    }\n",
       "\n",
       "    .dataframe tbody tr th {\n",
       "        vertical-align: top;\n",
       "    }\n",
       "\n",
       "    .dataframe thead th {\n",
       "        text-align: right;\n",
       "    }\n",
       "</style>\n",
       "<table border=\"1\" class=\"dataframe\">\n",
       "  <thead>\n",
       "    <tr style=\"text-align: right;\">\n",
       "      <th></th>\n",
       "      <th>file_path</th>\n",
       "      <th>label</th>\n",
       "    </tr>\n",
       "  </thead>\n",
       "  <tbody>\n",
       "    <tr>\n",
       "      <th>0</th>\n",
       "      <td>/content/drive/MyDrive/Capstone/Car Images/Car...</td>\n",
       "      <td>Suzuki SX4 Sedan 2012</td>\n",
       "    </tr>\n",
       "    <tr>\n",
       "      <th>1</th>\n",
       "      <td>/content/drive/MyDrive/Capstone/Car Images/Car...</td>\n",
       "      <td>Suzuki SX4 Sedan 2012</td>\n",
       "    </tr>\n",
       "    <tr>\n",
       "      <th>2</th>\n",
       "      <td>/content/drive/MyDrive/Capstone/Car Images/Car...</td>\n",
       "      <td>Suzuki SX4 Sedan 2012</td>\n",
       "    </tr>\n",
       "    <tr>\n",
       "      <th>3</th>\n",
       "      <td>/content/drive/MyDrive/Capstone/Car Images/Car...</td>\n",
       "      <td>Suzuki SX4 Sedan 2012</td>\n",
       "    </tr>\n",
       "    <tr>\n",
       "      <th>4</th>\n",
       "      <td>/content/drive/MyDrive/Capstone/Car Images/Car...</td>\n",
       "      <td>Suzuki SX4 Sedan 2012</td>\n",
       "    </tr>\n",
       "  </tbody>\n",
       "</table>\n",
       "</div>\n",
       "      <button class=\"colab-df-convert\" onclick=\"convertToInteractive('df-5381e4ed-1f25-4c0a-af78-c05ea85e5dab')\"\n",
       "              title=\"Convert this dataframe to an interactive table.\"\n",
       "              style=\"display:none;\">\n",
       "        \n",
       "  <svg xmlns=\"http://www.w3.org/2000/svg\" height=\"24px\"viewBox=\"0 0 24 24\"\n",
       "       width=\"24px\">\n",
       "    <path d=\"M0 0h24v24H0V0z\" fill=\"none\"/>\n",
       "    <path d=\"M18.56 5.44l.94 2.06.94-2.06 2.06-.94-2.06-.94-.94-2.06-.94 2.06-2.06.94zm-11 1L8.5 8.5l.94-2.06 2.06-.94-2.06-.94L8.5 2.5l-.94 2.06-2.06.94zm10 10l.94 2.06.94-2.06 2.06-.94-2.06-.94-.94-2.06-.94 2.06-2.06.94z\"/><path d=\"M17.41 7.96l-1.37-1.37c-.4-.4-.92-.59-1.43-.59-.52 0-1.04.2-1.43.59L10.3 9.45l-7.72 7.72c-.78.78-.78 2.05 0 2.83L4 21.41c.39.39.9.59 1.41.59.51 0 1.02-.2 1.41-.59l7.78-7.78 2.81-2.81c.8-.78.8-2.07 0-2.86zM5.41 20L4 18.59l7.72-7.72 1.47 1.35L5.41 20z\"/>\n",
       "  </svg>\n",
       "      </button>\n",
       "      \n",
       "  <style>\n",
       "    .colab-df-container {\n",
       "      display:flex;\n",
       "      flex-wrap:wrap;\n",
       "      gap: 12px;\n",
       "    }\n",
       "\n",
       "    .colab-df-convert {\n",
       "      background-color: #E8F0FE;\n",
       "      border: none;\n",
       "      border-radius: 50%;\n",
       "      cursor: pointer;\n",
       "      display: none;\n",
       "      fill: #1967D2;\n",
       "      height: 32px;\n",
       "      padding: 0 0 0 0;\n",
       "      width: 32px;\n",
       "    }\n",
       "\n",
       "    .colab-df-convert:hover {\n",
       "      background-color: #E2EBFA;\n",
       "      box-shadow: 0px 1px 2px rgba(60, 64, 67, 0.3), 0px 1px 3px 1px rgba(60, 64, 67, 0.15);\n",
       "      fill: #174EA6;\n",
       "    }\n",
       "\n",
       "    [theme=dark] .colab-df-convert {\n",
       "      background-color: #3B4455;\n",
       "      fill: #D2E3FC;\n",
       "    }\n",
       "\n",
       "    [theme=dark] .colab-df-convert:hover {\n",
       "      background-color: #434B5C;\n",
       "      box-shadow: 0px 1px 3px 1px rgba(0, 0, 0, 0.15);\n",
       "      filter: drop-shadow(0px 1px 2px rgba(0, 0, 0, 0.3));\n",
       "      fill: #FFFFFF;\n",
       "    }\n",
       "  </style>\n",
       "\n",
       "      <script>\n",
       "        const buttonEl =\n",
       "          document.querySelector('#df-5381e4ed-1f25-4c0a-af78-c05ea85e5dab button.colab-df-convert');\n",
       "        buttonEl.style.display =\n",
       "          google.colab.kernel.accessAllowed ? 'block' : 'none';\n",
       "\n",
       "        async function convertToInteractive(key) {\n",
       "          const element = document.querySelector('#df-5381e4ed-1f25-4c0a-af78-c05ea85e5dab');\n",
       "          const dataTable =\n",
       "            await google.colab.kernel.invokeFunction('convertToInteractive',\n",
       "                                                     [key], {});\n",
       "          if (!dataTable) return;\n",
       "\n",
       "          const docLinkHtml = 'Like what you see? Visit the ' +\n",
       "            '<a target=\"_blank\" href=https://colab.research.google.com/notebooks/data_table.ipynb>data table notebook</a>'\n",
       "            + ' to learn more about interactive tables.';\n",
       "          element.innerHTML = '';\n",
       "          dataTable['output_type'] = 'display_data';\n",
       "          await google.colab.output.renderOutput(dataTable, element);\n",
       "          const docLink = document.createElement('div');\n",
       "          docLink.innerHTML = docLinkHtml;\n",
       "          element.appendChild(docLink);\n",
       "        }\n",
       "      </script>\n",
       "    </div>\n",
       "  </div>\n",
       "  "
      ],
      "text/plain": [
       "                                           file_path                  label\n",
       "0  /content/drive/MyDrive/Capstone/Car Images/Car...  Suzuki SX4 Sedan 2012\n",
       "1  /content/drive/MyDrive/Capstone/Car Images/Car...  Suzuki SX4 Sedan 2012\n",
       "2  /content/drive/MyDrive/Capstone/Car Images/Car...  Suzuki SX4 Sedan 2012\n",
       "3  /content/drive/MyDrive/Capstone/Car Images/Car...  Suzuki SX4 Sedan 2012\n",
       "4  /content/drive/MyDrive/Capstone/Car Images/Car...  Suzuki SX4 Sedan 2012"
      ]
     },
     "execution_count": 11,
     "metadata": {},
     "output_type": "execute_result"
    }
   ],
   "source": [
    "train.head()"
   ]
  },
  {
   "cell_type": "code",
   "execution_count": null,
   "metadata": {
    "id": "bmdfZpTVQN5h"
   },
   "outputs": [],
   "source": [
    "train['file_name']=train['file_path'].apply(lambda getFileName:getFileName.split('/')[9])"
   ]
  },
  {
   "cell_type": "code",
   "execution_count": null,
   "metadata": {
    "colab": {
     "base_uri": "https://localhost:8080/",
     "height": 206
    },
    "id": "VEXSSacIVQHf",
    "outputId": "e9da2623-d689-426d-813f-239aa55175da"
   },
   "outputs": [
    {
     "data": {
      "text/html": [
       "\n",
       "  <div id=\"df-4318d521-3091-48d4-ac3c-077401a7e44c\">\n",
       "    <div class=\"colab-df-container\">\n",
       "      <div>\n",
       "<style scoped>\n",
       "    .dataframe tbody tr th:only-of-type {\n",
       "        vertical-align: middle;\n",
       "    }\n",
       "\n",
       "    .dataframe tbody tr th {\n",
       "        vertical-align: top;\n",
       "    }\n",
       "\n",
       "    .dataframe thead th {\n",
       "        text-align: right;\n",
       "    }\n",
       "</style>\n",
       "<table border=\"1\" class=\"dataframe\">\n",
       "  <thead>\n",
       "    <tr style=\"text-align: right;\">\n",
       "      <th></th>\n",
       "      <th>file_path</th>\n",
       "      <th>label</th>\n",
       "      <th>file_name</th>\n",
       "    </tr>\n",
       "  </thead>\n",
       "  <tbody>\n",
       "    <tr>\n",
       "      <th>0</th>\n",
       "      <td>/content/drive/MyDrive/Capstone/Car Images/Car...</td>\n",
       "      <td>Suzuki SX4 Sedan 2012</td>\n",
       "      <td>00482.jpg</td>\n",
       "    </tr>\n",
       "    <tr>\n",
       "      <th>1</th>\n",
       "      <td>/content/drive/MyDrive/Capstone/Car Images/Car...</td>\n",
       "      <td>Suzuki SX4 Sedan 2012</td>\n",
       "      <td>05872.jpg</td>\n",
       "    </tr>\n",
       "    <tr>\n",
       "      <th>2</th>\n",
       "      <td>/content/drive/MyDrive/Capstone/Car Images/Car...</td>\n",
       "      <td>Suzuki SX4 Sedan 2012</td>\n",
       "      <td>06576.jpg</td>\n",
       "    </tr>\n",
       "    <tr>\n",
       "      <th>3</th>\n",
       "      <td>/content/drive/MyDrive/Capstone/Car Images/Car...</td>\n",
       "      <td>Suzuki SX4 Sedan 2012</td>\n",
       "      <td>00719.jpg</td>\n",
       "    </tr>\n",
       "    <tr>\n",
       "      <th>4</th>\n",
       "      <td>/content/drive/MyDrive/Capstone/Car Images/Car...</td>\n",
       "      <td>Suzuki SX4 Sedan 2012</td>\n",
       "      <td>04655.jpg</td>\n",
       "    </tr>\n",
       "  </tbody>\n",
       "</table>\n",
       "</div>\n",
       "      <button class=\"colab-df-convert\" onclick=\"convertToInteractive('df-4318d521-3091-48d4-ac3c-077401a7e44c')\"\n",
       "              title=\"Convert this dataframe to an interactive table.\"\n",
       "              style=\"display:none;\">\n",
       "        \n",
       "  <svg xmlns=\"http://www.w3.org/2000/svg\" height=\"24px\"viewBox=\"0 0 24 24\"\n",
       "       width=\"24px\">\n",
       "    <path d=\"M0 0h24v24H0V0z\" fill=\"none\"/>\n",
       "    <path d=\"M18.56 5.44l.94 2.06.94-2.06 2.06-.94-2.06-.94-.94-2.06-.94 2.06-2.06.94zm-11 1L8.5 8.5l.94-2.06 2.06-.94-2.06-.94L8.5 2.5l-.94 2.06-2.06.94zm10 10l.94 2.06.94-2.06 2.06-.94-2.06-.94-.94-2.06-.94 2.06-2.06.94z\"/><path d=\"M17.41 7.96l-1.37-1.37c-.4-.4-.92-.59-1.43-.59-.52 0-1.04.2-1.43.59L10.3 9.45l-7.72 7.72c-.78.78-.78 2.05 0 2.83L4 21.41c.39.39.9.59 1.41.59.51 0 1.02-.2 1.41-.59l7.78-7.78 2.81-2.81c.8-.78.8-2.07 0-2.86zM5.41 20L4 18.59l7.72-7.72 1.47 1.35L5.41 20z\"/>\n",
       "  </svg>\n",
       "      </button>\n",
       "      \n",
       "  <style>\n",
       "    .colab-df-container {\n",
       "      display:flex;\n",
       "      flex-wrap:wrap;\n",
       "      gap: 12px;\n",
       "    }\n",
       "\n",
       "    .colab-df-convert {\n",
       "      background-color: #E8F0FE;\n",
       "      border: none;\n",
       "      border-radius: 50%;\n",
       "      cursor: pointer;\n",
       "      display: none;\n",
       "      fill: #1967D2;\n",
       "      height: 32px;\n",
       "      padding: 0 0 0 0;\n",
       "      width: 32px;\n",
       "    }\n",
       "\n",
       "    .colab-df-convert:hover {\n",
       "      background-color: #E2EBFA;\n",
       "      box-shadow: 0px 1px 2px rgba(60, 64, 67, 0.3), 0px 1px 3px 1px rgba(60, 64, 67, 0.15);\n",
       "      fill: #174EA6;\n",
       "    }\n",
       "\n",
       "    [theme=dark] .colab-df-convert {\n",
       "      background-color: #3B4455;\n",
       "      fill: #D2E3FC;\n",
       "    }\n",
       "\n",
       "    [theme=dark] .colab-df-convert:hover {\n",
       "      background-color: #434B5C;\n",
       "      box-shadow: 0px 1px 3px 1px rgba(0, 0, 0, 0.15);\n",
       "      filter: drop-shadow(0px 1px 2px rgba(0, 0, 0, 0.3));\n",
       "      fill: #FFFFFF;\n",
       "    }\n",
       "  </style>\n",
       "\n",
       "      <script>\n",
       "        const buttonEl =\n",
       "          document.querySelector('#df-4318d521-3091-48d4-ac3c-077401a7e44c button.colab-df-convert');\n",
       "        buttonEl.style.display =\n",
       "          google.colab.kernel.accessAllowed ? 'block' : 'none';\n",
       "\n",
       "        async function convertToInteractive(key) {\n",
       "          const element = document.querySelector('#df-4318d521-3091-48d4-ac3c-077401a7e44c');\n",
       "          const dataTable =\n",
       "            await google.colab.kernel.invokeFunction('convertToInteractive',\n",
       "                                                     [key], {});\n",
       "          if (!dataTable) return;\n",
       "\n",
       "          const docLinkHtml = 'Like what you see? Visit the ' +\n",
       "            '<a target=\"_blank\" href=https://colab.research.google.com/notebooks/data_table.ipynb>data table notebook</a>'\n",
       "            + ' to learn more about interactive tables.';\n",
       "          element.innerHTML = '';\n",
       "          dataTable['output_type'] = 'display_data';\n",
       "          await google.colab.output.renderOutput(dataTable, element);\n",
       "          const docLink = document.createElement('div');\n",
       "          docLink.innerHTML = docLinkHtml;\n",
       "          element.appendChild(docLink);\n",
       "        }\n",
       "      </script>\n",
       "    </div>\n",
       "  </div>\n",
       "  "
      ],
      "text/plain": [
       "                                           file_path                  label  \\\n",
       "0  /content/drive/MyDrive/Capstone/Car Images/Car...  Suzuki SX4 Sedan 2012   \n",
       "1  /content/drive/MyDrive/Capstone/Car Images/Car...  Suzuki SX4 Sedan 2012   \n",
       "2  /content/drive/MyDrive/Capstone/Car Images/Car...  Suzuki SX4 Sedan 2012   \n",
       "3  /content/drive/MyDrive/Capstone/Car Images/Car...  Suzuki SX4 Sedan 2012   \n",
       "4  /content/drive/MyDrive/Capstone/Car Images/Car...  Suzuki SX4 Sedan 2012   \n",
       "\n",
       "   file_name  \n",
       "0  00482.jpg  \n",
       "1  05872.jpg  \n",
       "2  06576.jpg  \n",
       "3  00719.jpg  \n",
       "4  04655.jpg  "
      ]
     },
     "execution_count": 13,
     "metadata": {},
     "output_type": "execute_result"
    }
   ],
   "source": [
    "train.head()"
   ]
  },
  {
   "cell_type": "code",
   "execution_count": null,
   "metadata": {
    "colab": {
     "base_uri": "https://localhost:8080/",
     "height": 206
    },
    "id": "OBRqSfbZVcg0",
    "outputId": "a6fd7517-f0d0-44ce-f712-5298ce5a8c43"
   },
   "outputs": [
    {
     "data": {
      "text/html": [
       "\n",
       "  <div id=\"df-4c176efe-60dc-42a9-853c-73f5e92f9741\">\n",
       "    <div class=\"colab-df-container\">\n",
       "      <div>\n",
       "<style scoped>\n",
       "    .dataframe tbody tr th:only-of-type {\n",
       "        vertical-align: middle;\n",
       "    }\n",
       "\n",
       "    .dataframe tbody tr th {\n",
       "        vertical-align: top;\n",
       "    }\n",
       "\n",
       "    .dataframe thead th {\n",
       "        text-align: right;\n",
       "    }\n",
       "</style>\n",
       "<table border=\"1\" class=\"dataframe\">\n",
       "  <thead>\n",
       "    <tr style=\"text-align: right;\">\n",
       "      <th></th>\n",
       "      <th>file_name</th>\n",
       "      <th>cor1</th>\n",
       "      <th>cor2</th>\n",
       "      <th>cor3</th>\n",
       "      <th>cor4</th>\n",
       "      <th>Image_Class</th>\n",
       "    </tr>\n",
       "  </thead>\n",
       "  <tbody>\n",
       "    <tr>\n",
       "      <th>0</th>\n",
       "      <td>00001.jpg</td>\n",
       "      <td>39</td>\n",
       "      <td>116</td>\n",
       "      <td>569</td>\n",
       "      <td>375</td>\n",
       "      <td>14</td>\n",
       "    </tr>\n",
       "    <tr>\n",
       "      <th>1</th>\n",
       "      <td>00002.jpg</td>\n",
       "      <td>36</td>\n",
       "      <td>116</td>\n",
       "      <td>868</td>\n",
       "      <td>587</td>\n",
       "      <td>3</td>\n",
       "    </tr>\n",
       "    <tr>\n",
       "      <th>2</th>\n",
       "      <td>00003.jpg</td>\n",
       "      <td>85</td>\n",
       "      <td>109</td>\n",
       "      <td>601</td>\n",
       "      <td>381</td>\n",
       "      <td>91</td>\n",
       "    </tr>\n",
       "    <tr>\n",
       "      <th>3</th>\n",
       "      <td>00004.jpg</td>\n",
       "      <td>621</td>\n",
       "      <td>393</td>\n",
       "      <td>1484</td>\n",
       "      <td>1096</td>\n",
       "      <td>134</td>\n",
       "    </tr>\n",
       "    <tr>\n",
       "      <th>4</th>\n",
       "      <td>00005.jpg</td>\n",
       "      <td>14</td>\n",
       "      <td>36</td>\n",
       "      <td>133</td>\n",
       "      <td>99</td>\n",
       "      <td>106</td>\n",
       "    </tr>\n",
       "  </tbody>\n",
       "</table>\n",
       "</div>\n",
       "      <button class=\"colab-df-convert\" onclick=\"convertToInteractive('df-4c176efe-60dc-42a9-853c-73f5e92f9741')\"\n",
       "              title=\"Convert this dataframe to an interactive table.\"\n",
       "              style=\"display:none;\">\n",
       "        \n",
       "  <svg xmlns=\"http://www.w3.org/2000/svg\" height=\"24px\"viewBox=\"0 0 24 24\"\n",
       "       width=\"24px\">\n",
       "    <path d=\"M0 0h24v24H0V0z\" fill=\"none\"/>\n",
       "    <path d=\"M18.56 5.44l.94 2.06.94-2.06 2.06-.94-2.06-.94-.94-2.06-.94 2.06-2.06.94zm-11 1L8.5 8.5l.94-2.06 2.06-.94-2.06-.94L8.5 2.5l-.94 2.06-2.06.94zm10 10l.94 2.06.94-2.06 2.06-.94-2.06-.94-.94-2.06-.94 2.06-2.06.94z\"/><path d=\"M17.41 7.96l-1.37-1.37c-.4-.4-.92-.59-1.43-.59-.52 0-1.04.2-1.43.59L10.3 9.45l-7.72 7.72c-.78.78-.78 2.05 0 2.83L4 21.41c.39.39.9.59 1.41.59.51 0 1.02-.2 1.41-.59l7.78-7.78 2.81-2.81c.8-.78.8-2.07 0-2.86zM5.41 20L4 18.59l7.72-7.72 1.47 1.35L5.41 20z\"/>\n",
       "  </svg>\n",
       "      </button>\n",
       "      \n",
       "  <style>\n",
       "    .colab-df-container {\n",
       "      display:flex;\n",
       "      flex-wrap:wrap;\n",
       "      gap: 12px;\n",
       "    }\n",
       "\n",
       "    .colab-df-convert {\n",
       "      background-color: #E8F0FE;\n",
       "      border: none;\n",
       "      border-radius: 50%;\n",
       "      cursor: pointer;\n",
       "      display: none;\n",
       "      fill: #1967D2;\n",
       "      height: 32px;\n",
       "      padding: 0 0 0 0;\n",
       "      width: 32px;\n",
       "    }\n",
       "\n",
       "    .colab-df-convert:hover {\n",
       "      background-color: #E2EBFA;\n",
       "      box-shadow: 0px 1px 2px rgba(60, 64, 67, 0.3), 0px 1px 3px 1px rgba(60, 64, 67, 0.15);\n",
       "      fill: #174EA6;\n",
       "    }\n",
       "\n",
       "    [theme=dark] .colab-df-convert {\n",
       "      background-color: #3B4455;\n",
       "      fill: #D2E3FC;\n",
       "    }\n",
       "\n",
       "    [theme=dark] .colab-df-convert:hover {\n",
       "      background-color: #434B5C;\n",
       "      box-shadow: 0px 1px 3px 1px rgba(0, 0, 0, 0.15);\n",
       "      filter: drop-shadow(0px 1px 2px rgba(0, 0, 0, 0.3));\n",
       "      fill: #FFFFFF;\n",
       "    }\n",
       "  </style>\n",
       "\n",
       "      <script>\n",
       "        const buttonEl =\n",
       "          document.querySelector('#df-4c176efe-60dc-42a9-853c-73f5e92f9741 button.colab-df-convert');\n",
       "        buttonEl.style.display =\n",
       "          google.colab.kernel.accessAllowed ? 'block' : 'none';\n",
       "\n",
       "        async function convertToInteractive(key) {\n",
       "          const element = document.querySelector('#df-4c176efe-60dc-42a9-853c-73f5e92f9741');\n",
       "          const dataTable =\n",
       "            await google.colab.kernel.invokeFunction('convertToInteractive',\n",
       "                                                     [key], {});\n",
       "          if (!dataTable) return;\n",
       "\n",
       "          const docLinkHtml = 'Like what you see? Visit the ' +\n",
       "            '<a target=\"_blank\" href=https://colab.research.google.com/notebooks/data_table.ipynb>data table notebook</a>'\n",
       "            + ' to learn more about interactive tables.';\n",
       "          element.innerHTML = '';\n",
       "          dataTable['output_type'] = 'display_data';\n",
       "          await google.colab.output.renderOutput(dataTable, element);\n",
       "          const docLink = document.createElement('div');\n",
       "          docLink.innerHTML = docLinkHtml;\n",
       "          element.appendChild(docLink);\n",
       "        }\n",
       "      </script>\n",
       "    </div>\n",
       "  </div>\n",
       "  "
      ],
      "text/plain": [
       "   file_name  cor1  cor2  cor3  cor4  Image_Class\n",
       "0  00001.jpg    39   116   569   375           14\n",
       "1  00002.jpg    36   116   868   587            3\n",
       "2  00003.jpg    85   109   601   381           91\n",
       "3  00004.jpg   621   393  1484  1096          134\n",
       "4  00005.jpg    14    36   133    99          106"
      ]
     },
     "execution_count": 14,
     "metadata": {},
     "output_type": "execute_result"
    }
   ],
   "source": [
    "trainAnno.head()"
   ]
  },
  {
   "cell_type": "code",
   "execution_count": null,
   "metadata": {
    "id": "kxcOmZhRYqUd"
   },
   "outputs": [],
   "source": [
    "# Lets add coordinate information to the above table\n",
    "trainDF=pd.merge(train,trainAnno,on='file_name',how='inner')"
   ]
  },
  {
   "cell_type": "code",
   "execution_count": null,
   "metadata": {
    "colab": {
     "base_uri": "https://localhost:8080/",
     "height": 206
    },
    "id": "INNEjWIHZbKa",
    "outputId": "e7589315-6050-42e4-d374-38c525cb436a"
   },
   "outputs": [
    {
     "data": {
      "text/html": [
       "\n",
       "  <div id=\"df-94af270e-a560-475b-a12b-68db30b9f7c7\">\n",
       "    <div class=\"colab-df-container\">\n",
       "      <div>\n",
       "<style scoped>\n",
       "    .dataframe tbody tr th:only-of-type {\n",
       "        vertical-align: middle;\n",
       "    }\n",
       "\n",
       "    .dataframe tbody tr th {\n",
       "        vertical-align: top;\n",
       "    }\n",
       "\n",
       "    .dataframe thead th {\n",
       "        text-align: right;\n",
       "    }\n",
       "</style>\n",
       "<table border=\"1\" class=\"dataframe\">\n",
       "  <thead>\n",
       "    <tr style=\"text-align: right;\">\n",
       "      <th></th>\n",
       "      <th>file_path</th>\n",
       "      <th>label</th>\n",
       "      <th>file_name</th>\n",
       "      <th>cor1</th>\n",
       "      <th>cor2</th>\n",
       "      <th>cor3</th>\n",
       "      <th>cor4</th>\n",
       "      <th>Image_Class</th>\n",
       "    </tr>\n",
       "  </thead>\n",
       "  <tbody>\n",
       "    <tr>\n",
       "      <th>0</th>\n",
       "      <td>/content/drive/MyDrive/Capstone/Car Images/Car...</td>\n",
       "      <td>Suzuki SX4 Sedan 2012</td>\n",
       "      <td>00482.jpg</td>\n",
       "      <td>80</td>\n",
       "      <td>91</td>\n",
       "      <td>589</td>\n",
       "      <td>429</td>\n",
       "      <td>184</td>\n",
       "    </tr>\n",
       "    <tr>\n",
       "      <th>1</th>\n",
       "      <td>/content/drive/MyDrive/Capstone/Car Images/Car...</td>\n",
       "      <td>Suzuki SX4 Sedan 2012</td>\n",
       "      <td>05872.jpg</td>\n",
       "      <td>39</td>\n",
       "      <td>35</td>\n",
       "      <td>591</td>\n",
       "      <td>413</td>\n",
       "      <td>184</td>\n",
       "    </tr>\n",
       "    <tr>\n",
       "      <th>2</th>\n",
       "      <td>/content/drive/MyDrive/Capstone/Car Images/Car...</td>\n",
       "      <td>Suzuki SX4 Sedan 2012</td>\n",
       "      <td>06576.jpg</td>\n",
       "      <td>64</td>\n",
       "      <td>347</td>\n",
       "      <td>629</td>\n",
       "      <td>577</td>\n",
       "      <td>184</td>\n",
       "    </tr>\n",
       "    <tr>\n",
       "      <th>3</th>\n",
       "      <td>/content/drive/MyDrive/Capstone/Car Images/Car...</td>\n",
       "      <td>Suzuki SX4 Sedan 2012</td>\n",
       "      <td>00719.jpg</td>\n",
       "      <td>118</td>\n",
       "      <td>93</td>\n",
       "      <td>380</td>\n",
       "      <td>317</td>\n",
       "      <td>184</td>\n",
       "    </tr>\n",
       "    <tr>\n",
       "      <th>4</th>\n",
       "      <td>/content/drive/MyDrive/Capstone/Car Images/Car...</td>\n",
       "      <td>Suzuki SX4 Sedan 2012</td>\n",
       "      <td>04655.jpg</td>\n",
       "      <td>9</td>\n",
       "      <td>11</td>\n",
       "      <td>824</td>\n",
       "      <td>489</td>\n",
       "      <td>184</td>\n",
       "    </tr>\n",
       "  </tbody>\n",
       "</table>\n",
       "</div>\n",
       "      <button class=\"colab-df-convert\" onclick=\"convertToInteractive('df-94af270e-a560-475b-a12b-68db30b9f7c7')\"\n",
       "              title=\"Convert this dataframe to an interactive table.\"\n",
       "              style=\"display:none;\">\n",
       "        \n",
       "  <svg xmlns=\"http://www.w3.org/2000/svg\" height=\"24px\"viewBox=\"0 0 24 24\"\n",
       "       width=\"24px\">\n",
       "    <path d=\"M0 0h24v24H0V0z\" fill=\"none\"/>\n",
       "    <path d=\"M18.56 5.44l.94 2.06.94-2.06 2.06-.94-2.06-.94-.94-2.06-.94 2.06-2.06.94zm-11 1L8.5 8.5l.94-2.06 2.06-.94-2.06-.94L8.5 2.5l-.94 2.06-2.06.94zm10 10l.94 2.06.94-2.06 2.06-.94-2.06-.94-.94-2.06-.94 2.06-2.06.94z\"/><path d=\"M17.41 7.96l-1.37-1.37c-.4-.4-.92-.59-1.43-.59-.52 0-1.04.2-1.43.59L10.3 9.45l-7.72 7.72c-.78.78-.78 2.05 0 2.83L4 21.41c.39.39.9.59 1.41.59.51 0 1.02-.2 1.41-.59l7.78-7.78 2.81-2.81c.8-.78.8-2.07 0-2.86zM5.41 20L4 18.59l7.72-7.72 1.47 1.35L5.41 20z\"/>\n",
       "  </svg>\n",
       "      </button>\n",
       "      \n",
       "  <style>\n",
       "    .colab-df-container {\n",
       "      display:flex;\n",
       "      flex-wrap:wrap;\n",
       "      gap: 12px;\n",
       "    }\n",
       "\n",
       "    .colab-df-convert {\n",
       "      background-color: #E8F0FE;\n",
       "      border: none;\n",
       "      border-radius: 50%;\n",
       "      cursor: pointer;\n",
       "      display: none;\n",
       "      fill: #1967D2;\n",
       "      height: 32px;\n",
       "      padding: 0 0 0 0;\n",
       "      width: 32px;\n",
       "    }\n",
       "\n",
       "    .colab-df-convert:hover {\n",
       "      background-color: #E2EBFA;\n",
       "      box-shadow: 0px 1px 2px rgba(60, 64, 67, 0.3), 0px 1px 3px 1px rgba(60, 64, 67, 0.15);\n",
       "      fill: #174EA6;\n",
       "    }\n",
       "\n",
       "    [theme=dark] .colab-df-convert {\n",
       "      background-color: #3B4455;\n",
       "      fill: #D2E3FC;\n",
       "    }\n",
       "\n",
       "    [theme=dark] .colab-df-convert:hover {\n",
       "      background-color: #434B5C;\n",
       "      box-shadow: 0px 1px 3px 1px rgba(0, 0, 0, 0.15);\n",
       "      filter: drop-shadow(0px 1px 2px rgba(0, 0, 0, 0.3));\n",
       "      fill: #FFFFFF;\n",
       "    }\n",
       "  </style>\n",
       "\n",
       "      <script>\n",
       "        const buttonEl =\n",
       "          document.querySelector('#df-94af270e-a560-475b-a12b-68db30b9f7c7 button.colab-df-convert');\n",
       "        buttonEl.style.display =\n",
       "          google.colab.kernel.accessAllowed ? 'block' : 'none';\n",
       "\n",
       "        async function convertToInteractive(key) {\n",
       "          const element = document.querySelector('#df-94af270e-a560-475b-a12b-68db30b9f7c7');\n",
       "          const dataTable =\n",
       "            await google.colab.kernel.invokeFunction('convertToInteractive',\n",
       "                                                     [key], {});\n",
       "          if (!dataTable) return;\n",
       "\n",
       "          const docLinkHtml = 'Like what you see? Visit the ' +\n",
       "            '<a target=\"_blank\" href=https://colab.research.google.com/notebooks/data_table.ipynb>data table notebook</a>'\n",
       "            + ' to learn more about interactive tables.';\n",
       "          element.innerHTML = '';\n",
       "          dataTable['output_type'] = 'display_data';\n",
       "          await google.colab.output.renderOutput(dataTable, element);\n",
       "          const docLink = document.createElement('div');\n",
       "          docLink.innerHTML = docLinkHtml;\n",
       "          element.appendChild(docLink);\n",
       "        }\n",
       "      </script>\n",
       "    </div>\n",
       "  </div>\n",
       "  "
      ],
      "text/plain": [
       "                                           file_path                  label  \\\n",
       "0  /content/drive/MyDrive/Capstone/Car Images/Car...  Suzuki SX4 Sedan 2012   \n",
       "1  /content/drive/MyDrive/Capstone/Car Images/Car...  Suzuki SX4 Sedan 2012   \n",
       "2  /content/drive/MyDrive/Capstone/Car Images/Car...  Suzuki SX4 Sedan 2012   \n",
       "3  /content/drive/MyDrive/Capstone/Car Images/Car...  Suzuki SX4 Sedan 2012   \n",
       "4  /content/drive/MyDrive/Capstone/Car Images/Car...  Suzuki SX4 Sedan 2012   \n",
       "\n",
       "   file_name  cor1  cor2  cor3  cor4  Image_Class  \n",
       "0  00482.jpg    80    91   589   429          184  \n",
       "1  05872.jpg    39    35   591   413          184  \n",
       "2  06576.jpg    64   347   629   577          184  \n",
       "3  00719.jpg   118    93   380   317          184  \n",
       "4  04655.jpg     9    11   824   489          184  "
      ]
     },
     "execution_count": 16,
     "metadata": {},
     "output_type": "execute_result"
    }
   ],
   "source": [
    "trainDF.head(5)"
   ]
  },
  {
   "cell_type": "code",
   "execution_count": null,
   "metadata": {
    "id": "Scr-YkM29p1m"
   },
   "outputs": [],
   "source": [
    "from sklearn.model_selection import train_test_split\n",
    "train_df,valid_df= train_test_split(trainDF, test_size=0.20, random_state=42, stratify=train['label'])"
   ]
  },
  {
   "cell_type": "code",
   "execution_count": null,
   "metadata": {
    "colab": {
     "base_uri": "https://localhost:8080/"
    },
    "id": "L-gkAZhAZnHZ",
    "outputId": "b1d88b6c-9217-411b-dda3-8a23ed108bc5"
   },
   "outputs": [
    {
     "data": {
      "text/plain": [
       "(6515, 8)"
      ]
     },
     "execution_count": 18,
     "metadata": {},
     "output_type": "execute_result"
    },
    {
     "data": {
      "text/plain": [
       "(1629, 8)"
      ]
     },
     "execution_count": 18,
     "metadata": {},
     "output_type": "execute_result"
    }
   ],
   "source": [
    "train_df.shape\n",
    "valid_df.shape"
   ]
  },
  {
   "cell_type": "code",
   "execution_count": null,
   "metadata": {
    "colab": {
     "base_uri": "https://localhost:8080/"
    },
    "id": "je3YBkeW8URb",
    "outputId": "406bc35a-a9b5-4316-c079-18286e1bf0a8"
   },
   "outputs": [
    {
     "name": "stdout",
     "output_type": "stream",
     "text": [
      "Collecting git+https://github.com/mjkvaak/ImageDataAugmentor\n",
      "  Cloning https://github.com/mjkvaak/ImageDataAugmentor to /tmp/pip-req-build-mdnjenza\n",
      "  Running command git clone -q https://github.com/mjkvaak/ImageDataAugmentor /tmp/pip-req-build-mdnjenza\n",
      "Requirement already satisfied: albumentations in /usr/local/lib/python3.7/dist-packages (from ImageDataAugmentor==0.0.0) (0.1.12)\n",
      "Collecting opencv-python>=4.2\n",
      "  Downloading opencv_python-4.5.5.64-cp36-abi3-manylinux_2_17_x86_64.manylinux2014_x86_64.whl (60.5 MB)\n",
      "\u001b[K     |████████████████████████████████| 60.5 MB 1.1 MB/s \n",
      "\u001b[?25hRequirement already satisfied: matplotlib in /usr/local/lib/python3.7/dist-packages (from ImageDataAugmentor==0.0.0) (3.2.2)\n",
      "Requirement already satisfied: Pillow in /usr/local/lib/python3.7/dist-packages (from ImageDataAugmentor==0.0.0) (7.1.2)\n",
      "Requirement already satisfied: scipy in /usr/local/lib/python3.7/dist-packages (from ImageDataAugmentor==0.0.0) (1.4.1)\n",
      "Requirement already satisfied: pandas in /usr/local/lib/python3.7/dist-packages (from ImageDataAugmentor==0.0.0) (1.3.5)\n",
      "Requirement already satisfied: numpy>=1.14.5 in /usr/local/lib/python3.7/dist-packages (from opencv-python>=4.2->ImageDataAugmentor==0.0.0) (1.21.5)\n",
      "Collecting imgaug<0.2.7,>=0.2.5\n",
      "  Downloading imgaug-0.2.6.tar.gz (631 kB)\n",
      "\u001b[K     |████████████████████████████████| 631 kB 57.4 MB/s \n",
      "\u001b[?25hRequirement already satisfied: scikit-image>=0.11.0 in /usr/local/lib/python3.7/dist-packages (from imgaug<0.2.7,>=0.2.5->albumentations->ImageDataAugmentor==0.0.0) (0.18.3)\n",
      "Requirement already satisfied: six in /usr/local/lib/python3.7/dist-packages (from imgaug<0.2.7,>=0.2.5->albumentations->ImageDataAugmentor==0.0.0) (1.15.0)\n",
      "Requirement already satisfied: PyWavelets>=1.1.1 in /usr/local/lib/python3.7/dist-packages (from scikit-image>=0.11.0->imgaug<0.2.7,>=0.2.5->albumentations->ImageDataAugmentor==0.0.0) (1.2.0)\n",
      "Requirement already satisfied: imageio>=2.3.0 in /usr/local/lib/python3.7/dist-packages (from scikit-image>=0.11.0->imgaug<0.2.7,>=0.2.5->albumentations->ImageDataAugmentor==0.0.0) (2.4.1)\n",
      "Requirement already satisfied: networkx>=2.0 in /usr/local/lib/python3.7/dist-packages (from scikit-image>=0.11.0->imgaug<0.2.7,>=0.2.5->albumentations->ImageDataAugmentor==0.0.0) (2.6.3)\n",
      "Requirement already satisfied: tifffile>=2019.7.26 in /usr/local/lib/python3.7/dist-packages (from scikit-image>=0.11.0->imgaug<0.2.7,>=0.2.5->albumentations->ImageDataAugmentor==0.0.0) (2021.11.2)\n",
      "Requirement already satisfied: kiwisolver>=1.0.1 in /usr/local/lib/python3.7/dist-packages (from matplotlib->ImageDataAugmentor==0.0.0) (1.3.2)\n",
      "Requirement already satisfied: python-dateutil>=2.1 in /usr/local/lib/python3.7/dist-packages (from matplotlib->ImageDataAugmentor==0.0.0) (2.8.2)\n",
      "Requirement already satisfied: pyparsing!=2.0.4,!=2.1.2,!=2.1.6,>=2.0.1 in /usr/local/lib/python3.7/dist-packages (from matplotlib->ImageDataAugmentor==0.0.0) (3.0.7)\n",
      "Requirement already satisfied: cycler>=0.10 in /usr/local/lib/python3.7/dist-packages (from matplotlib->ImageDataAugmentor==0.0.0) (0.11.0)\n",
      "Requirement already satisfied: pytz>=2017.3 in /usr/local/lib/python3.7/dist-packages (from pandas->ImageDataAugmentor==0.0.0) (2018.9)\n",
      "Building wheels for collected packages: ImageDataAugmentor, imgaug\n",
      "  Building wheel for ImageDataAugmentor (setup.py) ... \u001b[?25l\u001b[?25hdone\n",
      "  Created wheel for ImageDataAugmentor: filename=ImageDataAugmentor-0.0.0-py3-none-any.whl size=29638 sha256=c41d402a4d9b15bc784bcb47d7ef416a7e643def2f537d07bb40c4ec44b92c02\n",
      "  Stored in directory: /tmp/pip-ephem-wheel-cache-fqksfu6t/wheels/c9/bd/73/9cfa59d2393dae55bbcc30f5aa901f55fe531c66efebbc8fc3\n",
      "  Building wheel for imgaug (setup.py) ... \u001b[?25l\u001b[?25hdone\n",
      "  Created wheel for imgaug: filename=imgaug-0.2.6-py3-none-any.whl size=654017 sha256=922857e60f75ebd75208eba474bd67cae14d182d352458e7fc33de23897f18b1\n",
      "  Stored in directory: /root/.cache/pip/wheels/89/72/98/3ebfdba1069a9a8eaaa7ae7265cfd67d63ef0197aaee2e5f9c\n",
      "Successfully built ImageDataAugmentor imgaug\n",
      "Installing collected packages: opencv-python, imgaug, ImageDataAugmentor\n",
      "  Attempting uninstall: opencv-python\n",
      "    Found existing installation: opencv-python 4.1.2.30\n",
      "    Uninstalling opencv-python-4.1.2.30:\n",
      "      Successfully uninstalled opencv-python-4.1.2.30\n",
      "  Attempting uninstall: imgaug\n",
      "    Found existing installation: imgaug 0.2.9\n",
      "    Uninstalling imgaug-0.2.9:\n",
      "      Successfully uninstalled imgaug-0.2.9\n",
      "Successfully installed ImageDataAugmentor-0.0.0 imgaug-0.2.6 opencv-python-4.5.5.64\n",
      "Requirement already satisfied: albumentations in /usr/local/lib/python3.7/dist-packages (0.1.12)\n",
      "Collecting albumentations\n",
      "  Downloading albumentations-1.1.0-py3-none-any.whl (102 kB)\n",
      "\u001b[K     |████████████████████████████████| 102 kB 6.9 MB/s \n",
      "\u001b[?25hCollecting qudida>=0.0.4\n",
      "  Downloading qudida-0.0.4-py3-none-any.whl (3.5 kB)\n",
      "Requirement already satisfied: scikit-image>=0.16.1 in /usr/local/lib/python3.7/dist-packages (from albumentations) (0.18.3)\n",
      "Requirement already satisfied: scipy in /usr/local/lib/python3.7/dist-packages (from albumentations) (1.4.1)\n",
      "Requirement already satisfied: numpy>=1.11.1 in /usr/local/lib/python3.7/dist-packages (from albumentations) (1.21.5)\n",
      "Collecting opencv-python-headless>=4.1.1\n",
      "  Downloading opencv_python_headless-4.5.5.64-cp36-abi3-manylinux_2_17_x86_64.manylinux2014_x86_64.whl (47.8 MB)\n",
      "\u001b[K     |████████████████████████████████| 47.8 MB 118.0 MB/s \n",
      "\u001b[?25hRequirement already satisfied: PyYAML in /usr/local/lib/python3.7/dist-packages (from albumentations) (3.13)\n",
      "Requirement already satisfied: scikit-learn>=0.19.1 in /usr/local/lib/python3.7/dist-packages (from qudida>=0.0.4->albumentations) (1.0.2)\n",
      "Requirement already satisfied: typing-extensions in /usr/local/lib/python3.7/dist-packages (from qudida>=0.0.4->albumentations) (3.10.0.2)\n",
      "Requirement already satisfied: PyWavelets>=1.1.1 in /usr/local/lib/python3.7/dist-packages (from scikit-image>=0.16.1->albumentations) (1.2.0)\n",
      "Requirement already satisfied: matplotlib!=3.0.0,>=2.0.0 in /usr/local/lib/python3.7/dist-packages (from scikit-image>=0.16.1->albumentations) (3.2.2)\n",
      "Requirement already satisfied: imageio>=2.3.0 in /usr/local/lib/python3.7/dist-packages (from scikit-image>=0.16.1->albumentations) (2.4.1)\n",
      "Requirement already satisfied: tifffile>=2019.7.26 in /usr/local/lib/python3.7/dist-packages (from scikit-image>=0.16.1->albumentations) (2021.11.2)\n",
      "Requirement already satisfied: networkx>=2.0 in /usr/local/lib/python3.7/dist-packages (from scikit-image>=0.16.1->albumentations) (2.6.3)\n",
      "Requirement already satisfied: pillow!=7.1.0,!=7.1.1,>=4.3.0 in /usr/local/lib/python3.7/dist-packages (from scikit-image>=0.16.1->albumentations) (7.1.2)\n",
      "Requirement already satisfied: python-dateutil>=2.1 in /usr/local/lib/python3.7/dist-packages (from matplotlib!=3.0.0,>=2.0.0->scikit-image>=0.16.1->albumentations) (2.8.2)\n",
      "Requirement already satisfied: cycler>=0.10 in /usr/local/lib/python3.7/dist-packages (from matplotlib!=3.0.0,>=2.0.0->scikit-image>=0.16.1->albumentations) (0.11.0)\n",
      "Requirement already satisfied: kiwisolver>=1.0.1 in /usr/local/lib/python3.7/dist-packages (from matplotlib!=3.0.0,>=2.0.0->scikit-image>=0.16.1->albumentations) (1.3.2)\n",
      "Requirement already satisfied: pyparsing!=2.0.4,!=2.1.2,!=2.1.6,>=2.0.1 in /usr/local/lib/python3.7/dist-packages (from matplotlib!=3.0.0,>=2.0.0->scikit-image>=0.16.1->albumentations) (3.0.7)\n",
      "Requirement already satisfied: six>=1.5 in /usr/local/lib/python3.7/dist-packages (from python-dateutil>=2.1->matplotlib!=3.0.0,>=2.0.0->scikit-image>=0.16.1->albumentations) (1.15.0)\n",
      "Requirement already satisfied: joblib>=0.11 in /usr/local/lib/python3.7/dist-packages (from scikit-learn>=0.19.1->qudida>=0.0.4->albumentations) (1.1.0)\n",
      "Requirement already satisfied: threadpoolctl>=2.0.0 in /usr/local/lib/python3.7/dist-packages (from scikit-learn>=0.19.1->qudida>=0.0.4->albumentations) (3.1.0)\n",
      "Installing collected packages: opencv-python-headless, qudida, albumentations\n",
      "  Attempting uninstall: albumentations\n",
      "    Found existing installation: albumentations 0.1.12\n",
      "    Uninstalling albumentations-0.1.12:\n",
      "      Successfully uninstalled albumentations-0.1.12\n",
      "Successfully installed albumentations-1.1.0 opencv-python-headless-4.5.5.64 qudida-0.0.4\n"
     ]
    }
   ],
   "source": [
    "#!pip install -qqq tensorflow_addons\n",
    "!pip install git+https://github.com/mjkvaak/ImageDataAugmentor\n",
    "!pip install -U albumentations"
   ]
  },
  {
   "cell_type": "code",
   "execution_count": null,
   "metadata": {
    "id": "_X_fFaZMaYfj"
   },
   "outputs": [],
   "source": [
    "# Setting the correct order of labels to prevent mismatches\n",
    "class_label_list=pd.read_csv('/content/drive/MyDrive/Capstone/Car _names_and_make.txt',names=['make'])"
   ]
  },
  {
   "cell_type": "code",
   "execution_count": null,
   "metadata": {
    "colab": {
     "base_uri": "https://localhost:8080/"
    },
    "id": "F7NxXEBpc25O",
    "outputId": "23d0d776-da10-47f5-a0ba-499d24990c9c"
   },
   "outputs": [
    {
     "data": {
      "text/plain": [
       "pandas.core.frame.DataFrame"
      ]
     },
     "execution_count": 21,
     "metadata": {},
     "output_type": "execute_result"
    }
   ],
   "source": [
    "type(class_label_list)"
   ]
  },
  {
   "cell_type": "code",
   "execution_count": null,
   "metadata": {
    "colab": {
     "base_uri": "https://localhost:8080/",
     "height": 206
    },
    "id": "TRdMRJWNc50d",
    "outputId": "8830121f-dbe7-4284-d021-c5e14e6a0455"
   },
   "outputs": [
    {
     "data": {
      "text/html": [
       "\n",
       "  <div id=\"df-bb06530d-30c9-4003-a312-90ea1fdaf11a\">\n",
       "    <div class=\"colab-df-container\">\n",
       "      <div>\n",
       "<style scoped>\n",
       "    .dataframe tbody tr th:only-of-type {\n",
       "        vertical-align: middle;\n",
       "    }\n",
       "\n",
       "    .dataframe tbody tr th {\n",
       "        vertical-align: top;\n",
       "    }\n",
       "\n",
       "    .dataframe thead th {\n",
       "        text-align: right;\n",
       "    }\n",
       "</style>\n",
       "<table border=\"1\" class=\"dataframe\">\n",
       "  <thead>\n",
       "    <tr style=\"text-align: right;\">\n",
       "      <th></th>\n",
       "      <th>make</th>\n",
       "    </tr>\n",
       "  </thead>\n",
       "  <tbody>\n",
       "    <tr>\n",
       "      <th>0</th>\n",
       "      <td>AM General Hummer SUV 2000</td>\n",
       "    </tr>\n",
       "    <tr>\n",
       "      <th>1</th>\n",
       "      <td>Acura RL Sedan 2012</td>\n",
       "    </tr>\n",
       "    <tr>\n",
       "      <th>2</th>\n",
       "      <td>Acura TL Sedan 2012</td>\n",
       "    </tr>\n",
       "    <tr>\n",
       "      <th>3</th>\n",
       "      <td>Acura TL Type-S 2008</td>\n",
       "    </tr>\n",
       "    <tr>\n",
       "      <th>4</th>\n",
       "      <td>Acura TSX Sedan 2012</td>\n",
       "    </tr>\n",
       "  </tbody>\n",
       "</table>\n",
       "</div>\n",
       "      <button class=\"colab-df-convert\" onclick=\"convertToInteractive('df-bb06530d-30c9-4003-a312-90ea1fdaf11a')\"\n",
       "              title=\"Convert this dataframe to an interactive table.\"\n",
       "              style=\"display:none;\">\n",
       "        \n",
       "  <svg xmlns=\"http://www.w3.org/2000/svg\" height=\"24px\"viewBox=\"0 0 24 24\"\n",
       "       width=\"24px\">\n",
       "    <path d=\"M0 0h24v24H0V0z\" fill=\"none\"/>\n",
       "    <path d=\"M18.56 5.44l.94 2.06.94-2.06 2.06-.94-2.06-.94-.94-2.06-.94 2.06-2.06.94zm-11 1L8.5 8.5l.94-2.06 2.06-.94-2.06-.94L8.5 2.5l-.94 2.06-2.06.94zm10 10l.94 2.06.94-2.06 2.06-.94-2.06-.94-.94-2.06-.94 2.06-2.06.94z\"/><path d=\"M17.41 7.96l-1.37-1.37c-.4-.4-.92-.59-1.43-.59-.52 0-1.04.2-1.43.59L10.3 9.45l-7.72 7.72c-.78.78-.78 2.05 0 2.83L4 21.41c.39.39.9.59 1.41.59.51 0 1.02-.2 1.41-.59l7.78-7.78 2.81-2.81c.8-.78.8-2.07 0-2.86zM5.41 20L4 18.59l7.72-7.72 1.47 1.35L5.41 20z\"/>\n",
       "  </svg>\n",
       "      </button>\n",
       "      \n",
       "  <style>\n",
       "    .colab-df-container {\n",
       "      display:flex;\n",
       "      flex-wrap:wrap;\n",
       "      gap: 12px;\n",
       "    }\n",
       "\n",
       "    .colab-df-convert {\n",
       "      background-color: #E8F0FE;\n",
       "      border: none;\n",
       "      border-radius: 50%;\n",
       "      cursor: pointer;\n",
       "      display: none;\n",
       "      fill: #1967D2;\n",
       "      height: 32px;\n",
       "      padding: 0 0 0 0;\n",
       "      width: 32px;\n",
       "    }\n",
       "\n",
       "    .colab-df-convert:hover {\n",
       "      background-color: #E2EBFA;\n",
       "      box-shadow: 0px 1px 2px rgba(60, 64, 67, 0.3), 0px 1px 3px 1px rgba(60, 64, 67, 0.15);\n",
       "      fill: #174EA6;\n",
       "    }\n",
       "\n",
       "    [theme=dark] .colab-df-convert {\n",
       "      background-color: #3B4455;\n",
       "      fill: #D2E3FC;\n",
       "    }\n",
       "\n",
       "    [theme=dark] .colab-df-convert:hover {\n",
       "      background-color: #434B5C;\n",
       "      box-shadow: 0px 1px 3px 1px rgba(0, 0, 0, 0.15);\n",
       "      filter: drop-shadow(0px 1px 2px rgba(0, 0, 0, 0.3));\n",
       "      fill: #FFFFFF;\n",
       "    }\n",
       "  </style>\n",
       "\n",
       "      <script>\n",
       "        const buttonEl =\n",
       "          document.querySelector('#df-bb06530d-30c9-4003-a312-90ea1fdaf11a button.colab-df-convert');\n",
       "        buttonEl.style.display =\n",
       "          google.colab.kernel.accessAllowed ? 'block' : 'none';\n",
       "\n",
       "        async function convertToInteractive(key) {\n",
       "          const element = document.querySelector('#df-bb06530d-30c9-4003-a312-90ea1fdaf11a');\n",
       "          const dataTable =\n",
       "            await google.colab.kernel.invokeFunction('convertToInteractive',\n",
       "                                                     [key], {});\n",
       "          if (!dataTable) return;\n",
       "\n",
       "          const docLinkHtml = 'Like what you see? Visit the ' +\n",
       "            '<a target=\"_blank\" href=https://colab.research.google.com/notebooks/data_table.ipynb>data table notebook</a>'\n",
       "            + ' to learn more about interactive tables.';\n",
       "          element.innerHTML = '';\n",
       "          dataTable['output_type'] = 'display_data';\n",
       "          await google.colab.output.renderOutput(dataTable, element);\n",
       "          const docLink = document.createElement('div');\n",
       "          docLink.innerHTML = docLinkHtml;\n",
       "          element.appendChild(docLink);\n",
       "        }\n",
       "      </script>\n",
       "    </div>\n",
       "  </div>\n",
       "  "
      ],
      "text/plain": [
       "                         make\n",
       "0  AM General Hummer SUV 2000\n",
       "1         Acura RL Sedan 2012\n",
       "2         Acura TL Sedan 2012\n",
       "3        Acura TL Type-S 2008\n",
       "4        Acura TSX Sedan 2012"
      ]
     },
     "execution_count": 22,
     "metadata": {},
     "output_type": "execute_result"
    }
   ],
   "source": [
    "class_label_list.head()"
   ]
  },
  {
   "cell_type": "code",
   "execution_count": null,
   "metadata": {
    "id": "zs59fomrdc-u"
   },
   "outputs": [],
   "source": [
    "all_classes=list(class_label_list['make'])"
   ]
  },
  {
   "cell_type": "code",
   "execution_count": null,
   "metadata": {
    "colab": {
     "base_uri": "https://localhost:8080/"
    },
    "id": "hCi9OgiUdlLZ",
    "outputId": "b9cdf730-f810-4ccd-83f7-a16b3bbdfb69"
   },
   "outputs": [
    {
     "data": {
      "text/plain": [
       "196"
      ]
     },
     "execution_count": 24,
     "metadata": {},
     "output_type": "execute_result"
    }
   ],
   "source": [
    "len(all_classes)"
   ]
  },
  {
   "cell_type": "code",
   "execution_count": null,
   "metadata": {
    "colab": {
     "base_uri": "https://localhost:8080/"
    },
    "id": "1CFuQNM_NqmM",
    "outputId": "764682cd-c62a-4c82-cd12-8254adf7f0a0"
   },
   "outputs": [
    {
     "name": "stderr",
     "output_type": "stream",
     "text": [
      "/usr/local/lib/python3.7/dist-packages/albumentations/augmentations/transforms.py:691: FutureWarning: This class has been deprecated. Please use CoarseDropout\n",
      "  FutureWarning,\n"
     ]
    },
    {
     "name": "stdout",
     "output_type": "stream",
     "text": [
      "Found 6482 validated image filenames belonging to 196 classes.\n",
      "Found 1621 validated image filenames belonging to 196 classes.\n"
     ]
    }
   ],
   "source": [
    "import tensorflow as tf\n",
    "from ImageDataAugmentor.image_data_augmentor import *\n",
    "import albumentations\n",
    "\n",
    "    \n",
    "AUGMENTATIONS = albumentations.Compose([\n",
    "    albumentations.HorizontalFlip(p=0.5),\n",
    "    albumentations.Rotate(p=0.5,limit=25),\n",
    "    albumentations.OneOf([\n",
    "        albumentations.RandomBrightnessContrast(brightness_limit=0.5, contrast_limit=0.3),\n",
    "        albumentations.RandomBrightnessContrast(brightness_limit=1.5, contrast_limit=0.1)\n",
    "    ],p=1),\n",
    "    #albumentations.HueSaturationValue(p=0.5),\n",
    "    #albumentations.Affine(shear=20),\n",
    "    albumentations.Cutout(num_holes=1, max_h_size=16,max_w_size = 16,p=1),\n",
    "    #albumentations.ShiftScaleRotate(shift_limit=0.0625, scale_limit=0.50, rotate_limit=15, p=.75),\n",
    "    #albumentations.Blur(blur_limit=3),\n",
    "    #albumentations.OpticalDistortion()\n",
    "    #albumentations.RGBShift(p=0.5),\n",
    "])\n",
    "\n",
    "# dataloaders\n",
    "train_img_datagen = ImageDataAugmentor(\n",
    "        augment=AUGMENTATIONS,\n",
    "        #validation_split=0.2,\n",
    "        seed=42\n",
    "        )\n",
    "\n",
    "\n",
    "val_datagen = ImageDataAugmentor()#validation_split=0.2)\n",
    "\n",
    "\n",
    "train_ds = train_img_datagen.flow_from_dataframe(\n",
    "        dataframe=train_df,\n",
    "        directory=train_data_dir,\n",
    "        x_col=\"file_path\",\n",
    "        y_col=\"label\",\n",
    "        target_size=(IMG_SIZE, IMG_SIZE),\n",
    "        batch_size=BATCH_SIZE,\n",
    "        class_mode='categorical',\n",
    "        classes=all_classes\n",
    "\n",
    "        )\n",
    "\n",
    "val_ds = val_datagen.flow_from_dataframe(\n",
    "        dataframe=valid_df,\n",
    "        directory=train_data_dir,\n",
    "        x_col=\"file_path\",\n",
    "        y_col=\"label\",\n",
    "        target_size=(IMG_SIZE, IMG_SIZE),\n",
    "        batch_size=BATCH_SIZE,\n",
    "        class_mode='categorical',\n",
    "        classes=all_classes\n",
    "        )"
   ]
  },
  {
   "cell_type": "code",
   "execution_count": null,
   "metadata": {
    "id": "5BMGECc14VZh"
   },
   "outputs": [],
   "source": [
    "(x,y)=train_ds.next()"
   ]
  },
  {
   "cell_type": "code",
   "execution_count": null,
   "metadata": {
    "colab": {
     "base_uri": "https://localhost:8080/"
    },
    "id": "ci2sy6rp4zXr",
    "outputId": "81da611d-0072-4aeb-fca1-0f4784dc2519"
   },
   "outputs": [
    {
     "data": {
      "text/plain": [
       "(32, 224, 224, 3)"
      ]
     },
     "execution_count": 27,
     "metadata": {},
     "output_type": "execute_result"
    }
   ],
   "source": [
    "x.shape"
   ]
  },
  {
   "cell_type": "code",
   "execution_count": null,
   "metadata": {
    "colab": {
     "base_uri": "https://localhost:8080/"
    },
    "id": "nN_q9EPh41fI",
    "outputId": "e14c538e-80cc-4464-9a0f-838569e25b5c"
   },
   "outputs": [
    {
     "data": {
      "text/plain": [
       "(32, 196)"
      ]
     },
     "execution_count": 28,
     "metadata": {},
     "output_type": "execute_result"
    }
   ],
   "source": [
    "y.shape"
   ]
  },
  {
   "cell_type": "code",
   "execution_count": null,
   "metadata": {
    "colab": {
     "base_uri": "https://localhost:8080/"
    },
    "id": "eTyrQag4brnH",
    "outputId": "3adcf449-e5b0-4f99-9df9-040f3f83b97b"
   },
   "outputs": [
    {
     "data": {
      "text/plain": [
       "{'AM General Hummer SUV 2000': 0,\n",
       " 'Acura Integra Type R 2001': 1,\n",
       " 'Acura RL Sedan 2012': 2,\n",
       " 'Acura TL Sedan 2012': 3,\n",
       " 'Acura TL Type-S 2008': 4,\n",
       " 'Acura TSX Sedan 2012': 5,\n",
       " 'Acura ZDX Hatchback 2012': 6,\n",
       " 'Aston Martin V8 Vantage Convertible 2012': 7,\n",
       " 'Aston Martin V8 Vantage Coupe 2012': 8,\n",
       " 'Aston Martin Virage Convertible 2012': 9,\n",
       " 'Aston Martin Virage Coupe 2012': 10,\n",
       " 'Audi 100 Sedan 1994': 11,\n",
       " 'Audi 100 Wagon 1994': 12,\n",
       " 'Audi A5 Coupe 2012': 13,\n",
       " 'Audi R8 Coupe 2012': 14,\n",
       " 'Audi RS 4 Convertible 2008': 15,\n",
       " 'Audi S4 Sedan 2007': 16,\n",
       " 'Audi S4 Sedan 2012': 17,\n",
       " 'Audi S5 Convertible 2012': 18,\n",
       " 'Audi S5 Coupe 2012': 19,\n",
       " 'Audi S6 Sedan 2011': 20,\n",
       " 'Audi TT Hatchback 2011': 21,\n",
       " 'Audi TT RS Coupe 2012': 22,\n",
       " 'Audi TTS Coupe 2012': 23,\n",
       " 'Audi V8 Sedan 1994': 24,\n",
       " 'BMW 1 Series Convertible 2012': 25,\n",
       " 'BMW 1 Series Coupe 2012': 26,\n",
       " 'BMW 3 Series Sedan 2012': 27,\n",
       " 'BMW 3 Series Wagon 2012': 28,\n",
       " 'BMW 6 Series Convertible 2007': 29,\n",
       " 'BMW ActiveHybrid 5 Sedan 2012': 30,\n",
       " 'BMW M3 Coupe 2012': 31,\n",
       " 'BMW M5 Sedan 2010': 32,\n",
       " 'BMW M6 Convertible 2010': 33,\n",
       " 'BMW X3 SUV 2012': 34,\n",
       " 'BMW X5 SUV 2007': 35,\n",
       " 'BMW X6 SUV 2012': 36,\n",
       " 'BMW Z4 Convertible 2012': 37,\n",
       " 'Bentley Arnage Sedan 2009': 38,\n",
       " 'Bentley Continental Flying Spur Sedan 2007': 39,\n",
       " 'Bentley Continental GT Coupe 2007': 40,\n",
       " 'Bentley Continental GT Coupe 2012': 41,\n",
       " 'Bentley Continental Supersports Conv. Convertible 2012': 42,\n",
       " 'Bentley Mulsanne Sedan 2011': 43,\n",
       " 'Bugatti Veyron 16.4 Convertible 2009': 44,\n",
       " 'Bugatti Veyron 16.4 Coupe 2009': 45,\n",
       " 'Buick Enclave SUV 2012': 46,\n",
       " 'Buick Rainier SUV 2007': 47,\n",
       " 'Buick Regal GS 2012': 48,\n",
       " 'Buick Verano Sedan 2012': 49,\n",
       " 'Cadillac CTS-V Sedan 2012': 50,\n",
       " 'Cadillac Escalade EXT Crew Cab 2007': 51,\n",
       " 'Cadillac SRX SUV 2012': 52,\n",
       " 'Chevrolet Avalanche Crew Cab 2012': 53,\n",
       " 'Chevrolet Camaro Convertible 2012': 54,\n",
       " 'Chevrolet Cobalt SS 2010': 55,\n",
       " 'Chevrolet Corvette Convertible 2012': 56,\n",
       " 'Chevrolet Corvette Ron Fellows Edition Z06 2007': 57,\n",
       " 'Chevrolet Corvette ZR1 2012': 58,\n",
       " 'Chevrolet Express Cargo Van 2007': 59,\n",
       " 'Chevrolet Express Van 2007': 60,\n",
       " 'Chevrolet HHR SS 2010': 61,\n",
       " 'Chevrolet Impala Sedan 2007': 62,\n",
       " 'Chevrolet Malibu Hybrid Sedan 2010': 63,\n",
       " 'Chevrolet Malibu Sedan 2007': 64,\n",
       " 'Chevrolet Monte Carlo Coupe 2007': 65,\n",
       " 'Chevrolet Silverado 1500 Classic Extended Cab 2007': 66,\n",
       " 'Chevrolet Silverado 1500 Extended Cab 2012': 67,\n",
       " 'Chevrolet Silverado 1500 Hybrid Crew Cab 2012': 68,\n",
       " 'Chevrolet Silverado 1500 Regular Cab 2012': 69,\n",
       " 'Chevrolet Silverado 2500HD Regular Cab 2012': 70,\n",
       " 'Chevrolet Sonic Sedan 2012': 71,\n",
       " 'Chevrolet Tahoe Hybrid SUV 2012': 72,\n",
       " 'Chevrolet TrailBlazer SS 2009': 73,\n",
       " 'Chevrolet Traverse SUV 2012': 74,\n",
       " 'Chrysler 300 SRT-8 2010': 75,\n",
       " 'Chrysler Aspen SUV 2009': 76,\n",
       " 'Chrysler Crossfire Convertible 2008': 77,\n",
       " 'Chrysler PT Cruiser Convertible 2008': 78,\n",
       " 'Chrysler Sebring Convertible 2010': 79,\n",
       " 'Chrysler Town and Country Minivan 2012': 80,\n",
       " 'Daewoo Nubira Wagon 2002': 81,\n",
       " 'Dodge Caliber Wagon 2007': 82,\n",
       " 'Dodge Caliber Wagon 2012': 83,\n",
       " 'Dodge Caravan Minivan 1997': 84,\n",
       " 'Dodge Challenger SRT8 2011': 85,\n",
       " 'Dodge Charger SRT-8 2009': 86,\n",
       " 'Dodge Charger Sedan 2012': 87,\n",
       " 'Dodge Dakota Club Cab 2007': 88,\n",
       " 'Dodge Dakota Crew Cab 2010': 89,\n",
       " 'Dodge Durango SUV 2007': 90,\n",
       " 'Dodge Durango SUV 2012': 91,\n",
       " 'Dodge Journey SUV 2012': 92,\n",
       " 'Dodge Magnum Wagon 2008': 93,\n",
       " 'Dodge Ram Pickup 3500 Crew Cab 2010': 94,\n",
       " 'Dodge Ram Pickup 3500 Quad Cab 2009': 95,\n",
       " 'Dodge Sprinter Cargo Van 2009': 96,\n",
       " 'Eagle Talon Hatchback 1998': 97,\n",
       " 'FIAT 500 Abarth 2012': 98,\n",
       " 'FIAT 500 Convertible 2012': 99,\n",
       " 'Ferrari 458 Italia Convertible 2012': 100,\n",
       " 'Ferrari 458 Italia Coupe 2012': 101,\n",
       " 'Ferrari California Convertible 2012': 102,\n",
       " 'Ferrari FF Coupe 2012': 103,\n",
       " 'Fisker Karma Sedan 2012': 104,\n",
       " 'Ford E-Series Wagon Van 2012': 105,\n",
       " 'Ford Edge SUV 2012': 106,\n",
       " 'Ford Expedition EL SUV 2009': 107,\n",
       " 'Ford F-150 Regular Cab 2007': 108,\n",
       " 'Ford F-150 Regular Cab 2012': 109,\n",
       " 'Ford F-450 Super Duty Crew Cab 2012': 110,\n",
       " 'Ford Fiesta Sedan 2012': 111,\n",
       " 'Ford Focus Sedan 2007': 112,\n",
       " 'Ford Freestar Minivan 2007': 113,\n",
       " 'Ford GT Coupe 2006': 114,\n",
       " 'Ford Mustang Convertible 2007': 115,\n",
       " 'Ford Ranger SuperCab 2011': 116,\n",
       " 'GMC Acadia SUV 2012': 117,\n",
       " 'GMC Canyon Extended Cab 2012': 118,\n",
       " 'GMC Savana Van 2012': 119,\n",
       " 'GMC Terrain SUV 2012': 120,\n",
       " 'GMC Yukon Hybrid SUV 2012': 121,\n",
       " 'Geo Metro Convertible 1993': 122,\n",
       " 'HUMMER H2 SUT Crew Cab 2009': 123,\n",
       " 'HUMMER H3T Crew Cab 2010': 124,\n",
       " 'Honda Accord Coupe 2012': 125,\n",
       " 'Honda Accord Sedan 2012': 126,\n",
       " 'Honda Odyssey Minivan 2007': 127,\n",
       " 'Honda Odyssey Minivan 2012': 128,\n",
       " 'Hyundai Accent Sedan 2012': 129,\n",
       " 'Hyundai Azera Sedan 2012': 130,\n",
       " 'Hyundai Elantra Sedan 2007': 131,\n",
       " 'Hyundai Elantra Touring Hatchback 2012': 132,\n",
       " 'Hyundai Genesis Sedan 2012': 133,\n",
       " 'Hyundai Santa Fe SUV 2012': 134,\n",
       " 'Hyundai Sonata Hybrid Sedan 2012': 135,\n",
       " 'Hyundai Sonata Sedan 2012': 136,\n",
       " 'Hyundai Tucson SUV 2012': 137,\n",
       " 'Hyundai Veloster Hatchback 2012': 138,\n",
       " 'Hyundai Veracruz SUV 2012': 139,\n",
       " 'Infiniti G Coupe IPL 2012': 140,\n",
       " 'Infiniti QX56 SUV 2011': 141,\n",
       " 'Isuzu Ascender SUV 2008': 142,\n",
       " 'Jaguar XK XKR 2012': 143,\n",
       " 'Jeep Compass SUV 2012': 144,\n",
       " 'Jeep Grand Cherokee SUV 2012': 145,\n",
       " 'Jeep Liberty SUV 2012': 146,\n",
       " 'Jeep Patriot SUV 2012': 147,\n",
       " 'Jeep Wrangler SUV 2012': 148,\n",
       " 'Lamborghini Aventador Coupe 2012': 149,\n",
       " 'Lamborghini Diablo Coupe 2001': 150,\n",
       " 'Lamborghini Gallardo LP 570-4 Superleggera 2012': 151,\n",
       " 'Lamborghini Reventon Coupe 2008': 152,\n",
       " 'Land Rover LR2 SUV 2012': 153,\n",
       " 'Land Rover Range Rover SUV 2012': 154,\n",
       " 'Lincoln Town Car Sedan 2011': 155,\n",
       " 'MINI Cooper Roadster Convertible 2012': 156,\n",
       " 'Maybach Landaulet Convertible 2012': 157,\n",
       " 'Mazda Tribute SUV 2011': 158,\n",
       " 'McLaren MP4-12C Coupe 2012': 159,\n",
       " 'Mercedes-Benz 300-Class Convertible 1993': 160,\n",
       " 'Mercedes-Benz C-Class Sedan 2012': 161,\n",
       " 'Mercedes-Benz E-Class Sedan 2012': 162,\n",
       " 'Mercedes-Benz S-Class Sedan 2012': 163,\n",
       " 'Mercedes-Benz SL-Class Coupe 2009': 164,\n",
       " 'Mercedes-Benz Sprinter Van 2012': 165,\n",
       " 'Mitsubishi Lancer Sedan 2012': 166,\n",
       " 'Nissan 240SX Coupe 1998': 167,\n",
       " 'Nissan Juke Hatchback 2012': 168,\n",
       " 'Nissan Leaf Hatchback 2012': 169,\n",
       " 'Nissan NV Passenger Van 2012': 170,\n",
       " 'Plymouth Neon Coupe 1999': 171,\n",
       " 'Porsche Panamera Sedan 2012': 172,\n",
       " 'Ram C/V Cargo Van Minivan 2012': 173,\n",
       " 'Rolls-Royce Ghost Sedan 2012': 174,\n",
       " 'Rolls-Royce Phantom Drophead Coupe Convertible 2012': 175,\n",
       " 'Rolls-Royce Phantom Sedan 2012': 176,\n",
       " 'Scion xD Hatchback 2012': 177,\n",
       " 'Spyker C8 Convertible 2009': 178,\n",
       " 'Spyker C8 Coupe 2009': 179,\n",
       " 'Suzuki Aerio Sedan 2007': 180,\n",
       " 'Suzuki Kizashi Sedan 2012': 181,\n",
       " 'Suzuki SX4 Hatchback 2012': 182,\n",
       " 'Suzuki SX4 Sedan 2012': 183,\n",
       " 'Tesla Model S Sedan 2012': 184,\n",
       " 'Toyota 4Runner SUV 2012': 185,\n",
       " 'Toyota Camry Sedan 2012': 186,\n",
       " 'Toyota Corolla Sedan 2012': 187,\n",
       " 'Toyota Sequoia SUV 2012': 188,\n",
       " 'Volkswagen Beetle Hatchback 2012': 189,\n",
       " 'Volkswagen Golf Hatchback 1991': 190,\n",
       " 'Volkswagen Golf Hatchback 2012': 191,\n",
       " 'Volvo 240 Sedan 1993': 192,\n",
       " 'Volvo C30 Hatchback 2012': 193,\n",
       " 'Volvo XC90 SUV 2007': 194,\n",
       " 'smart fortwo Convertible 2012': 195}"
      ]
     },
     "execution_count": 29,
     "metadata": {},
     "output_type": "execute_result"
    }
   ],
   "source": [
    "train_ds.class_indices"
   ]
  },
  {
   "cell_type": "code",
   "execution_count": null,
   "metadata": {
    "colab": {
     "base_uri": "https://localhost:8080/"
    },
    "id": "cBMoksKFSZAE",
    "outputId": "1b76f452-ce7b-4b92-c4b5-b48b906717da"
   },
   "outputs": [
    {
     "data": {
      "text/plain": [
       "ImageDataAugmentor.dataframe_iterator.DataFrameIterator"
      ]
     },
     "execution_count": 30,
     "metadata": {},
     "output_type": "execute_result"
    }
   ],
   "source": [
    "type(train_ds)"
   ]
  },
  {
   "cell_type": "code",
   "execution_count": null,
   "metadata": {
    "id": "4uy4t0CQrNTO"
   },
   "outputs": [],
   "source": [
    "# Load prepared data \n",
    "\n",
    "\n",
    "X_Train_MobileNet=np.load(\"/content/drive/MyDrive/Capstone/Pickled_Info/X_Train_MobileNet.npy\")\n",
    "\n",
    "X_Test_MobileNet=np.load(\"/content/drive/MyDrive/Capstone/Pickled_Info/X_Test_MobileNet.npy\")\n",
    "\n",
    "Y_Train_MobileNet_BoxInput=np.load(\"/content/drive/MyDrive/Capstone/Pickled_Info/Y_Train_MobileNet_BoxInput.npy\")\n",
    "\n",
    "Y_Train_MobileNet_ClassInput=np.load(\"/content/drive/MyDrive/Capstone/Pickled_Info/Y_Train_MobileNet_ClassInput.npy\")\n",
    "\n",
    "Y_Test_MobileNet_BoxInput=np.load(\"/content/drive/MyDrive/Capstone/Pickled_Info/Y_Test_MobileNet_BoxInput.npy\")\n",
    "\n",
    "Y_Test_MobileNet_ClassInput=np.load(\"/content/drive/MyDrive/Capstone/Pickled_Info/Y_Test_MobileNet_ClassInput.npy\")\n"
   ]
  },
  {
   "cell_type": "code",
   "execution_count": null,
   "metadata": {
    "id": "SOcpNAHnNqj3"
   },
   "outputs": [],
   "source": [
    "from tensorflow.keras import layers\n",
    "\n",
    "def build_model(num_classes=196,IMG_SIZE=224):\n",
    "  inputs = layers.Input(shape=(IMG_SIZE, IMG_SIZE, 3))\n",
    "  model = tf.keras.applications.efficientnet.EfficientNetB3(include_top=False, input_tensor=inputs, weights=\"imagenet\")\n",
    "\n",
    "  # Freeze the pretrained weights\n",
    "  model.trainable = False\n",
    "\n",
    "  # Rebuild top\n",
    "  x = layers.GlobalAveragePooling2D(name=\"avg_pool\")(model.output)\n",
    "  x = layers.BatchNormalization()(x)\n",
    "\n",
    "  top_dropout_rate = 0.5\n",
    "  x = layers.Dropout(top_dropout_rate, name=\"top_dropout\")(x)\n",
    "  classPredicModel = layers.Dense(num_classes, activation=\"softmax\", name=\"class_output\")(x)\n",
    "\n",
    "  # Add new top layer for Regression Head\n",
    "  boxPredicModel = (model.output)\n",
    "  boxPredicModel = Flatten()(boxPredicModel)\n",
    "  boxPredicModel = Dense(units=4, name=\"box_output\")(boxPredicModel) # These are the 4 predicted coordinates of one BBox\n",
    "\n",
    "\n",
    "  # Compile\n",
    "  #return tf.keras.Model(inputs, outputs, name=\"EfficientNet\")\n",
    "  return Model(inputs=inputs, outputs=[boxPredicModel,classPredicModel])"
   ]
  },
  {
   "cell_type": "code",
   "execution_count": null,
   "metadata": {
    "id": "Q4ymT0H826Yq"
   },
   "outputs": [],
   "source": [
    "# Define evaluation metric\n",
    "\n",
    "def IOU(y_true, y_pred):\n",
    "    intersections = 0\n",
    "    unions = 0\n",
    "    gt = y_true\n",
    "    pred = y_pred\n",
    "    # Compute interection of predicted (pred) and ground truth (gt) bounding boxes\n",
    "    diff_width = np.minimum(gt[:,0] + gt[:,2], pred[:,0] + pred[:,2]) - np.maximum(gt[:,0], pred[:,0])\n",
    "    diff_height = np.minimum(gt[:,1] + gt[:,3], pred[:,1] + pred[:,3]) - np.maximum(gt[:,1], pred[:,1])\n",
    "    intersection = diff_width * diff_height\n",
    "\n",
    "    # Compute union\n",
    "    area_gt = gt[:,2] * gt[:,3]\n",
    "    area_pred = pred[:,2] * pred[:,3]\n",
    "    union = area_gt + area_pred - intersection\n",
    "    # rk - again to repeat we know why he has minues , taken 2 times \n",
    "\n",
    "    # Compute intersection and union over multiple boxes\n",
    "    for j, _ in enumerate(union):\n",
    "      if union[j] > 0 and intersection[j] > 0 and union[j] >= intersection[j]:\n",
    "        intersections += intersection[j]\n",
    "        unions += union[j]\n",
    "\n",
    "    # Compute IOU. Use epsilon to prevent division by zero\n",
    "    iou = np.round(intersections / (unions + tensorflow.keras.backend.epsilon()), 4)# rounded to 4 \n",
    "    # This must match the type used in py_func\n",
    "    iou = iou.astype(np.float32)\n",
    "    return iou\n",
    "    # this is one number for the whole model"
   ]
  },
  {
   "cell_type": "code",
   "execution_count": null,
   "metadata": {
    "colab": {
     "background_save": true,
     "base_uri": "https://localhost:8080/"
    },
    "id": "PC0yN1LqNqhb",
    "outputId": "3d8c711a-836a-4ba3-f82b-078df1bdd885"
   },
   "outputs": [
    {
     "name": "stdout",
     "output_type": "stream",
     "text": [
      "Downloading data from https://storage.googleapis.com/keras-applications/efficientnetb3_notop.h5\n",
      "43941888/43941136 [==============================] - 1s 0us/step\n",
      "43950080/43941136 [==============================] - 1s 0us/step\n",
      "Epoch 1/5\n",
      "203/203 [==============================] - 4286s 21s/step - loss: 7.0366 - accuracy: 0.0455 - val_loss: 3.9867 - val_accuracy: 0.1659\n",
      "Epoch 2/5\n",
      "203/203 [==============================] - 94s 463ms/step - loss: 6.5954 - accuracy: 0.0899 - val_loss: 3.5208 - val_accuracy: 0.1925\n",
      "Epoch 3/5\n",
      "203/203 [==============================] - 94s 461ms/step - loss: 4.3707 - accuracy: 0.1387 - val_loss: 2.9400 - val_accuracy: 0.3023\n",
      "Epoch 4/5\n",
      "203/203 [==============================] - 93s 458ms/step - loss: 3.8796 - accuracy: 0.1948 - val_loss: 2.6402 - val_accuracy: 0.3732\n",
      "Epoch 5/5\n",
      "203/203 [==============================] - 94s 462ms/step - loss: 3.6949 - accuracy: 0.2225 - val_loss: 2.6061 - val_accuracy: 0.3689\n"
     ]
    }
   ],
   "source": [
    "from functools import partial\n",
    "INIT_LR=0.001\n",
    "MAX_LR=0.1\n",
    "\n",
    "steps_per_epoch = len(train_ds)\n",
    "clr = tfa.optimizers.CyclicalLearningRate(initial_learning_rate=INIT_LR,\n",
    "                                          maximal_learning_rate=MAX_LR,\n",
    "                                          scale_fn=lambda x: 1/(2.**(x-1)),\n",
    "                                          step_size=2 * steps_per_epoch\n",
    "                                          )\n",
    "\n",
    "\n",
    "optimizer = partial(SGD, momentum=0.9, nesterov=True)(clr)\n",
    "optimizer = tfa.optimizers.SWA(optimizer)\n",
    "\n",
    "model = build_model(num_classes=196,IMG_SIZE=224) \n",
    "model.compile(optimizer=optimizer, loss=\"categorical_crossentropy\", metrics=[\"accuracy\"])\n",
    "epochs = 5 \n",
    "\n",
    "\n",
    "hist = model.fit(train_ds, epochs=epochs, validation_data=val_ds, verbose=1)"
   ]
  },
  {
   "cell_type": "code",
   "execution_count": null,
   "metadata": {
    "id": "pc7fKkBeMHGl"
   },
   "outputs": [],
   "source": [
    "#STOP"
   ]
  },
  {
   "cell_type": "code",
   "execution_count": null,
   "metadata": {
    "id": "wj-KnhRSrDGz"
   },
   "outputs": [],
   "source": [
    "checkpoint_path = \"./cp-{iter:05d}.ckpt\"\n",
    "checkpoint_dir = os.path.dirname(checkpoint_path)\n",
    "model.save_weights(checkpoint_path)"
   ]
  },
  {
   "cell_type": "code",
   "execution_count": null,
   "metadata": {
    "colab": {
     "base_uri": "https://localhost:8080/"
    },
    "id": "9QzQbw6K-OeT",
    "outputId": "c910845e-f626-4f75-92f2-9e6882906c3f"
   },
   "outputs": [
    {
     "name": "stdout",
     "output_type": "stream",
     "text": [
      "51/51 [==============================] - 16s 305ms/step - loss: 2.6365 - accuracy: 0.3590\n"
     ]
    },
    {
     "data": {
      "text/plain": [
       "[2.6364901065826416, 0.3590376377105713]"
      ]
     },
     "execution_count": 35,
     "metadata": {},
     "output_type": "execute_result"
    }
   ],
   "source": [
    "model.evaluate(val_ds)"
   ]
  },
  {
   "cell_type": "code",
   "execution_count": null,
   "metadata": {
    "colab": {
     "base_uri": "https://localhost:8080/"
    },
    "id": "933Mp53pqIE6",
    "outputId": "f43d29be-e73a-4915-be21-131b8b0537eb"
   },
   "outputs": [
    {
     "name": "stdout",
     "output_type": "stream",
     "text": [
      "Found 6482 validated image filenames belonging to 196 classes.\n",
      "Found 1621 validated image filenames belonging to 196 classes.\n"
     ]
    },
    {
     "data": {
      "text/plain": [
       "<tensorflow.python.training.tracking.util.CheckpointLoadStatus at 0x7fead3ef2210>"
      ]
     },
     "execution_count": 36,
     "metadata": {},
     "output_type": "execute_result"
    },
    {
     "name": "stdout",
     "output_type": "stream",
     "text": [
      "Epoch 1/5\n",
      "203/203 [==============================] - 107s 476ms/step - loss: 3.6363 - accuracy: 0.2248 - val_loss: 2.4838 - val_accuracy: 0.3794\n",
      "Epoch 2/5\n",
      "203/203 [==============================] - 93s 460ms/step - loss: 3.6114 - accuracy: 0.2325 - val_loss: 2.2868 - val_accuracy: 0.4300\n",
      "Epoch 3/5\n",
      "203/203 [==============================] - 93s 460ms/step - loss: 3.3603 - accuracy: 0.2757 - val_loss: 2.1697 - val_accuracy: 0.4695\n",
      "Epoch 4/5\n",
      "203/203 [==============================] - 94s 462ms/step - loss: 3.2649 - accuracy: 0.2988 - val_loss: 2.1456 - val_accuracy: 0.4744\n",
      "Epoch 5/5\n",
      "203/203 [==============================] - 93s 460ms/step - loss: 3.2880 - accuracy: 0.2959 - val_loss: 2.1441 - val_accuracy: 0.4565\n"
     ]
    },
    {
     "data": {
      "text/plain": [
       "<keras.callbacks.History at 0x7fead3fe6750>"
      ]
     },
     "execution_count": 36,
     "metadata": {},
     "output_type": "execute_result"
    }
   ],
   "source": [
    "IMG_SIZE = 300\n",
    "#IMG_SIZE = 128\n",
    "\n",
    "train_ds = train_img_datagen.flow_from_dataframe(\n",
    "        dataframe=train_df,\n",
    "        directory=train_data_dir,\n",
    "        x_col=\"file_path\",\n",
    "        y_col=\"label\",\n",
    "        target_size=(IMG_SIZE, IMG_SIZE),\n",
    "        batch_size=BATCH_SIZE,\n",
    "        class_mode='categorical',\n",
    "        classes=all_classes\n",
    "        )\n",
    "\n",
    "val_ds = val_datagen.flow_from_dataframe(\n",
    "        dataframe=valid_df,\n",
    "        directory=train_data_dir,\n",
    "        x_col=\"file_path\",\n",
    "        y_col=\"label\",\n",
    "        target_size=(IMG_SIZE, IMG_SIZE),\n",
    "        batch_size=BATCH_SIZE,\n",
    "        class_mode='categorical',\n",
    "        classes=all_classes\n",
    "        )\n",
    "\n",
    "model = build_model(num_classes=196,IMG_SIZE=IMG_SIZE)\n",
    "model.load_weights(checkpoint_path)\n",
    "\n",
    "optimizer = partial(SGD, momentum=0.9, nesterov=True)(clr)\n",
    "optimizer = tfa.optimizers.SWA(optimizer)\n",
    "model.compile(optimizer=optimizer, loss=\"categorical_crossentropy\", metrics=[\"accuracy\"])\n",
    "\n",
    "model.fit(train_ds, epochs=epochs, validation_data=val_ds, verbose=1)"
   ]
  },
  {
   "cell_type": "code",
   "execution_count": null,
   "metadata": {
    "id": "JfczBaEvqIB1"
   },
   "outputs": [],
   "source": [
    "checkpoint_path = \"./cp-{iter:04d}.ckpt\"\n",
    "checkpoint_dir = os.path.dirname(checkpoint_path)\n",
    "model.save_weights(checkpoint_path)"
   ]
  },
  {
   "cell_type": "code",
   "execution_count": null,
   "metadata": {
    "colab": {
     "base_uri": "https://localhost:8080/"
    },
    "id": "Zolw22pH9PuZ",
    "outputId": "c039ac9a-df17-4fb4-e5f2-feaf01943ec7"
   },
   "outputs": [
    {
     "data": {
      "text/plain": [
       "<tensorflow.python.training.tracking.util.CheckpointLoadStatus at 0x7fead385cd10>"
      ]
     },
     "execution_count": 38,
     "metadata": {},
     "output_type": "execute_result"
    },
    {
     "name": "stdout",
     "output_type": "stream",
     "text": [
      "Epoch 1/5\n",
      "203/203 [==============================] - 106s 470ms/step - loss: 3.1655 - accuracy: 0.3206 - val_loss: 1.9325 - val_accuracy: 0.5009\n",
      "Epoch 2/5\n",
      "203/203 [==============================] - 93s 455ms/step - loss: 2.9964 - accuracy: 0.3521 - val_loss: 1.8029 - val_accuracy: 0.5219\n",
      "Epoch 3/5\n",
      "203/203 [==============================] - 92s 456ms/step - loss: 2.8416 - accuracy: 0.3750 - val_loss: 1.6791 - val_accuracy: 0.5534\n",
      "Epoch 4/5\n",
      "203/203 [==============================] - 93s 459ms/step - loss: 2.7953 - accuracy: 0.3940 - val_loss: 1.6289 - val_accuracy: 0.5688\n",
      "Epoch 5/5\n",
      "203/203 [==============================] - 93s 456ms/step - loss: 2.6786 - accuracy: 0.4138 - val_loss: 1.5351 - val_accuracy: 0.5867\n"
     ]
    },
    {
     "data": {
      "text/plain": [
       "<keras.callbacks.History at 0x7fead3e231d0>"
      ]
     },
     "execution_count": 38,
     "metadata": {},
     "output_type": "execute_result"
    }
   ],
   "source": [
    "for layer in model.layers[-20:]:\n",
    "  if not isinstance(layer, layers.BatchNormalization):\n",
    "    layer.trainable = True\n",
    "\n",
    "INIT_LR=0.001\n",
    "MAX_LR=0.1\n",
    "\n",
    "steps_per_epoch = len(train_ds)\n",
    "clr = tfa.optimizers.CyclicalLearningRate(initial_learning_rate=INIT_LR,\n",
    "                                          maximal_learning_rate=MAX_LR,\n",
    "                                          scale_fn=lambda x: 1/(2.**(x-1)),\n",
    "                                          step_size=2 * steps_per_epoch\n",
    "                                          )\n",
    "\n",
    "model.load_weights(checkpoint_path)\n",
    "\n",
    "model.compile(optimizer=tfa.optimizers.LAMB(), loss=\"categorical_crossentropy\", metrics=[\"accuracy\"])\n",
    "\n",
    "\n",
    "epochs = 5  \n",
    "model.fit(train_ds, epochs=epochs, validation_data=val_ds, verbose=1)"
   ]
  },
  {
   "cell_type": "code",
   "execution_count": null,
   "metadata": {
    "id": "JiyLaDw79Pr_"
   },
   "outputs": [],
   "source": [
    "#model.save_weights(checkpoint_path.format(iter=3))"
   ]
  },
  {
   "cell_type": "code",
   "execution_count": null,
   "metadata": {
    "colab": {
     "base_uri": "https://localhost:8080/",
     "height": 1000
    },
    "id": "-ZnZHWozRdnl",
    "outputId": "99a034ee-9b9a-424a-b515-443cf0c0677f"
   },
   "outputs": [
    {
     "name": "stdout",
     "output_type": "stream",
     "text": [
      "Epoch 1/30\n",
      "203/203 [==============================] - 92s 455ms/step - loss: 2.6265 - accuracy: 0.4367 - val_loss: 1.4927 - val_accuracy: 0.5978\n",
      "Epoch 2/30\n",
      "203/203 [==============================] - 92s 455ms/step - loss: 2.5434 - accuracy: 0.4482 - val_loss: 1.4620 - val_accuracy: 0.6070\n",
      "Epoch 3/30\n",
      "203/203 [==============================] - 92s 453ms/step - loss: 2.4664 - accuracy: 0.4639 - val_loss: 1.3986 - val_accuracy: 0.6157\n",
      "Epoch 4/30\n",
      "203/203 [==============================] - 92s 453ms/step - loss: 2.4572 - accuracy: 0.4776 - val_loss: 1.3541 - val_accuracy: 0.6218\n",
      "Epoch 5/30\n",
      "203/203 [==============================] - 92s 452ms/step - loss: 2.4075 - accuracy: 0.4853 - val_loss: 1.3521 - val_accuracy: 0.6360\n",
      "Epoch 6/30\n",
      "203/203 [==============================] - 91s 450ms/step - loss: 2.3230 - accuracy: 0.5060 - val_loss: 1.2958 - val_accuracy: 0.6447\n",
      "Epoch 7/30\n",
      "203/203 [==============================] - 92s 451ms/step - loss: 2.2488 - accuracy: 0.5148 - val_loss: 1.2717 - val_accuracy: 0.6558\n",
      "Epoch 8/30\n",
      "203/203 [==============================] - 92s 451ms/step - loss: 2.2042 - accuracy: 0.5309 - val_loss: 1.2880 - val_accuracy: 0.6459\n",
      "Epoch 9/30\n",
      "203/203 [==============================] - 92s 454ms/step - loss: 2.2805 - accuracy: 0.5225 - val_loss: 1.2476 - val_accuracy: 0.6582\n",
      "Epoch 10/30\n",
      "203/203 [==============================] - 92s 453ms/step - loss: 2.2155 - accuracy: 0.5398 - val_loss: 1.2392 - val_accuracy: 0.6539\n",
      "Epoch 11/30\n",
      "203/203 [==============================] - 92s 454ms/step - loss: 2.1224 - accuracy: 0.5504 - val_loss: 1.2451 - val_accuracy: 0.6626\n",
      "Epoch 12/30\n",
      "203/203 [==============================] - 92s 455ms/step - loss: 2.1009 - accuracy: 0.5648 - val_loss: 1.2225 - val_accuracy: 0.6558\n",
      "Epoch 13/30\n",
      "203/203 [==============================] - 92s 454ms/step - loss: 2.1425 - accuracy: 0.5557 - val_loss: 1.2182 - val_accuracy: 0.6607\n",
      "Epoch 14/30\n",
      "203/203 [==============================] - 92s 454ms/step - loss: 2.0814 - accuracy: 0.5646 - val_loss: 1.1881 - val_accuracy: 0.6687\n",
      "Epoch 15/30\n",
      "203/203 [==============================] - 92s 454ms/step - loss: 2.0435 - accuracy: 0.5751 - val_loss: 1.1651 - val_accuracy: 0.6811\n",
      "Epoch 16/30\n",
      "203/203 [==============================] - 92s 454ms/step - loss: 2.0234 - accuracy: 0.5781 - val_loss: 1.1356 - val_accuracy: 0.6897\n",
      "Epoch 17/30\n",
      "203/203 [==============================] - 92s 455ms/step - loss: 2.0026 - accuracy: 0.5828 - val_loss: 1.1521 - val_accuracy: 0.6897\n",
      "Epoch 18/30\n",
      "203/203 [==============================] - 92s 452ms/step - loss: 1.9192 - accuracy: 0.5997 - val_loss: 1.1386 - val_accuracy: 0.6903\n",
      "Epoch 19/30\n",
      "203/203 [==============================] - 92s 453ms/step - loss: 1.9467 - accuracy: 0.5983 - val_loss: 1.1381 - val_accuracy: 0.6903\n",
      "Epoch 20/30\n",
      "203/203 [==============================] - 92s 454ms/step - loss: 1.9442 - accuracy: 0.5978 - val_loss: 1.1196 - val_accuracy: 0.6804\n",
      "Epoch 21/30\n",
      "203/203 [==============================] - 92s 453ms/step - loss: 1.9091 - accuracy: 0.6077 - val_loss: 1.1134 - val_accuracy: 0.6854\n",
      "Epoch 22/30\n",
      "203/203 [==============================] - 92s 453ms/step - loss: 1.8948 - accuracy: 0.6074 - val_loss: 1.1037 - val_accuracy: 0.6848\n",
      "Epoch 23/30\n",
      "203/203 [==============================] - 93s 457ms/step - loss: 1.8632 - accuracy: 0.6185 - val_loss: 1.1064 - val_accuracy: 0.6909\n",
      "Epoch 24/30\n",
      "203/203 [==============================] - 92s 455ms/step - loss: 1.8589 - accuracy: 0.6196 - val_loss: 1.0978 - val_accuracy: 0.6990\n",
      "Epoch 25/30\n",
      "203/203 [==============================] - 91s 450ms/step - loss: 1.8547 - accuracy: 0.6225 - val_loss: 1.1159 - val_accuracy: 0.6934\n",
      "Epoch 26/30\n",
      "203/203 [==============================] - 92s 454ms/step - loss: 1.8369 - accuracy: 0.6247 - val_loss: 1.0987 - val_accuracy: 0.7045\n",
      "Epoch 27/30\n",
      "203/203 [==============================] - 91s 450ms/step - loss: 1.8866 - accuracy: 0.6086 - val_loss: 1.0902 - val_accuracy: 0.6940\n",
      "Epoch 28/30\n",
      "203/203 [==============================] - 92s 453ms/step - loss: 1.9042 - accuracy: 0.6156 - val_loss: 1.0972 - val_accuracy: 0.7014\n",
      "Epoch 29/30\n",
      "170/203 [========================>.....] - ETA: 12s - loss: 1.8198 - accuracy: 0.6270"
     ]
    },
    {
     "ename": "KeyboardInterrupt",
     "evalue": "ignored",
     "output_type": "error",
     "traceback": [
      "\u001b[0;31m---------------------------------------------------------------------------\u001b[0m",
      "\u001b[0;31mKeyboardInterrupt\u001b[0m                         Traceback (most recent call last)",
      "\u001b[0;32m<ipython-input-40-83d86a8c7719>\u001b[0m in \u001b[0;36m<module>\u001b[0;34m()\u001b[0m\n\u001b[1;32m      1\u001b[0m \u001b[0mepochs\u001b[0m \u001b[0;34m=\u001b[0m \u001b[0;36m30\u001b[0m\u001b[0;34m\u001b[0m\u001b[0;34m\u001b[0m\u001b[0m\n\u001b[0;32m----> 2\u001b[0;31m \u001b[0mmodel\u001b[0m\u001b[0;34m.\u001b[0m\u001b[0mfit\u001b[0m\u001b[0;34m(\u001b[0m\u001b[0mtrain_ds\u001b[0m\u001b[0;34m,\u001b[0m \u001b[0mepochs\u001b[0m\u001b[0;34m=\u001b[0m\u001b[0mepochs\u001b[0m\u001b[0;34m,\u001b[0m \u001b[0mvalidation_data\u001b[0m\u001b[0;34m=\u001b[0m\u001b[0mval_ds\u001b[0m\u001b[0;34m,\u001b[0m \u001b[0mverbose\u001b[0m\u001b[0;34m=\u001b[0m\u001b[0;36m1\u001b[0m\u001b[0;34m)\u001b[0m\u001b[0;34m\u001b[0m\u001b[0;34m\u001b[0m\u001b[0m\n\u001b[0m",
      "\u001b[0;32m/usr/local/lib/python3.7/dist-packages/keras/utils/traceback_utils.py\u001b[0m in \u001b[0;36merror_handler\u001b[0;34m(*args, **kwargs)\u001b[0m\n\u001b[1;32m     62\u001b[0m     \u001b[0mfiltered_tb\u001b[0m \u001b[0;34m=\u001b[0m \u001b[0;32mNone\u001b[0m\u001b[0;34m\u001b[0m\u001b[0;34m\u001b[0m\u001b[0m\n\u001b[1;32m     63\u001b[0m     \u001b[0;32mtry\u001b[0m\u001b[0;34m:\u001b[0m\u001b[0;34m\u001b[0m\u001b[0;34m\u001b[0m\u001b[0m\n\u001b[0;32m---> 64\u001b[0;31m       \u001b[0;32mreturn\u001b[0m \u001b[0mfn\u001b[0m\u001b[0;34m(\u001b[0m\u001b[0;34m*\u001b[0m\u001b[0margs\u001b[0m\u001b[0;34m,\u001b[0m \u001b[0;34m**\u001b[0m\u001b[0mkwargs\u001b[0m\u001b[0;34m)\u001b[0m\u001b[0;34m\u001b[0m\u001b[0;34m\u001b[0m\u001b[0m\n\u001b[0m\u001b[1;32m     65\u001b[0m     \u001b[0;32mexcept\u001b[0m \u001b[0mException\u001b[0m \u001b[0;32mas\u001b[0m \u001b[0me\u001b[0m\u001b[0;34m:\u001b[0m  \u001b[0;31m# pylint: disable=broad-except\u001b[0m\u001b[0;34m\u001b[0m\u001b[0;34m\u001b[0m\u001b[0m\n\u001b[1;32m     66\u001b[0m       \u001b[0mfiltered_tb\u001b[0m \u001b[0;34m=\u001b[0m \u001b[0m_process_traceback_frames\u001b[0m\u001b[0;34m(\u001b[0m\u001b[0me\u001b[0m\u001b[0;34m.\u001b[0m\u001b[0m__traceback__\u001b[0m\u001b[0;34m)\u001b[0m\u001b[0;34m\u001b[0m\u001b[0;34m\u001b[0m\u001b[0m\n",
      "\u001b[0;32m/usr/local/lib/python3.7/dist-packages/keras/engine/training.py\u001b[0m in \u001b[0;36mfit\u001b[0;34m(self, x, y, batch_size, epochs, verbose, callbacks, validation_split, validation_data, shuffle, class_weight, sample_weight, initial_epoch, steps_per_epoch, validation_steps, validation_batch_size, validation_freq, max_queue_size, workers, use_multiprocessing)\u001b[0m\n\u001b[1;32m   1382\u001b[0m                 _r=1):\n\u001b[1;32m   1383\u001b[0m               \u001b[0mcallbacks\u001b[0m\u001b[0;34m.\u001b[0m\u001b[0mon_train_batch_begin\u001b[0m\u001b[0;34m(\u001b[0m\u001b[0mstep\u001b[0m\u001b[0;34m)\u001b[0m\u001b[0;34m\u001b[0m\u001b[0;34m\u001b[0m\u001b[0m\n\u001b[0;32m-> 1384\u001b[0;31m               \u001b[0mtmp_logs\u001b[0m \u001b[0;34m=\u001b[0m \u001b[0mself\u001b[0m\u001b[0;34m.\u001b[0m\u001b[0mtrain_function\u001b[0m\u001b[0;34m(\u001b[0m\u001b[0miterator\u001b[0m\u001b[0;34m)\u001b[0m\u001b[0;34m\u001b[0m\u001b[0;34m\u001b[0m\u001b[0m\n\u001b[0m\u001b[1;32m   1385\u001b[0m               \u001b[0;32mif\u001b[0m \u001b[0mdata_handler\u001b[0m\u001b[0;34m.\u001b[0m\u001b[0mshould_sync\u001b[0m\u001b[0;34m:\u001b[0m\u001b[0;34m\u001b[0m\u001b[0;34m\u001b[0m\u001b[0m\n\u001b[1;32m   1386\u001b[0m                 \u001b[0mcontext\u001b[0m\u001b[0;34m.\u001b[0m\u001b[0masync_wait\u001b[0m\u001b[0;34m(\u001b[0m\u001b[0;34m)\u001b[0m\u001b[0;34m\u001b[0m\u001b[0;34m\u001b[0m\u001b[0m\n",
      "\u001b[0;32m/usr/local/lib/python3.7/dist-packages/tensorflow/python/util/traceback_utils.py\u001b[0m in \u001b[0;36merror_handler\u001b[0;34m(*args, **kwargs)\u001b[0m\n\u001b[1;32m    148\u001b[0m     \u001b[0mfiltered_tb\u001b[0m \u001b[0;34m=\u001b[0m \u001b[0;32mNone\u001b[0m\u001b[0;34m\u001b[0m\u001b[0;34m\u001b[0m\u001b[0m\n\u001b[1;32m    149\u001b[0m     \u001b[0;32mtry\u001b[0m\u001b[0;34m:\u001b[0m\u001b[0;34m\u001b[0m\u001b[0;34m\u001b[0m\u001b[0m\n\u001b[0;32m--> 150\u001b[0;31m       \u001b[0;32mreturn\u001b[0m \u001b[0mfn\u001b[0m\u001b[0;34m(\u001b[0m\u001b[0;34m*\u001b[0m\u001b[0margs\u001b[0m\u001b[0;34m,\u001b[0m \u001b[0;34m**\u001b[0m\u001b[0mkwargs\u001b[0m\u001b[0;34m)\u001b[0m\u001b[0;34m\u001b[0m\u001b[0;34m\u001b[0m\u001b[0m\n\u001b[0m\u001b[1;32m    151\u001b[0m     \u001b[0;32mexcept\u001b[0m \u001b[0mException\u001b[0m \u001b[0;32mas\u001b[0m \u001b[0me\u001b[0m\u001b[0;34m:\u001b[0m\u001b[0;34m\u001b[0m\u001b[0;34m\u001b[0m\u001b[0m\n\u001b[1;32m    152\u001b[0m       \u001b[0mfiltered_tb\u001b[0m \u001b[0;34m=\u001b[0m \u001b[0m_process_traceback_frames\u001b[0m\u001b[0;34m(\u001b[0m\u001b[0me\u001b[0m\u001b[0;34m.\u001b[0m\u001b[0m__traceback__\u001b[0m\u001b[0;34m)\u001b[0m\u001b[0;34m\u001b[0m\u001b[0;34m\u001b[0m\u001b[0m\n",
      "\u001b[0;32m/usr/local/lib/python3.7/dist-packages/tensorflow/python/eager/def_function.py\u001b[0m in \u001b[0;36m__call__\u001b[0;34m(self, *args, **kwds)\u001b[0m\n\u001b[1;32m    913\u001b[0m \u001b[0;34m\u001b[0m\u001b[0m\n\u001b[1;32m    914\u001b[0m       \u001b[0;32mwith\u001b[0m \u001b[0mOptionalXlaContext\u001b[0m\u001b[0;34m(\u001b[0m\u001b[0mself\u001b[0m\u001b[0;34m.\u001b[0m\u001b[0m_jit_compile\u001b[0m\u001b[0;34m)\u001b[0m\u001b[0;34m:\u001b[0m\u001b[0;34m\u001b[0m\u001b[0;34m\u001b[0m\u001b[0m\n\u001b[0;32m--> 915\u001b[0;31m         \u001b[0mresult\u001b[0m \u001b[0;34m=\u001b[0m \u001b[0mself\u001b[0m\u001b[0;34m.\u001b[0m\u001b[0m_call\u001b[0m\u001b[0;34m(\u001b[0m\u001b[0;34m*\u001b[0m\u001b[0margs\u001b[0m\u001b[0;34m,\u001b[0m \u001b[0;34m**\u001b[0m\u001b[0mkwds\u001b[0m\u001b[0;34m)\u001b[0m\u001b[0;34m\u001b[0m\u001b[0;34m\u001b[0m\u001b[0m\n\u001b[0m\u001b[1;32m    916\u001b[0m \u001b[0;34m\u001b[0m\u001b[0m\n\u001b[1;32m    917\u001b[0m       \u001b[0mnew_tracing_count\u001b[0m \u001b[0;34m=\u001b[0m \u001b[0mself\u001b[0m\u001b[0;34m.\u001b[0m\u001b[0mexperimental_get_tracing_count\u001b[0m\u001b[0;34m(\u001b[0m\u001b[0;34m)\u001b[0m\u001b[0;34m\u001b[0m\u001b[0;34m\u001b[0m\u001b[0m\n",
      "\u001b[0;32m/usr/local/lib/python3.7/dist-packages/tensorflow/python/eager/def_function.py\u001b[0m in \u001b[0;36m_call\u001b[0;34m(self, *args, **kwds)\u001b[0m\n\u001b[1;32m    945\u001b[0m       \u001b[0;31m# In this case we have created variables on the first call, so we run the\u001b[0m\u001b[0;34m\u001b[0m\u001b[0;34m\u001b[0m\u001b[0;34m\u001b[0m\u001b[0m\n\u001b[1;32m    946\u001b[0m       \u001b[0;31m# defunned version which is guaranteed to never create variables.\u001b[0m\u001b[0;34m\u001b[0m\u001b[0;34m\u001b[0m\u001b[0;34m\u001b[0m\u001b[0m\n\u001b[0;32m--> 947\u001b[0;31m       \u001b[0;32mreturn\u001b[0m \u001b[0mself\u001b[0m\u001b[0;34m.\u001b[0m\u001b[0m_stateless_fn\u001b[0m\u001b[0;34m(\u001b[0m\u001b[0;34m*\u001b[0m\u001b[0margs\u001b[0m\u001b[0;34m,\u001b[0m \u001b[0;34m**\u001b[0m\u001b[0mkwds\u001b[0m\u001b[0;34m)\u001b[0m  \u001b[0;31m# pylint: disable=not-callable\u001b[0m\u001b[0;34m\u001b[0m\u001b[0;34m\u001b[0m\u001b[0m\n\u001b[0m\u001b[1;32m    948\u001b[0m     \u001b[0;32melif\u001b[0m \u001b[0mself\u001b[0m\u001b[0;34m.\u001b[0m\u001b[0m_stateful_fn\u001b[0m \u001b[0;32mis\u001b[0m \u001b[0;32mnot\u001b[0m \u001b[0;32mNone\u001b[0m\u001b[0;34m:\u001b[0m\u001b[0;34m\u001b[0m\u001b[0;34m\u001b[0m\u001b[0m\n\u001b[1;32m    949\u001b[0m       \u001b[0;31m# Release the lock early so that multiple threads can perform the call\u001b[0m\u001b[0;34m\u001b[0m\u001b[0;34m\u001b[0m\u001b[0;34m\u001b[0m\u001b[0m\n",
      "\u001b[0;32m/usr/local/lib/python3.7/dist-packages/tensorflow/python/eager/function.py\u001b[0m in \u001b[0;36m__call__\u001b[0;34m(self, *args, **kwargs)\u001b[0m\n\u001b[1;32m   2955\u001b[0m        filtered_flat_args) = self._maybe_define_function(args, kwargs)\n\u001b[1;32m   2956\u001b[0m     return graph_function._call_flat(\n\u001b[0;32m-> 2957\u001b[0;31m         filtered_flat_args, captured_inputs=graph_function.captured_inputs)  # pylint: disable=protected-access\n\u001b[0m\u001b[1;32m   2958\u001b[0m \u001b[0;34m\u001b[0m\u001b[0m\n\u001b[1;32m   2959\u001b[0m   \u001b[0;34m@\u001b[0m\u001b[0mproperty\u001b[0m\u001b[0;34m\u001b[0m\u001b[0;34m\u001b[0m\u001b[0m\n",
      "\u001b[0;32m/usr/local/lib/python3.7/dist-packages/tensorflow/python/eager/function.py\u001b[0m in \u001b[0;36m_call_flat\u001b[0;34m(self, args, captured_inputs, cancellation_manager)\u001b[0m\n\u001b[1;32m   1852\u001b[0m       \u001b[0;31m# No tape is watching; skip to running the function.\u001b[0m\u001b[0;34m\u001b[0m\u001b[0;34m\u001b[0m\u001b[0;34m\u001b[0m\u001b[0m\n\u001b[1;32m   1853\u001b[0m       return self._build_call_outputs(self._inference_function.call(\n\u001b[0;32m-> 1854\u001b[0;31m           ctx, args, cancellation_manager=cancellation_manager))\n\u001b[0m\u001b[1;32m   1855\u001b[0m     forward_backward = self._select_forward_and_backward_functions(\n\u001b[1;32m   1856\u001b[0m         \u001b[0margs\u001b[0m\u001b[0;34m,\u001b[0m\u001b[0;34m\u001b[0m\u001b[0;34m\u001b[0m\u001b[0m\n",
      "\u001b[0;32m/usr/local/lib/python3.7/dist-packages/tensorflow/python/eager/function.py\u001b[0m in \u001b[0;36mcall\u001b[0;34m(self, ctx, args, cancellation_manager)\u001b[0m\n\u001b[1;32m    502\u001b[0m               \u001b[0minputs\u001b[0m\u001b[0;34m=\u001b[0m\u001b[0margs\u001b[0m\u001b[0;34m,\u001b[0m\u001b[0;34m\u001b[0m\u001b[0;34m\u001b[0m\u001b[0m\n\u001b[1;32m    503\u001b[0m               \u001b[0mattrs\u001b[0m\u001b[0;34m=\u001b[0m\u001b[0mattrs\u001b[0m\u001b[0;34m,\u001b[0m\u001b[0;34m\u001b[0m\u001b[0;34m\u001b[0m\u001b[0m\n\u001b[0;32m--> 504\u001b[0;31m               ctx=ctx)\n\u001b[0m\u001b[1;32m    505\u001b[0m         \u001b[0;32melse\u001b[0m\u001b[0;34m:\u001b[0m\u001b[0;34m\u001b[0m\u001b[0;34m\u001b[0m\u001b[0m\n\u001b[1;32m    506\u001b[0m           outputs = execute.execute_with_cancellation(\n",
      "\u001b[0;32m/usr/local/lib/python3.7/dist-packages/tensorflow/python/eager/execute.py\u001b[0m in \u001b[0;36mquick_execute\u001b[0;34m(op_name, num_outputs, inputs, attrs, ctx, name)\u001b[0m\n\u001b[1;32m     53\u001b[0m     \u001b[0mctx\u001b[0m\u001b[0;34m.\u001b[0m\u001b[0mensure_initialized\u001b[0m\u001b[0;34m(\u001b[0m\u001b[0;34m)\u001b[0m\u001b[0;34m\u001b[0m\u001b[0;34m\u001b[0m\u001b[0m\n\u001b[1;32m     54\u001b[0m     tensors = pywrap_tfe.TFE_Py_Execute(ctx._handle, device_name, op_name,\n\u001b[0;32m---> 55\u001b[0;31m                                         inputs, attrs, num_outputs)\n\u001b[0m\u001b[1;32m     56\u001b[0m   \u001b[0;32mexcept\u001b[0m \u001b[0mcore\u001b[0m\u001b[0;34m.\u001b[0m\u001b[0m_NotOkStatusException\u001b[0m \u001b[0;32mas\u001b[0m \u001b[0me\u001b[0m\u001b[0;34m:\u001b[0m\u001b[0;34m\u001b[0m\u001b[0;34m\u001b[0m\u001b[0m\n\u001b[1;32m     57\u001b[0m     \u001b[0;32mif\u001b[0m \u001b[0mname\u001b[0m \u001b[0;32mis\u001b[0m \u001b[0;32mnot\u001b[0m \u001b[0;32mNone\u001b[0m\u001b[0;34m:\u001b[0m\u001b[0;34m\u001b[0m\u001b[0;34m\u001b[0m\u001b[0m\n",
      "\u001b[0;31mKeyboardInterrupt\u001b[0m: "
     ]
    }
   ],
   "source": [
    "epochs = 30\n",
    "model.fit(train_ds, epochs=epochs, validation_data=val_ds, verbose=1)"
   ]
  },
  {
   "cell_type": "code",
   "execution_count": null,
   "metadata": {
    "id": "tELgMGc8cwEE"
   },
   "outputs": [],
   "source": [
    "#model.load_weights(checkpoint_path)"
   ]
  },
  {
   "cell_type": "code",
   "execution_count": null,
   "metadata": {
    "id": "NHR7z8O6pv9y"
   },
   "outputs": [],
   "source": [
    "checkpoint_path = \"./cp-{iter:04d}.ckpt\"\n",
    "#checkpoint_dir = os.path.dirname()\n",
    "model.save_weights(checkpoint_path.format(iter=2))"
   ]
  },
  {
   "cell_type": "code",
   "execution_count": null,
   "metadata": {
    "colab": {
     "base_uri": "https://localhost:8080/"
    },
    "id": "mKIUNzWKqt1q",
    "outputId": "6b357e84-1e77-471b-d748-44ba7c670d5f"
   },
   "outputs": [
    {
     "name": "stdout",
     "output_type": "stream",
     "text": [
      "checkpoint\t\t\t\tcp-{iter:26d}.ckpt.data-00000-of-00001\n",
      "cp-0002.ckpt.data-00000-of-00001\tcp-{iter:26d}.ckpt.index\n",
      "cp-0002.ckpt.index\t\t\tdrive\n",
      "cp-{iter:05d}.ckpt.data-00000-of-00001\tsample_data\n",
      "cp-{iter:05d}.ckpt.index\n"
     ]
    }
   ],
   "source": [
    "!ls"
   ]
  },
  {
   "cell_type": "code",
   "execution_count": null,
   "metadata": {
    "colab": {
     "base_uri": "https://localhost:8080/"
    },
    "id": "0Buz-Z8SdCFr",
    "outputId": "db6c529d-b80a-4ff9-fb85-172f5b577361"
   },
   "outputs": [
    {
     "data": {
      "text/plain": [
       "<tensorflow.python.training.tracking.util.CheckpointLoadStatus at 0x7fead3366dd0>"
      ]
     },
     "execution_count": 51,
     "metadata": {},
     "output_type": "execute_result"
    }
   ],
   "source": [
    "model.load_weights(checkpoint_path.format(iter=2))"
   ]
  },
  {
   "cell_type": "code",
   "execution_count": null,
   "metadata": {
    "colab": {
     "base_uri": "https://localhost:8080/"
    },
    "id": "VGp36xjRVwTa",
    "outputId": "ceddfe26-fb3e-4e2f-f2c6-4081a50364c5"
   },
   "outputs": [
    {
     "name": "stdout",
     "output_type": "stream",
     "text": [
      "51/51 [==============================] - 17s 321ms/step - loss: 1.0948 - accuracy: 0.6915\n"
     ]
    },
    {
     "data": {
      "text/plain": [
       "[1.094820499420166, 0.6915484070777893]"
      ]
     },
     "execution_count": 52,
     "metadata": {},
     "output_type": "execute_result"
    }
   ],
   "source": [
    "model.evaluate(val_ds)"
   ]
  },
  {
   "cell_type": "code",
   "execution_count": null,
   "metadata": {
    "id": "I2pyDx6YfHqV"
   },
   "outputs": [],
   "source": [
    "model.save_weights('/content/drive/MyDrive/Capstone_Final/PickledData/classification_best_weights.h5')"
   ]
  },
  {
   "cell_type": "code",
   "execution_count": null,
   "metadata": {
    "id": "h6s6BsnYhOPe"
   },
   "outputs": [],
   "source": [
    "model.save('/content/drive/MyDrive/Capstone_Final/PickledData/ClassficationModel.h5')"
   ]
  },
  {
   "cell_type": "code",
   "execution_count": null,
   "metadata": {
    "id": "gYs8EZwhs-D6"
   },
   "outputs": [],
   "source": [
    "### Results with 128* 128 , many epochs -> only reached .37"
   ]
  },
  {
   "cell_type": "code",
   "execution_count": null,
   "metadata": {
    "colab": {
     "base_uri": "https://localhost:8080/"
    },
    "id": "nzuNYlfCsZEx",
    "outputId": "e56ce636-7b5e-4131-fedf-8753ff4c7ce4"
   },
   "outputs": [
    {
     "name": "stdout",
     "output_type": "stream",
     "text": [
      "Epoch 1/3\n",
      "41/41 [==============================] - 28s 549ms/step - loss: 5.9225 - accuracy: 0.0023 - val_loss: 1.1420 - val_accuracy: 0.6866\n",
      "Epoch 2/3\n",
      "41/41 [==============================] - 22s 544ms/step - loss: 5.7752 - accuracy: 0.0069 - val_loss: 1.1939 - val_accuracy: 0.6841\n",
      "Epoch 3/3\n",
      "41/41 [==============================] - 22s 551ms/step - loss: 5.6993 - accuracy: 0.0038 - val_loss: 1.3101 - val_accuracy: 0.6841\n"
     ]
    },
    {
     "data": {
      "text/plain": [
       "<keras.callbacks.History at 0x7fead00e3b10>"
      ]
     },
     "execution_count": 57,
     "metadata": {},
     "output_type": "execute_result"
    }
   ],
   "source": [
    "epochs = 3\n",
    "model.fit(X_Train_MobileNet,Y_Train_MobileNet_ClassInput, epochs=epochs, validation_data=(X_Test_MobileNet,Y_Test_MobileNet_ClassInput), verbose=1)"
   ]
  },
  {
   "cell_type": "markdown",
   "metadata": {
    "id": "i1q_higstOZF"
   },
   "source": []
  }
 ],
 "metadata": {
  "accelerator": "GPU",
  "colab": {
   "collapsed_sections": [],
   "machine_shape": "hm",
   "name": "Classification_FreezeWeights.ipynb",
   "provenance": []
  },
  "kernelspec": {
   "display_name": "Python 3 (ipykernel)",
   "language": "python",
   "name": "python3"
  },
  "language_info": {
   "codemirror_mode": {
    "name": "ipython",
    "version": 3
   },
   "file_extension": ".py",
   "mimetype": "text/x-python",
   "name": "python",
   "nbconvert_exporter": "python",
   "pygments_lexer": "ipython3",
   "version": "3.9.7"
  }
 },
 "nbformat": 4,
 "nbformat_minor": 1
}

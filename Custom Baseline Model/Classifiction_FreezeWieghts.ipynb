{
  "cells": [
    {
      "cell_type": "code",
      "execution_count": null,
      "metadata": {
        "colab": {
          "base_uri": "https://localhost:8080/"
        },
        "id": "hFsWf2o96oXP",
        "outputId": "82adad2e-1d52-46e0-b936-7daaeddc60c2"
      },
      "outputs": [
        {
          "name": "stdout",
          "output_type": "stream",
          "text": [
            "Collecting tensorflow-addons\n",
            "  Downloading tensorflow_addons-0.16.1-cp37-cp37m-manylinux_2_12_x86_64.manylinux2010_x86_64.whl (1.1 MB)\n",
            "\u001b[?25l\r\u001b[K     |▎                               | 10 kB 33.6 MB/s eta 0:00:01\r\u001b[K     |▋                               | 20 kB 39.6 MB/s eta 0:00:01\r\u001b[K     |▉                               | 30 kB 29.0 MB/s eta 0:00:01\r\u001b[K     |█▏                              | 40 kB 14.3 MB/s eta 0:00:01\r\u001b[K     |█▌                              | 51 kB 13.3 MB/s eta 0:00:01\r\u001b[K     |█▊                              | 61 kB 15.5 MB/s eta 0:00:01\r\u001b[K     |██                              | 71 kB 14.9 MB/s eta 0:00:01\r\u001b[K     |██▍                             | 81 kB 14.7 MB/s eta 0:00:01\r\u001b[K     |██▋                             | 92 kB 16.3 MB/s eta 0:00:01\r\u001b[K     |███                             | 102 kB 14.4 MB/s eta 0:00:01\r\u001b[K     |███▏                            | 112 kB 14.4 MB/s eta 0:00:01\r\u001b[K     |███▌                            | 122 kB 14.4 MB/s eta 0:00:01\r\u001b[K     |███▉                            | 133 kB 14.4 MB/s eta 0:00:01\r\u001b[K     |████                            | 143 kB 14.4 MB/s eta 0:00:01\r\u001b[K     |████▍                           | 153 kB 14.4 MB/s eta 0:00:01\r\u001b[K     |████▊                           | 163 kB 14.4 MB/s eta 0:00:01\r\u001b[K     |█████                           | 174 kB 14.4 MB/s eta 0:00:01\r\u001b[K     |█████▎                          | 184 kB 14.4 MB/s eta 0:00:01\r\u001b[K     |█████▌                          | 194 kB 14.4 MB/s eta 0:00:01\r\u001b[K     |█████▉                          | 204 kB 14.4 MB/s eta 0:00:01\r\u001b[K     |██████▏                         | 215 kB 14.4 MB/s eta 0:00:01\r\u001b[K     |██████▍                         | 225 kB 14.4 MB/s eta 0:00:01\r\u001b[K     |██████▊                         | 235 kB 14.4 MB/s eta 0:00:01\r\u001b[K     |███████                         | 245 kB 14.4 MB/s eta 0:00:01\r\u001b[K     |███████▎                        | 256 kB 14.4 MB/s eta 0:00:01\r\u001b[K     |███████▋                        | 266 kB 14.4 MB/s eta 0:00:01\r\u001b[K     |███████▉                        | 276 kB 14.4 MB/s eta 0:00:01\r\u001b[K     |████████▏                       | 286 kB 14.4 MB/s eta 0:00:01\r\u001b[K     |████████▌                       | 296 kB 14.4 MB/s eta 0:00:01\r\u001b[K     |████████▊                       | 307 kB 14.4 MB/s eta 0:00:01\r\u001b[K     |█████████                       | 317 kB 14.4 MB/s eta 0:00:01\r\u001b[K     |█████████▍                      | 327 kB 14.4 MB/s eta 0:00:01\r\u001b[K     |█████████▋                      | 337 kB 14.4 MB/s eta 0:00:01\r\u001b[K     |██████████                      | 348 kB 14.4 MB/s eta 0:00:01\r\u001b[K     |██████████▏                     | 358 kB 14.4 MB/s eta 0:00:01\r\u001b[K     |██████████▌                     | 368 kB 14.4 MB/s eta 0:00:01\r\u001b[K     |██████████▉                     | 378 kB 14.4 MB/s eta 0:00:01\r\u001b[K     |███████████                     | 389 kB 14.4 MB/s eta 0:00:01\r\u001b[K     |███████████▍                    | 399 kB 14.4 MB/s eta 0:00:01\r\u001b[K     |███████████▊                    | 409 kB 14.4 MB/s eta 0:00:01\r\u001b[K     |████████████                    | 419 kB 14.4 MB/s eta 0:00:01\r\u001b[K     |████████████▎                   | 430 kB 14.4 MB/s eta 0:00:01\r\u001b[K     |████████████▌                   | 440 kB 14.4 MB/s eta 0:00:01\r\u001b[K     |████████████▉                   | 450 kB 14.4 MB/s eta 0:00:01\r\u001b[K     |█████████████▏                  | 460 kB 14.4 MB/s eta 0:00:01\r\u001b[K     |█████████████▍                  | 471 kB 14.4 MB/s eta 0:00:01\r\u001b[K     |█████████████▊                  | 481 kB 14.4 MB/s eta 0:00:01\r\u001b[K     |██████████████                  | 491 kB 14.4 MB/s eta 0:00:01\r\u001b[K     |██████████████▎                 | 501 kB 14.4 MB/s eta 0:00:01\r\u001b[K     |██████████████▋                 | 512 kB 14.4 MB/s eta 0:00:01\r\u001b[K     |██████████████▉                 | 522 kB 14.4 MB/s eta 0:00:01\r\u001b[K     |███████████████▏                | 532 kB 14.4 MB/s eta 0:00:01\r\u001b[K     |███████████████▌                | 542 kB 14.4 MB/s eta 0:00:01\r\u001b[K     |███████████████▊                | 552 kB 14.4 MB/s eta 0:00:01\r\u001b[K     |████████████████                | 563 kB 14.4 MB/s eta 0:00:01\r\u001b[K     |████████████████▍               | 573 kB 14.4 MB/s eta 0:00:01\r\u001b[K     |████████████████▋               | 583 kB 14.4 MB/s eta 0:00:01\r\u001b[K     |█████████████████               | 593 kB 14.4 MB/s eta 0:00:01\r\u001b[K     |█████████████████▏              | 604 kB 14.4 MB/s eta 0:00:01\r\u001b[K     |█████████████████▌              | 614 kB 14.4 MB/s eta 0:00:01\r\u001b[K     |█████████████████▉              | 624 kB 14.4 MB/s eta 0:00:01\r\u001b[K     |██████████████████              | 634 kB 14.4 MB/s eta 0:00:01\r\u001b[K     |██████████████████▍             | 645 kB 14.4 MB/s eta 0:00:01\r\u001b[K     |██████████████████▊             | 655 kB 14.4 MB/s eta 0:00:01\r\u001b[K     |███████████████████             | 665 kB 14.4 MB/s eta 0:00:01\r\u001b[K     |███████████████████▎            | 675 kB 14.4 MB/s eta 0:00:01\r\u001b[K     |███████████████████▌            | 686 kB 14.4 MB/s eta 0:00:01\r\u001b[K     |███████████████████▉            | 696 kB 14.4 MB/s eta 0:00:01\r\u001b[K     |████████████████████▏           | 706 kB 14.4 MB/s eta 0:00:01\r\u001b[K     |████████████████████▍           | 716 kB 14.4 MB/s eta 0:00:01\r\u001b[K     |████████████████████▊           | 727 kB 14.4 MB/s eta 0:00:01\r\u001b[K     |█████████████████████           | 737 kB 14.4 MB/s eta 0:00:01\r\u001b[K     |█████████████████████▎          | 747 kB 14.4 MB/s eta 0:00:01\r\u001b[K     |█████████████████████▋          | 757 kB 14.4 MB/s eta 0:00:01\r\u001b[K     |█████████████████████▉          | 768 kB 14.4 MB/s eta 0:00:01\r\u001b[K     |██████████████████████▏         | 778 kB 14.4 MB/s eta 0:00:01\r\u001b[K     |██████████████████████▌         | 788 kB 14.4 MB/s eta 0:00:01\r\u001b[K     |██████████████████████▊         | 798 kB 14.4 MB/s eta 0:00:01\r\u001b[K     |███████████████████████         | 808 kB 14.4 MB/s eta 0:00:01\r\u001b[K     |███████████████████████▍        | 819 kB 14.4 MB/s eta 0:00:01\r\u001b[K     |███████████████████████▋        | 829 kB 14.4 MB/s eta 0:00:01\r\u001b[K     |████████████████████████        | 839 kB 14.4 MB/s eta 0:00:01\r\u001b[K     |████████████████████████▏       | 849 kB 14.4 MB/s eta 0:00:01\r\u001b[K     |████████████████████████▌       | 860 kB 14.4 MB/s eta 0:00:01\r\u001b[K     |████████████████████████▉       | 870 kB 14.4 MB/s eta 0:00:01\r\u001b[K     |█████████████████████████       | 880 kB 14.4 MB/s eta 0:00:01\r\u001b[K     |█████████████████████████▍      | 890 kB 14.4 MB/s eta 0:00:01\r\u001b[K     |█████████████████████████▊      | 901 kB 14.4 MB/s eta 0:00:01\r\u001b[K     |██████████████████████████      | 911 kB 14.4 MB/s eta 0:00:01\r\u001b[K     |██████████████████████████▎     | 921 kB 14.4 MB/s eta 0:00:01\r\u001b[K     |██████████████████████████▌     | 931 kB 14.4 MB/s eta 0:00:01\r\u001b[K     |██████████████████████████▉     | 942 kB 14.4 MB/s eta 0:00:01\r\u001b[K     |███████████████████████████▏    | 952 kB 14.4 MB/s eta 0:00:01\r\u001b[K     |███████████████████████████▍    | 962 kB 14.4 MB/s eta 0:00:01\r\u001b[K     |███████████████████████████▊    | 972 kB 14.4 MB/s eta 0:00:01\r\u001b[K     |████████████████████████████    | 983 kB 14.4 MB/s eta 0:00:01\r\u001b[K     |████████████████████████████▎   | 993 kB 14.4 MB/s eta 0:00:01\r\u001b[K     |████████████████████████████▋   | 1.0 MB 14.4 MB/s eta 0:00:01\r\u001b[K     |████████████████████████████▉   | 1.0 MB 14.4 MB/s eta 0:00:01\r\u001b[K     |█████████████████████████████▏  | 1.0 MB 14.4 MB/s eta 0:00:01\r\u001b[K     |█████████████████████████████▌  | 1.0 MB 14.4 MB/s eta 0:00:01\r\u001b[K     |█████████████████████████████▊  | 1.0 MB 14.4 MB/s eta 0:00:01\r\u001b[K     |██████████████████████████████  | 1.1 MB 14.4 MB/s eta 0:00:01\r\u001b[K     |██████████████████████████████▍ | 1.1 MB 14.4 MB/s eta 0:00:01\r\u001b[K     |██████████████████████████████▋ | 1.1 MB 14.4 MB/s eta 0:00:01\r\u001b[K     |███████████████████████████████ | 1.1 MB 14.4 MB/s eta 0:00:01\r\u001b[K     |███████████████████████████████▏| 1.1 MB 14.4 MB/s eta 0:00:01\r\u001b[K     |███████████████████████████████▌| 1.1 MB 14.4 MB/s eta 0:00:01\r\u001b[K     |███████████████████████████████▉| 1.1 MB 14.4 MB/s eta 0:00:01\r\u001b[K     |████████████████████████████████| 1.1 MB 14.4 MB/s \n",
            "\u001b[?25hRequirement already satisfied: typeguard>=2.7 in /usr/local/lib/python3.7/dist-packages (from tensorflow-addons) (2.7.1)\n",
            "Installing collected packages: tensorflow-addons\n",
            "Successfully installed tensorflow-addons-0.16.1\n"
          ]
        }
      ],
      "source": [
        "!pip install tensorflow-addons"
      ]
    },
    {
      "cell_type": "code",
      "execution_count": null,
      "metadata": {
        "id": "zYWOpMCLQuYn"
      },
      "outputs": [],
      "source": [
        "import matplotlib.pyplot as plt\n",
        "%matplotlib inline\n",
        "import pandas as pd\n",
        "import sys\n",
        "import numpy as np\n",
        "import seaborn as sns\n",
        "import statistics as stats\n",
        "sns.set(color_codes=True)\n",
        "from IPython.core.interactiveshell import InteractiveShell\n",
        "InteractiveShell.ast_node_interactivity = \"all\"\n",
        "#Last import allows multiple outputs from one cell\n",
        "import warnings\n",
        "# Initialize the random number generator\n",
        "import random\n",
        "random.seed(0)\n",
        "\n",
        "#Additional libs\n",
        "import matplotlib.patches as patches\n"
      ]
    },
    {
      "cell_type": "code",
      "execution_count": null,
      "metadata": {
        "id": "AjjiqRrFh65g"
      },
      "outputs": [],
      "source": [
        "import os\n",
        "import tensorflow as tf\n",
        "from keras.models import Model\n",
        "from tensorflow.keras.optimizers import Adam, SGD\n",
        "from keras.applications.vgg16 import VGG16, preprocess_input\n",
        "from keras import layers\n",
        "from keras.preprocessing.image import ImageDataGenerator\n",
        "from keras.callbacks import ModelCheckpoint, EarlyStopping\n",
        "from keras.layers import Dense, Dropout, Flatten\n",
        "from pathlib import Path\n",
        "import numpy as np\n",
        "import tensorflow_addons as tfa"
      ]
    },
    {
      "cell_type": "code",
      "execution_count": null,
      "metadata": {
        "id": "jW6refHxQlsb"
      },
      "outputs": [],
      "source": [
        "# Useful Configuration/Setting\n",
        "\n",
        "# suppress display of warnings\n",
        "#warnings.filterwarnings('ignore')\n",
        "\n",
        "# display all dataframe columns\n",
        "pd.options.display.max_columns = None\n",
        "\n",
        "# to set the limit to 3 decimals\n",
        "pd.options.display.float_format = '{:.7f}'.format\n",
        "\n",
        "# display all dataframe rows\n",
        "pd.options.display.max_rows = None\n",
        "\n",
        "#Setting to shows all entries in array displayed\n",
        "np.set_printoptions(threshold=sys.maxsize)"
      ]
    },
    {
      "cell_type": "code",
      "execution_count": null,
      "metadata": {
        "colab": {
          "base_uri": "https://localhost:8080/"
        },
        "id": "HcwqZdY4N_gj",
        "outputId": "a7812b08-58e3-4675-9185-9254b1d7411c"
      },
      "outputs": [
        {
          "name": "stdout",
          "output_type": "stream",
          "text": [
            "Mounted at /content/drive\n"
          ]
        }
      ],
      "source": [
        "from google.colab import drive\n",
        "drive.mount('/content/drive')"
      ]
    },
    {
      "cell_type": "code",
      "execution_count": null,
      "metadata": {
        "id": "928XeIHCQUAf"
      },
      "outputs": [],
      "source": [
        "train_data_dir = Path('/content/drive/MyDrive/Capstone/Car Images/Car Images/Train Images')\n",
        "test_data_dir = Path('/content/drive/MyDrive/Capstone/Car Images/Car Images/Test Images')\n",
        "\n",
        "BATCH_SIZE = 32 \n",
        "IMG_SIZE = 224"
      ]
    },
    {
      "cell_type": "code",
      "execution_count": null,
      "metadata": {
        "colab": {
          "base_uri": "https://localhost:8080/",
          "height": 206
        },
        "id": "kljE_9EVv7NX",
        "outputId": "daf1cc0b-406c-44bf-f5ea-9054c2902a81"
      },
      "outputs": [
        {
          "data": {
            "text/html": [
              "\n",
              "  <div id=\"df-32f4d9d5-6836-4fed-84ba-8cebe30388e1\">\n",
              "    <div class=\"colab-df-container\">\n",
              "      <div>\n",
              "<style scoped>\n",
              "    .dataframe tbody tr th:only-of-type {\n",
              "        vertical-align: middle;\n",
              "    }\n",
              "\n",
              "    .dataframe tbody tr th {\n",
              "        vertical-align: top;\n",
              "    }\n",
              "\n",
              "    .dataframe thead th {\n",
              "        text-align: right;\n",
              "    }\n",
              "</style>\n",
              "<table border=\"1\" class=\"dataframe\">\n",
              "  <thead>\n",
              "    <tr style=\"text-align: right;\">\n",
              "      <th></th>\n",
              "      <th>file_name</th>\n",
              "      <th>cor1</th>\n",
              "      <th>cor2</th>\n",
              "      <th>cor3</th>\n",
              "      <th>cor4</th>\n",
              "      <th>Image_Class</th>\n",
              "    </tr>\n",
              "  </thead>\n",
              "  <tbody>\n",
              "    <tr>\n",
              "      <th>0</th>\n",
              "      <td>00001.jpg</td>\n",
              "      <td>39</td>\n",
              "      <td>116</td>\n",
              "      <td>569</td>\n",
              "      <td>375</td>\n",
              "      <td>14</td>\n",
              "    </tr>\n",
              "    <tr>\n",
              "      <th>1</th>\n",
              "      <td>00002.jpg</td>\n",
              "      <td>36</td>\n",
              "      <td>116</td>\n",
              "      <td>868</td>\n",
              "      <td>587</td>\n",
              "      <td>3</td>\n",
              "    </tr>\n",
              "    <tr>\n",
              "      <th>2</th>\n",
              "      <td>00003.jpg</td>\n",
              "      <td>85</td>\n",
              "      <td>109</td>\n",
              "      <td>601</td>\n",
              "      <td>381</td>\n",
              "      <td>91</td>\n",
              "    </tr>\n",
              "    <tr>\n",
              "      <th>3</th>\n",
              "      <td>00004.jpg</td>\n",
              "      <td>621</td>\n",
              "      <td>393</td>\n",
              "      <td>1484</td>\n",
              "      <td>1096</td>\n",
              "      <td>134</td>\n",
              "    </tr>\n",
              "    <tr>\n",
              "      <th>4</th>\n",
              "      <td>00005.jpg</td>\n",
              "      <td>14</td>\n",
              "      <td>36</td>\n",
              "      <td>133</td>\n",
              "      <td>99</td>\n",
              "      <td>106</td>\n",
              "    </tr>\n",
              "  </tbody>\n",
              "</table>\n",
              "</div>\n",
              "      <button class=\"colab-df-convert\" onclick=\"convertToInteractive('df-32f4d9d5-6836-4fed-84ba-8cebe30388e1')\"\n",
              "              title=\"Convert this dataframe to an interactive table.\"\n",
              "              style=\"display:none;\">\n",
              "        \n",
              "  <svg xmlns=\"http://www.w3.org/2000/svg\" height=\"24px\"viewBox=\"0 0 24 24\"\n",
              "       width=\"24px\">\n",
              "    <path d=\"M0 0h24v24H0V0z\" fill=\"none\"/>\n",
              "    <path d=\"M18.56 5.44l.94 2.06.94-2.06 2.06-.94-2.06-.94-.94-2.06-.94 2.06-2.06.94zm-11 1L8.5 8.5l.94-2.06 2.06-.94-2.06-.94L8.5 2.5l-.94 2.06-2.06.94zm10 10l.94 2.06.94-2.06 2.06-.94-2.06-.94-.94-2.06-.94 2.06-2.06.94z\"/><path d=\"M17.41 7.96l-1.37-1.37c-.4-.4-.92-.59-1.43-.59-.52 0-1.04.2-1.43.59L10.3 9.45l-7.72 7.72c-.78.78-.78 2.05 0 2.83L4 21.41c.39.39.9.59 1.41.59.51 0 1.02-.2 1.41-.59l7.78-7.78 2.81-2.81c.8-.78.8-2.07 0-2.86zM5.41 20L4 18.59l7.72-7.72 1.47 1.35L5.41 20z\"/>\n",
              "  </svg>\n",
              "      </button>\n",
              "      \n",
              "  <style>\n",
              "    .colab-df-container {\n",
              "      display:flex;\n",
              "      flex-wrap:wrap;\n",
              "      gap: 12px;\n",
              "    }\n",
              "\n",
              "    .colab-df-convert {\n",
              "      background-color: #E8F0FE;\n",
              "      border: none;\n",
              "      border-radius: 50%;\n",
              "      cursor: pointer;\n",
              "      display: none;\n",
              "      fill: #1967D2;\n",
              "      height: 32px;\n",
              "      padding: 0 0 0 0;\n",
              "      width: 32px;\n",
              "    }\n",
              "\n",
              "    .colab-df-convert:hover {\n",
              "      background-color: #E2EBFA;\n",
              "      box-shadow: 0px 1px 2px rgba(60, 64, 67, 0.3), 0px 1px 3px 1px rgba(60, 64, 67, 0.15);\n",
              "      fill: #174EA6;\n",
              "    }\n",
              "\n",
              "    [theme=dark] .colab-df-convert {\n",
              "      background-color: #3B4455;\n",
              "      fill: #D2E3FC;\n",
              "    }\n",
              "\n",
              "    [theme=dark] .colab-df-convert:hover {\n",
              "      background-color: #434B5C;\n",
              "      box-shadow: 0px 1px 3px 1px rgba(0, 0, 0, 0.15);\n",
              "      filter: drop-shadow(0px 1px 2px rgba(0, 0, 0, 0.3));\n",
              "      fill: #FFFFFF;\n",
              "    }\n",
              "  </style>\n",
              "\n",
              "      <script>\n",
              "        const buttonEl =\n",
              "          document.querySelector('#df-32f4d9d5-6836-4fed-84ba-8cebe30388e1 button.colab-df-convert');\n",
              "        buttonEl.style.display =\n",
              "          google.colab.kernel.accessAllowed ? 'block' : 'none';\n",
              "\n",
              "        async function convertToInteractive(key) {\n",
              "          const element = document.querySelector('#df-32f4d9d5-6836-4fed-84ba-8cebe30388e1');\n",
              "          const dataTable =\n",
              "            await google.colab.kernel.invokeFunction('convertToInteractive',\n",
              "                                                     [key], {});\n",
              "          if (!dataTable) return;\n",
              "\n",
              "          const docLinkHtml = 'Like what you see? Visit the ' +\n",
              "            '<a target=\"_blank\" href=https://colab.research.google.com/notebooks/data_table.ipynb>data table notebook</a>'\n",
              "            + ' to learn more about interactive tables.';\n",
              "          element.innerHTML = '';\n",
              "          dataTable['output_type'] = 'display_data';\n",
              "          await google.colab.output.renderOutput(dataTable, element);\n",
              "          const docLink = document.createElement('div');\n",
              "          docLink.innerHTML = docLinkHtml;\n",
              "          element.appendChild(docLink);\n",
              "        }\n",
              "      </script>\n",
              "    </div>\n",
              "  </div>\n",
              "  "
            ],
            "text/plain": [
              "   file_name  cor1  cor2  cor3  cor4  Image_Class\n",
              "0  00001.jpg    39   116   569   375           14\n",
              "1  00002.jpg    36   116   868   587            3\n",
              "2  00003.jpg    85   109   601   381           91\n",
              "3  00004.jpg   621   393  1484  1096          134\n",
              "4  00005.jpg    14    36   133    99          106"
            ]
          },
          "execution_count": 7,
          "metadata": {},
          "output_type": "execute_result"
        }
      ],
      "source": [
        "import pandas as pd\n",
        "\n",
        "#Lets read the Train Annotations\n",
        "\n",
        "#Lets give our own column names as excel sheet does not have proper column names\n",
        "columnNameList=['file_name','cor1','cor2','cor3','cor4','Image_Class']\n",
        "trainAnno= pd.read_csv('/content/drive/MyDrive/Capstone/Annotations/Train Annotations.csv',names=columnNameList,header=0)\n",
        "trainAnno.head(5)"
      ]
    },
    {
      "cell_type": "code",
      "execution_count": null,
      "metadata": {
        "id": "QzfQaPu_xbCU"
      },
      "outputs": [],
      "source": [
        "files = train_data_dir.rglob('*.jpg')\n",
        "input=pd.DataFrame(files,columns =['a'])\n",
        "input['a']=input['a'].astype(str)\n",
        "df_train=input['a'].str.split('/',expand=True)\n",
        "train=input.join(df_train)[['a',8]]\n",
        "train.columns=('file_path','label')"
      ]
    },
    {
      "cell_type": "code",
      "execution_count": null,
      "metadata": {
        "colab": {
          "base_uri": "https://localhost:8080/",
          "height": 224
        },
        "id": "WsbC69ErRs4B",
        "outputId": "de20e726-c1c6-4511-91dd-8107e50b48c5"
      },
      "outputs": [
        {
          "data": {
            "text/html": [
              "\n",
              "  <div id=\"df-efe1d372-c02c-4d0a-a32e-af8ed75ec319\">\n",
              "    <div class=\"colab-df-container\">\n",
              "      <div>\n",
              "<style scoped>\n",
              "    .dataframe tbody tr th:only-of-type {\n",
              "        vertical-align: middle;\n",
              "    }\n",
              "\n",
              "    .dataframe tbody tr th {\n",
              "        vertical-align: top;\n",
              "    }\n",
              "\n",
              "    .dataframe thead th {\n",
              "        text-align: right;\n",
              "    }\n",
              "</style>\n",
              "<table border=\"1\" class=\"dataframe\">\n",
              "  <thead>\n",
              "    <tr style=\"text-align: right;\">\n",
              "      <th></th>\n",
              "      <th>file_path</th>\n",
              "      <th>label</th>\n",
              "    </tr>\n",
              "  </thead>\n",
              "  <tbody>\n",
              "    <tr>\n",
              "      <th>0</th>\n",
              "      <td>/content/drive/MyDrive/Capstone/Car Images/Car...</td>\n",
              "      <td>Suzuki SX4 Sedan 2012</td>\n",
              "    </tr>\n",
              "    <tr>\n",
              "      <th>1</th>\n",
              "      <td>/content/drive/MyDrive/Capstone/Car Images/Car...</td>\n",
              "      <td>Suzuki SX4 Sedan 2012</td>\n",
              "    </tr>\n",
              "    <tr>\n",
              "      <th>2</th>\n",
              "      <td>/content/drive/MyDrive/Capstone/Car Images/Car...</td>\n",
              "      <td>Suzuki SX4 Sedan 2012</td>\n",
              "    </tr>\n",
              "    <tr>\n",
              "      <th>3</th>\n",
              "      <td>/content/drive/MyDrive/Capstone/Car Images/Car...</td>\n",
              "      <td>Suzuki SX4 Sedan 2012</td>\n",
              "    </tr>\n",
              "    <tr>\n",
              "      <th>4</th>\n",
              "      <td>/content/drive/MyDrive/Capstone/Car Images/Car...</td>\n",
              "      <td>Suzuki SX4 Sedan 2012</td>\n",
              "    </tr>\n",
              "  </tbody>\n",
              "</table>\n",
              "</div>\n",
              "      <button class=\"colab-df-convert\" onclick=\"convertToInteractive('df-efe1d372-c02c-4d0a-a32e-af8ed75ec319')\"\n",
              "              title=\"Convert this dataframe to an interactive table.\"\n",
              "              style=\"display:none;\">\n",
              "        \n",
              "  <svg xmlns=\"http://www.w3.org/2000/svg\" height=\"24px\"viewBox=\"0 0 24 24\"\n",
              "       width=\"24px\">\n",
              "    <path d=\"M0 0h24v24H0V0z\" fill=\"none\"/>\n",
              "    <path d=\"M18.56 5.44l.94 2.06.94-2.06 2.06-.94-2.06-.94-.94-2.06-.94 2.06-2.06.94zm-11 1L8.5 8.5l.94-2.06 2.06-.94-2.06-.94L8.5 2.5l-.94 2.06-2.06.94zm10 10l.94 2.06.94-2.06 2.06-.94-2.06-.94-.94-2.06-.94 2.06-2.06.94z\"/><path d=\"M17.41 7.96l-1.37-1.37c-.4-.4-.92-.59-1.43-.59-.52 0-1.04.2-1.43.59L10.3 9.45l-7.72 7.72c-.78.78-.78 2.05 0 2.83L4 21.41c.39.39.9.59 1.41.59.51 0 1.02-.2 1.41-.59l7.78-7.78 2.81-2.81c.8-.78.8-2.07 0-2.86zM5.41 20L4 18.59l7.72-7.72 1.47 1.35L5.41 20z\"/>\n",
              "  </svg>\n",
              "      </button>\n",
              "      \n",
              "  <style>\n",
              "    .colab-df-container {\n",
              "      display:flex;\n",
              "      flex-wrap:wrap;\n",
              "      gap: 12px;\n",
              "    }\n",
              "\n",
              "    .colab-df-convert {\n",
              "      background-color: #E8F0FE;\n",
              "      border: none;\n",
              "      border-radius: 50%;\n",
              "      cursor: pointer;\n",
              "      display: none;\n",
              "      fill: #1967D2;\n",
              "      height: 32px;\n",
              "      padding: 0 0 0 0;\n",
              "      width: 32px;\n",
              "    }\n",
              "\n",
              "    .colab-df-convert:hover {\n",
              "      background-color: #E2EBFA;\n",
              "      box-shadow: 0px 1px 2px rgba(60, 64, 67, 0.3), 0px 1px 3px 1px rgba(60, 64, 67, 0.15);\n",
              "      fill: #174EA6;\n",
              "    }\n",
              "\n",
              "    [theme=dark] .colab-df-convert {\n",
              "      background-color: #3B4455;\n",
              "      fill: #D2E3FC;\n",
              "    }\n",
              "\n",
              "    [theme=dark] .colab-df-convert:hover {\n",
              "      background-color: #434B5C;\n",
              "      box-shadow: 0px 1px 3px 1px rgba(0, 0, 0, 0.15);\n",
              "      filter: drop-shadow(0px 1px 2px rgba(0, 0, 0, 0.3));\n",
              "      fill: #FFFFFF;\n",
              "    }\n",
              "  </style>\n",
              "\n",
              "      <script>\n",
              "        const buttonEl =\n",
              "          document.querySelector('#df-efe1d372-c02c-4d0a-a32e-af8ed75ec319 button.colab-df-convert');\n",
              "        buttonEl.style.display =\n",
              "          google.colab.kernel.accessAllowed ? 'block' : 'none';\n",
              "\n",
              "        async function convertToInteractive(key) {\n",
              "          const element = document.querySelector('#df-efe1d372-c02c-4d0a-a32e-af8ed75ec319');\n",
              "          const dataTable =\n",
              "            await google.colab.kernel.invokeFunction('convertToInteractive',\n",
              "                                                     [key], {});\n",
              "          if (!dataTable) return;\n",
              "\n",
              "          const docLinkHtml = 'Like what you see? Visit the ' +\n",
              "            '<a target=\"_blank\" href=https://colab.research.google.com/notebooks/data_table.ipynb>data table notebook</a>'\n",
              "            + ' to learn more about interactive tables.';\n",
              "          element.innerHTML = '';\n",
              "          dataTable['output_type'] = 'display_data';\n",
              "          await google.colab.output.renderOutput(dataTable, element);\n",
              "          const docLink = document.createElement('div');\n",
              "          docLink.innerHTML = docLinkHtml;\n",
              "          element.appendChild(docLink);\n",
              "        }\n",
              "      </script>\n",
              "    </div>\n",
              "  </div>\n",
              "  "
            ],
            "text/plain": [
              "                                           file_path                  label\n",
              "0  /content/drive/MyDrive/Capstone/Car Images/Car...  Suzuki SX4 Sedan 2012\n",
              "1  /content/drive/MyDrive/Capstone/Car Images/Car...  Suzuki SX4 Sedan 2012\n",
              "2  /content/drive/MyDrive/Capstone/Car Images/Car...  Suzuki SX4 Sedan 2012\n",
              "3  /content/drive/MyDrive/Capstone/Car Images/Car...  Suzuki SX4 Sedan 2012\n",
              "4  /content/drive/MyDrive/Capstone/Car Images/Car...  Suzuki SX4 Sedan 2012"
            ]
          },
          "execution_count": 9,
          "metadata": {},
          "output_type": "execute_result"
        },
        {
          "data": {
            "text/plain": [
              "8144"
            ]
          },
          "execution_count": 9,
          "metadata": {},
          "output_type": "execute_result"
        }
      ],
      "source": [
        "train.head()\n",
        "len(train)"
      ]
    },
    {
      "cell_type": "code",
      "execution_count": null,
      "metadata": {
        "colab": {
          "base_uri": "https://localhost:8080/",
          "height": 206
        },
        "id": "nwQrSeTU85ZI",
        "outputId": "6f5f6712-bd7d-4059-cdbf-90e9b69b8a20"
      },
      "outputs": [
        {
          "data": {
            "text/html": [
              "\n",
              "  <div id=\"df-f7a689ff-c30e-41e2-89e1-9ebb7132afdc\">\n",
              "    <div class=\"colab-df-container\">\n",
              "      <div>\n",
              "<style scoped>\n",
              "    .dataframe tbody tr th:only-of-type {\n",
              "        vertical-align: middle;\n",
              "    }\n",
              "\n",
              "    .dataframe tbody tr th {\n",
              "        vertical-align: top;\n",
              "    }\n",
              "\n",
              "    .dataframe thead th {\n",
              "        text-align: right;\n",
              "    }\n",
              "</style>\n",
              "<table border=\"1\" class=\"dataframe\">\n",
              "  <thead>\n",
              "    <tr style=\"text-align: right;\">\n",
              "      <th></th>\n",
              "      <th>file_path</th>\n",
              "      <th>label</th>\n",
              "    </tr>\n",
              "  </thead>\n",
              "  <tbody>\n",
              "    <tr>\n",
              "      <th>0</th>\n",
              "      <td>/content/drive/MyDrive/Capstone/Car Images/Car...</td>\n",
              "      <td>Suzuki SX4 Sedan 2012</td>\n",
              "    </tr>\n",
              "    <tr>\n",
              "      <th>1</th>\n",
              "      <td>/content/drive/MyDrive/Capstone/Car Images/Car...</td>\n",
              "      <td>Suzuki SX4 Sedan 2012</td>\n",
              "    </tr>\n",
              "    <tr>\n",
              "      <th>2</th>\n",
              "      <td>/content/drive/MyDrive/Capstone/Car Images/Car...</td>\n",
              "      <td>Suzuki SX4 Sedan 2012</td>\n",
              "    </tr>\n",
              "    <tr>\n",
              "      <th>3</th>\n",
              "      <td>/content/drive/MyDrive/Capstone/Car Images/Car...</td>\n",
              "      <td>Suzuki SX4 Sedan 2012</td>\n",
              "    </tr>\n",
              "    <tr>\n",
              "      <th>4</th>\n",
              "      <td>/content/drive/MyDrive/Capstone/Car Images/Car...</td>\n",
              "      <td>Suzuki SX4 Sedan 2012</td>\n",
              "    </tr>\n",
              "  </tbody>\n",
              "</table>\n",
              "</div>\n",
              "      <button class=\"colab-df-convert\" onclick=\"convertToInteractive('df-f7a689ff-c30e-41e2-89e1-9ebb7132afdc')\"\n",
              "              title=\"Convert this dataframe to an interactive table.\"\n",
              "              style=\"display:none;\">\n",
              "        \n",
              "  <svg xmlns=\"http://www.w3.org/2000/svg\" height=\"24px\"viewBox=\"0 0 24 24\"\n",
              "       width=\"24px\">\n",
              "    <path d=\"M0 0h24v24H0V0z\" fill=\"none\"/>\n",
              "    <path d=\"M18.56 5.44l.94 2.06.94-2.06 2.06-.94-2.06-.94-.94-2.06-.94 2.06-2.06.94zm-11 1L8.5 8.5l.94-2.06 2.06-.94-2.06-.94L8.5 2.5l-.94 2.06-2.06.94zm10 10l.94 2.06.94-2.06 2.06-.94-2.06-.94-.94-2.06-.94 2.06-2.06.94z\"/><path d=\"M17.41 7.96l-1.37-1.37c-.4-.4-.92-.59-1.43-.59-.52 0-1.04.2-1.43.59L10.3 9.45l-7.72 7.72c-.78.78-.78 2.05 0 2.83L4 21.41c.39.39.9.59 1.41.59.51 0 1.02-.2 1.41-.59l7.78-7.78 2.81-2.81c.8-.78.8-2.07 0-2.86zM5.41 20L4 18.59l7.72-7.72 1.47 1.35L5.41 20z\"/>\n",
              "  </svg>\n",
              "      </button>\n",
              "      \n",
              "  <style>\n",
              "    .colab-df-container {\n",
              "      display:flex;\n",
              "      flex-wrap:wrap;\n",
              "      gap: 12px;\n",
              "    }\n",
              "\n",
              "    .colab-df-convert {\n",
              "      background-color: #E8F0FE;\n",
              "      border: none;\n",
              "      border-radius: 50%;\n",
              "      cursor: pointer;\n",
              "      display: none;\n",
              "      fill: #1967D2;\n",
              "      height: 32px;\n",
              "      padding: 0 0 0 0;\n",
              "      width: 32px;\n",
              "    }\n",
              "\n",
              "    .colab-df-convert:hover {\n",
              "      background-color: #E2EBFA;\n",
              "      box-shadow: 0px 1px 2px rgba(60, 64, 67, 0.3), 0px 1px 3px 1px rgba(60, 64, 67, 0.15);\n",
              "      fill: #174EA6;\n",
              "    }\n",
              "\n",
              "    [theme=dark] .colab-df-convert {\n",
              "      background-color: #3B4455;\n",
              "      fill: #D2E3FC;\n",
              "    }\n",
              "\n",
              "    [theme=dark] .colab-df-convert:hover {\n",
              "      background-color: #434B5C;\n",
              "      box-shadow: 0px 1px 3px 1px rgba(0, 0, 0, 0.15);\n",
              "      filter: drop-shadow(0px 1px 2px rgba(0, 0, 0, 0.3));\n",
              "      fill: #FFFFFF;\n",
              "    }\n",
              "  </style>\n",
              "\n",
              "      <script>\n",
              "        const buttonEl =\n",
              "          document.querySelector('#df-f7a689ff-c30e-41e2-89e1-9ebb7132afdc button.colab-df-convert');\n",
              "        buttonEl.style.display =\n",
              "          google.colab.kernel.accessAllowed ? 'block' : 'none';\n",
              "\n",
              "        async function convertToInteractive(key) {\n",
              "          const element = document.querySelector('#df-f7a689ff-c30e-41e2-89e1-9ebb7132afdc');\n",
              "          const dataTable =\n",
              "            await google.colab.kernel.invokeFunction('convertToInteractive',\n",
              "                                                     [key], {});\n",
              "          if (!dataTable) return;\n",
              "\n",
              "          const docLinkHtml = 'Like what you see? Visit the ' +\n",
              "            '<a target=\"_blank\" href=https://colab.research.google.com/notebooks/data_table.ipynb>data table notebook</a>'\n",
              "            + ' to learn more about interactive tables.';\n",
              "          element.innerHTML = '';\n",
              "          dataTable['output_type'] = 'display_data';\n",
              "          await google.colab.output.renderOutput(dataTable, element);\n",
              "          const docLink = document.createElement('div');\n",
              "          docLink.innerHTML = docLinkHtml;\n",
              "          element.appendChild(docLink);\n",
              "        }\n",
              "      </script>\n",
              "    </div>\n",
              "  </div>\n",
              "  "
            ],
            "text/plain": [
              "                                           file_path                  label\n",
              "0  /content/drive/MyDrive/Capstone/Car Images/Car...  Suzuki SX4 Sedan 2012\n",
              "1  /content/drive/MyDrive/Capstone/Car Images/Car...  Suzuki SX4 Sedan 2012\n",
              "2  /content/drive/MyDrive/Capstone/Car Images/Car...  Suzuki SX4 Sedan 2012\n",
              "3  /content/drive/MyDrive/Capstone/Car Images/Car...  Suzuki SX4 Sedan 2012\n",
              "4  /content/drive/MyDrive/Capstone/Car Images/Car...  Suzuki SX4 Sedan 2012"
            ]
          },
          "execution_count": 10,
          "metadata": {},
          "output_type": "execute_result"
        }
      ],
      "source": [
        "train.head()"
      ]
    },
    {
      "cell_type": "code",
      "execution_count": null,
      "metadata": {
        "id": "bmdfZpTVQN5h"
      },
      "outputs": [],
      "source": [
        "train['file_name']=train['file_path'].apply(lambda getFileName:getFileName.split('/')[9])"
      ]
    },
    {
      "cell_type": "code",
      "execution_count": null,
      "metadata": {
        "colab": {
          "base_uri": "https://localhost:8080/",
          "height": 206
        },
        "id": "VEXSSacIVQHf",
        "outputId": "4517302c-4051-4994-8378-2f34ef0aaca2"
      },
      "outputs": [
        {
          "data": {
            "text/html": [
              "\n",
              "  <div id=\"df-46cb3447-af37-4ba9-ab51-0343a0ea43d8\">\n",
              "    <div class=\"colab-df-container\">\n",
              "      <div>\n",
              "<style scoped>\n",
              "    .dataframe tbody tr th:only-of-type {\n",
              "        vertical-align: middle;\n",
              "    }\n",
              "\n",
              "    .dataframe tbody tr th {\n",
              "        vertical-align: top;\n",
              "    }\n",
              "\n",
              "    .dataframe thead th {\n",
              "        text-align: right;\n",
              "    }\n",
              "</style>\n",
              "<table border=\"1\" class=\"dataframe\">\n",
              "  <thead>\n",
              "    <tr style=\"text-align: right;\">\n",
              "      <th></th>\n",
              "      <th>file_path</th>\n",
              "      <th>label</th>\n",
              "      <th>file_name</th>\n",
              "    </tr>\n",
              "  </thead>\n",
              "  <tbody>\n",
              "    <tr>\n",
              "      <th>0</th>\n",
              "      <td>/content/drive/MyDrive/Capstone/Car Images/Car...</td>\n",
              "      <td>Suzuki SX4 Sedan 2012</td>\n",
              "      <td>00482.jpg</td>\n",
              "    </tr>\n",
              "    <tr>\n",
              "      <th>1</th>\n",
              "      <td>/content/drive/MyDrive/Capstone/Car Images/Car...</td>\n",
              "      <td>Suzuki SX4 Sedan 2012</td>\n",
              "      <td>05872.jpg</td>\n",
              "    </tr>\n",
              "    <tr>\n",
              "      <th>2</th>\n",
              "      <td>/content/drive/MyDrive/Capstone/Car Images/Car...</td>\n",
              "      <td>Suzuki SX4 Sedan 2012</td>\n",
              "      <td>06576.jpg</td>\n",
              "    </tr>\n",
              "    <tr>\n",
              "      <th>3</th>\n",
              "      <td>/content/drive/MyDrive/Capstone/Car Images/Car...</td>\n",
              "      <td>Suzuki SX4 Sedan 2012</td>\n",
              "      <td>00719.jpg</td>\n",
              "    </tr>\n",
              "    <tr>\n",
              "      <th>4</th>\n",
              "      <td>/content/drive/MyDrive/Capstone/Car Images/Car...</td>\n",
              "      <td>Suzuki SX4 Sedan 2012</td>\n",
              "      <td>04655.jpg</td>\n",
              "    </tr>\n",
              "  </tbody>\n",
              "</table>\n",
              "</div>\n",
              "      <button class=\"colab-df-convert\" onclick=\"convertToInteractive('df-46cb3447-af37-4ba9-ab51-0343a0ea43d8')\"\n",
              "              title=\"Convert this dataframe to an interactive table.\"\n",
              "              style=\"display:none;\">\n",
              "        \n",
              "  <svg xmlns=\"http://www.w3.org/2000/svg\" height=\"24px\"viewBox=\"0 0 24 24\"\n",
              "       width=\"24px\">\n",
              "    <path d=\"M0 0h24v24H0V0z\" fill=\"none\"/>\n",
              "    <path d=\"M18.56 5.44l.94 2.06.94-2.06 2.06-.94-2.06-.94-.94-2.06-.94 2.06-2.06.94zm-11 1L8.5 8.5l.94-2.06 2.06-.94-2.06-.94L8.5 2.5l-.94 2.06-2.06.94zm10 10l.94 2.06.94-2.06 2.06-.94-2.06-.94-.94-2.06-.94 2.06-2.06.94z\"/><path d=\"M17.41 7.96l-1.37-1.37c-.4-.4-.92-.59-1.43-.59-.52 0-1.04.2-1.43.59L10.3 9.45l-7.72 7.72c-.78.78-.78 2.05 0 2.83L4 21.41c.39.39.9.59 1.41.59.51 0 1.02-.2 1.41-.59l7.78-7.78 2.81-2.81c.8-.78.8-2.07 0-2.86zM5.41 20L4 18.59l7.72-7.72 1.47 1.35L5.41 20z\"/>\n",
              "  </svg>\n",
              "      </button>\n",
              "      \n",
              "  <style>\n",
              "    .colab-df-container {\n",
              "      display:flex;\n",
              "      flex-wrap:wrap;\n",
              "      gap: 12px;\n",
              "    }\n",
              "\n",
              "    .colab-df-convert {\n",
              "      background-color: #E8F0FE;\n",
              "      border: none;\n",
              "      border-radius: 50%;\n",
              "      cursor: pointer;\n",
              "      display: none;\n",
              "      fill: #1967D2;\n",
              "      height: 32px;\n",
              "      padding: 0 0 0 0;\n",
              "      width: 32px;\n",
              "    }\n",
              "\n",
              "    .colab-df-convert:hover {\n",
              "      background-color: #E2EBFA;\n",
              "      box-shadow: 0px 1px 2px rgba(60, 64, 67, 0.3), 0px 1px 3px 1px rgba(60, 64, 67, 0.15);\n",
              "      fill: #174EA6;\n",
              "    }\n",
              "\n",
              "    [theme=dark] .colab-df-convert {\n",
              "      background-color: #3B4455;\n",
              "      fill: #D2E3FC;\n",
              "    }\n",
              "\n",
              "    [theme=dark] .colab-df-convert:hover {\n",
              "      background-color: #434B5C;\n",
              "      box-shadow: 0px 1px 3px 1px rgba(0, 0, 0, 0.15);\n",
              "      filter: drop-shadow(0px 1px 2px rgba(0, 0, 0, 0.3));\n",
              "      fill: #FFFFFF;\n",
              "    }\n",
              "  </style>\n",
              "\n",
              "      <script>\n",
              "        const buttonEl =\n",
              "          document.querySelector('#df-46cb3447-af37-4ba9-ab51-0343a0ea43d8 button.colab-df-convert');\n",
              "        buttonEl.style.display =\n",
              "          google.colab.kernel.accessAllowed ? 'block' : 'none';\n",
              "\n",
              "        async function convertToInteractive(key) {\n",
              "          const element = document.querySelector('#df-46cb3447-af37-4ba9-ab51-0343a0ea43d8');\n",
              "          const dataTable =\n",
              "            await google.colab.kernel.invokeFunction('convertToInteractive',\n",
              "                                                     [key], {});\n",
              "          if (!dataTable) return;\n",
              "\n",
              "          const docLinkHtml = 'Like what you see? Visit the ' +\n",
              "            '<a target=\"_blank\" href=https://colab.research.google.com/notebooks/data_table.ipynb>data table notebook</a>'\n",
              "            + ' to learn more about interactive tables.';\n",
              "          element.innerHTML = '';\n",
              "          dataTable['output_type'] = 'display_data';\n",
              "          await google.colab.output.renderOutput(dataTable, element);\n",
              "          const docLink = document.createElement('div');\n",
              "          docLink.innerHTML = docLinkHtml;\n",
              "          element.appendChild(docLink);\n",
              "        }\n",
              "      </script>\n",
              "    </div>\n",
              "  </div>\n",
              "  "
            ],
            "text/plain": [
              "                                           file_path                  label  \\\n",
              "0  /content/drive/MyDrive/Capstone/Car Images/Car...  Suzuki SX4 Sedan 2012   \n",
              "1  /content/drive/MyDrive/Capstone/Car Images/Car...  Suzuki SX4 Sedan 2012   \n",
              "2  /content/drive/MyDrive/Capstone/Car Images/Car...  Suzuki SX4 Sedan 2012   \n",
              "3  /content/drive/MyDrive/Capstone/Car Images/Car...  Suzuki SX4 Sedan 2012   \n",
              "4  /content/drive/MyDrive/Capstone/Car Images/Car...  Suzuki SX4 Sedan 2012   \n",
              "\n",
              "   file_name  \n",
              "0  00482.jpg  \n",
              "1  05872.jpg  \n",
              "2  06576.jpg  \n",
              "3  00719.jpg  \n",
              "4  04655.jpg  "
            ]
          },
          "execution_count": 12,
          "metadata": {},
          "output_type": "execute_result"
        }
      ],
      "source": [
        "train.head()"
      ]
    },
    {
      "cell_type": "code",
      "execution_count": null,
      "metadata": {
        "colab": {
          "base_uri": "https://localhost:8080/",
          "height": 206
        },
        "id": "OBRqSfbZVcg0",
        "outputId": "1190b412-f498-42e2-b769-94da3d22a77d"
      },
      "outputs": [
        {
          "data": {
            "text/html": [
              "\n",
              "  <div id=\"df-de740ddf-2d72-4d3a-abc6-cad57a546743\">\n",
              "    <div class=\"colab-df-container\">\n",
              "      <div>\n",
              "<style scoped>\n",
              "    .dataframe tbody tr th:only-of-type {\n",
              "        vertical-align: middle;\n",
              "    }\n",
              "\n",
              "    .dataframe tbody tr th {\n",
              "        vertical-align: top;\n",
              "    }\n",
              "\n",
              "    .dataframe thead th {\n",
              "        text-align: right;\n",
              "    }\n",
              "</style>\n",
              "<table border=\"1\" class=\"dataframe\">\n",
              "  <thead>\n",
              "    <tr style=\"text-align: right;\">\n",
              "      <th></th>\n",
              "      <th>file_name</th>\n",
              "      <th>cor1</th>\n",
              "      <th>cor2</th>\n",
              "      <th>cor3</th>\n",
              "      <th>cor4</th>\n",
              "      <th>Image_Class</th>\n",
              "    </tr>\n",
              "  </thead>\n",
              "  <tbody>\n",
              "    <tr>\n",
              "      <th>0</th>\n",
              "      <td>00001.jpg</td>\n",
              "      <td>39</td>\n",
              "      <td>116</td>\n",
              "      <td>569</td>\n",
              "      <td>375</td>\n",
              "      <td>14</td>\n",
              "    </tr>\n",
              "    <tr>\n",
              "      <th>1</th>\n",
              "      <td>00002.jpg</td>\n",
              "      <td>36</td>\n",
              "      <td>116</td>\n",
              "      <td>868</td>\n",
              "      <td>587</td>\n",
              "      <td>3</td>\n",
              "    </tr>\n",
              "    <tr>\n",
              "      <th>2</th>\n",
              "      <td>00003.jpg</td>\n",
              "      <td>85</td>\n",
              "      <td>109</td>\n",
              "      <td>601</td>\n",
              "      <td>381</td>\n",
              "      <td>91</td>\n",
              "    </tr>\n",
              "    <tr>\n",
              "      <th>3</th>\n",
              "      <td>00004.jpg</td>\n",
              "      <td>621</td>\n",
              "      <td>393</td>\n",
              "      <td>1484</td>\n",
              "      <td>1096</td>\n",
              "      <td>134</td>\n",
              "    </tr>\n",
              "    <tr>\n",
              "      <th>4</th>\n",
              "      <td>00005.jpg</td>\n",
              "      <td>14</td>\n",
              "      <td>36</td>\n",
              "      <td>133</td>\n",
              "      <td>99</td>\n",
              "      <td>106</td>\n",
              "    </tr>\n",
              "  </tbody>\n",
              "</table>\n",
              "</div>\n",
              "      <button class=\"colab-df-convert\" onclick=\"convertToInteractive('df-de740ddf-2d72-4d3a-abc6-cad57a546743')\"\n",
              "              title=\"Convert this dataframe to an interactive table.\"\n",
              "              style=\"display:none;\">\n",
              "        \n",
              "  <svg xmlns=\"http://www.w3.org/2000/svg\" height=\"24px\"viewBox=\"0 0 24 24\"\n",
              "       width=\"24px\">\n",
              "    <path d=\"M0 0h24v24H0V0z\" fill=\"none\"/>\n",
              "    <path d=\"M18.56 5.44l.94 2.06.94-2.06 2.06-.94-2.06-.94-.94-2.06-.94 2.06-2.06.94zm-11 1L8.5 8.5l.94-2.06 2.06-.94-2.06-.94L8.5 2.5l-.94 2.06-2.06.94zm10 10l.94 2.06.94-2.06 2.06-.94-2.06-.94-.94-2.06-.94 2.06-2.06.94z\"/><path d=\"M17.41 7.96l-1.37-1.37c-.4-.4-.92-.59-1.43-.59-.52 0-1.04.2-1.43.59L10.3 9.45l-7.72 7.72c-.78.78-.78 2.05 0 2.83L4 21.41c.39.39.9.59 1.41.59.51 0 1.02-.2 1.41-.59l7.78-7.78 2.81-2.81c.8-.78.8-2.07 0-2.86zM5.41 20L4 18.59l7.72-7.72 1.47 1.35L5.41 20z\"/>\n",
              "  </svg>\n",
              "      </button>\n",
              "      \n",
              "  <style>\n",
              "    .colab-df-container {\n",
              "      display:flex;\n",
              "      flex-wrap:wrap;\n",
              "      gap: 12px;\n",
              "    }\n",
              "\n",
              "    .colab-df-convert {\n",
              "      background-color: #E8F0FE;\n",
              "      border: none;\n",
              "      border-radius: 50%;\n",
              "      cursor: pointer;\n",
              "      display: none;\n",
              "      fill: #1967D2;\n",
              "      height: 32px;\n",
              "      padding: 0 0 0 0;\n",
              "      width: 32px;\n",
              "    }\n",
              "\n",
              "    .colab-df-convert:hover {\n",
              "      background-color: #E2EBFA;\n",
              "      box-shadow: 0px 1px 2px rgba(60, 64, 67, 0.3), 0px 1px 3px 1px rgba(60, 64, 67, 0.15);\n",
              "      fill: #174EA6;\n",
              "    }\n",
              "\n",
              "    [theme=dark] .colab-df-convert {\n",
              "      background-color: #3B4455;\n",
              "      fill: #D2E3FC;\n",
              "    }\n",
              "\n",
              "    [theme=dark] .colab-df-convert:hover {\n",
              "      background-color: #434B5C;\n",
              "      box-shadow: 0px 1px 3px 1px rgba(0, 0, 0, 0.15);\n",
              "      filter: drop-shadow(0px 1px 2px rgba(0, 0, 0, 0.3));\n",
              "      fill: #FFFFFF;\n",
              "    }\n",
              "  </style>\n",
              "\n",
              "      <script>\n",
              "        const buttonEl =\n",
              "          document.querySelector('#df-de740ddf-2d72-4d3a-abc6-cad57a546743 button.colab-df-convert');\n",
              "        buttonEl.style.display =\n",
              "          google.colab.kernel.accessAllowed ? 'block' : 'none';\n",
              "\n",
              "        async function convertToInteractive(key) {\n",
              "          const element = document.querySelector('#df-de740ddf-2d72-4d3a-abc6-cad57a546743');\n",
              "          const dataTable =\n",
              "            await google.colab.kernel.invokeFunction('convertToInteractive',\n",
              "                                                     [key], {});\n",
              "          if (!dataTable) return;\n",
              "\n",
              "          const docLinkHtml = 'Like what you see? Visit the ' +\n",
              "            '<a target=\"_blank\" href=https://colab.research.google.com/notebooks/data_table.ipynb>data table notebook</a>'\n",
              "            + ' to learn more about interactive tables.';\n",
              "          element.innerHTML = '';\n",
              "          dataTable['output_type'] = 'display_data';\n",
              "          await google.colab.output.renderOutput(dataTable, element);\n",
              "          const docLink = document.createElement('div');\n",
              "          docLink.innerHTML = docLinkHtml;\n",
              "          element.appendChild(docLink);\n",
              "        }\n",
              "      </script>\n",
              "    </div>\n",
              "  </div>\n",
              "  "
            ],
            "text/plain": [
              "   file_name  cor1  cor2  cor3  cor4  Image_Class\n",
              "0  00001.jpg    39   116   569   375           14\n",
              "1  00002.jpg    36   116   868   587            3\n",
              "2  00003.jpg    85   109   601   381           91\n",
              "3  00004.jpg   621   393  1484  1096          134\n",
              "4  00005.jpg    14    36   133    99          106"
            ]
          },
          "execution_count": 13,
          "metadata": {},
          "output_type": "execute_result"
        }
      ],
      "source": [
        "trainAnno.head()"
      ]
    },
    {
      "cell_type": "code",
      "execution_count": null,
      "metadata": {
        "id": "kxcOmZhRYqUd"
      },
      "outputs": [],
      "source": [
        "# Lets add coordinate information to the above table\n",
        "trainDF=pd.merge(train,trainAnno,on='file_name',how='inner')"
      ]
    },
    {
      "cell_type": "code",
      "execution_count": null,
      "metadata": {
        "colab": {
          "base_uri": "https://localhost:8080/",
          "height": 206
        },
        "id": "INNEjWIHZbKa",
        "outputId": "b8487f10-5815-4057-bf9b-fd73feb22f08"
      },
      "outputs": [
        {
          "data": {
            "text/html": [
              "\n",
              "  <div id=\"df-667a11f0-5f6e-4497-a0d7-72ce672c7b65\">\n",
              "    <div class=\"colab-df-container\">\n",
              "      <div>\n",
              "<style scoped>\n",
              "    .dataframe tbody tr th:only-of-type {\n",
              "        vertical-align: middle;\n",
              "    }\n",
              "\n",
              "    .dataframe tbody tr th {\n",
              "        vertical-align: top;\n",
              "    }\n",
              "\n",
              "    .dataframe thead th {\n",
              "        text-align: right;\n",
              "    }\n",
              "</style>\n",
              "<table border=\"1\" class=\"dataframe\">\n",
              "  <thead>\n",
              "    <tr style=\"text-align: right;\">\n",
              "      <th></th>\n",
              "      <th>file_path</th>\n",
              "      <th>label</th>\n",
              "      <th>file_name</th>\n",
              "      <th>cor1</th>\n",
              "      <th>cor2</th>\n",
              "      <th>cor3</th>\n",
              "      <th>cor4</th>\n",
              "      <th>Image_Class</th>\n",
              "    </tr>\n",
              "  </thead>\n",
              "  <tbody>\n",
              "    <tr>\n",
              "      <th>0</th>\n",
              "      <td>/content/drive/MyDrive/Capstone/Car Images/Car...</td>\n",
              "      <td>Suzuki SX4 Sedan 2012</td>\n",
              "      <td>00482.jpg</td>\n",
              "      <td>80</td>\n",
              "      <td>91</td>\n",
              "      <td>589</td>\n",
              "      <td>429</td>\n",
              "      <td>184</td>\n",
              "    </tr>\n",
              "    <tr>\n",
              "      <th>1</th>\n",
              "      <td>/content/drive/MyDrive/Capstone/Car Images/Car...</td>\n",
              "      <td>Suzuki SX4 Sedan 2012</td>\n",
              "      <td>05872.jpg</td>\n",
              "      <td>39</td>\n",
              "      <td>35</td>\n",
              "      <td>591</td>\n",
              "      <td>413</td>\n",
              "      <td>184</td>\n",
              "    </tr>\n",
              "    <tr>\n",
              "      <th>2</th>\n",
              "      <td>/content/drive/MyDrive/Capstone/Car Images/Car...</td>\n",
              "      <td>Suzuki SX4 Sedan 2012</td>\n",
              "      <td>06576.jpg</td>\n",
              "      <td>64</td>\n",
              "      <td>347</td>\n",
              "      <td>629</td>\n",
              "      <td>577</td>\n",
              "      <td>184</td>\n",
              "    </tr>\n",
              "    <tr>\n",
              "      <th>3</th>\n",
              "      <td>/content/drive/MyDrive/Capstone/Car Images/Car...</td>\n",
              "      <td>Suzuki SX4 Sedan 2012</td>\n",
              "      <td>00719.jpg</td>\n",
              "      <td>118</td>\n",
              "      <td>93</td>\n",
              "      <td>380</td>\n",
              "      <td>317</td>\n",
              "      <td>184</td>\n",
              "    </tr>\n",
              "    <tr>\n",
              "      <th>4</th>\n",
              "      <td>/content/drive/MyDrive/Capstone/Car Images/Car...</td>\n",
              "      <td>Suzuki SX4 Sedan 2012</td>\n",
              "      <td>04655.jpg</td>\n",
              "      <td>9</td>\n",
              "      <td>11</td>\n",
              "      <td>824</td>\n",
              "      <td>489</td>\n",
              "      <td>184</td>\n",
              "    </tr>\n",
              "  </tbody>\n",
              "</table>\n",
              "</div>\n",
              "      <button class=\"colab-df-convert\" onclick=\"convertToInteractive('df-667a11f0-5f6e-4497-a0d7-72ce672c7b65')\"\n",
              "              title=\"Convert this dataframe to an interactive table.\"\n",
              "              style=\"display:none;\">\n",
              "        \n",
              "  <svg xmlns=\"http://www.w3.org/2000/svg\" height=\"24px\"viewBox=\"0 0 24 24\"\n",
              "       width=\"24px\">\n",
              "    <path d=\"M0 0h24v24H0V0z\" fill=\"none\"/>\n",
              "    <path d=\"M18.56 5.44l.94 2.06.94-2.06 2.06-.94-2.06-.94-.94-2.06-.94 2.06-2.06.94zm-11 1L8.5 8.5l.94-2.06 2.06-.94-2.06-.94L8.5 2.5l-.94 2.06-2.06.94zm10 10l.94 2.06.94-2.06 2.06-.94-2.06-.94-.94-2.06-.94 2.06-2.06.94z\"/><path d=\"M17.41 7.96l-1.37-1.37c-.4-.4-.92-.59-1.43-.59-.52 0-1.04.2-1.43.59L10.3 9.45l-7.72 7.72c-.78.78-.78 2.05 0 2.83L4 21.41c.39.39.9.59 1.41.59.51 0 1.02-.2 1.41-.59l7.78-7.78 2.81-2.81c.8-.78.8-2.07 0-2.86zM5.41 20L4 18.59l7.72-7.72 1.47 1.35L5.41 20z\"/>\n",
              "  </svg>\n",
              "      </button>\n",
              "      \n",
              "  <style>\n",
              "    .colab-df-container {\n",
              "      display:flex;\n",
              "      flex-wrap:wrap;\n",
              "      gap: 12px;\n",
              "    }\n",
              "\n",
              "    .colab-df-convert {\n",
              "      background-color: #E8F0FE;\n",
              "      border: none;\n",
              "      border-radius: 50%;\n",
              "      cursor: pointer;\n",
              "      display: none;\n",
              "      fill: #1967D2;\n",
              "      height: 32px;\n",
              "      padding: 0 0 0 0;\n",
              "      width: 32px;\n",
              "    }\n",
              "\n",
              "    .colab-df-convert:hover {\n",
              "      background-color: #E2EBFA;\n",
              "      box-shadow: 0px 1px 2px rgba(60, 64, 67, 0.3), 0px 1px 3px 1px rgba(60, 64, 67, 0.15);\n",
              "      fill: #174EA6;\n",
              "    }\n",
              "\n",
              "    [theme=dark] .colab-df-convert {\n",
              "      background-color: #3B4455;\n",
              "      fill: #D2E3FC;\n",
              "    }\n",
              "\n",
              "    [theme=dark] .colab-df-convert:hover {\n",
              "      background-color: #434B5C;\n",
              "      box-shadow: 0px 1px 3px 1px rgba(0, 0, 0, 0.15);\n",
              "      filter: drop-shadow(0px 1px 2px rgba(0, 0, 0, 0.3));\n",
              "      fill: #FFFFFF;\n",
              "    }\n",
              "  </style>\n",
              "\n",
              "      <script>\n",
              "        const buttonEl =\n",
              "          document.querySelector('#df-667a11f0-5f6e-4497-a0d7-72ce672c7b65 button.colab-df-convert');\n",
              "        buttonEl.style.display =\n",
              "          google.colab.kernel.accessAllowed ? 'block' : 'none';\n",
              "\n",
              "        async function convertToInteractive(key) {\n",
              "          const element = document.querySelector('#df-667a11f0-5f6e-4497-a0d7-72ce672c7b65');\n",
              "          const dataTable =\n",
              "            await google.colab.kernel.invokeFunction('convertToInteractive',\n",
              "                                                     [key], {});\n",
              "          if (!dataTable) return;\n",
              "\n",
              "          const docLinkHtml = 'Like what you see? Visit the ' +\n",
              "            '<a target=\"_blank\" href=https://colab.research.google.com/notebooks/data_table.ipynb>data table notebook</a>'\n",
              "            + ' to learn more about interactive tables.';\n",
              "          element.innerHTML = '';\n",
              "          dataTable['output_type'] = 'display_data';\n",
              "          await google.colab.output.renderOutput(dataTable, element);\n",
              "          const docLink = document.createElement('div');\n",
              "          docLink.innerHTML = docLinkHtml;\n",
              "          element.appendChild(docLink);\n",
              "        }\n",
              "      </script>\n",
              "    </div>\n",
              "  </div>\n",
              "  "
            ],
            "text/plain": [
              "                                           file_path                  label  \\\n",
              "0  /content/drive/MyDrive/Capstone/Car Images/Car...  Suzuki SX4 Sedan 2012   \n",
              "1  /content/drive/MyDrive/Capstone/Car Images/Car...  Suzuki SX4 Sedan 2012   \n",
              "2  /content/drive/MyDrive/Capstone/Car Images/Car...  Suzuki SX4 Sedan 2012   \n",
              "3  /content/drive/MyDrive/Capstone/Car Images/Car...  Suzuki SX4 Sedan 2012   \n",
              "4  /content/drive/MyDrive/Capstone/Car Images/Car...  Suzuki SX4 Sedan 2012   \n",
              "\n",
              "   file_name  cor1  cor2  cor3  cor4  Image_Class  \n",
              "0  00482.jpg    80    91   589   429          184  \n",
              "1  05872.jpg    39    35   591   413          184  \n",
              "2  06576.jpg    64   347   629   577          184  \n",
              "3  00719.jpg   118    93   380   317          184  \n",
              "4  04655.jpg     9    11   824   489          184  "
            ]
          },
          "execution_count": 15,
          "metadata": {},
          "output_type": "execute_result"
        }
      ],
      "source": [
        "trainDF.head(5)"
      ]
    },
    {
      "cell_type": "code",
      "execution_count": null,
      "metadata": {
        "id": "Scr-YkM29p1m"
      },
      "outputs": [],
      "source": [
        "from sklearn.model_selection import train_test_split\n",
        "train_df,valid_df= train_test_split(trainDF, test_size=0.20, random_state=0, stratify=train['label'])"
      ]
    },
    {
      "cell_type": "code",
      "execution_count": null,
      "metadata": {
        "colab": {
          "base_uri": "https://localhost:8080/"
        },
        "id": "L-gkAZhAZnHZ",
        "outputId": "39c2ba7a-2af0-4aaf-afd8-1e07c2759ec0"
      },
      "outputs": [
        {
          "data": {
            "text/plain": [
              "(6515, 8)"
            ]
          },
          "execution_count": 17,
          "metadata": {},
          "output_type": "execute_result"
        },
        {
          "data": {
            "text/plain": [
              "(1629, 8)"
            ]
          },
          "execution_count": 17,
          "metadata": {},
          "output_type": "execute_result"
        }
      ],
      "source": [
        "train_df.shape\n",
        "valid_df.shape"
      ]
    },
    {
      "cell_type": "code",
      "execution_count": null,
      "metadata": {
        "colab": {
          "base_uri": "https://localhost:8080/"
        },
        "id": "je3YBkeW8URb",
        "outputId": "e0e3648f-c1ad-4884-a59c-7cd931e81284"
      },
      "outputs": [
        {
          "name": "stdout",
          "output_type": "stream",
          "text": [
            "Collecting git+https://github.com/mjkvaak/ImageDataAugmentor\n",
            "  Cloning https://github.com/mjkvaak/ImageDataAugmentor to /tmp/pip-req-build-kd91g7mt\n",
            "  Running command git clone -q https://github.com/mjkvaak/ImageDataAugmentor /tmp/pip-req-build-kd91g7mt\n",
            "Requirement already satisfied: albumentations in /usr/local/lib/python3.7/dist-packages (from ImageDataAugmentor==0.0.0) (0.1.12)\n",
            "Collecting opencv-python>=4.2\n",
            "  Downloading opencv_python-4.5.5.64-cp36-abi3-manylinux_2_17_x86_64.manylinux2014_x86_64.whl (60.5 MB)\n",
            "\u001b[K     |████████████████████████████████| 60.5 MB 1.2 MB/s \n",
            "\u001b[?25hRequirement already satisfied: matplotlib in /usr/local/lib/python3.7/dist-packages (from ImageDataAugmentor==0.0.0) (3.2.2)\n",
            "Requirement already satisfied: Pillow in /usr/local/lib/python3.7/dist-packages (from ImageDataAugmentor==0.0.0) (7.1.2)\n",
            "Requirement already satisfied: scipy in /usr/local/lib/python3.7/dist-packages (from ImageDataAugmentor==0.0.0) (1.4.1)\n",
            "Requirement already satisfied: pandas in /usr/local/lib/python3.7/dist-packages (from ImageDataAugmentor==0.0.0) (1.3.5)\n",
            "Requirement already satisfied: numpy>=1.14.5 in /usr/local/lib/python3.7/dist-packages (from opencv-python>=4.2->ImageDataAugmentor==0.0.0) (1.21.5)\n",
            "Collecting imgaug<0.2.7,>=0.2.5\n",
            "  Downloading imgaug-0.2.6.tar.gz (631 kB)\n",
            "\u001b[K     |████████████████████████████████| 631 kB 36.4 MB/s \n",
            "\u001b[?25hRequirement already satisfied: scikit-image>=0.11.0 in /usr/local/lib/python3.7/dist-packages (from imgaug<0.2.7,>=0.2.5->albumentations->ImageDataAugmentor==0.0.0) (0.18.3)\n",
            "Requirement already satisfied: six in /usr/local/lib/python3.7/dist-packages (from imgaug<0.2.7,>=0.2.5->albumentations->ImageDataAugmentor==0.0.0) (1.15.0)\n",
            "Requirement already satisfied: tifffile>=2019.7.26 in /usr/local/lib/python3.7/dist-packages (from scikit-image>=0.11.0->imgaug<0.2.7,>=0.2.5->albumentations->ImageDataAugmentor==0.0.0) (2021.11.2)\n",
            "Requirement already satisfied: networkx>=2.0 in /usr/local/lib/python3.7/dist-packages (from scikit-image>=0.11.0->imgaug<0.2.7,>=0.2.5->albumentations->ImageDataAugmentor==0.0.0) (2.6.3)\n",
            "Requirement already satisfied: PyWavelets>=1.1.1 in /usr/local/lib/python3.7/dist-packages (from scikit-image>=0.11.0->imgaug<0.2.7,>=0.2.5->albumentations->ImageDataAugmentor==0.0.0) (1.3.0)\n",
            "Requirement already satisfied: imageio>=2.3.0 in /usr/local/lib/python3.7/dist-packages (from scikit-image>=0.11.0->imgaug<0.2.7,>=0.2.5->albumentations->ImageDataAugmentor==0.0.0) (2.4.1)\n",
            "Requirement already satisfied: cycler>=0.10 in /usr/local/lib/python3.7/dist-packages (from matplotlib->ImageDataAugmentor==0.0.0) (0.11.0)\n",
            "Requirement already satisfied: python-dateutil>=2.1 in /usr/local/lib/python3.7/dist-packages (from matplotlib->ImageDataAugmentor==0.0.0) (2.8.2)\n",
            "Requirement already satisfied: kiwisolver>=1.0.1 in /usr/local/lib/python3.7/dist-packages (from matplotlib->ImageDataAugmentor==0.0.0) (1.4.0)\n",
            "Requirement already satisfied: pyparsing!=2.0.4,!=2.1.2,!=2.1.6,>=2.0.1 in /usr/local/lib/python3.7/dist-packages (from matplotlib->ImageDataAugmentor==0.0.0) (3.0.7)\n",
            "Requirement already satisfied: typing-extensions in /usr/local/lib/python3.7/dist-packages (from kiwisolver>=1.0.1->matplotlib->ImageDataAugmentor==0.0.0) (3.10.0.2)\n",
            "Requirement already satisfied: pytz>=2017.3 in /usr/local/lib/python3.7/dist-packages (from pandas->ImageDataAugmentor==0.0.0) (2018.9)\n",
            "Building wheels for collected packages: ImageDataAugmentor, imgaug\n",
            "  Building wheel for ImageDataAugmentor (setup.py) ... \u001b[?25l\u001b[?25hdone\n",
            "  Created wheel for ImageDataAugmentor: filename=ImageDataAugmentor-0.0.0-py3-none-any.whl size=29638 sha256=768d8bde29e5f28f6bd785cd4442ce76772da6ccb4110b9e2223ea1fcfe07974\n",
            "  Stored in directory: /tmp/pip-ephem-wheel-cache-x66su22v/wheels/c9/bd/73/9cfa59d2393dae55bbcc30f5aa901f55fe531c66efebbc8fc3\n",
            "  Building wheel for imgaug (setup.py) ... \u001b[?25l\u001b[?25hdone\n",
            "  Created wheel for imgaug: filename=imgaug-0.2.6-py3-none-any.whl size=654017 sha256=56726b68b221e68cc544395797123114428ed3e688109ac5f202822d2bcd8fdf\n",
            "  Stored in directory: /root/.cache/pip/wheels/89/72/98/3ebfdba1069a9a8eaaa7ae7265cfd67d63ef0197aaee2e5f9c\n",
            "Successfully built ImageDataAugmentor imgaug\n",
            "Installing collected packages: opencv-python, imgaug, ImageDataAugmentor\n",
            "  Attempting uninstall: opencv-python\n",
            "    Found existing installation: opencv-python 4.1.2.30\n",
            "    Uninstalling opencv-python-4.1.2.30:\n",
            "      Successfully uninstalled opencv-python-4.1.2.30\n",
            "  Attempting uninstall: imgaug\n",
            "    Found existing installation: imgaug 0.2.9\n",
            "    Uninstalling imgaug-0.2.9:\n",
            "      Successfully uninstalled imgaug-0.2.9\n",
            "Successfully installed ImageDataAugmentor-0.0.0 imgaug-0.2.6 opencv-python-4.5.5.64\n",
            "Requirement already satisfied: albumentations in /usr/local/lib/python3.7/dist-packages (0.1.12)\n",
            "Collecting albumentations\n",
            "  Downloading albumentations-1.1.0-py3-none-any.whl (102 kB)\n",
            "\u001b[K     |████████████████████████████████| 102 kB 18.4 MB/s \n",
            "\u001b[?25hRequirement already satisfied: scikit-image>=0.16.1 in /usr/local/lib/python3.7/dist-packages (from albumentations) (0.18.3)\n",
            "Requirement already satisfied: scipy in /usr/local/lib/python3.7/dist-packages (from albumentations) (1.4.1)\n",
            "Requirement already satisfied: PyYAML in /usr/local/lib/python3.7/dist-packages (from albumentations) (3.13)\n",
            "Collecting qudida>=0.0.4\n",
            "  Downloading qudida-0.0.4-py3-none-any.whl (3.5 kB)\n",
            "Requirement already satisfied: numpy>=1.11.1 in /usr/local/lib/python3.7/dist-packages (from albumentations) (1.21.5)\n",
            "Collecting opencv-python-headless>=4.1.1\n",
            "  Downloading opencv_python_headless-4.5.5.64-cp36-abi3-manylinux_2_17_x86_64.manylinux2014_x86_64.whl (47.8 MB)\n",
            "\u001b[K     |████████████████████████████████| 47.8 MB 82.2 MB/s \n",
            "\u001b[?25hRequirement already satisfied: typing-extensions in /usr/local/lib/python3.7/dist-packages (from qudida>=0.0.4->albumentations) (3.10.0.2)\n",
            "Requirement already satisfied: scikit-learn>=0.19.1 in /usr/local/lib/python3.7/dist-packages (from qudida>=0.0.4->albumentations) (1.0.2)\n",
            "Requirement already satisfied: tifffile>=2019.7.26 in /usr/local/lib/python3.7/dist-packages (from scikit-image>=0.16.1->albumentations) (2021.11.2)\n",
            "Requirement already satisfied: imageio>=2.3.0 in /usr/local/lib/python3.7/dist-packages (from scikit-image>=0.16.1->albumentations) (2.4.1)\n",
            "Requirement already satisfied: networkx>=2.0 in /usr/local/lib/python3.7/dist-packages (from scikit-image>=0.16.1->albumentations) (2.6.3)\n",
            "Requirement already satisfied: PyWavelets>=1.1.1 in /usr/local/lib/python3.7/dist-packages (from scikit-image>=0.16.1->albumentations) (1.3.0)\n",
            "Requirement already satisfied: matplotlib!=3.0.0,>=2.0.0 in /usr/local/lib/python3.7/dist-packages (from scikit-image>=0.16.1->albumentations) (3.2.2)\n",
            "Requirement already satisfied: pillow!=7.1.0,!=7.1.1,>=4.3.0 in /usr/local/lib/python3.7/dist-packages (from scikit-image>=0.16.1->albumentations) (7.1.2)\n",
            "Requirement already satisfied: pyparsing!=2.0.4,!=2.1.2,!=2.1.6,>=2.0.1 in /usr/local/lib/python3.7/dist-packages (from matplotlib!=3.0.0,>=2.0.0->scikit-image>=0.16.1->albumentations) (3.0.7)\n",
            "Requirement already satisfied: kiwisolver>=1.0.1 in /usr/local/lib/python3.7/dist-packages (from matplotlib!=3.0.0,>=2.0.0->scikit-image>=0.16.1->albumentations) (1.4.0)\n",
            "Requirement already satisfied: python-dateutil>=2.1 in /usr/local/lib/python3.7/dist-packages (from matplotlib!=3.0.0,>=2.0.0->scikit-image>=0.16.1->albumentations) (2.8.2)\n",
            "Requirement already satisfied: cycler>=0.10 in /usr/local/lib/python3.7/dist-packages (from matplotlib!=3.0.0,>=2.0.0->scikit-image>=0.16.1->albumentations) (0.11.0)\n",
            "Requirement already satisfied: six>=1.5 in /usr/local/lib/python3.7/dist-packages (from python-dateutil>=2.1->matplotlib!=3.0.0,>=2.0.0->scikit-image>=0.16.1->albumentations) (1.15.0)\n",
            "Requirement already satisfied: joblib>=0.11 in /usr/local/lib/python3.7/dist-packages (from scikit-learn>=0.19.1->qudida>=0.0.4->albumentations) (1.1.0)\n",
            "Requirement already satisfied: threadpoolctl>=2.0.0 in /usr/local/lib/python3.7/dist-packages (from scikit-learn>=0.19.1->qudida>=0.0.4->albumentations) (3.1.0)\n",
            "Installing collected packages: opencv-python-headless, qudida, albumentations\n",
            "  Attempting uninstall: albumentations\n",
            "    Found existing installation: albumentations 0.1.12\n",
            "    Uninstalling albumentations-0.1.12:\n",
            "      Successfully uninstalled albumentations-0.1.12\n",
            "Successfully installed albumentations-1.1.0 opencv-python-headless-4.5.5.64 qudida-0.0.4\n"
          ]
        }
      ],
      "source": [
        "#!pip install -qqq tensorflow_addons\n",
        "!pip install git+https://github.com/mjkvaak/ImageDataAugmentor\n",
        "!pip install -U albumentations"
      ]
    },
    {
      "cell_type": "code",
      "execution_count": null,
      "metadata": {
        "id": "_X_fFaZMaYfj"
      },
      "outputs": [],
      "source": [
        "# Setting the correct order of labels to prevent mismatches\n",
        "class_label_list=pd.read_csv('/content/drive/MyDrive/Capstone/Car _names_and_make.txt',names=['make'])"
      ]
    },
    {
      "cell_type": "code",
      "execution_count": null,
      "metadata": {
        "colab": {
          "base_uri": "https://localhost:8080/"
        },
        "id": "F7NxXEBpc25O",
        "outputId": "f4d47017-9598-4e6b-c61c-22e3fa716b25"
      },
      "outputs": [
        {
          "data": {
            "text/plain": [
              "pandas.core.frame.DataFrame"
            ]
          },
          "execution_count": 23,
          "metadata": {},
          "output_type": "execute_result"
        }
      ],
      "source": [
        "type(class_label_list)"
      ]
    },
    {
      "cell_type": "code",
      "execution_count": null,
      "metadata": {
        "colab": {
          "base_uri": "https://localhost:8080/",
          "height": 206
        },
        "id": "TRdMRJWNc50d",
        "outputId": "07ce628d-bf38-4320-df0f-becbb2b72a41"
      },
      "outputs": [
        {
          "data": {
            "text/html": [
              "\n",
              "  <div id=\"df-87a8eb95-162a-438c-8e4b-6a711af0cec9\">\n",
              "    <div class=\"colab-df-container\">\n",
              "      <div>\n",
              "<style scoped>\n",
              "    .dataframe tbody tr th:only-of-type {\n",
              "        vertical-align: middle;\n",
              "    }\n",
              "\n",
              "    .dataframe tbody tr th {\n",
              "        vertical-align: top;\n",
              "    }\n",
              "\n",
              "    .dataframe thead th {\n",
              "        text-align: right;\n",
              "    }\n",
              "</style>\n",
              "<table border=\"1\" class=\"dataframe\">\n",
              "  <thead>\n",
              "    <tr style=\"text-align: right;\">\n",
              "      <th></th>\n",
              "      <th>make</th>\n",
              "    </tr>\n",
              "  </thead>\n",
              "  <tbody>\n",
              "    <tr>\n",
              "      <th>0</th>\n",
              "      <td>AM General Hummer SUV 2000</td>\n",
              "    </tr>\n",
              "    <tr>\n",
              "      <th>1</th>\n",
              "      <td>Acura RL Sedan 2012</td>\n",
              "    </tr>\n",
              "    <tr>\n",
              "      <th>2</th>\n",
              "      <td>Acura TL Sedan 2012</td>\n",
              "    </tr>\n",
              "    <tr>\n",
              "      <th>3</th>\n",
              "      <td>Acura TL Type-S 2008</td>\n",
              "    </tr>\n",
              "    <tr>\n",
              "      <th>4</th>\n",
              "      <td>Acura TSX Sedan 2012</td>\n",
              "    </tr>\n",
              "  </tbody>\n",
              "</table>\n",
              "</div>\n",
              "      <button class=\"colab-df-convert\" onclick=\"convertToInteractive('df-87a8eb95-162a-438c-8e4b-6a711af0cec9')\"\n",
              "              title=\"Convert this dataframe to an interactive table.\"\n",
              "              style=\"display:none;\">\n",
              "        \n",
              "  <svg xmlns=\"http://www.w3.org/2000/svg\" height=\"24px\"viewBox=\"0 0 24 24\"\n",
              "       width=\"24px\">\n",
              "    <path d=\"M0 0h24v24H0V0z\" fill=\"none\"/>\n",
              "    <path d=\"M18.56 5.44l.94 2.06.94-2.06 2.06-.94-2.06-.94-.94-2.06-.94 2.06-2.06.94zm-11 1L8.5 8.5l.94-2.06 2.06-.94-2.06-.94L8.5 2.5l-.94 2.06-2.06.94zm10 10l.94 2.06.94-2.06 2.06-.94-2.06-.94-.94-2.06-.94 2.06-2.06.94z\"/><path d=\"M17.41 7.96l-1.37-1.37c-.4-.4-.92-.59-1.43-.59-.52 0-1.04.2-1.43.59L10.3 9.45l-7.72 7.72c-.78.78-.78 2.05 0 2.83L4 21.41c.39.39.9.59 1.41.59.51 0 1.02-.2 1.41-.59l7.78-7.78 2.81-2.81c.8-.78.8-2.07 0-2.86zM5.41 20L4 18.59l7.72-7.72 1.47 1.35L5.41 20z\"/>\n",
              "  </svg>\n",
              "      </button>\n",
              "      \n",
              "  <style>\n",
              "    .colab-df-container {\n",
              "      display:flex;\n",
              "      flex-wrap:wrap;\n",
              "      gap: 12px;\n",
              "    }\n",
              "\n",
              "    .colab-df-convert {\n",
              "      background-color: #E8F0FE;\n",
              "      border: none;\n",
              "      border-radius: 50%;\n",
              "      cursor: pointer;\n",
              "      display: none;\n",
              "      fill: #1967D2;\n",
              "      height: 32px;\n",
              "      padding: 0 0 0 0;\n",
              "      width: 32px;\n",
              "    }\n",
              "\n",
              "    .colab-df-convert:hover {\n",
              "      background-color: #E2EBFA;\n",
              "      box-shadow: 0px 1px 2px rgba(60, 64, 67, 0.3), 0px 1px 3px 1px rgba(60, 64, 67, 0.15);\n",
              "      fill: #174EA6;\n",
              "    }\n",
              "\n",
              "    [theme=dark] .colab-df-convert {\n",
              "      background-color: #3B4455;\n",
              "      fill: #D2E3FC;\n",
              "    }\n",
              "\n",
              "    [theme=dark] .colab-df-convert:hover {\n",
              "      background-color: #434B5C;\n",
              "      box-shadow: 0px 1px 3px 1px rgba(0, 0, 0, 0.15);\n",
              "      filter: drop-shadow(0px 1px 2px rgba(0, 0, 0, 0.3));\n",
              "      fill: #FFFFFF;\n",
              "    }\n",
              "  </style>\n",
              "\n",
              "      <script>\n",
              "        const buttonEl =\n",
              "          document.querySelector('#df-87a8eb95-162a-438c-8e4b-6a711af0cec9 button.colab-df-convert');\n",
              "        buttonEl.style.display =\n",
              "          google.colab.kernel.accessAllowed ? 'block' : 'none';\n",
              "\n",
              "        async function convertToInteractive(key) {\n",
              "          const element = document.querySelector('#df-87a8eb95-162a-438c-8e4b-6a711af0cec9');\n",
              "          const dataTable =\n",
              "            await google.colab.kernel.invokeFunction('convertToInteractive',\n",
              "                                                     [key], {});\n",
              "          if (!dataTable) return;\n",
              "\n",
              "          const docLinkHtml = 'Like what you see? Visit the ' +\n",
              "            '<a target=\"_blank\" href=https://colab.research.google.com/notebooks/data_table.ipynb>data table notebook</a>'\n",
              "            + ' to learn more about interactive tables.';\n",
              "          element.innerHTML = '';\n",
              "          dataTable['output_type'] = 'display_data';\n",
              "          await google.colab.output.renderOutput(dataTable, element);\n",
              "          const docLink = document.createElement('div');\n",
              "          docLink.innerHTML = docLinkHtml;\n",
              "          element.appendChild(docLink);\n",
              "        }\n",
              "      </script>\n",
              "    </div>\n",
              "  </div>\n",
              "  "
            ],
            "text/plain": [
              "                         make\n",
              "0  AM General Hummer SUV 2000\n",
              "1         Acura RL Sedan 2012\n",
              "2         Acura TL Sedan 2012\n",
              "3        Acura TL Type-S 2008\n",
              "4        Acura TSX Sedan 2012"
            ]
          },
          "execution_count": 24,
          "metadata": {},
          "output_type": "execute_result"
        }
      ],
      "source": [
        "class_label_list.head()"
      ]
    },
    {
      "cell_type": "code",
      "execution_count": null,
      "metadata": {
        "id": "zs59fomrdc-u"
      },
      "outputs": [],
      "source": [
        "all_classes=list(class_label_list['make'])"
      ]
    },
    {
      "cell_type": "code",
      "execution_count": null,
      "metadata": {
        "colab": {
          "base_uri": "https://localhost:8080/"
        },
        "id": "hCi9OgiUdlLZ",
        "outputId": "649df8b3-16d6-4eed-97aa-b0e7d188331a"
      },
      "outputs": [
        {
          "data": {
            "text/plain": [
              "196"
            ]
          },
          "execution_count": 26,
          "metadata": {},
          "output_type": "execute_result"
        }
      ],
      "source": [
        "len(all_classes)"
      ]
    },
    {
      "cell_type": "code",
      "execution_count": null,
      "metadata": {
        "colab": {
          "base_uri": "https://localhost:8080/"
        },
        "id": "1CFuQNM_NqmM",
        "outputId": "3eac8225-ad46-42c2-d970-9b7e9e4cd989"
      },
      "outputs": [
        {
          "name": "stderr",
          "output_type": "stream",
          "text": [
            "/usr/local/lib/python3.7/dist-packages/albumentations/augmentations/transforms.py:691: FutureWarning: This class has been deprecated. Please use CoarseDropout\n",
            "  FutureWarning,\n"
          ]
        },
        {
          "name": "stdout",
          "output_type": "stream",
          "text": [
            "Found 6482 validated image filenames belonging to 196 classes.\n",
            "Found 1621 validated image filenames belonging to 196 classes.\n"
          ]
        }
      ],
      "source": [
        "import tensorflow as tf\n",
        "from ImageDataAugmentor.image_data_augmentor import *\n",
        "import albumentations\n",
        "\n",
        "    \n",
        "AUGMENTATIONS = albumentations.Compose([\n",
        "    albumentations.HorizontalFlip(p=0.5),\n",
        "    albumentations.Rotate(p=0.5,limit=25),\n",
        "    albumentations.OneOf([\n",
        "        albumentations.RandomBrightnessContrast(brightness_limit=0.5, contrast_limit=0.3),\n",
        "        albumentations.RandomBrightnessContrast(brightness_limit=1.5, contrast_limit=0.1)\n",
        "    ],p=1),\n",
        "    #albumentations.HueSaturationValue(p=0.5),\n",
        "    #albumentations.Affine(shear=20),\n",
        "    albumentations.Cutout(num_holes=1, max_h_size=16,max_w_size = 16,p=1),\n",
        "    #albumentations.ShiftScaleRotate(shift_limit=0.0625, scale_limit=0.50, rotate_limit=15, p=.75),\n",
        "    #albumentations.Blur(blur_limit=3),\n",
        "    #albumentations.OpticalDistortion()\n",
        "    #albumentations.RGBShift(p=0.5),\n",
        "])\n",
        "\n",
        "# dataloaders\n",
        "train_datagen = ImageDataAugmentor(\n",
        "        augment=AUGMENTATIONS,\n",
        "        #validation_split=0.2,\n",
        "        seed=42\n",
        "        )\n",
        "\n",
        "\n",
        "val_datagen = ImageDataAugmentor()#validation_split=0.2)\n",
        "\n",
        "\n",
        "train_ds = train_datagen.flow_from_dataframe(\n",
        "        dataframe=train_df,\n",
        "        directory=train_data_dir,\n",
        "        x_col=\"file_path\",\n",
        "        y_col=\"label\",\n",
        "        target_size=(IMG_SIZE, IMG_SIZE),\n",
        "        batch_size=BATCH_SIZE,\n",
        "        class_mode='categorical',\n",
        "        classes=all_classes\n",
        "\n",
        "        )\n",
        "\n",
        "val_ds = val_datagen.flow_from_dataframe(\n",
        "        dataframe=valid_df,\n",
        "        directory=train_data_dir,\n",
        "        x_col=\"file_path\",\n",
        "        y_col=\"label\",\n",
        "        target_size=(IMG_SIZE, IMG_SIZE),\n",
        "        batch_size=BATCH_SIZE,\n",
        "        class_mode='categorical',\n",
        "        classes=all_classes\n",
        "        )"
      ]
    },
    {
      "cell_type": "code",
      "execution_count": null,
      "metadata": {
        "id": "5BMGECc14VZh"
      },
      "outputs": [],
      "source": [
        "(x,y)=train_ds.next()"
      ]
    },
    {
      "cell_type": "code",
      "execution_count": null,
      "metadata": {
        "colab": {
          "base_uri": "https://localhost:8080/"
        },
        "id": "ci2sy6rp4zXr",
        "outputId": "1df5cc02-d015-460c-a52e-7817a31ba15b"
      },
      "outputs": [
        {
          "data": {
            "text/plain": [
              "(32, 224, 224, 3)"
            ]
          },
          "execution_count": 71,
          "metadata": {},
          "output_type": "execute_result"
        }
      ],
      "source": [
        "x.shape"
      ]
    },
    {
      "cell_type": "code",
      "execution_count": null,
      "metadata": {
        "colab": {
          "base_uri": "https://localhost:8080/"
        },
        "id": "nN_q9EPh41fI",
        "outputId": "f5738c45-7434-4c33-ccf5-1ab68ecc9600"
      },
      "outputs": [
        {
          "data": {
            "text/plain": [
              "(32, 196)"
            ]
          },
          "execution_count": 72,
          "metadata": {},
          "output_type": "execute_result"
        }
      ],
      "source": [
        "y.shape"
      ]
    },
    {
      "cell_type": "code",
      "execution_count": null,
      "metadata": {
        "id": "eTyrQag4brnH"
      },
      "outputs": [],
      "source": [
        "#train_ds.class_indices"
      ]
    },
    {
      "cell_type": "code",
      "execution_count": null,
      "metadata": {
        "colab": {
          "base_uri": "https://localhost:8080/"
        },
        "id": "cBMoksKFSZAE",
        "outputId": "2503a090-1445-4ee0-9d41-671be9adf0a9"
      },
      "outputs": [
        {
          "data": {
            "text/plain": [
              "ImageDataAugmentor.dataframe_iterator.DataFrameIterator"
            ]
          },
          "execution_count": 74,
          "metadata": {},
          "output_type": "execute_result"
        }
      ],
      "source": [
        "type(train_ds)"
      ]
    },
    {
      "cell_type": "code",
      "execution_count": null,
      "metadata": {
        "id": "SOcpNAHnNqj3"
      },
      "outputs": [],
      "source": [
        "from tensorflow.keras import layers\n",
        "\n",
        "def build_model(num_classes=196,IMG_SIZE=224):\n",
        "  inputs = layers.Input(shape=(IMG_SIZE, IMG_SIZE, 3))\n",
        "  model = tf.keras.applications.efficientnet.EfficientNetB3(include_top=False, input_tensor=inputs, weights=\"imagenet\")\n",
        "\n",
        "  # Freeze the pretrained weights\n",
        "  model.trainable = False\n",
        "\n",
        "  # Rebuild top\n",
        "  x = layers.GlobalAveragePooling2D(name=\"avg_pool\")(model.output)\n",
        "  x = layers.BatchNormalization()(x)\n",
        "\n",
        "  top_dropout_rate = 0.5\n",
        "  x = layers.Dropout(top_dropout_rate, name=\"top_dropout\")(x)\n",
        "  outputs = layers.Dense(num_classes, activation=\"softmax\", name=\"pred\")(x)\n",
        "\n",
        "  # Compile\n",
        "  return tf.keras.Model(inputs, outputs, name=\"EfficientNet\")"
      ]
    },
    {
      "cell_type": "code",
      "execution_count": null,
      "metadata": {
        "colab": {
          "base_uri": "https://localhost:8080/"
        },
        "id": "PC0yN1LqNqhb",
        "outputId": "16b1ec98-c46c-4e78-d457-4e1c0b8e18b8"
      },
      "outputs": [
        {
          "name": "stdout",
          "output_type": "stream",
          "text": [
            "Epoch 1/5\n",
            "203/203 [==============================] - 2606s 13s/step - loss: 6.9902 - accuracy: 0.0438 - val_loss: 4.1374 - val_accuracy: 0.1536\n",
            "Epoch 2/5\n",
            "203/203 [==============================] - 82s 403ms/step - loss: 6.6366 - accuracy: 0.0972 - val_loss: 3.5169 - val_accuracy: 0.2153\n",
            "Epoch 3/5\n",
            "203/203 [==============================] - 82s 403ms/step - loss: 4.3705 - accuracy: 0.1361 - val_loss: 3.0065 - val_accuracy: 0.2825\n",
            "Epoch 4/5\n",
            "203/203 [==============================] - 82s 402ms/step - loss: 3.9208 - accuracy: 0.1856 - val_loss: 2.7024 - val_accuracy: 0.3590\n",
            "Epoch 5/5\n",
            "203/203 [==============================] - 82s 402ms/step - loss: 3.6733 - accuracy: 0.2194 - val_loss: 2.6600 - val_accuracy: 0.3603\n"
          ]
        }
      ],
      "source": [
        "from functools import partial\n",
        "INIT_LR=0.001\n",
        "MAX_LR=0.1\n",
        "\n",
        "steps_per_epoch = len(train_ds)\n",
        "clr = tfa.optimizers.CyclicalLearningRate(initial_learning_rate=INIT_LR,\n",
        "                                          maximal_learning_rate=MAX_LR,\n",
        "                                          scale_fn=lambda x: 1/(2.**(x-1)),\n",
        "                                          step_size=2 * steps_per_epoch\n",
        "                                          )\n",
        "\n",
        "\n",
        "optimizer = partial(SGD, momentum=0.9, nesterov=True)(clr)\n",
        "optimizer = tfa.optimizers.SWA(optimizer)\n",
        "\n",
        "model = build_model(num_classes=196,IMG_SIZE=224) \n",
        "model.compile(optimizer=optimizer, loss=\"categorical_crossentropy\", metrics=[\"accuracy\"])\n",
        "epochs = 5 \n",
        "\n",
        "\n",
        "hist = model.fit(train_ds, epochs=epochs, validation_data=val_ds, verbose=1)"
      ]
    },
    {
      "cell_type": "code",
      "execution_count": null,
      "metadata": {
        "id": "FEsAoZ1VlLT5"
      },
      "outputs": [],
      "source": [
        "#end"
      ]
    },
    {
      "cell_type": "code",
      "execution_count": null,
      "metadata": {
        "id": "pc7fKkBeMHGl"
      },
      "outputs": [],
      "source": [
        "#STOP"
      ]
    },
    {
      "cell_type": "code",
      "execution_count": null,
      "metadata": {
        "id": "wj-KnhRSrDGz"
      },
      "outputs": [],
      "source": [
        "checkpoint_path = \"./cp-{iter:04d}.ckpt\"\n",
        "checkpoint_dir = os.path.dirname(checkpoint_path)\n",
        "model.save_weights(checkpoint_path.format(iter=1))"
      ]
    },
    {
      "cell_type": "code",
      "execution_count": null,
      "metadata": {
        "colab": {
          "base_uri": "https://localhost:8080/"
        },
        "id": "9QzQbw6K-OeT",
        "outputId": "39d29bc7-4bd6-4d1d-e800-791454f3cfb0"
      },
      "outputs": [
        {
          "name": "stdout",
          "output_type": "stream",
          "text": [
            "51/51 [==============================] - 17s 340ms/step - loss: 2.6600 - accuracy: 0.3603\n"
          ]
        },
        {
          "data": {
            "text/plain": [
              "[2.6600399017333984, 0.3602714240550995]"
            ]
          },
          "execution_count": 80,
          "metadata": {},
          "output_type": "execute_result"
        }
      ],
      "source": [
        "model.evaluate(val_ds)"
      ]
    },
    {
      "cell_type": "code",
      "execution_count": null,
      "metadata": {
        "colab": {
          "base_uri": "https://localhost:8080/"
        },
        "id": "933Mp53pqIE6",
        "outputId": "43f21e87-ea2b-47f8-d81c-cf683e374b29"
      },
      "outputs": [
        {
          "name": "stdout",
          "output_type": "stream",
          "text": [
            "Found 6482 validated image filenames belonging to 196 classes.\n",
            "Found 1621 validated image filenames belonging to 196 classes.\n"
          ]
        }
      ],
      "source": [
        "from functools import partial\n",
        "\n",
        "IMG_SIZE = 300\n",
        "#IMG_SIZE = 128\n",
        "\n",
        "train_ds = train_datagen.flow_from_dataframe(\n",
        "        dataframe=train_df,\n",
        "        directory=train_data_dir,\n",
        "        x_col=\"file_path\",\n",
        "        y_col=\"label\",\n",
        "        target_size=(IMG_SIZE, IMG_SIZE),\n",
        "        batch_size=BATCH_SIZE,\n",
        "        class_mode='categorical',\n",
        "        classes=all_classes\n",
        "        )\n",
        "\n",
        "val_ds = val_datagen.flow_from_dataframe(\n",
        "        dataframe=valid_df,\n",
        "        directory=train_data_dir,\n",
        "        x_col=\"file_path\",\n",
        "        y_col=\"label\",\n",
        "        target_size=(IMG_SIZE, IMG_SIZE),\n",
        "        batch_size=BATCH_SIZE,\n",
        "        class_mode='categorical',\n",
        "        classes=all_classes\n",
        "        )\n",
        "\n",
        "model = build_model(num_classes=196,IMG_SIZE=IMG_SIZE)\n",
        "#model.load_weights('./cp-0001.ckpt')\n",
        "\n",
        "optimizer = partial(SGD, momentum=0.9, nesterov=True)(clr)\n",
        "optimizer = tfa.optimizers.SWA(optimizer)\n",
        "model.compile(optimizer=optimizer, loss=\"categorical_crossentropy\", metrics=[\"accuracy\"])\n",
        "\n",
        "#model.fit(train_ds, epochs=epochs, validation_data=val_ds, verbose=1)"
      ]
    },
    {
      "cell_type": "code",
      "execution_count": null,
      "metadata": {
        "id": "JfczBaEvqIB1"
      },
      "outputs": [],
      "source": [
        "model.save_weights(checkpoint_path.format(iter=2))"
      ]
    },
    {
      "cell_type": "code",
      "execution_count": null,
      "metadata": {
        "colab": {
          "base_uri": "https://localhost:8080/"
        },
        "id": "Zolw22pH9PuZ",
        "outputId": "7a4352a9-385c-4ca6-aff0-98c26f4696dc"
      },
      "outputs": [
        {
          "name": "stdout",
          "output_type": "stream",
          "text": [
            "Epoch 1/5\n",
            "203/203 [==============================] - 102s 447ms/step - loss: 5.8607 - accuracy: 0.0234 - val_loss: 4.0894 - val_accuracy: 0.1437\n",
            "Epoch 2/5\n",
            "203/203 [==============================] - 88s 434ms/step - loss: 4.8313 - accuracy: 0.0713 - val_loss: 3.2636 - val_accuracy: 0.2529\n",
            "Epoch 3/5\n",
            "203/203 [==============================] - 89s 438ms/step - loss: 4.3086 - accuracy: 0.1134 - val_loss: 2.7951 - val_accuracy: 0.3270\n",
            "Epoch 4/5\n",
            "203/203 [==============================] - 89s 437ms/step - loss: 3.9361 - accuracy: 0.1689 - val_loss: 2.4848 - val_accuracy: 0.3985\n",
            "Epoch 5/5\n",
            "203/203 [==============================] - 89s 436ms/step - loss: 3.6731 - accuracy: 0.2151 - val_loss: 2.2582 - val_accuracy: 0.4584\n"
          ]
        },
        {
          "data": {
            "text/plain": [
              "<keras.callbacks.History at 0x7f877fd80ed0>"
            ]
          },
          "execution_count": 83,
          "metadata": {},
          "output_type": "execute_result"
        }
      ],
      "source": [
        "for layer in model.layers[-20:]:\n",
        "  if not isinstance(layer, layers.BatchNormalization):\n",
        "    layer.trainable = True\n",
        "\n",
        "INIT_LR=0.001\n",
        "MAX_LR=0.1\n",
        "\n",
        "steps_per_epoch = len(train_ds)\n",
        "clr = tfa.optimizers.CyclicalLearningRate(initial_learning_rate=INIT_LR,\n",
        "                                          maximal_learning_rate=MAX_LR,\n",
        "                                          scale_fn=lambda x: 1/(2.**(x-1)),\n",
        "                                          step_size=2 * steps_per_epoch\n",
        "                                          )\n",
        "\n",
        "#model.load_weights('./cp-0002.ckpt')\n",
        "\n",
        "model.compile(optimizer=tfa.optimizers.LAMB(), loss=\"categorical_crossentropy\", metrics=[\"accuracy\"])\n",
        "\n",
        "\n",
        "epochs = 5  \n",
        "model.fit(train_ds, epochs=epochs, validation_data=val_ds, verbose=1)"
      ]
    },
    {
      "cell_type": "code",
      "execution_count": null,
      "metadata": {
        "id": "JiyLaDw79Pr_"
      },
      "outputs": [],
      "source": [
        "model.save_weights(checkpoint_path.format(iter=3))"
      ]
    },
    {
      "cell_type": "code",
      "execution_count": null,
      "metadata": {
        "colab": {
          "base_uri": "https://localhost:8080/"
        },
        "id": "-ZnZHWozRdnl",
        "outputId": "a86384c6-2b68-47b5-c3d0-99131be378d3"
      },
      "outputs": [
        {
          "name": "stdout",
          "output_type": "stream",
          "text": [
            "Epoch 1/10\n",
            "203/203 [==============================] - ETA: 0s - loss: 1.9938 - accuracy: 0.5844\n",
            "Epoch 1: val_accuracy improved from -inf to 0.68661, saving model to /content/drive/MyDrive/Capstone/Pickled_Info/classification_best_weights_300_sync.h5\n",
            "203/203 [==============================] - 93s 458ms/step - loss: 1.9938 - accuracy: 0.5844 - val_loss: 1.1005 - val_accuracy: 0.6866\n",
            "Epoch 2/10\n",
            "203/203 [==============================] - ETA: 0s - loss: 1.9898 - accuracy: 0.5855\n",
            "Epoch 2: val_accuracy improved from 0.68661 to 0.69278, saving model to /content/drive/MyDrive/Capstone/Pickled_Info/classification_best_weights_300_sync.h5\n",
            "203/203 [==============================] - 91s 448ms/step - loss: 1.9898 - accuracy: 0.5855 - val_loss: 1.0850 - val_accuracy: 0.6928\n",
            "Epoch 3/10\n",
            "203/203 [==============================] - ETA: 0s - loss: 1.9678 - accuracy: 0.5943\n",
            "Epoch 3: val_accuracy improved from 0.69278 to 0.69895, saving model to /content/drive/MyDrive/Capstone/Pickled_Info/classification_best_weights_300_sync.h5\n",
            "203/203 [==============================] - 91s 448ms/step - loss: 1.9678 - accuracy: 0.5943 - val_loss: 1.1243 - val_accuracy: 0.6990\n",
            "Epoch 4/10\n",
            "203/203 [==============================] - ETA: 0s - loss: 1.9193 - accuracy: 0.6018\n",
            "Epoch 4: val_accuracy improved from 0.69895 to 0.70142, saving model to /content/drive/MyDrive/Capstone/Pickled_Info/classification_best_weights_300_sync.h5\n",
            "203/203 [==============================] - 92s 451ms/step - loss: 1.9193 - accuracy: 0.6018 - val_loss: 1.1010 - val_accuracy: 0.7014\n",
            "Epoch 5/10\n",
            "203/203 [==============================] - ETA: 0s - loss: 1.9169 - accuracy: 0.6023\n",
            "Epoch 5: val_accuracy did not improve from 0.70142\n",
            "203/203 [==============================] - 90s 441ms/step - loss: 1.9169 - accuracy: 0.6023 - val_loss: 1.1000 - val_accuracy: 0.6922\n",
            "Epoch 6/10\n",
            "203/203 [==============================] - ETA: 0s - loss: 1.8751 - accuracy: 0.6157\n",
            "Epoch 6: val_accuracy improved from 0.70142 to 0.70450, saving model to /content/drive/MyDrive/Capstone/Pickled_Info/classification_best_weights_300_sync.h5\n",
            "203/203 [==============================] - 89s 439ms/step - loss: 1.8751 - accuracy: 0.6157 - val_loss: 1.0867 - val_accuracy: 0.7045\n",
            "Epoch 7/10\n",
            "203/203 [==============================] - ETA: 0s - loss: 1.9014 - accuracy: 0.6125\n",
            "Epoch 7: val_accuracy did not improve from 0.70450\n",
            "203/203 [==============================] - 89s 440ms/step - loss: 1.9014 - accuracy: 0.6125 - val_loss: 1.0833 - val_accuracy: 0.6959\n",
            "Epoch 8/10\n",
            "203/203 [==============================] - ETA: 0s - loss: 1.9371 - accuracy: 0.6006\n",
            "Epoch 8: val_accuracy did not improve from 0.70450\n",
            "203/203 [==============================] - 88s 435ms/step - loss: 1.9371 - accuracy: 0.6006 - val_loss: 1.0667 - val_accuracy: 0.7014\n",
            "Epoch 9/10\n",
            "203/203 [==============================] - ETA: 0s - loss: 1.9534 - accuracy: 0.6048\n",
            "Epoch 9: val_accuracy did not improve from 0.70450\n",
            "203/203 [==============================] - 87s 429ms/step - loss: 1.9534 - accuracy: 0.6048 - val_loss: 1.1158 - val_accuracy: 0.6934\n",
            "Epoch 10/10\n",
            "203/203 [==============================] - ETA: 0s - loss: 1.8336 - accuracy: 0.6240\n",
            "Epoch 10: val_accuracy did not improve from 0.70450\n",
            "203/203 [==============================] - 87s 428ms/step - loss: 1.8336 - accuracy: 0.6240 - val_loss: 1.0831 - val_accuracy: 0.6983\n"
          ]
        },
        {
          "data": {
            "text/plain": [
              "<keras.callbacks.History at 0x7f877d9c7c90>"
            ]
          },
          "execution_count": 92,
          "metadata": {},
          "output_type": "execute_result"
        }
      ],
      "source": [
        "callback = EarlyStopping(monitor='val_accuracy', patience=7, min_delta=0.01)\n",
        "mc = ModelCheckpoint('/content/drive/MyDrive/Capstone/Pickled_Info/classification_best_weights_300_sync.h5', monitor='val_accuracy', mode='max', verbose=1, save_best_only=True,save_weights_only=True)\n",
        "\n",
        "epochs = 10\n",
        "model.fit(train_ds, epochs=epochs, validation_data=val_ds, verbose=1, callbacks=[mc,callback])"
      ]
    },
    {
      "cell_type": "code",
      "execution_count": null,
      "metadata": {
        "id": "E2z52Ixwvl7C"
      },
      "outputs": [],
      "source": [
        "model.load_weights('/content/drive/MyDrive/Capstone/Pickled_Info/classification_best_weights_300_sync.h5')"
      ]
    },
    {
      "cell_type": "code",
      "execution_count": null,
      "metadata": {
        "colab": {
          "base_uri": "https://localhost:8080/"
        },
        "id": "VGp36xjRVwTa",
        "outputId": "f149e8aa-65ef-4419-f5ca-755300ac26ae"
      },
      "outputs": [
        {
          "name": "stdout",
          "output_type": "stream",
          "text": [
            "51/51 [==============================] - 16s 313ms/step - loss: 1.0867 - accuracy: 0.7045\n"
          ]
        },
        {
          "data": {
            "text/plain": [
              "[1.0867247581481934, 0.7045034170150757]"
            ]
          },
          "execution_count": 96,
          "metadata": {},
          "output_type": "execute_result"
        }
      ],
      "source": [
        "model.evaluate(val_ds)"
      ]
    },
    {
      "cell_type": "code",
      "execution_count": null,
      "metadata": {
        "id": "O5u2OnZDzM3w"
      },
      "outputs": [],
      "source": [
        "#STOP"
      ]
    },
    {
      "cell_type": "code",
      "execution_count": null,
      "metadata": {
        "id": "t35zCcrq2jr0"
      },
      "outputs": [],
      "source": [
        "########################################################### Pickle Validation Data###########################################################################"
      ]
    },
    {
      "cell_type": "markdown",
      "metadata": {
        "id": "POxGGhR2RGkc"
      },
      "source": [
        "We will pickle Validation data set in a batch of 1600 for re-use in other notebooks"
      ]
    },
    {
      "cell_type": "code",
      "execution_count": null,
      "metadata": {
        "id": "X0dGe4QvSn_Q"
      },
      "outputs": [],
      "source": [
        "IMG_SIZE = 300\n",
        "BATCH_SIZE=1600"
      ]
    },
    {
      "cell_type": "code",
      "execution_count": null,
      "metadata": {
        "colab": {
          "base_uri": "https://localhost:8080/"
        },
        "id": "zfLGjXI2S569",
        "outputId": "7e8a96b7-0c1f-4201-bfeb-60ed08a8b0b2"
      },
      "outputs": [
        {
          "name": "stderr",
          "output_type": "stream",
          "text": [
            "/usr/local/lib/python3.7/dist-packages/albumentations/augmentations/transforms.py:691: FutureWarning: This class has been deprecated. Please use CoarseDropout\n",
            "  FutureWarning,\n"
          ]
        },
        {
          "name": "stdout",
          "output_type": "stream",
          "text": [
            "Found 6482 validated image filenames belonging to 196 classes.\n",
            "Found 1621 validated image filenames belonging to 196 classes.\n"
          ]
        }
      ],
      "source": [
        "from functools import partial\n",
        "import tensorflow as tf\n",
        "from ImageDataAugmentor.image_data_augmentor import *\n",
        "import albumentations\n",
        "\n",
        "    \n",
        "AUGMENTATIONS = albumentations.Compose([\n",
        "    albumentations.HorizontalFlip(p=0.5),\n",
        "    albumentations.Rotate(p=0.5,limit=25),\n",
        "    albumentations.OneOf([\n",
        "        albumentations.RandomBrightnessContrast(brightness_limit=0.5, contrast_limit=0.3),\n",
        "        albumentations.RandomBrightnessContrast(brightness_limit=1.5, contrast_limit=0.1)\n",
        "    ],p=1),\n",
        "    #albumentations.HueSaturationValue(p=0.5),\n",
        "    #albumentations.Affine(shear=20),\n",
        "    albumentations.Cutout(num_holes=1, max_h_size=16,max_w_size = 16,p=1),\n",
        "    #albumentations.ShiftScaleRotate(shift_limit=0.0625, scale_limit=0.50, rotate_limit=15, p=.75),\n",
        "    #albumentations.Blur(blur_limit=3),\n",
        "    #albumentations.OpticalDistortion()\n",
        "    #albumentations.RGBShift(p=0.5),\n",
        "])\n",
        "\n",
        "# dataloaders\n",
        "train_datagen = ImageDataAugmentor(\n",
        "        augment=AUGMENTATIONS,\n",
        "        #validation_split=0.2,\n",
        "        seed=42\n",
        "        )\n",
        "\n",
        "\n",
        "val_datagen = ImageDataAugmentor()#validation_split=0.2)\n",
        "\n",
        "\n",
        "\n",
        "train_ds = train_datagen.flow_from_dataframe(\n",
        "        dataframe=train_df,\n",
        "        directory=train_data_dir,\n",
        "        x_col=\"file_path\",\n",
        "        y_col=\"label\",\n",
        "        target_size=(IMG_SIZE, IMG_SIZE),\n",
        "        batch_size=BATCH_SIZE,\n",
        "        class_mode='categorical',\n",
        "        classes=all_classes\n",
        "        )\n",
        "\n",
        "val_ds = val_datagen.flow_from_dataframe(\n",
        "        dataframe=valid_df,\n",
        "        directory=train_data_dir,\n",
        "        x_col=\"file_path\",\n",
        "        y_col=\"label\",\n",
        "        target_size=(IMG_SIZE, IMG_SIZE),\n",
        "        batch_size=BATCH_SIZE,\n",
        "        class_mode='categorical',\n",
        "        classes=all_classes\n",
        "        )\n"
      ]
    },
    {
      "cell_type": "code",
      "execution_count": null,
      "metadata": {
        "id": "QBczwlWMWI9-"
      },
      "outputs": [],
      "source": [
        ""
      ]
    },
    {
      "cell_type": "code",
      "execution_count": null,
      "metadata": {
        "colab": {
          "background_save": true
        },
        "id": "YZZQmA3haSvA"
      },
      "outputs": [],
      "source": [
        "(X_Batch,Y_Batch)=val_ds.next()"
      ]
    },
    {
      "cell_type": "code",
      "execution_count": null,
      "metadata": {
        "id": "Wd91tIlSObQh"
      },
      "outputs": [],
      "source": [
        "np.save(\"/content/drive/MyDrive/Capstone/Pickled_Info/X_Batcht_ClassIp.npy\",X_Batch)\n",
        "np.save(\"/content/drive/MyDrive/Capstone/Pickled_Info/Y_Batch_ClassOp.npy\",Y_Batch)"
      ]
    },
    {
      "cell_type": "code",
      "execution_count": null,
      "metadata": {
        "colab": {
          "base_uri": "https://localhost:8080/"
        },
        "id": "B7r8jHvBTmTf",
        "outputId": "f0b034e1-fc5a-4cf2-aa80-777946c8a34d"
      },
      "outputs": [
        {
          "output_type": "execute_result",
          "data": {
            "text/plain": [
              "(1600, 300, 300, 3)"
            ]
          },
          "metadata": {},
          "execution_count": 30
        },
        {
          "output_type": "execute_result",
          "data": {
            "text/plain": [
              "(1600, 196)"
            ]
          },
          "metadata": {},
          "execution_count": 30
        }
      ],
      "source": [
        "X_Batch.shape\n",
        "Y_Batch.shape"
      ]
    },
    {
      "cell_type": "code",
      "source": [
        ""
      ],
      "metadata": {
        "id": "K6DDviYTZSco"
      },
      "execution_count": null,
      "outputs": []
    }
  ],
  "metadata": {
    "accelerator": "GPU",
    "colab": {
      "collapsed_sections": [],
      "machine_shape": "hm",
      "name": "Rework_Freeze__70_Classifiction_Albumentation.ipynb",
      "provenance": []
    },
    "kernelspec": {
      "display_name": "Python 3 (ipykernel)",
      "language": "python",
      "name": "python3"
    },
    "language_info": {
      "codemirror_mode": {
        "name": "ipython",
        "version": 3
      },
      "file_extension": ".py",
      "mimetype": "text/x-python",
      "name": "python",
      "nbconvert_exporter": "python",
      "pygments_lexer": "ipython3",
      "version": "3.9.7"
    }
  },
  "nbformat": 4,
  "nbformat_minor": 0
}
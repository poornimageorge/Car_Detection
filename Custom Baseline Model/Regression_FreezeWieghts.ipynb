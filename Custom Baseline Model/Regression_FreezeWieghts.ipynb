{
 "cells": [
  {
   "cell_type": "markdown",
   "metadata": {
    "id": "byKMPfb8U3u8"
   },
   "source": [
    "# Object Detection(Car Detection)\n",
    "\n",
    "\n"
   ]
  },
  {
   "cell_type": "markdown",
   "metadata": {
    "id": "6JFQGIY6U3vC"
   },
   "source": [
    "### DOMAIN: \n",
    "Automotive , Surveillance\n",
    "### CONTEXT: \n",
    "Computer vision can be used to automate supervision and generate action appropriate action trigger if the event is \n",
    "predicted from the image of interest. For example a car moving on the road can be easily identified by a camera as make of \n",
    "the car, type, colour, number plates etc\n",
    "### DATA DESCRIPTION: \n",
    "The Cars dataset contains 16,185 images of 196 classes of cars. The data is split into 8,144 training images and 8,041 testing \n",
    "images, where each class has been split roughly in a 50-50 split. Classes are typically at the level of Make, Model, Year, e.g. \n",
    "2012 Tesla Model S or 2012 BMW M3 coupe\n",
    "‣ Train Images: Consists of real images of cars as per the make and year of the car. \n",
    "‣ Test Images: Consists of real images of cars as per the make and year of the car.\n",
    "‣ Train Annotation: Consists of bounding box region for training images.\n",
    "‣ Test Annotation: Consists of bounding box region for testing images.\n",
    "Dataset has been attached along with this project. Please use the same for this capstone project\n",
    "Dataset: Original dataset link for your reference only: https://www.kaggle.com/jutrera/stanford-car-dataset-by-classes-folder\n",
    "### REFERENCE: \n",
    "3D Object Representations for Fine-Grained Categorisation, Jonathan Krause, Michael Stark, Jia Deng, Li Fei-Fei 4th IEEE \n",
    "Workshop on 3D Representation and Recognition, at ICCV 2013 (3dRR-13). Sydney, Australia. Dec. 8, 2013.\n",
    "### PROJECT OBJECTIVE: \n",
    "Design a DL based car identification model"
   ]
  },
  {
   "cell_type": "code",
   "execution_count": null,
   "metadata": {
    "id": "GE-3DVB8Aeya"
   },
   "outputs": [],
   "source": [
    "%tensorflow_version 2.x\n",
    "#%tensorflow_version 1.x"
   ]
  },
  {
   "cell_type": "code",
   "execution_count": null,
   "metadata": {
    "colab": {
     "base_uri": "https://localhost:8080/"
    },
    "id": "5wqwm6p6_BNB",
    "outputId": "8f3be5de-e55d-4763-bbb9-ec5e53341d29"
   },
   "outputs": [
    {
     "name": "stdout",
     "output_type": "stream",
     "text": [
      "2.8.0\n"
     ]
    }
   ],
   "source": [
    "# Lets check version of tensor flow and keras installed \n",
    "\n",
    "import tensorflow\n",
    "print(tensorflow.__version__)"
   ]
  },
  {
   "cell_type": "code",
   "execution_count": null,
   "metadata": {
    "colab": {
     "base_uri": "https://localhost:8080/"
    },
    "id": "xZoUKGv4Suy0",
    "outputId": "fb002ac4-e752-4b12-ba91-90c27989d476"
   },
   "outputs": [
    {
     "name": "stdout",
     "output_type": "stream",
     "text": [
      "2.8.0\n"
     ]
    }
   ],
   "source": [
    "import keras\n",
    "print(keras.__version__)"
   ]
  },
  {
   "cell_type": "code",
   "execution_count": null,
   "metadata": {
    "colab": {
     "base_uri": "https://localhost:8080/"
    },
    "id": "gjtJdoWb33Tv",
    "outputId": "7f5b3332-c0fa-4346-bc75-8f50ae2e6791"
   },
   "outputs": [
    {
     "name": "stdout",
     "output_type": "stream",
     "text": [
      "Mounted at /content/drive\n"
     ]
    }
   ],
   "source": [
    "from google.colab import drive\n",
    "drive.mount('/content/drive')"
   ]
  },
  {
   "cell_type": "markdown",
   "metadata": {
    "id": "WbwEaWRoxk2S"
   },
   "source": [
    "All the above versions libraries are required for the Third party implementation we are goin to use"
   ]
  },
  {
   "cell_type": "markdown",
   "metadata": {
    "id": "7tRzfF1pU3vD"
   },
   "source": [
    "## Legend\n",
    "\n",
    " ### Insights/inferences/results have been displayed post each step"
   ]
  },
  {
   "cell_type": "code",
   "execution_count": null,
   "metadata": {
    "colab": {
     "base_uri": "https://localhost:8080/"
    },
    "id": "ZlT-b7KPd-6Q",
    "outputId": "79303ea3-f442-48c4-ad1d-bb1568d78012"
   },
   "outputs": [
    {
     "name": "stdout",
     "output_type": "stream",
     "text": [
      "/device:GPU:0\n"
     ]
    }
   ],
   "source": [
    "# Lets check if we are connected to GPU\n",
    "import tensorflow as tf\n",
    "device_name = tf.test.gpu_device_name()\n",
    "print(device_name)"
   ]
  },
  {
   "cell_type": "markdown",
   "metadata": {
    "id": "XMbQbVfjU3vE"
   },
   "source": [
    "## 1.0 Basic Config & Settings"
   ]
  },
  {
   "cell_type": "markdown",
   "metadata": {
    "id": "uhRWhATwU3vE"
   },
   "source": [
    "### 1.1 Import necessary libraries"
   ]
  },
  {
   "cell_type": "code",
   "execution_count": null,
   "metadata": {
    "id": "Uowb8YX4U3vF"
   },
   "outputs": [],
   "source": [
    "import matplotlib.pyplot as plt\n",
    "%matplotlib inline\n",
    "import pandas as pd\n",
    "import sys\n",
    "import numpy as np\n",
    "import seaborn as sns\n",
    "import statistics as stats\n",
    "sns.set(color_codes=True)\n",
    "from IPython.core.interactiveshell import InteractiveShell\n",
    "InteractiveShell.ast_node_interactivity = \"all\"\n",
    "#Last import allows multiple outputs from one cell\n",
    "import warnings\n",
    "# Initialize the random number generator\n",
    "import random\n",
    "random.seed(0)\n",
    "\n",
    "#Additional libs\n",
    "import matplotlib.patches as patches\n"
   ]
  },
  {
   "cell_type": "code",
   "execution_count": null,
   "metadata": {
    "id": "dBurjaSqU3vF"
   },
   "outputs": [],
   "source": [
    "# Useful Configuration/Setting\n",
    "\n",
    "# suppress display of warnings\n",
    "warnings.filterwarnings('ignore')\n",
    "\n",
    "# display all dataframe columns\n",
    "pd.options.display.max_columns = None\n",
    "\n",
    "# to set the limit to 3 decimals\n",
    "pd.options.display.float_format = '{:.7f}'.format\n",
    "\n",
    "# display all dataframe rows\n",
    "pd.options.display.max_rows = None\n",
    "\n",
    "#Setting to shows all entries in array displayed\n",
    "np.set_printoptions(threshold=sys.maxsize)"
   ]
  },
  {
   "cell_type": "markdown",
   "metadata": {
    "id": "7x1J1hSZU3vG"
   },
   "source": [
    "### 1.2 Set Necessary variables"
   ]
  },
  {
   "cell_type": "code",
   "execution_count": null,
   "metadata": {
    "id": "_gW__1AuU3vG"
   },
   "outputs": [],
   "source": [
    "# Read The Data Set\n",
    "\n",
    "\n",
    "images_path = \"/content/drive/MyDrive/Capstone/Car Images/Car Images/\"\n",
    "\n",
    "#Lets note here that our images are structred as folders.Each folder is a cart type\n",
    "#Corresponding folder will contain images of THAT car  type\n",
    "#We have a seperate folder for Train and Test IMages"
   ]
  },
  {
   "cell_type": "code",
   "execution_count": null,
   "metadata": {
    "id": "h0-Z6eHLG14i"
   },
   "outputs": [],
   "source": [
    "# Variables required for model Building\n",
    "\n",
    "images_height=300\n",
    "images_width=300"
   ]
  },
  {
   "cell_type": "markdown",
   "metadata": {
    "id": "d5gJEvBlGjWH"
   },
   "source": [
    "## 2.0 Create Data Splits\n"
   ]
  },
  {
   "cell_type": "code",
   "execution_count": null,
   "metadata": {
    "id": "yYlk_E6JG41r"
   },
   "outputs": [],
   "source": [
    "# Retrieve pickled data\n",
    "\n",
    "X_Train_CompleteData = np.load(\"/content/drive/MyDrive/Capstone/Pickled_Info/X_Train.npy\")\n",
    "Y_Train_CompleteData  = np.load(\"/content/drive/MyDrive/Capstone/Pickled_Info/Y_Train.npy\")"
   ]
  },
  {
   "cell_type": "code",
   "execution_count": null,
   "metadata": {
    "colab": {
     "base_uri": "https://localhost:8080/"
    },
    "id": "sQNC7tir7rS_",
    "outputId": "726a8eeb-ac0e-495f-9f42-7e00cd8519b3"
   },
   "outputs": [
    {
     "data": {
      "text/plain": [
       "(8144, 300, 300, 3)"
      ]
     },
     "execution_count": 11,
     "metadata": {},
     "output_type": "execute_result"
    },
    {
     "data": {
      "text/plain": [
       "(8144, 5)"
      ]
     },
     "execution_count": 11,
     "metadata": {},
     "output_type": "execute_result"
    }
   ],
   "source": [
    "X_Train_CompleteData.shape\n",
    "Y_Train_CompleteData.shape"
   ]
  },
  {
   "cell_type": "code",
   "execution_count": null,
   "metadata": {
    "id": "cdAUURDZG-cY"
   },
   "outputs": [],
   "source": [
    "# Retrieve pickled data\n",
    "\n",
    "#X_Test_CompleteData = np.load(\"/content/drive/MyDrive/Capstone/Pickled_Info/X_Test.npy\")\n",
    "#Y_Test_CompleteData = np.load(\"/content/drive/MyDrive/Capstone/Pickled_Info/Y_Test.npy\")"
   ]
  },
  {
   "cell_type": "code",
   "execution_count": null,
   "metadata": {
    "id": "nQDo6NOeMXgu"
   },
   "outputs": [],
   "source": [
    "# Let us work first with the train data \n",
    "# If we use both , we are seeing RAM crashes"
   ]
  },
  {
   "cell_type": "code",
   "execution_count": null,
   "metadata": {
    "id": "Eoajn_Ur-DS9"
   },
   "outputs": [],
   "source": [
    "Y_Train_CompleteData_df=pd.DataFrame(data=Y_Train_CompleteData)"
   ]
  },
  {
   "cell_type": "code",
   "execution_count": null,
   "metadata": {
    "colab": {
     "base_uri": "https://localhost:8080/",
     "height": 206
    },
    "id": "97UE1Rvd_LIG",
    "outputId": "d76fedd9-e2ef-408b-edd6-dbe16ab02784"
   },
   "outputs": [
    {
     "data": {
      "text/html": [
       "\n",
       "  <div id=\"df-b3dad65d-fd28-42e3-8971-701796ac111a\">\n",
       "    <div class=\"colab-df-container\">\n",
       "      <div>\n",
       "<style scoped>\n",
       "    .dataframe tbody tr th:only-of-type {\n",
       "        vertical-align: middle;\n",
       "    }\n",
       "\n",
       "    .dataframe tbody tr th {\n",
       "        vertical-align: top;\n",
       "    }\n",
       "\n",
       "    .dataframe thead th {\n",
       "        text-align: right;\n",
       "    }\n",
       "</style>\n",
       "<table border=\"1\" class=\"dataframe\">\n",
       "  <thead>\n",
       "    <tr style=\"text-align: right;\">\n",
       "      <th></th>\n",
       "      <th>0</th>\n",
       "      <th>1</th>\n",
       "      <th>2</th>\n",
       "      <th>3</th>\n",
       "      <th>4</th>\n",
       "    </tr>\n",
       "  </thead>\n",
       "  <tbody>\n",
       "    <tr>\n",
       "      <th>0</th>\n",
       "      <td>37.0000000</td>\n",
       "      <td>56.0000000</td>\n",
       "      <td>276.0000000</td>\n",
       "      <td>268.0000000</td>\n",
       "      <td>184.0000000</td>\n",
       "    </tr>\n",
       "    <tr>\n",
       "      <th>1</th>\n",
       "      <td>18.0000000</td>\n",
       "      <td>21.0000000</td>\n",
       "      <td>277.0000000</td>\n",
       "      <td>258.0000000</td>\n",
       "      <td>184.0000000</td>\n",
       "    </tr>\n",
       "    <tr>\n",
       "      <th>2</th>\n",
       "      <td>18.0000000</td>\n",
       "      <td>135.0000000</td>\n",
       "      <td>184.0000000</td>\n",
       "      <td>225.0000000</td>\n",
       "      <td>184.0000000</td>\n",
       "    </tr>\n",
       "    <tr>\n",
       "      <th>3</th>\n",
       "      <td>61.0000000</td>\n",
       "      <td>72.0000000</td>\n",
       "      <td>196.0000000</td>\n",
       "      <td>245.0000000</td>\n",
       "      <td>184.0000000</td>\n",
       "    </tr>\n",
       "    <tr>\n",
       "      <th>4</th>\n",
       "      <td>3.0000000</td>\n",
       "      <td>5.0000000</td>\n",
       "      <td>283.0000000</td>\n",
       "      <td>263.0000000</td>\n",
       "      <td>184.0000000</td>\n",
       "    </tr>\n",
       "  </tbody>\n",
       "</table>\n",
       "</div>\n",
       "      <button class=\"colab-df-convert\" onclick=\"convertToInteractive('df-b3dad65d-fd28-42e3-8971-701796ac111a')\"\n",
       "              title=\"Convert this dataframe to an interactive table.\"\n",
       "              style=\"display:none;\">\n",
       "        \n",
       "  <svg xmlns=\"http://www.w3.org/2000/svg\" height=\"24px\"viewBox=\"0 0 24 24\"\n",
       "       width=\"24px\">\n",
       "    <path d=\"M0 0h24v24H0V0z\" fill=\"none\"/>\n",
       "    <path d=\"M18.56 5.44l.94 2.06.94-2.06 2.06-.94-2.06-.94-.94-2.06-.94 2.06-2.06.94zm-11 1L8.5 8.5l.94-2.06 2.06-.94-2.06-.94L8.5 2.5l-.94 2.06-2.06.94zm10 10l.94 2.06.94-2.06 2.06-.94-2.06-.94-.94-2.06-.94 2.06-2.06.94z\"/><path d=\"M17.41 7.96l-1.37-1.37c-.4-.4-.92-.59-1.43-.59-.52 0-1.04.2-1.43.59L10.3 9.45l-7.72 7.72c-.78.78-.78 2.05 0 2.83L4 21.41c.39.39.9.59 1.41.59.51 0 1.02-.2 1.41-.59l7.78-7.78 2.81-2.81c.8-.78.8-2.07 0-2.86zM5.41 20L4 18.59l7.72-7.72 1.47 1.35L5.41 20z\"/>\n",
       "  </svg>\n",
       "      </button>\n",
       "      \n",
       "  <style>\n",
       "    .colab-df-container {\n",
       "      display:flex;\n",
       "      flex-wrap:wrap;\n",
       "      gap: 12px;\n",
       "    }\n",
       "\n",
       "    .colab-df-convert {\n",
       "      background-color: #E8F0FE;\n",
       "      border: none;\n",
       "      border-radius: 50%;\n",
       "      cursor: pointer;\n",
       "      display: none;\n",
       "      fill: #1967D2;\n",
       "      height: 32px;\n",
       "      padding: 0 0 0 0;\n",
       "      width: 32px;\n",
       "    }\n",
       "\n",
       "    .colab-df-convert:hover {\n",
       "      background-color: #E2EBFA;\n",
       "      box-shadow: 0px 1px 2px rgba(60, 64, 67, 0.3), 0px 1px 3px 1px rgba(60, 64, 67, 0.15);\n",
       "      fill: #174EA6;\n",
       "    }\n",
       "\n",
       "    [theme=dark] .colab-df-convert {\n",
       "      background-color: #3B4455;\n",
       "      fill: #D2E3FC;\n",
       "    }\n",
       "\n",
       "    [theme=dark] .colab-df-convert:hover {\n",
       "      background-color: #434B5C;\n",
       "      box-shadow: 0px 1px 3px 1px rgba(0, 0, 0, 0.15);\n",
       "      filter: drop-shadow(0px 1px 2px rgba(0, 0, 0, 0.3));\n",
       "      fill: #FFFFFF;\n",
       "    }\n",
       "  </style>\n",
       "\n",
       "      <script>\n",
       "        const buttonEl =\n",
       "          document.querySelector('#df-b3dad65d-fd28-42e3-8971-701796ac111a button.colab-df-convert');\n",
       "        buttonEl.style.display =\n",
       "          google.colab.kernel.accessAllowed ? 'block' : 'none';\n",
       "\n",
       "        async function convertToInteractive(key) {\n",
       "          const element = document.querySelector('#df-b3dad65d-fd28-42e3-8971-701796ac111a');\n",
       "          const dataTable =\n",
       "            await google.colab.kernel.invokeFunction('convertToInteractive',\n",
       "                                                     [key], {});\n",
       "          if (!dataTable) return;\n",
       "\n",
       "          const docLinkHtml = 'Like what you see? Visit the ' +\n",
       "            '<a target=\"_blank\" href=https://colab.research.google.com/notebooks/data_table.ipynb>data table notebook</a>'\n",
       "            + ' to learn more about interactive tables.';\n",
       "          element.innerHTML = '';\n",
       "          dataTable['output_type'] = 'display_data';\n",
       "          await google.colab.output.renderOutput(dataTable, element);\n",
       "          const docLink = document.createElement('div');\n",
       "          docLink.innerHTML = docLinkHtml;\n",
       "          element.appendChild(docLink);\n",
       "        }\n",
       "      </script>\n",
       "    </div>\n",
       "  </div>\n",
       "  "
      ],
      "text/plain": [
       "           0           1           2           3           4\n",
       "0 37.0000000  56.0000000 276.0000000 268.0000000 184.0000000\n",
       "1 18.0000000  21.0000000 277.0000000 258.0000000 184.0000000\n",
       "2 18.0000000 135.0000000 184.0000000 225.0000000 184.0000000\n",
       "3 61.0000000  72.0000000 196.0000000 245.0000000 184.0000000\n",
       "4  3.0000000   5.0000000 283.0000000 263.0000000 184.0000000"
      ]
     },
     "execution_count": 15,
     "metadata": {},
     "output_type": "execute_result"
    }
   ],
   "source": [
    "Y_Train_CompleteData_df.head()"
   ]
  },
  {
   "cell_type": "code",
   "execution_count": null,
   "metadata": {
    "colab": {
     "base_uri": "https://localhost:8080/"
    },
    "id": "EVjTBEqx5QDy",
    "outputId": "2cd4c39b-6569-467f-e2c0-035fdc1f27b6"
   },
   "outputs": [
    {
     "name": "stdout",
     "output_type": "stream",
     "text": [
      "X_Train.shape (6515, 300, 300, 3)\n",
      "X_Test.shape (1629, 300, 300, 3)\n",
      "Y_Train.shape (6515, 5)\n",
      "Y_Test.shape (1629, 5)\n"
     ]
    }
   ],
   "source": [
    "from sklearn.model_selection import train_test_split\n",
    "X_Train, X_Test, Y_Train, Y_Test=train_test_split(X_Train_CompleteData,Y_Train_CompleteData,test_size=0.2,random_state=1,stratify=Y_Train_CompleteData_df[4])\n",
    "print(\"X_Train.shape\",X_Train.shape)\n",
    "print(\"X_Test.shape\",X_Test.shape)\n",
    "print(\"Y_Train.shape\",Y_Train.shape)\n",
    "print(\"Y_Test.shape\",Y_Test.shape)"
   ]
  },
  {
   "cell_type": "code",
   "execution_count": null,
   "metadata": {
    "id": "4in53RtQ798T"
   },
   "outputs": [],
   "source": [
    "#Y_Train_df=pd.DataFrame(data=Y_Train)"
   ]
  },
  {
   "cell_type": "code",
   "execution_count": null,
   "metadata": {
    "colab": {
     "base_uri": "https://localhost:8080/",
     "height": 70
    },
    "id": "ihU5vkbZ2fOq",
    "outputId": "07f8c7bf-47b8-411f-e36b-5b927e3fb6ac"
   },
   "outputs": [
    {
     "data": {
      "application/vnd.google.colaboratory.intrinsic+json": {
       "type": "string"
      },
      "text/plain": [
       "'from sklearn.model_selection import train_test_split\\nX_Train, X_Test, Y_Train, Y_Test=train_test_split(X_Train,Y_Train,test_size=0.2,random_state=1,stratify=Y_Train_df[4])\\nprint(\"X_Train.shape\",X_Train.shape)\\nprint(\"X_Test.shape\",X_Test.shape)\\nprint(\"Y_Train.shape\",Y_Train.shape)\\nprint(\"Y_Test.shape\",Y_Test.shape)'"
      ]
     },
     "execution_count": 18,
     "metadata": {},
     "output_type": "execute_result"
    }
   ],
   "source": [
    "'''from sklearn.model_selection import train_test_split\n",
    "X_Train, X_Test, Y_Train, Y_Test=train_test_split(X_Train,Y_Train,test_size=0.2,random_state=1,stratify=Y_Train_df[4])\n",
    "print(\"X_Train.shape\",X_Train.shape)\n",
    "print(\"X_Test.shape\",X_Test.shape)\n",
    "print(\"Y_Train.shape\",Y_Train.shape)\n",
    "print(\"Y_Test.shape\",Y_Test.shape)'''"
   ]
  },
  {
   "cell_type": "code",
   "execution_count": null,
   "metadata": {
    "colab": {
     "base_uri": "https://localhost:8080/"
    },
    "id": "ybC_-4u0_9Re",
    "outputId": "f0934624-0568-4549-ad80-e92d01bed849"
   },
   "outputs": [
    {
     "data": {
      "text/plain": [
       "array([[ 90.,  88., 284., 235., 140.],\n",
       "       [ 14.,  40., 286., 280., 113.],\n",
       "       [ 51.,  51., 255., 271.,  41.],\n",
       "       [ 23.,  23., 282., 228.,   4.],\n",
       "       [ 16.,  85., 285., 283.,  38.]])"
      ]
     },
     "execution_count": 19,
     "metadata": {},
     "output_type": "execute_result"
    }
   ],
   "source": [
    "Y_Train[0:5]"
   ]
  },
  {
   "cell_type": "code",
   "execution_count": null,
   "metadata": {
    "id": "YotpL6_jAJ7U"
   },
   "outputs": [],
   "source": [
    "\n",
    "# NTS: to_pickle function not available , have to use save and in npy format \n",
    "np.save(\"/content/drive/MyDrive/Capstone/Pickled_Info/X_Train_Subset.npy\",X_Train)\n",
    "np.save(\"/content/drive/MyDrive/Capstone/Pickled_Info/Y_Train_Subset.npy\",Y_Train)\n",
    "\n",
    "np.save(\"/content/drive/MyDrive/Capstone/Pickled_Info/X_Test_Subset.npy\",X_Test)\n",
    "np.save(\"/content/drive/MyDrive/Capstone/Pickled_Info/Y_Test_Subset.npy\",Y_Test)"
   ]
  },
  {
   "cell_type": "code",
   "execution_count": null,
   "metadata": {
    "id": "wsr2sGz2B4oZ"
   },
   "outputs": [],
   "source": []
  },
  {
   "cell_type": "markdown",
   "metadata": {
    "id": "Nt5kqNeUkgGs"
   },
   "source": [
    "## 3.0 Prepare Data"
   ]
  },
  {
   "cell_type": "code",
   "execution_count": null,
   "metadata": {
    "id": "UC_nbOOuT7Ai"
   },
   "outputs": [],
   "source": [
    "X_Train=np.load(\"/content/drive/MyDrive/Capstone/Pickled_Info/X_Train_Subset.npy\")\n",
    "Y_Train=np.load(\"/content/drive/MyDrive/Capstone/Pickled_Info/Y_Train_Subset.npy\")\n",
    "\n",
    "X_Test=np.load(\"/content/drive/MyDrive/Capstone/Pickled_Info/X_Test_Subset.npy\")\n",
    "Y_Test=np.load(\"/content/drive/MyDrive/Capstone/Pickled_Info/Y_Test_Subset.npy\")"
   ]
  },
  {
   "cell_type": "code",
   "execution_count": null,
   "metadata": {
    "id": "jaEJWDQ9kgGt"
   },
   "outputs": [],
   "source": [
    "# Below we build our baseline n/w"
   ]
  },
  {
   "cell_type": "code",
   "execution_count": null,
   "metadata": {
    "id": "T-S5EklykgGu"
   },
   "outputs": [],
   "source": [
    "# First prepare data for Mobile Net model we will build"
   ]
  },
  {
   "cell_type": "code",
   "execution_count": null,
   "metadata": {
    "colab": {
     "base_uri": "https://localhost:8080/"
    },
    "id": "9XT-QIUekgGu",
    "outputId": "81e459d3-5f2b-41e1-873d-5cc605f4d766"
   },
   "outputs": [
    {
     "data": {
      "text/plain": [
       "(6515, 300, 300, 3)"
      ]
     },
     "execution_count": 13,
     "metadata": {},
     "output_type": "execute_result"
    },
    {
     "data": {
      "text/plain": [
       "(6515, 5)"
      ]
     },
     "execution_count": 13,
     "metadata": {},
     "output_type": "execute_result"
    },
    {
     "data": {
      "text/plain": [
       "(1629, 300, 300, 3)"
      ]
     },
     "execution_count": 13,
     "metadata": {},
     "output_type": "execute_result"
    },
    {
     "data": {
      "text/plain": [
       "(1629, 5)"
      ]
     },
     "execution_count": 13,
     "metadata": {},
     "output_type": "execute_result"
    }
   ],
   "source": [
    "X_Train.shape\n",
    "Y_Train.shape\n",
    "X_Test.shape\n",
    "Y_Test.shape"
   ]
  },
  {
   "cell_type": "code",
   "execution_count": null,
   "metadata": {
    "colab": {
     "base_uri": "https://localhost:8080/"
    },
    "id": "6zO6pP6ANDGA",
    "outputId": "4ed65ae7-53d1-4679-d1c3-e3ab64bf7419"
   },
   "outputs": [
    {
     "data": {
      "text/plain": [
       "array([[ 45.,  56., 252., 199.,  69.],\n",
       "       [ 12., 111., 150., 196., 133.],\n",
       "       [ 51.,  29., 282., 255.,  65.],\n",
       "       [ 22.,  36., 289., 257., 160.],\n",
       "       [ 40.,  19., 278., 279.,  58.]])"
      ]
     },
     "execution_count": 14,
     "metadata": {},
     "output_type": "execute_result"
    }
   ],
   "source": [
    "Y_Test[0:5]"
   ]
  },
  {
   "cell_type": "code",
   "execution_count": null,
   "metadata": {
    "id": "uPpKCPuctoRb"
   },
   "outputs": [],
   "source": [
    "# First lets convert it into integers all numbers \n",
    "\n",
    "Y_Train=Y_Train.astype(int)\n",
    "Y_Test=Y_Test.astype(int)"
   ]
  },
  {
   "cell_type": "code",
   "execution_count": null,
   "metadata": {
    "colab": {
     "base_uri": "https://localhost:8080/"
    },
    "id": "clDCjduau4ik",
    "outputId": "233f38a5-1129-4f6a-e40f-7a5a9e68d5ad"
   },
   "outputs": [
    {
     "data": {
      "text/plain": [
       "array([[ 90,  88, 284, 235, 140],\n",
       "       [ 14,  40, 286, 280, 113],\n",
       "       [ 51,  51, 255, 271,  41],\n",
       "       [ 23,  23, 282, 228,   4],\n",
       "       [ 16,  85, 285, 283,  38]])"
      ]
     },
     "execution_count": 16,
     "metadata": {},
     "output_type": "execute_result"
    },
    {
     "data": {
      "text/plain": [
       "array([[ 45,  56, 252, 199,  69],\n",
       "       [ 12, 111, 150, 196, 133],\n",
       "       [ 51,  29, 282, 255,  65],\n",
       "       [ 22,  36, 289, 257, 160],\n",
       "       [ 40,  19, 278, 279,  58]])"
      ]
     },
     "execution_count": 16,
     "metadata": {},
     "output_type": "execute_result"
    }
   ],
   "source": [
    "Y_Train[0:5]\n",
    "Y_Test[0:5]"
   ]
  },
  {
   "cell_type": "code",
   "execution_count": null,
   "metadata": {
    "id": "WiBOqXrNbtKy"
   },
   "outputs": [],
   "source": [
    "# Prepare labels for Classification Head"
   ]
  },
  {
   "cell_type": "code",
   "execution_count": null,
   "metadata": {
    "id": "ev1FWVA6bbsC"
   },
   "outputs": [],
   "source": [
    "Y_Train_MobileNet_ClassInput=np.delete(Y_Train,obj=[0,1,2,3],axis=1)"
   ]
  },
  {
   "cell_type": "code",
   "execution_count": null,
   "metadata": {
    "id": "t8Ki35EPbl7C"
   },
   "outputs": [],
   "source": [
    "Y_Test_MobileNet_ClassInput=np.delete(Y_Test,obj=[0,1,2,3],axis=1)"
   ]
  },
  {
   "cell_type": "code",
   "execution_count": null,
   "metadata": {
    "colab": {
     "base_uri": "https://localhost:8080/"
    },
    "id": "9bzCGYimb43-",
    "outputId": "2f03310a-15f3-4396-bcc6-cdd5f2bde2aa"
   },
   "outputs": [
    {
     "data": {
      "text/plain": [
       "196"
      ]
     },
     "execution_count": 20,
     "metadata": {},
     "output_type": "execute_result"
    },
    {
     "name": "stdout",
     "output_type": "stream",
     "text": [
      "\n",
      "\n"
     ]
    },
    {
     "data": {
      "text/plain": [
       "1"
      ]
     },
     "execution_count": 20,
     "metadata": {},
     "output_type": "execute_result"
    },
    {
     "name": "stdout",
     "output_type": "stream",
     "text": [
      "\n",
      "\n"
     ]
    },
    {
     "data": {
      "text/plain": [
       "196"
      ]
     },
     "execution_count": 20,
     "metadata": {},
     "output_type": "execute_result"
    },
    {
     "name": "stdout",
     "output_type": "stream",
     "text": [
      "\n",
      "\n"
     ]
    },
    {
     "data": {
      "text/plain": [
       "1"
      ]
     },
     "execution_count": 20,
     "metadata": {},
     "output_type": "execute_result"
    },
    {
     "name": "stdout",
     "output_type": "stream",
     "text": [
      "\n",
      "\n"
     ]
    }
   ],
   "source": [
    "Y_Train_MobileNet_ClassInput.max()\n",
    "print('\\n')\n",
    "Y_Train_MobileNet_ClassInput.min()\n",
    "print('\\n')\n",
    "Y_Test_MobileNet_ClassInput.max()\n",
    "print('\\n')\n",
    "Y_Test_MobileNet_ClassInput.min()\n",
    "print('\\n')"
   ]
  },
  {
   "cell_type": "code",
   "execution_count": null,
   "metadata": {
    "id": "m4N00MRzvJn_"
   },
   "outputs": [],
   "source": [
    "# Classes dont start from 0 so\n",
    "# First encode\n",
    "#Then convert to OHV"
   ]
  },
  {
   "cell_type": "code",
   "execution_count": null,
   "metadata": {
    "colab": {
     "base_uri": "https://localhost:8080/"
    },
    "id": "ZRRQEzjEcJXR",
    "outputId": "cd82ebbe-05a0-4eba-f13c-c6c26446a6db"
   },
   "outputs": [
    {
     "data": {
      "text/plain": [
       "LabelEncoder()"
      ]
     },
     "execution_count": 22,
     "metadata": {},
     "output_type": "execute_result"
    }
   ],
   "source": [
    "# Lets convert these labels to one hot vectors\n",
    "\n",
    "# First encode the labels ,they are from 1 to 196, we want them to be from 0 to 195\n",
    "# Deep learing : Lets try a simple ANN on the data \n",
    "\n",
    "from sklearn.preprocessing import LabelEncoder\n",
    "# encode class values as integers\n",
    "encoder = LabelEncoder()\n",
    "encoder.fit(Y_Train_MobileNet_ClassInput)\n",
    "Y_Train_MobileNet_ClassInput= encoder.transform(Y_Train_MobileNet_ClassInput)\n",
    "Y_Test_MobileNet_ClassInput = encoder.transform(Y_Test_MobileNet_ClassInput)\n",
    "#type(encoded_YTrain)"
   ]
  },
  {
   "cell_type": "code",
   "execution_count": null,
   "metadata": {
    "colab": {
     "base_uri": "https://localhost:8080/"
    },
    "id": "fKGhVuHxvXQq",
    "outputId": "8f8d7814-99b3-4e12-e44c-6a91ce13a8fc"
   },
   "outputs": [
    {
     "data": {
      "text/plain": [
       "195"
      ]
     },
     "execution_count": 23,
     "metadata": {},
     "output_type": "execute_result"
    },
    {
     "name": "stdout",
     "output_type": "stream",
     "text": [
      "\n",
      "\n"
     ]
    },
    {
     "data": {
      "text/plain": [
       "0"
      ]
     },
     "execution_count": 23,
     "metadata": {},
     "output_type": "execute_result"
    },
    {
     "name": "stdout",
     "output_type": "stream",
     "text": [
      "\n",
      "\n"
     ]
    },
    {
     "data": {
      "text/plain": [
       "195"
      ]
     },
     "execution_count": 23,
     "metadata": {},
     "output_type": "execute_result"
    },
    {
     "name": "stdout",
     "output_type": "stream",
     "text": [
      "\n",
      "\n"
     ]
    },
    {
     "data": {
      "text/plain": [
       "0"
      ]
     },
     "execution_count": 23,
     "metadata": {},
     "output_type": "execute_result"
    },
    {
     "name": "stdout",
     "output_type": "stream",
     "text": [
      "\n",
      "\n"
     ]
    }
   ],
   "source": [
    "# Recheck max and min\n",
    "\n",
    "Y_Train_MobileNet_ClassInput.max()\n",
    "print('\\n')\n",
    "Y_Train_MobileNet_ClassInput.min()\n",
    "print('\\n')\n",
    "Y_Test_MobileNet_ClassInput.max()\n",
    "print('\\n')\n",
    "Y_Test_MobileNet_ClassInput.min()\n",
    "print('\\n')\n",
    "\n",
    "# Looks good now  range(0,195)"
   ]
  },
  {
   "cell_type": "code",
   "execution_count": null,
   "metadata": {
    "colab": {
     "base_uri": "https://localhost:8080/"
    },
    "id": "iZZeapxiUNy4",
    "outputId": "9a73a499-2ae7-4388-feaa-766444a53d86"
   },
   "outputs": [
    {
     "data": {
      "text/plain": [
       "14"
      ]
     },
     "execution_count": 24,
     "metadata": {},
     "output_type": "execute_result"
    },
    {
     "name": "stdout",
     "output_type": "stream",
     "text": [
      "\n",
      "\n"
     ]
    },
    {
     "data": {
      "text/plain": [
       "15"
      ]
     },
     "execution_count": 24,
     "metadata": {},
     "output_type": "execute_result"
    }
   ],
   "source": [
    "Y_Train_MobileNet_ClassInput[5]\n",
    "print(\"\\n\")\n",
    "Y_Train[5][4]\n",
    "\n",
    "#Looks good"
   ]
  },
  {
   "cell_type": "code",
   "execution_count": null,
   "metadata": {
    "colab": {
     "base_uri": "https://localhost:8080/"
    },
    "id": "tTRAE5-4wLiZ",
    "outputId": "014d42a6-cf3f-4100-ad60-b76d47e3781b"
   },
   "outputs": [
    {
     "data": {
      "text/plain": [
       "51"
      ]
     },
     "execution_count": 25,
     "metadata": {},
     "output_type": "execute_result"
    },
    {
     "name": "stdout",
     "output_type": "stream",
     "text": [
      "\n",
      "\n"
     ]
    },
    {
     "data": {
      "text/plain": [
       "52"
      ]
     },
     "execution_count": 25,
     "metadata": {},
     "output_type": "execute_result"
    }
   ],
   "source": [
    "# Now the same for Test\n",
    "\n",
    "Y_Test_MobileNet_ClassInput[5]\n",
    "print(\"\\n\")\n",
    "Y_Test[5][4]\n",
    "\n",
    "#Looks good"
   ]
  },
  {
   "cell_type": "code",
   "execution_count": null,
   "metadata": {
    "id": "kpkXJd0YdTCY"
   },
   "outputs": [],
   "source": [
    "## Label encoding has ben done correctly, lets proceed"
   ]
  },
  {
   "cell_type": "code",
   "execution_count": null,
   "metadata": {
    "colab": {
     "base_uri": "https://localhost:8080/"
    },
    "id": "wnEpYDmHKdn9",
    "outputId": "7ea0ccfe-b357-42bf-845e-985c98709957"
   },
   "outputs": [
    {
     "data": {
      "text/plain": [
       "(6515,)"
      ]
     },
     "execution_count": 27,
     "metadata": {},
     "output_type": "execute_result"
    }
   ],
   "source": [
    "Y_Train_MobileNet_ClassInput.shape"
   ]
  },
  {
   "cell_type": "code",
   "execution_count": null,
   "metadata": {
    "colab": {
     "base_uri": "https://localhost:8080/"
    },
    "id": "_niaDincLNDP",
    "outputId": "2b8a3091-c4bd-433f-ef37-cdc422be23b4"
   },
   "outputs": [
    {
     "data": {
      "text/plain": [
       "0      36\n",
       "1      26\n",
       "2      34\n",
       "3      34\n",
       "4      33\n",
       "5      36\n",
       "6      31\n",
       "7      36\n",
       "8      33\n",
       "9      27\n",
       "10     31\n",
       "11     30\n",
       "12     33\n",
       "13     34\n",
       "14     34\n",
       "15     35\n",
       "16     33\n",
       "17     34\n",
       "18     33\n",
       "19     37\n",
       "20     34\n",
       "21     34\n",
       "22     32\n",
       "23     36\n",
       "24     32\n",
       "25     27\n",
       "26     29\n",
       "27     33\n",
       "28     34\n",
       "29     34\n",
       "30     35\n",
       "31     34\n",
       "32     34\n",
       "33     36\n",
       "34     33\n",
       "35     33\n",
       "36     31\n",
       "37     33\n",
       "38     30\n",
       "39     31\n",
       "40     29\n",
       "41     28\n",
       "42     37\n",
       "43     36\n",
       "44     27\n",
       "45     35\n",
       "46     28\n",
       "47     34\n",
       "48     30\n",
       "49     34\n",
       "50     34\n",
       "51     33\n",
       "52     36\n",
       "53     32\n",
       "54     32\n",
       "55     38\n",
       "56     30\n",
       "57     35\n",
       "58     36\n",
       "59     30\n",
       "60     34\n",
       "61     30\n",
       "62     35\n",
       "63     24\n",
       "64     36\n",
       "65     34\n",
       "66     31\n",
       "67     32\n",
       "68     31\n",
       "69     34\n",
       "70     28\n",
       "71     36\n",
       "72     36\n",
       "73     35\n",
       "74     35\n",
       "75     35\n",
       "76     33\n",
       "77     30\n",
       "78     39\n",
       "79     34\n",
       "80     36\n",
       "81     36\n",
       "82     33\n",
       "83     34\n",
       "84     35\n",
       "85     34\n",
       "86     35\n",
       "87     32\n",
       "88     35\n",
       "89     33\n",
       "90     31\n",
       "91     32\n",
       "92     31\n",
       "93     35\n",
       "94     37\n",
       "95     33\n",
       "96     34\n",
       "97     37\n",
       "98     23\n",
       "99     27\n",
       "100    34\n",
       "101    31\n",
       "102    32\n",
       "103    34\n",
       "104    35\n",
       "105    34\n",
       "106    36\n",
       "107    35\n",
       "108    36\n",
       "109    34\n",
       "110    34\n",
       "111    37\n",
       "112    34\n",
       "113    36\n",
       "114    36\n",
       "115    30\n",
       "116    34\n",
       "117    34\n",
       "118    54\n",
       "119    34\n",
       "120    36\n",
       "121    32\n",
       "122    36\n",
       "123    31\n",
       "124    35\n",
       "125    34\n",
       "126    33\n",
       "127    31\n",
       "128    31\n",
       "129    33\n",
       "130    34\n",
       "131    35\n",
       "132    34\n",
       "133    27\n",
       "134    34\n",
       "135    19\n",
       "136    35\n",
       "137    32\n",
       "138    34\n",
       "139    34\n",
       "140    27\n",
       "141    27\n",
       "142    32\n",
       "143    38\n",
       "144    35\n",
       "145    34\n",
       "146    36\n",
       "147    36\n",
       "148    34\n",
       "149    29\n",
       "150    35\n",
       "151    29\n",
       "152    36\n",
       "153    34\n",
       "154    34\n",
       "155    31\n",
       "156    30\n",
       "157    23\n",
       "158    29\n",
       "159    35\n",
       "160    38\n",
       "161    37\n",
       "162    30\n",
       "163    35\n",
       "164    36\n",
       "165    33\n",
       "166    38\n",
       "167    34\n",
       "168    31\n",
       "169    35\n",
       "170    37\n",
       "171    35\n",
       "172    35\n",
       "173    33\n",
       "174    25\n",
       "175    31\n",
       "176    35\n",
       "177    34\n",
       "178    36\n",
       "179    34\n",
       "180    30\n",
       "181    37\n",
       "182    34\n",
       "183    33\n",
       "184    31\n",
       "185    31\n",
       "186    35\n",
       "187    35\n",
       "188    33\n",
       "189    34\n",
       "190    37\n",
       "191    34\n",
       "192    34\n",
       "193    37\n",
       "194    34\n",
       "195    32\n",
       "dtype: int64"
      ]
     },
     "execution_count": 28,
     "metadata": {},
     "output_type": "execute_result"
    }
   ],
   "source": [
    "pd.DataFrame(Y_Train_MobileNet_ClassInput).value_counts().sort_index()"
   ]
  },
  {
   "cell_type": "code",
   "execution_count": null,
   "metadata": {
    "colab": {
     "base_uri": "https://localhost:8080/"
    },
    "id": "Ij50y36MMMw5",
    "outputId": "6f0c5d63-1c1e-47af-e6e5-dd934184c05f"
   },
   "outputs": [
    {
     "data": {
      "text/plain": [
       "0       9\n",
       "1       6\n",
       "2       9\n",
       "3       8\n",
       "4       8\n",
       "5       9\n",
       "6       8\n",
       "7       9\n",
       "8       8\n",
       "9       6\n",
       "10      7\n",
       "11      7\n",
       "12      8\n",
       "13      9\n",
       "14      9\n",
       "15      9\n",
       "16      8\n",
       "17      9\n",
       "18      8\n",
       "19      9\n",
       "20      8\n",
       "21      9\n",
       "22      8\n",
       "23      9\n",
       "24      8\n",
       "25      7\n",
       "26      7\n",
       "27      8\n",
       "28      9\n",
       "29      8\n",
       "30      9\n",
       "31      8\n",
       "32      8\n",
       "33      9\n",
       "34      8\n",
       "35      8\n",
       "36      8\n",
       "37      8\n",
       "38      7\n",
       "39      8\n",
       "40      7\n",
       "41      7\n",
       "42      9\n",
       "43      9\n",
       "44      6\n",
       "45      9\n",
       "46      7\n",
       "47      9\n",
       "48      8\n",
       "49      8\n",
       "50      9\n",
       "51      8\n",
       "52      9\n",
       "53      8\n",
       "54      8\n",
       "55      9\n",
       "56      8\n",
       "57      9\n",
       "58      9\n",
       "59      7\n",
       "60      9\n",
       "61      7\n",
       "62      9\n",
       "63      6\n",
       "64      9\n",
       "65      8\n",
       "66      8\n",
       "67      8\n",
       "68      7\n",
       "69      9\n",
       "70      7\n",
       "71      9\n",
       "72      9\n",
       "73      9\n",
       "74      9\n",
       "75      9\n",
       "76      8\n",
       "77      8\n",
       "78     10\n",
       "79      9\n",
       "80      9\n",
       "81      9\n",
       "82      8\n",
       "83      8\n",
       "84      9\n",
       "85      9\n",
       "86      9\n",
       "87      8\n",
       "88      9\n",
       "89      8\n",
       "90      8\n",
       "91      8\n",
       "92      8\n",
       "93      9\n",
       "94      9\n",
       "95      8\n",
       "96      8\n",
       "97      9\n",
       "98      5\n",
       "99      7\n",
       "100     8\n",
       "101     8\n",
       "102     8\n",
       "103     9\n",
       "104     9\n",
       "105     8\n",
       "106     9\n",
       "107     9\n",
       "108     9\n",
       "109     9\n",
       "110     8\n",
       "111     9\n",
       "112     9\n",
       "113     9\n",
       "114     9\n",
       "115     8\n",
       "116     9\n",
       "117     8\n",
       "118    14\n",
       "119     9\n",
       "120     9\n",
       "121     8\n",
       "122     9\n",
       "123     8\n",
       "124     9\n",
       "125     8\n",
       "126     8\n",
       "127     8\n",
       "128     8\n",
       "129     8\n",
       "130     8\n",
       "131     9\n",
       "132     8\n",
       "133     7\n",
       "134     8\n",
       "135     5\n",
       "136     9\n",
       "137     8\n",
       "138     9\n",
       "139     8\n",
       "140     7\n",
       "141     6\n",
       "142     8\n",
       "143     9\n",
       "144     9\n",
       "145     9\n",
       "146     9\n",
       "147     9\n",
       "148     9\n",
       "149     7\n",
       "150     9\n",
       "151     7\n",
       "152     9\n",
       "153     9\n",
       "154     9\n",
       "155     8\n",
       "156     7\n",
       "157     6\n",
       "158     7\n",
       "159     9\n",
       "160    10\n",
       "161     9\n",
       "162     7\n",
       "163     9\n",
       "164     9\n",
       "165     8\n",
       "166    10\n",
       "167     8\n",
       "168     8\n",
       "169     9\n",
       "170     9\n",
       "171     9\n",
       "172     9\n",
       "173     8\n",
       "174     6\n",
       "175     8\n",
       "176     9\n",
       "177     8\n",
       "178     9\n",
       "179     9\n",
       "180     8\n",
       "181     9\n",
       "182     8\n",
       "183     8\n",
       "184     8\n",
       "185     8\n",
       "186     9\n",
       "187     9\n",
       "188     8\n",
       "189     9\n",
       "190     9\n",
       "191     9\n",
       "192     8\n",
       "193     9\n",
       "194     9\n",
       "195     8\n",
       "dtype: int64"
      ]
     },
     "execution_count": 29,
     "metadata": {},
     "output_type": "execute_result"
    }
   ],
   "source": [
    "pd.DataFrame(Y_Test_MobileNet_ClassInput).value_counts().sort_index()"
   ]
  },
  {
   "cell_type": "code",
   "execution_count": null,
   "metadata": {
    "colab": {
     "base_uri": "https://localhost:8080/"
    },
    "id": "TZXYAehuJ8gI",
    "outputId": "0afc4086-f9dd-41f1-b7aa-755e1782be9c"
   },
   "outputs": [
    {
     "name": "stdout",
     "output_type": "stream",
     "text": [
      "Y_Train_MobileNet_ClassInput.shape (6515, 196)\n",
      "Y_Test_MobileNet_ClassInput.shape (1629, 196)\n"
     ]
    }
   ],
   "source": [
    "# Convert to OHV\n",
    "# Convert above  to One hot vectors \n",
    "from tensorflow.keras.utils import to_categorical\n",
    "\n",
    "Y_Train_MobileNet_ClassInput = to_categorical(Y_Train_MobileNet_ClassInput, num_classes=196)\n",
    "Y_Test_MobileNet_ClassInput = to_categorical(Y_Test_MobileNet_ClassInput, num_classes=196)\n",
    "\n",
    "print(\"Y_Train_MobileNet_ClassInput.shape\",Y_Train_MobileNet_ClassInput.shape)\n",
    "print(\"Y_Test_MobileNet_ClassInput.shape\",Y_Test_MobileNet_ClassInput.shape)"
   ]
  },
  {
   "cell_type": "code",
   "execution_count": null,
   "metadata": {
    "colab": {
     "base_uri": "https://localhost:8080/"
    },
    "id": "r9pVtMuXe8MD",
    "outputId": "e5f7782e-4171-4a42-c77c-ef47ffbb97d1"
   },
   "outputs": [
    {
     "data": {
      "text/plain": [
       "array([0., 0., 0., 0., 0., 0., 0., 0., 0., 0., 0., 0., 0., 0., 0., 0., 0.,\n",
       "       0., 0., 0., 0., 0., 0., 0., 0., 0., 0., 0., 0., 0., 0., 0., 0., 0.,\n",
       "       0., 0., 0., 0., 0., 0., 0., 0., 0., 0., 0., 0., 0., 0., 0., 0., 0.,\n",
       "       0., 0., 0., 0., 0., 0., 0., 0., 0., 0., 0., 0., 0., 0., 0., 0., 0.,\n",
       "       0., 0., 0., 0., 0., 0., 0., 0., 0., 0., 0., 0., 0., 0., 0., 0., 0.,\n",
       "       0., 0., 0., 0., 0., 0., 0., 0., 0., 0., 0., 0., 0., 0., 0., 0., 0.,\n",
       "       0., 0., 0., 0., 0., 0., 0., 0., 0., 0., 0., 0., 0., 0., 0., 0., 0.,\n",
       "       0., 0., 0., 0., 0., 0., 0., 0., 0., 0., 0., 0., 0., 0., 0., 0., 0.,\n",
       "       0., 0., 0., 1., 0., 0., 0., 0., 0., 0., 0., 0., 0., 0., 0., 0., 0.,\n",
       "       0., 0., 0., 0., 0., 0., 0., 0., 0., 0., 0., 0., 0., 0., 0., 0., 0.,\n",
       "       0., 0., 0., 0., 0., 0., 0., 0., 0., 0., 0., 0., 0., 0., 0., 0., 0.,\n",
       "       0., 0., 0., 0., 0., 0., 0., 0., 0.], dtype=float32)"
      ]
     },
     "execution_count": 31,
     "metadata": {},
     "output_type": "execute_result"
    },
    {
     "data": {
      "text/plain": [
       "array([0., 0., 0., 0., 0., 0., 0., 0., 0., 0., 0., 0., 0., 0., 0., 0., 0.,\n",
       "       0., 0., 0., 0., 0., 0., 0., 0., 0., 0., 0., 0., 0., 0., 0., 0., 0.,\n",
       "       0., 0., 0., 0., 0., 0., 0., 0., 0., 0., 0., 0., 0., 0., 0., 0., 0.,\n",
       "       0., 0., 0., 0., 0., 0., 0., 0., 0., 0., 0., 0., 0., 0., 0., 0., 0.,\n",
       "       1., 0., 0., 0., 0., 0., 0., 0., 0., 0., 0., 0., 0., 0., 0., 0., 0.,\n",
       "       0., 0., 0., 0., 0., 0., 0., 0., 0., 0., 0., 0., 0., 0., 0., 0., 0.,\n",
       "       0., 0., 0., 0., 0., 0., 0., 0., 0., 0., 0., 0., 0., 0., 0., 0., 0.,\n",
       "       0., 0., 0., 0., 0., 0., 0., 0., 0., 0., 0., 0., 0., 0., 0., 0., 0.,\n",
       "       0., 0., 0., 0., 0., 0., 0., 0., 0., 0., 0., 0., 0., 0., 0., 0., 0.,\n",
       "       0., 0., 0., 0., 0., 0., 0., 0., 0., 0., 0., 0., 0., 0., 0., 0., 0.,\n",
       "       0., 0., 0., 0., 0., 0., 0., 0., 0., 0., 0., 0., 0., 0., 0., 0., 0.,\n",
       "       0., 0., 0., 0., 0., 0., 0., 0., 0.], dtype=float32)"
      ]
     },
     "execution_count": 31,
     "metadata": {},
     "output_type": "execute_result"
    }
   ],
   "source": [
    "Y_Train_MobileNet_ClassInput[0]\n",
    "Y_Test_MobileNet_ClassInput[0]"
   ]
  },
  {
   "cell_type": "code",
   "execution_count": null,
   "metadata": {
    "colab": {
     "base_uri": "https://localhost:8080/"
    },
    "id": "wflaS-sfbX57",
    "outputId": "7ccd2da0-41e1-477b-d1e5-b6d08db75f13"
   },
   "outputs": [
    {
     "data": {
      "text/plain": [
       "array([0., 0., 0., 0., 0., 0., 0., 0., 0., 0., 0., 0., 0., 0., 0., 0., 0.,\n",
       "       0., 0., 0., 0., 0., 0., 0., 0., 0., 0., 0., 0., 0., 0., 0., 0., 0.,\n",
       "       0., 0., 0., 0., 0., 0., 0., 0., 0., 0., 0., 0., 0., 0., 0., 0., 0.,\n",
       "       0., 0., 0., 0., 0., 0., 0., 0., 0., 0., 0., 0., 0., 0., 0., 0., 0.,\n",
       "       0., 0., 0., 0., 0., 0., 0., 0., 0., 0., 0., 0., 0., 0., 0., 0., 0.,\n",
       "       0., 0., 0., 0., 0., 0., 0., 0., 0., 0., 0., 0., 0., 0., 0., 0., 0.,\n",
       "       0., 0., 0., 0., 0., 0., 0., 0., 0., 0., 0., 0., 0., 0., 0., 0., 0.,\n",
       "       0., 0., 0., 0., 0., 0., 0., 0., 0., 0., 0., 0., 0., 0., 0., 0., 0.,\n",
       "       0., 0., 0., 1., 0., 0., 0., 0., 0., 0., 0., 0., 0., 0., 0., 0., 0.,\n",
       "       0., 0., 0., 0., 0., 0., 0., 0., 0., 0., 0., 0., 0., 0., 0., 0., 0.,\n",
       "       0., 0., 0., 0., 0., 0., 0., 0., 0., 0., 0., 0., 0., 0., 0., 0., 0.,\n",
       "       0., 0., 0., 0., 0., 0., 0., 0., 0.], dtype=float32)"
      ]
     },
     "execution_count": 32,
     "metadata": {},
     "output_type": "execute_result"
    },
    {
     "name": "stdout",
     "output_type": "stream",
     "text": [
      "\n",
      "\n",
      "Inverse Label [140]\n",
      "Original 140\n"
     ]
    },
    {
     "data": {
      "text/plain": [
       "array([0., 0., 0., 0., 0., 0., 0., 0., 0., 0., 0., 0., 0., 0., 0., 0., 0.,\n",
       "       0., 0., 0., 0., 0., 0., 0., 0., 0., 0., 0., 0., 0., 0., 0., 0., 0.,\n",
       "       0., 0., 0., 0., 0., 0., 0., 0., 0., 0., 0., 0., 0., 0., 0., 0., 0.,\n",
       "       0., 0., 0., 0., 0., 0., 0., 0., 0., 0., 0., 0., 0., 0., 0., 0., 0.,\n",
       "       1., 0., 0., 0., 0., 0., 0., 0., 0., 0., 0., 0., 0., 0., 0., 0., 0.,\n",
       "       0., 0., 0., 0., 0., 0., 0., 0., 0., 0., 0., 0., 0., 0., 0., 0., 0.,\n",
       "       0., 0., 0., 0., 0., 0., 0., 0., 0., 0., 0., 0., 0., 0., 0., 0., 0.,\n",
       "       0., 0., 0., 0., 0., 0., 0., 0., 0., 0., 0., 0., 0., 0., 0., 0., 0.,\n",
       "       0., 0., 0., 0., 0., 0., 0., 0., 0., 0., 0., 0., 0., 0., 0., 0., 0.,\n",
       "       0., 0., 0., 0., 0., 0., 0., 0., 0., 0., 0., 0., 0., 0., 0., 0., 0.,\n",
       "       0., 0., 0., 0., 0., 0., 0., 0., 0., 0., 0., 0., 0., 0., 0., 0., 0.,\n",
       "       0., 0., 0., 0., 0., 0., 0., 0., 0.], dtype=float32)"
      ]
     },
     "execution_count": 32,
     "metadata": {},
     "output_type": "execute_result"
    },
    {
     "name": "stdout",
     "output_type": "stream",
     "text": [
      "\n",
      "\n",
      "Inverse Label [69]\n",
      "Original 69\n"
     ]
    }
   ],
   "source": [
    "# Cross verify transofmration have been done correctly \n",
    "#On Train\n",
    "Y_Train_MobileNet_ClassInput[0]\n",
    "Originial=np.argmax(Y_Train_MobileNet_ClassInput[0])\n",
    "print(\"\\n\")\n",
    "print(\"Inverse Label\",encoder.inverse_transform([Originial]))\n",
    "print(\"Original\",Y_Train[0][4])\n",
    "\n",
    "#On Test\n",
    "Y_Test_MobileNet_ClassInput[0]\n",
    "Originial=np.argmax(Y_Test_MobileNet_ClassInput[0])\n",
    "print(\"\\n\")\n",
    "print(\"Inverse Label\",(encoder.inverse_transform([Originial])))\n",
    "print(\"Original\",Y_Test[0][4])"
   ]
  },
  {
   "cell_type": "code",
   "execution_count": null,
   "metadata": {
    "id": "PUrjBS0KeZPz"
   },
   "outputs": [],
   "source": [
    "### Now lets prepare labels for Regression Head"
   ]
  },
  {
   "cell_type": "code",
   "execution_count": null,
   "metadata": {
    "id": "4ZRRr7ipkgGv"
   },
   "outputs": [],
   "source": [
    "# Lets remove labels of class\n",
    "Y_Train_MobileNet_BoxInput=np.delete(Y_Train,obj=[4],axis=1)"
   ]
  },
  {
   "cell_type": "code",
   "execution_count": null,
   "metadata": {
    "id": "ryXgStJ-kgGv"
   },
   "outputs": [],
   "source": [
    "# Lets remove label of class\n",
    "Y_Test_MobileNet_BoxInput=np.delete(Y_Test,obj=[4],axis=1)"
   ]
  },
  {
   "cell_type": "code",
   "execution_count": null,
   "metadata": {
    "colab": {
     "base_uri": "https://localhost:8080/"
    },
    "id": "OUrZqa_VelXw",
    "outputId": "afd2a846-8a15-42ea-ff61-47b350c9b7b3"
   },
   "outputs": [
    {
     "data": {
      "text/plain": [
       "(6515, 4)"
      ]
     },
     "execution_count": 36,
     "metadata": {},
     "output_type": "execute_result"
    },
    {
     "data": {
      "text/plain": [
       "(1629, 4)"
      ]
     },
     "execution_count": 36,
     "metadata": {},
     "output_type": "execute_result"
    }
   ],
   "source": [
    "Y_Train_MobileNet_BoxInput.shape\n",
    "Y_Test_MobileNet_BoxInput.shape"
   ]
  },
  {
   "cell_type": "code",
   "execution_count": null,
   "metadata": {
    "colab": {
     "base_uri": "https://localhost:8080/",
     "height": 70
    },
    "id": "4ZOBcNcqkgGw",
    "outputId": "e06c65d0-137f-4c08-d170-edc836fa8f1f"
   },
   "outputs": [
    {
     "data": {
      "application/vnd.google.colaboratory.intrinsic+json": {
       "type": "string"
      },
      "text/plain": [
       "'# Lets prepare X data for Mobile net(will remain same for both reg and class head)\\nfrom PIL import Image\\nfrom keras.applications.mobilenet import preprocess_input\\n\\nX_Train_MobileNet=X_Train.copy()\\n#for i, f in enumerate(X_Train):\\n  #X_Train_MobileNet[i] = preprocess_input(X_Train_MobileNet[i]) # Convert to float32 array'"
      ]
     },
     "execution_count": 37,
     "metadata": {},
     "output_type": "execute_result"
    }
   ],
   "source": [
    "'''# Lets prepare X data for Mobile net(will remain same for both reg and class head)\n",
    "from PIL import Image\n",
    "from keras.applications.mobilenet import preprocess_input\n",
    "\n",
    "X_Train_MobileNet=X_Train.copy()\n",
    "#for i, f in enumerate(X_Train):\n",
    "  #X_Train_MobileNet[i] = preprocess_input(X_Train_MobileNet[i]) # Convert to float32 array'''\n",
    "\n",
    "from keras.applications.mobilenet import preprocess_input\n",
    "X_Train_MobileNet=preprocess_input(np.array(X_Train))\n",
    "X_Test_MobileNet=preprocess_input(np.array(X_Test))\n"
   ]
  },
  {
   "cell_type": "code",
   "execution_count": null,
   "metadata": {
    "colab": {
     "base_uri": "https://localhost:8080/",
     "height": 53
    },
    "id": "pTQLibJjkgGx",
    "outputId": "534e0ecc-e559-46a3-c5cf-ee1e05f9db55"
   },
   "outputs": [
    {
     "data": {
      "application/vnd.google.colaboratory.intrinsic+json": {
       "type": "string"
      },
      "text/plain": [
       "'X_Test_MobileNet=X_Test.copy()\\n\\n#for i, f in enumerate(X_Test):\\n  #X_Test_MobileNet[i] = preprocess_input(np.array(X_Test_MobileNet[i], dtype=np.float32)) # Convert to float32 array'"
      ]
     },
     "execution_count": 38,
     "metadata": {},
     "output_type": "execute_result"
    }
   ],
   "source": [
    "'''X_Test_MobileNet=X_Test.copy()\n",
    "\n",
    "#for i, f in enumerate(X_Test):\n",
    "  #X_Test_MobileNet[i] = preprocess_input(np.array(X_Test_MobileNet[i], dtype=np.float32)) # Convert to float32 array'''"
   ]
  },
  {
   "cell_type": "code",
   "execution_count": null,
   "metadata": {
    "id": "VvNa7ZTSJnS2"
   },
   "outputs": [],
   "source": [
    "np.save(\"/content/drive/MyDrive/Capstone/Pickled_Info/X_Train_MobileNet.npy\",X_Train_MobileNet)\n",
    "np.save(\"/content/drive/MyDrive/Capstone/Pickled_Info/X_Test_MobileNet.npy\",X_Test_MobileNet)\n",
    "\n",
    "np.save(\"/content/drive/MyDrive/Capstone/Pickled_Info/Y_Train_MobileNet_BoxInput.npy\",Y_Train_MobileNet_BoxInput)\n",
    "\n",
    "np.save(\"/content/drive/MyDrive/Capstone/Pickled_Info/Y_Train_MobileNet_ClassInput.npy\",Y_Train_MobileNet_ClassInput)\n",
    "\n",
    "np.save(\"/content/drive/MyDrive/Capstone/Pickled_Info/Y_Test_MobileNet_BoxInput.npy\",Y_Test_MobileNet_BoxInput)\n",
    "\n",
    "np.save(\"/content/drive/MyDrive/Capstone/Pickled_Info/Y_Test_MobileNet_ClassInput.npy\",Y_Test_MobileNet_ClassInput)\n"
   ]
  },
  {
   "cell_type": "markdown",
   "metadata": {
    "id": "ci0AawPdJnpy"
   },
   "source": [
    "Seperate"
   ]
  },
  {
   "cell_type": "code",
   "execution_count": null,
   "metadata": {
    "id": "-68mUjFYOpba"
   },
   "outputs": [],
   "source": []
  },
  {
   "cell_type": "code",
   "execution_count": null,
   "metadata": {
    "colab": {
     "base_uri": "https://localhost:8080/",
     "height": 165
    },
    "id": "7jvsWR0YIrwS",
    "outputId": "8515659c-bb57-4835-ae4e-cc9e22a15d20"
   },
   "outputs": [
    {
     "ename": "NameError",
     "evalue": "ignored",
     "output_type": "error",
     "traceback": [
      "\u001b[0;31m---------------------------------------------------------------------------\u001b[0m",
      "\u001b[0;31mNameError\u001b[0m                                 Traceback (most recent call last)",
      "\u001b[0;32m<ipython-input-40-ee4decdca3b8>\u001b[0m in \u001b[0;36m<module>\u001b[0;34m()\u001b[0m\n\u001b[0;32m----> 1\u001b[0;31m \u001b[0mSTOP\u001b[0m\u001b[0;34m\u001b[0m\u001b[0;34m\u001b[0m\u001b[0m\n\u001b[0m",
      "\u001b[0;31mNameError\u001b[0m: name 'STOP' is not defined"
     ]
    }
   ],
   "source": [
    "STOP"
   ]
  },
  {
   "cell_type": "markdown",
   "metadata": {
    "id": "dnak6aQTB45N"
   },
   "source": [
    "## 4.0 Retrive Pickled  Data Splits\n"
   ]
  },
  {
   "cell_type": "code",
   "execution_count": null,
   "metadata": {
    "id": "pNiti3-tPTgY"
   },
   "outputs": [],
   "source": [
    "#X_Train=np.load(\"/content/drive/MyDrive/Capstone/Pickled_Info/X_Train_Subset.npy\")\n",
    "\n",
    "X_Train_MobileNet=np.load(\"/content/drive/MyDrive/Capstone/Pickled_Info/X_Train_MobileNet.npy\")\n",
    "\n",
    "X_Test_MobileNet=np.load(\"/content/drive/MyDrive/Capstone/Pickled_Info/X_Test_MobileNet.npy\")\n",
    "\n",
    "Y_Train_MobileNet_BoxInput=np.load(\"/content/drive/MyDrive/Capstone/Pickled_Info/Y_Train_MobileNet_BoxInput.npy\")\n",
    "\n",
    "Y_Train_MobileNet_ClassInput=np.load(\"/content/drive/MyDrive/Capstone/Pickled_Info/Y_Train_MobileNet_ClassInput.npy\")\n",
    "\n",
    "Y_Test_MobileNet_BoxInput=np.load(\"/content/drive/MyDrive/Capstone/Pickled_Info/Y_Test_MobileNet_BoxInput.npy\")\n",
    "\n",
    "Y_Test_MobileNet_ClassInput=np.load(\"/content/drive/MyDrive/Capstone/Pickled_Info/Y_Test_MobileNet_ClassInput.npy\")\n"
   ]
  },
  {
   "cell_type": "code",
   "execution_count": null,
   "metadata": {
    "colab": {
     "base_uri": "https://localhost:8080/"
    },
    "id": "MsTlDk47TAph",
    "outputId": "ac40b353-56bb-41be-e247-86de289e3dc2"
   },
   "outputs": [
    {
     "data": {
      "text/plain": [
       "(1628, 300, 300, 3)"
      ]
     },
     "execution_count": 11,
     "metadata": {},
     "output_type": "execute_result"
    },
    {
     "data": {
      "text/plain": [
       "(6516, 300, 300, 3)"
      ]
     },
     "execution_count": 11,
     "metadata": {},
     "output_type": "execute_result"
    },
    {
     "data": {
      "text/plain": [
       "(1628, 4)"
      ]
     },
     "execution_count": 11,
     "metadata": {},
     "output_type": "execute_result"
    },
    {
     "data": {
      "text/plain": [
       "(1628, 196)"
      ]
     },
     "execution_count": 11,
     "metadata": {},
     "output_type": "execute_result"
    },
    {
     "data": {
      "text/plain": [
       "(6516, 4)"
      ]
     },
     "execution_count": 11,
     "metadata": {},
     "output_type": "execute_result"
    },
    {
     "data": {
      "text/plain": [
       "(6516, 196)"
      ]
     },
     "execution_count": 11,
     "metadata": {},
     "output_type": "execute_result"
    }
   ],
   "source": [
    "#X_Train.shape\n",
    "X_Train_MobileNet.shape\n",
    "X_Test_MobileNet.shape\n",
    "Y_Train_MobileNet_BoxInput.shape\n",
    "Y_Train_MobileNet_ClassInput.shape\n",
    "Y_Test_MobileNet_BoxInput.shape\n",
    "Y_Test_MobileNet_ClassInput.shape"
   ]
  },
  {
   "cell_type": "code",
   "execution_count": null,
   "metadata": {
    "id": "I5Qh-UsvfJJ8"
   },
   "outputs": [],
   "source": [
    "STOP"
   ]
  },
  {
   "cell_type": "markdown",
   "metadata": {
    "id": "IShyfcH9PT5h"
   },
   "source": [
    "## 5.0 Model Building"
   ]
  },
  {
   "cell_type": "code",
   "execution_count": null,
   "metadata": {
    "id": "gPxv5TsjPuHp"
   },
   "outputs": [],
   "source": [
    "images_height=300\n",
    "images_width=300"
   ]
  },
  {
   "cell_type": "code",
   "execution_count": null,
   "metadata": {
    "id": "7qC6F-c9kgGy"
   },
   "outputs": [],
   "source": [
    "# Lets build the model\n",
    "\n",
    "from keras.applications.mobilenet import MobileNet\n",
    "from keras.models import Model,load_model\n",
    "from keras.layers import Conv2D, Reshape,Flatten,Dense,Dropout\n",
    "from keras.callbacks import EarlyStopping\n",
    "from keras.callbacks import ModelCheckpoint\n",
    "\n",
    "ALPHA = 1.0\n",
    "\n",
    "def create_model(trainable=True):\n",
    "    regODModel = MobileNet(input_shape=(images_height, images_width, 3), include_top=False, alpha=ALPHA) # Load pre-trained mobilenet\n",
    "\n",
    "    # to freeze layers, except the new top layer, of course, which will be added below\n",
    "    for layer in regODModel.layers:\n",
    "        layer.trainable = trainable\n",
    "    \n",
    "    # Add new top layer for Regression Head\n",
    "    boxPredicModel = regODModel.layers[-1].output\n",
    "    boxPredicModel = Flatten()(boxPredicModel)\n",
    "    boxPredicModel = Dense(units=4)(boxPredicModel) # These are the 4 predicted coordinates of one BBox\n",
    "    #boxPredicModel = Dense(units=4)(boxPredicModel) # These are the 4 predicted coordinates of one BBox\n",
    "\n",
    "    ''' # Add new top layer for Classification  Head\n",
    "    classPredicModel = model.layers[-1].output\n",
    "    classPredicModel = Flatten()(classPredicModel)\n",
    "    class_prediction = Dense(256, activation=\"relu\")(classPredicModel)\n",
    "    class_prediction = Dense(128, activation=\"relu\")(class_prediction )\n",
    "    class_prediction = Dropout(0.2)(class_prediction)\n",
    "    class_prediction = Dense(64, activation=\"relu\")(class_prediction)\n",
    "    class_prediction = Dropout(0.2)(class_prediction )\n",
    "    class_prediction = Dense(32, activation=\"relu\")(class_prediction)\n",
    "    classPredicModel = Dense(units=196,activation='softmax',name=\"class_output\")(classPredicModel) # These are the 4 predicted coordinates of one BBox\n",
    "    '''\n",
    "    #Combine two heads \n",
    "    return Model(inputs=regODModel.input, outputs=boxPredicModel,name=\"box_output\")\n",
    "    #, name=\"boxoutput\""
   ]
  },
  {
   "cell_type": "code",
   "execution_count": null,
   "metadata": {
    "id": "YHc6bEWTkgGz"
   },
   "outputs": [],
   "source": [
    "# Define evaluation metric\n",
    "\n",
    "def IOU(y_true, y_pred):\n",
    "    intersections = 0\n",
    "    unions = 0\n",
    "    gt = y_true\n",
    "    pred = y_pred\n",
    "    # Compute interection of predicted (pred) and ground truth (gt) bounding boxes\n",
    "    diff_width = np.minimum(gt[:,0] + gt[:,2], pred[:,0] + pred[:,2]) - np.maximum(gt[:,0], pred[:,0])\n",
    "    diff_height = np.minimum(gt[:,1] + gt[:,3], pred[:,1] + pred[:,3]) - np.maximum(gt[:,1], pred[:,1])\n",
    "    intersection = diff_width * diff_height\n",
    "\n",
    "    # Compute union\n",
    "    area_gt = gt[:,2] * gt[:,3]\n",
    "    area_pred = pred[:,2] * pred[:,3]\n",
    "    union = area_gt + area_pred - intersection\n",
    "    # rk - again to repeat we know why he has minues , taken 2 times \n",
    "\n",
    "    # Compute intersection and union over multiple boxes\n",
    "    for j, _ in enumerate(union):\n",
    "      if union[j] > 0 and intersection[j] > 0 and union[j] >= intersection[j]:\n",
    "        intersections += intersection[j]\n",
    "        unions += union[j]\n",
    "\n",
    "    # Compute IOU. Use epsilon to prevent division by zero\n",
    "    iou = np.round(intersections / (unions + tensorflow.keras.backend.epsilon()), 4)# rounded to 4 \n",
    "    # This must match the type used in py_func\n",
    "    iou = iou.astype(np.float32)\n",
    "    return iou\n",
    "    # this is one number for the whole model"
   ]
  },
  {
   "cell_type": "code",
   "execution_count": null,
   "metadata": {
    "id": "HmgZYoVbVXWP"
   },
   "outputs": [],
   "source": [
    "def IoU(y_true, y_pred):\n",
    "    iou = tensorflow.py_function(IOU, [y_true, y_pred], Tout=tensorflow.float32)\n",
    "    return iou\n",
    "# This is a wrapper funcction"
   ]
  },
  {
   "cell_type": "code",
   "execution_count": null,
   "metadata": {
    "colab": {
     "base_uri": "https://localhost:8080/"
    },
    "id": "mRcalqnEkgG0",
    "outputId": "2e61074e-57e5-4020-ee65-ca278cf9b501"
   },
   "outputs": [
    {
     "name": "stdout",
     "output_type": "stream",
     "text": [
      "WARNING:tensorflow:`input_shape` is undefined or non-square, or `rows` is not in [128, 160, 192, 224]. Weights for input shape (224, 224) will be loaded as the default.\n",
      "Downloading data from https://storage.googleapis.com/tensorflow/keras-applications/mobilenet/mobilenet_1_0_224_tf_no_top.h5\n",
      "17227776/17225924 [==============================] - 0s 0us/step\n",
      "17235968/17225924 [==============================] - 0s 0us/step\n",
      "Model: \"box_output\"\n",
      "_________________________________________________________________\n",
      " Layer (type)                Output Shape              Param #   \n",
      "=================================================================\n",
      " input_1 (InputLayer)        [(None, 300, 300, 3)]     0         \n",
      "                                                                 \n",
      " conv1 (Conv2D)              (None, 150, 150, 32)      864       \n",
      "                                                                 \n",
      " conv1_bn (BatchNormalizatio  (None, 150, 150, 32)     128       \n",
      " n)                                                              \n",
      "                                                                 \n",
      " conv1_relu (ReLU)           (None, 150, 150, 32)      0         \n",
      "                                                                 \n",
      " conv_dw_1 (DepthwiseConv2D)  (None, 150, 150, 32)     288       \n",
      "                                                                 \n",
      " conv_dw_1_bn (BatchNormaliz  (None, 150, 150, 32)     128       \n",
      " ation)                                                          \n",
      "                                                                 \n",
      " conv_dw_1_relu (ReLU)       (None, 150, 150, 32)      0         \n",
      "                                                                 \n",
      " conv_pw_1 (Conv2D)          (None, 150, 150, 64)      2048      \n",
      "                                                                 \n",
      " conv_pw_1_bn (BatchNormaliz  (None, 150, 150, 64)     256       \n",
      " ation)                                                          \n",
      "                                                                 \n",
      " conv_pw_1_relu (ReLU)       (None, 150, 150, 64)      0         \n",
      "                                                                 \n",
      " conv_pad_2 (ZeroPadding2D)  (None, 151, 151, 64)      0         \n",
      "                                                                 \n",
      " conv_dw_2 (DepthwiseConv2D)  (None, 75, 75, 64)       576       \n",
      "                                                                 \n",
      " conv_dw_2_bn (BatchNormaliz  (None, 75, 75, 64)       256       \n",
      " ation)                                                          \n",
      "                                                                 \n",
      " conv_dw_2_relu (ReLU)       (None, 75, 75, 64)        0         \n",
      "                                                                 \n",
      " conv_pw_2 (Conv2D)          (None, 75, 75, 128)       8192      \n",
      "                                                                 \n",
      " conv_pw_2_bn (BatchNormaliz  (None, 75, 75, 128)      512       \n",
      " ation)                                                          \n",
      "                                                                 \n",
      " conv_pw_2_relu (ReLU)       (None, 75, 75, 128)       0         \n",
      "                                                                 \n",
      " conv_dw_3 (DepthwiseConv2D)  (None, 75, 75, 128)      1152      \n",
      "                                                                 \n",
      " conv_dw_3_bn (BatchNormaliz  (None, 75, 75, 128)      512       \n",
      " ation)                                                          \n",
      "                                                                 \n",
      " conv_dw_3_relu (ReLU)       (None, 75, 75, 128)       0         \n",
      "                                                                 \n",
      " conv_pw_3 (Conv2D)          (None, 75, 75, 128)       16384     \n",
      "                                                                 \n",
      " conv_pw_3_bn (BatchNormaliz  (None, 75, 75, 128)      512       \n",
      " ation)                                                          \n",
      "                                                                 \n",
      " conv_pw_3_relu (ReLU)       (None, 75, 75, 128)       0         \n",
      "                                                                 \n",
      " conv_pad_4 (ZeroPadding2D)  (None, 76, 76, 128)       0         \n",
      "                                                                 \n",
      " conv_dw_4 (DepthwiseConv2D)  (None, 37, 37, 128)      1152      \n",
      "                                                                 \n",
      " conv_dw_4_bn (BatchNormaliz  (None, 37, 37, 128)      512       \n",
      " ation)                                                          \n",
      "                                                                 \n",
      " conv_dw_4_relu (ReLU)       (None, 37, 37, 128)       0         \n",
      "                                                                 \n",
      " conv_pw_4 (Conv2D)          (None, 37, 37, 256)       32768     \n",
      "                                                                 \n",
      " conv_pw_4_bn (BatchNormaliz  (None, 37, 37, 256)      1024      \n",
      " ation)                                                          \n",
      "                                                                 \n",
      " conv_pw_4_relu (ReLU)       (None, 37, 37, 256)       0         \n",
      "                                                                 \n",
      " conv_dw_5 (DepthwiseConv2D)  (None, 37, 37, 256)      2304      \n",
      "                                                                 \n",
      " conv_dw_5_bn (BatchNormaliz  (None, 37, 37, 256)      1024      \n",
      " ation)                                                          \n",
      "                                                                 \n",
      " conv_dw_5_relu (ReLU)       (None, 37, 37, 256)       0         \n",
      "                                                                 \n",
      " conv_pw_5 (Conv2D)          (None, 37, 37, 256)       65536     \n",
      "                                                                 \n",
      " conv_pw_5_bn (BatchNormaliz  (None, 37, 37, 256)      1024      \n",
      " ation)                                                          \n",
      "                                                                 \n",
      " conv_pw_5_relu (ReLU)       (None, 37, 37, 256)       0         \n",
      "                                                                 \n",
      " conv_pad_6 (ZeroPadding2D)  (None, 38, 38, 256)       0         \n",
      "                                                                 \n",
      " conv_dw_6 (DepthwiseConv2D)  (None, 18, 18, 256)      2304      \n",
      "                                                                 \n",
      " conv_dw_6_bn (BatchNormaliz  (None, 18, 18, 256)      1024      \n",
      " ation)                                                          \n",
      "                                                                 \n",
      " conv_dw_6_relu (ReLU)       (None, 18, 18, 256)       0         \n",
      "                                                                 \n",
      " conv_pw_6 (Conv2D)          (None, 18, 18, 512)       131072    \n",
      "                                                                 \n",
      " conv_pw_6_bn (BatchNormaliz  (None, 18, 18, 512)      2048      \n",
      " ation)                                                          \n",
      "                                                                 \n",
      " conv_pw_6_relu (ReLU)       (None, 18, 18, 512)       0         \n",
      "                                                                 \n",
      " conv_dw_7 (DepthwiseConv2D)  (None, 18, 18, 512)      4608      \n",
      "                                                                 \n",
      " conv_dw_7_bn (BatchNormaliz  (None, 18, 18, 512)      2048      \n",
      " ation)                                                          \n",
      "                                                                 \n",
      " conv_dw_7_relu (ReLU)       (None, 18, 18, 512)       0         \n",
      "                                                                 \n",
      " conv_pw_7 (Conv2D)          (None, 18, 18, 512)       262144    \n",
      "                                                                 \n",
      " conv_pw_7_bn (BatchNormaliz  (None, 18, 18, 512)      2048      \n",
      " ation)                                                          \n",
      "                                                                 \n",
      " conv_pw_7_relu (ReLU)       (None, 18, 18, 512)       0         \n",
      "                                                                 \n",
      " conv_dw_8 (DepthwiseConv2D)  (None, 18, 18, 512)      4608      \n",
      "                                                                 \n",
      " conv_dw_8_bn (BatchNormaliz  (None, 18, 18, 512)      2048      \n",
      " ation)                                                          \n",
      "                                                                 \n",
      " conv_dw_8_relu (ReLU)       (None, 18, 18, 512)       0         \n",
      "                                                                 \n",
      " conv_pw_8 (Conv2D)          (None, 18, 18, 512)       262144    \n",
      "                                                                 \n",
      " conv_pw_8_bn (BatchNormaliz  (None, 18, 18, 512)      2048      \n",
      " ation)                                                          \n",
      "                                                                 \n",
      " conv_pw_8_relu (ReLU)       (None, 18, 18, 512)       0         \n",
      "                                                                 \n",
      " conv_dw_9 (DepthwiseConv2D)  (None, 18, 18, 512)      4608      \n",
      "                                                                 \n",
      " conv_dw_9_bn (BatchNormaliz  (None, 18, 18, 512)      2048      \n",
      " ation)                                                          \n",
      "                                                                 \n",
      " conv_dw_9_relu (ReLU)       (None, 18, 18, 512)       0         \n",
      "                                                                 \n",
      " conv_pw_9 (Conv2D)          (None, 18, 18, 512)       262144    \n",
      "                                                                 \n",
      " conv_pw_9_bn (BatchNormaliz  (None, 18, 18, 512)      2048      \n",
      " ation)                                                          \n",
      "                                                                 \n",
      " conv_pw_9_relu (ReLU)       (None, 18, 18, 512)       0         \n",
      "                                                                 \n",
      " conv_dw_10 (DepthwiseConv2D  (None, 18, 18, 512)      4608      \n",
      " )                                                               \n",
      "                                                                 \n",
      " conv_dw_10_bn (BatchNormali  (None, 18, 18, 512)      2048      \n",
      " zation)                                                         \n",
      "                                                                 \n",
      " conv_dw_10_relu (ReLU)      (None, 18, 18, 512)       0         \n",
      "                                                                 \n",
      " conv_pw_10 (Conv2D)         (None, 18, 18, 512)       262144    \n",
      "                                                                 \n",
      " conv_pw_10_bn (BatchNormali  (None, 18, 18, 512)      2048      \n",
      " zation)                                                         \n",
      "                                                                 \n",
      " conv_pw_10_relu (ReLU)      (None, 18, 18, 512)       0         \n",
      "                                                                 \n",
      " conv_dw_11 (DepthwiseConv2D  (None, 18, 18, 512)      4608      \n",
      " )                                                               \n",
      "                                                                 \n",
      " conv_dw_11_bn (BatchNormali  (None, 18, 18, 512)      2048      \n",
      " zation)                                                         \n",
      "                                                                 \n",
      " conv_dw_11_relu (ReLU)      (None, 18, 18, 512)       0         \n",
      "                                                                 \n",
      " conv_pw_11 (Conv2D)         (None, 18, 18, 512)       262144    \n",
      "                                                                 \n",
      " conv_pw_11_bn (BatchNormali  (None, 18, 18, 512)      2048      \n",
      " zation)                                                         \n",
      "                                                                 \n",
      " conv_pw_11_relu (ReLU)      (None, 18, 18, 512)       0         \n",
      "                                                                 \n",
      " conv_pad_12 (ZeroPadding2D)  (None, 19, 19, 512)      0         \n",
      "                                                                 \n",
      " conv_dw_12 (DepthwiseConv2D  (None, 9, 9, 512)        4608      \n",
      " )                                                               \n",
      "                                                                 \n",
      " conv_dw_12_bn (BatchNormali  (None, 9, 9, 512)        2048      \n",
      " zation)                                                         \n",
      "                                                                 \n",
      " conv_dw_12_relu (ReLU)      (None, 9, 9, 512)         0         \n",
      "                                                                 \n",
      " conv_pw_12 (Conv2D)         (None, 9, 9, 1024)        524288    \n",
      "                                                                 \n",
      " conv_pw_12_bn (BatchNormali  (None, 9, 9, 1024)       4096      \n",
      " zation)                                                         \n",
      "                                                                 \n",
      " conv_pw_12_relu (ReLU)      (None, 9, 9, 1024)        0         \n",
      "                                                                 \n",
      " conv_dw_13 (DepthwiseConv2D  (None, 9, 9, 1024)       9216      \n",
      " )                                                               \n",
      "                                                                 \n",
      " conv_dw_13_bn (BatchNormali  (None, 9, 9, 1024)       4096      \n",
      " zation)                                                         \n",
      "                                                                 \n",
      " conv_dw_13_relu (ReLU)      (None, 9, 9, 1024)        0         \n",
      "                                                                 \n",
      " conv_pw_13 (Conv2D)         (None, 9, 9, 1024)        1048576   \n",
      "                                                                 \n",
      " conv_pw_13_bn (BatchNormali  (None, 9, 9, 1024)       4096      \n",
      " zation)                                                         \n",
      "                                                                 \n",
      " conv_pw_13_relu (ReLU)      (None, 9, 9, 1024)        0         \n",
      "                                                                 \n",
      " flatten (Flatten)           (None, 82944)             0         \n",
      "                                                                 \n",
      " dense (Dense)               (None, 4)                 331780    \n",
      "                                                                 \n",
      "=================================================================\n",
      "Total params: 3,560,644\n",
      "Trainable params: 331,780\n",
      "Non-trainable params: 3,228,864\n",
      "_________________________________________________________________\n"
     ]
    }
   ],
   "source": [
    "#Initialize the model and print summary\n",
    "\n",
    "model = create_model(False) # Arg is False, if you want to freeze lower layers for fast training (but low accuracy)\n",
    "model.summary() # Print summary"
   ]
  },
  {
   "cell_type": "code",
   "execution_count": null,
   "metadata": {
    "id": "nBmnmUT_RmfW"
   },
   "outputs": [],
   "source": [
    "model.compile(loss='mean_squared_error', optimizer='adam', metrics=IoU)"
   ]
  },
  {
   "cell_type": "code",
   "execution_count": null,
   "metadata": {
    "id": "HAR-f7J6GVhq"
   },
   "outputs": [],
   "source": [
    "#Training the model\n",
    "#Fit the model to the dataset\n",
    "\n",
    "#Use early stopping,fit the model,give train data - training features and labels,batch size: 32 contd...\n",
    "#...epochs: 10,give validation data - testing features and labels\n",
    "\n",
    "# Use earlystopping\n",
    "callback = EarlyStopping(monitor='val_IoU', patience=5, min_delta=0.001)\n",
    "# If val_iou does not increase by 001 in 5 epochs , stop\n",
    "# Fit the model\n",
    "model.fit(X_Train_MobileNet, Y_Train_MobileNet_BoxInput, validation_data=(X_Test_MobileNet, Y_Test_MobileNet_BoxInput), epochs=5, batch_size=700)"
   ]
  },
  {
   "cell_type": "code",
   "execution_count": null,
   "metadata": {
    "id": "aB2sa4ioUGDI"
   },
   "outputs": [],
   "source": [
    "model.load_weights('/content/drive/MyDrive/Capstone/Pickled_Info/RegODModel_bestWieghts_300.h5')"
   ]
  },
  {
   "cell_type": "code",
   "execution_count": null,
   "metadata": {
    "id": "-56sFKxjYdCj"
   },
   "outputs": [],
   "source": [
    "#model.save('/content/drive/MyDrive/Capstone/Pickled_Info/RegODModel_300.h5')\n",
    "#model.save_weights('/content/drive/MyDrive/Capstone/Pickled_Info/RegODModel_bestWieghts_300.h5')"
   ]
  },
  {
   "cell_type": "code",
   "execution_count": null,
   "metadata": {
    "colab": {
     "base_uri": "https://localhost:8080/"
    },
    "id": "kzbidufqGVhr",
    "outputId": "f255d905-1134-48bb-bf1f-e56caa234d0c"
   },
   "outputs": [
    {
     "name": "stdout",
     "output_type": "stream",
     "text": [
      "204/204 [==============================] - 31s 81ms/step - loss: 3423.6929 - IoU: 0.4701\n"
     ]
    },
    {
     "data": {
      "text/plain": [
       "[3423.69287109375, 0.4701077938079834]"
      ]
     },
     "execution_count": 20,
     "metadata": {},
     "output_type": "execute_result"
    }
   ],
   "source": [
    "#Final loss and accuracy\n",
    "model.evaluate(X_Test_MobileNet, Y_Test_MobileNet_BoxInput)"
   ]
  },
  {
   "cell_type": "code",
   "execution_count": null,
   "metadata": {
    "id": "5YZjJJWhGVhs"
   },
   "outputs": [],
   "source": [
    "# Take some sample image and predict\n",
    "\n",
    "region=model.predict(X_Test_MobileNet[200].reshape(1,300,300,3)) # Predict the BBox"
   ]
  },
  {
   "cell_type": "code",
   "execution_count": null,
   "metadata": {
    "id": "tbtURmoMGVhs"
   },
   "outputs": [],
   "source": [
    "region"
   ]
  },
  {
   "cell_type": "code",
   "execution_count": null,
   "metadata": {
    "id": "WaRX55iYGVht"
   },
   "outputs": [],
   "source": [
    "# Lets visually display any two train data samples\n",
    "\n",
    "# View any one sample of prepared Train Data \n",
    "im=X_Test_MobileNet[200]\n",
    "# Show resized image with Box\n",
    "fig,ax = plt.subplots(1)\n",
    "ax.imshow(im/255)\n",
    "res_x0=region[0][0]\n",
    "res_y0=region[0][1]\n",
    "res_x1=region[0][2]\n",
    "res_y1=region[0][3]\n",
    "rect = patches.Rectangle((res_x0, res_y0), res_x1 - res_x0, res_y1 - res_y0, linewidth=2, edgecolor='r', facecolor='none')\n",
    "ax.add_patch(rect)\n",
    "plt.show()\n"
   ]
  }
 ],
 "metadata": {
  "accelerator": "GPU",
  "colab": {
   "collapsed_sections": [],
   "machine_shape": "hm",
   "name": "Regression_FreezeWieghts.ipynb",
   "provenance": []
  },
  "kernelspec": {
   "display_name": "Python 3 (ipykernel)",
   "language": "python",
   "name": "python3"
  },
  "language_info": {
   "codemirror_mode": {
    "name": "ipython",
    "version": 3
   },
   "file_extension": ".py",
   "mimetype": "text/x-python",
   "name": "python",
   "nbconvert_exporter": "python",
   "pygments_lexer": "ipython3",
   "version": "3.9.7"
  }
 },
 "nbformat": 4,
 "nbformat_minor": 1
}

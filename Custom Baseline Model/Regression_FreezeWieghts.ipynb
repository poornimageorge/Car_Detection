{
 "cells": [
  {
   "cell_type": "markdown",
   "metadata": {
    "id": "byKMPfb8U3u8"
   },
   "source": [
    "# Object Detection(Car Detection)\n",
    "\n",
    "\n"
   ]
  },
  {
   "cell_type": "markdown",
   "metadata": {
    "id": "6JFQGIY6U3vC"
   },
   "source": [
    "### DOMAIN: \n",
    "Automotive , Surveillance\n",
    "### CONTEXT: \n",
    "Computer vision can be used to automate supervision and generate action appropriate action trigger if the event is \n",
    "predicted from the image of interest. For example a car moving on the road can be easily identified by a camera as make of \n",
    "the car, type, colour, number plates etc\n",
    "### DATA DESCRIPTION: \n",
    "The Cars dataset contains 16,185 images of 196 classes of cars. The data is split into 8,144 training images and 8,041 testing \n",
    "images, where each class has been split roughly in a 50-50 split. Classes are typically at the level of Make, Model, Year, e.g. \n",
    "2012 Tesla Model S or 2012 BMW M3 coupe\n",
    "‣ Train Images: Consists of real images of cars as per the make and year of the car. \n",
    "‣ Test Images: Consists of real images of cars as per the make and year of the car.\n",
    "‣ Train Annotation: Consists of bounding box region for training images.\n",
    "‣ Test Annotation: Consists of bounding box region for testing images.\n",
    "Dataset has been attached along with this project. Please use the same for this capstone project\n",
    "Dataset: Original dataset link for your reference only: https://www.kaggle.com/jutrera/stanford-car-dataset-by-classes-folder\n",
    "### REFERENCE: \n",
    "3D Object Representations for Fine-Grained Categorisation, Jonathan Krause, Michael Stark, Jia Deng, Li Fei-Fei 4th IEEE \n",
    "Workshop on 3D Representation and Recognition, at ICCV 2013 (3dRR-13). Sydney, Australia. Dec. 8, 2013.\n",
    "### PROJECT OBJECTIVE: \n",
    "Design a DL based car identification model"
   ]
  },
  {
   "cell_type": "code",
   "execution_count": null,
   "metadata": {
    "id": "GE-3DVB8Aeya"
   },
   "outputs": [],
   "source": [
    "%tensorflow_version 2.x\n",
    "#%tensorflow_version 1.x"
   ]
  },
  {
   "cell_type": "code",
   "execution_count": null,
   "metadata": {
    "colab": {
     "base_uri": "https://localhost:8080/"
    },
    "id": "5wqwm6p6_BNB",
    "outputId": "4ff97360-2dce-4cd5-e54f-558f9ad39206"
   },
   "outputs": [
    {
     "name": "stdout",
     "output_type": "stream",
     "text": [
      "2.8.0\n"
     ]
    }
   ],
   "source": [
    "# Lets check version of tensor flow and keras installed \n",
    "\n",
    "import tensorflow\n",
    "print(tensorflow.__version__)"
   ]
  },
  {
   "cell_type": "code",
   "execution_count": null,
   "metadata": {
    "colab": {
     "base_uri": "https://localhost:8080/"
    },
    "id": "xZoUKGv4Suy0",
    "outputId": "af5171e1-16d8-416c-8ada-869a9101bbf8"
   },
   "outputs": [
    {
     "name": "stdout",
     "output_type": "stream",
     "text": [
      "2.8.0\n"
     ]
    }
   ],
   "source": [
    "import keras\n",
    "print(keras.__version__)"
   ]
  },
  {
   "cell_type": "code",
   "execution_count": null,
   "metadata": {
    "colab": {
     "base_uri": "https://localhost:8080/"
    },
    "id": "gjtJdoWb33Tv",
    "outputId": "b6bacd7a-7a8f-4555-f5b1-bd5f646bd0fc"
   },
   "outputs": [
    {
     "name": "stdout",
     "output_type": "stream",
     "text": [
      "Mounted at /content/drive\n"
     ]
    }
   ],
   "source": [
    "from google.colab import drive\n",
    "drive.mount('/content/drive')"
   ]
  },
  {
   "cell_type": "markdown",
   "metadata": {
    "id": "WbwEaWRoxk2S"
   },
   "source": [
    "All the above versions libraries are required for the Third party implementation we are goin to use"
   ]
  },
  {
   "cell_type": "markdown",
   "metadata": {
    "id": "7tRzfF1pU3vD"
   },
   "source": [
    "## Legend\n",
    "\n",
    " ### Insights/inferences/results have been displayed post each step"
   ]
  },
  {
   "cell_type": "code",
   "execution_count": null,
   "metadata": {
    "colab": {
     "base_uri": "https://localhost:8080/"
    },
    "id": "ZlT-b7KPd-6Q",
    "outputId": "317c9514-baf4-4d90-def1-b8b829db7c76"
   },
   "outputs": [
    {
     "name": "stdout",
     "output_type": "stream",
     "text": [
      "/device:GPU:0\n"
     ]
    }
   ],
   "source": [
    "# Lets check if we are connected to GPU\n",
    "import tensorflow as tf\n",
    "device_name = tf.test.gpu_device_name()\n",
    "print(device_name)"
   ]
  },
  {
   "cell_type": "markdown",
   "metadata": {
    "id": "XMbQbVfjU3vE"
   },
   "source": [
    "## 1.0 Basic Config & Settings"
   ]
  },
  {
   "cell_type": "markdown",
   "metadata": {
    "id": "uhRWhATwU3vE"
   },
   "source": [
    "### 1.1 Import necessary libraries"
   ]
  },
  {
   "cell_type": "code",
   "execution_count": null,
   "metadata": {
    "id": "Uowb8YX4U3vF"
   },
   "outputs": [],
   "source": [
    "import matplotlib.pyplot as plt\n",
    "%matplotlib inline\n",
    "import pandas as pd\n",
    "import sys\n",
    "import numpy as np\n",
    "import seaborn as sns\n",
    "import statistics as stats\n",
    "sns.set(color_codes=True)\n",
    "from IPython.core.interactiveshell import InteractiveShell\n",
    "InteractiveShell.ast_node_interactivity = \"all\"\n",
    "#Last import allows multiple outputs from one cell\n",
    "import warnings\n",
    "# Initialize the random number generator\n",
    "import random\n",
    "random.seed(0)\n",
    "\n",
    "#Additional libs\n",
    "import matplotlib.patches as patches\n",
    "from pathlib import Path\n",
    "import matplotlib.image as img\n",
    "import cv2\n",
    "\n"
   ]
  },
  {
   "cell_type": "code",
   "execution_count": null,
   "metadata": {
    "id": "dBurjaSqU3vF"
   },
   "outputs": [],
   "source": [
    "# Useful Configuration/Setting\n",
    "\n",
    "# suppress display of warnings\n",
    "warnings.filterwarnings('ignore')\n",
    "\n",
    "# display all dataframe columns\n",
    "pd.options.display.max_columns = None\n",
    "\n",
    "# to set the limit to 3 decimals\n",
    "pd.options.display.float_format = '{:.7f}'.format\n",
    "\n",
    "# display all dataframe rows\n",
    "pd.options.display.max_rows = None\n",
    "\n",
    "#Setting to shows all entries in array displayed\n",
    "np.set_printoptions(threshold=sys.maxsize)"
   ]
  },
  {
   "cell_type": "markdown",
   "metadata": {
    "id": "7x1J1hSZU3vG"
   },
   "source": [
    "### 1.2 Set Necessary variables"
   ]
  },
  {
   "cell_type": "code",
   "execution_count": null,
   "metadata": {
    "id": "_gW__1AuU3vG"
   },
   "outputs": [],
   "source": [
    "# Read The Data Set\n",
    "\n",
    "\n",
    "images_path = \"/content/drive/MyDrive/Capstone/Car Images/Car Images/\"\n",
    "\n",
    "#Lets note here that our images are structred as folders.Each folder is a cart type\n",
    "#Corresponding folder will contain images of THAT car  type\n",
    "#We have a seperate folder for Train and Test IMages"
   ]
  },
  {
   "cell_type": "code",
   "execution_count": null,
   "metadata": {
    "id": "h0-Z6eHLG14i"
   },
   "outputs": [],
   "source": [
    "# Variables required for model Building\n",
    "\n",
    "images_height=128\n",
    "images_width=128"
   ]
  },
  {
   "cell_type": "markdown",
   "metadata": {
    "id": "yRNJ7uvhFisA"
   },
   "source": [
    "## 2.0 Prepare Data"
   ]
  },
  {
   "cell_type": "code",
   "execution_count": null,
   "metadata": {
    "id": "928XeIHCQUAf"
   },
   "outputs": [],
   "source": [
    "train_data_dir = Path('/content/drive/MyDrive/Capstone/Car Images/Car Images/Train Images')\n",
    "test_data_dir = Path('/content/drive/MyDrive/Capstone/Car Images/Car Images/Test Images')\n",
    "\n",
    "BATCH_SIZE = 32 \n",
    "IMG_SIZE = 128"
   ]
  },
  {
   "cell_type": "code",
   "execution_count": null,
   "metadata": {
    "colab": {
     "base_uri": "https://localhost:8080/",
     "height": 206
    },
    "id": "kljE_9EVv7NX",
    "outputId": "287bcef9-a957-429f-cf81-8bc9febffe7e"
   },
   "outputs": [
    {
     "data": {
      "text/html": [
       "\n",
       "  <div id=\"df-c875edb1-19f4-40b6-b1db-5ea07db5c635\">\n",
       "    <div class=\"colab-df-container\">\n",
       "      <div>\n",
       "<style scoped>\n",
       "    .dataframe tbody tr th:only-of-type {\n",
       "        vertical-align: middle;\n",
       "    }\n",
       "\n",
       "    .dataframe tbody tr th {\n",
       "        vertical-align: top;\n",
       "    }\n",
       "\n",
       "    .dataframe thead th {\n",
       "        text-align: right;\n",
       "    }\n",
       "</style>\n",
       "<table border=\"1\" class=\"dataframe\">\n",
       "  <thead>\n",
       "    <tr style=\"text-align: right;\">\n",
       "      <th></th>\n",
       "      <th>file_name</th>\n",
       "      <th>cor1</th>\n",
       "      <th>cor2</th>\n",
       "      <th>cor3</th>\n",
       "      <th>cor4</th>\n",
       "      <th>Image_Class</th>\n",
       "    </tr>\n",
       "  </thead>\n",
       "  <tbody>\n",
       "    <tr>\n",
       "      <th>0</th>\n",
       "      <td>00001.jpg</td>\n",
       "      <td>39</td>\n",
       "      <td>116</td>\n",
       "      <td>569</td>\n",
       "      <td>375</td>\n",
       "      <td>14</td>\n",
       "    </tr>\n",
       "    <tr>\n",
       "      <th>1</th>\n",
       "      <td>00002.jpg</td>\n",
       "      <td>36</td>\n",
       "      <td>116</td>\n",
       "      <td>868</td>\n",
       "      <td>587</td>\n",
       "      <td>3</td>\n",
       "    </tr>\n",
       "    <tr>\n",
       "      <th>2</th>\n",
       "      <td>00003.jpg</td>\n",
       "      <td>85</td>\n",
       "      <td>109</td>\n",
       "      <td>601</td>\n",
       "      <td>381</td>\n",
       "      <td>91</td>\n",
       "    </tr>\n",
       "    <tr>\n",
       "      <th>3</th>\n",
       "      <td>00004.jpg</td>\n",
       "      <td>621</td>\n",
       "      <td>393</td>\n",
       "      <td>1484</td>\n",
       "      <td>1096</td>\n",
       "      <td>134</td>\n",
       "    </tr>\n",
       "    <tr>\n",
       "      <th>4</th>\n",
       "      <td>00005.jpg</td>\n",
       "      <td>14</td>\n",
       "      <td>36</td>\n",
       "      <td>133</td>\n",
       "      <td>99</td>\n",
       "      <td>106</td>\n",
       "    </tr>\n",
       "  </tbody>\n",
       "</table>\n",
       "</div>\n",
       "      <button class=\"colab-df-convert\" onclick=\"convertToInteractive('df-c875edb1-19f4-40b6-b1db-5ea07db5c635')\"\n",
       "              title=\"Convert this dataframe to an interactive table.\"\n",
       "              style=\"display:none;\">\n",
       "        \n",
       "  <svg xmlns=\"http://www.w3.org/2000/svg\" height=\"24px\"viewBox=\"0 0 24 24\"\n",
       "       width=\"24px\">\n",
       "    <path d=\"M0 0h24v24H0V0z\" fill=\"none\"/>\n",
       "    <path d=\"M18.56 5.44l.94 2.06.94-2.06 2.06-.94-2.06-.94-.94-2.06-.94 2.06-2.06.94zm-11 1L8.5 8.5l.94-2.06 2.06-.94-2.06-.94L8.5 2.5l-.94 2.06-2.06.94zm10 10l.94 2.06.94-2.06 2.06-.94-2.06-.94-.94-2.06-.94 2.06-2.06.94z\"/><path d=\"M17.41 7.96l-1.37-1.37c-.4-.4-.92-.59-1.43-.59-.52 0-1.04.2-1.43.59L10.3 9.45l-7.72 7.72c-.78.78-.78 2.05 0 2.83L4 21.41c.39.39.9.59 1.41.59.51 0 1.02-.2 1.41-.59l7.78-7.78 2.81-2.81c.8-.78.8-2.07 0-2.86zM5.41 20L4 18.59l7.72-7.72 1.47 1.35L5.41 20z\"/>\n",
       "  </svg>\n",
       "      </button>\n",
       "      \n",
       "  <style>\n",
       "    .colab-df-container {\n",
       "      display:flex;\n",
       "      flex-wrap:wrap;\n",
       "      gap: 12px;\n",
       "    }\n",
       "\n",
       "    .colab-df-convert {\n",
       "      background-color: #E8F0FE;\n",
       "      border: none;\n",
       "      border-radius: 50%;\n",
       "      cursor: pointer;\n",
       "      display: none;\n",
       "      fill: #1967D2;\n",
       "      height: 32px;\n",
       "      padding: 0 0 0 0;\n",
       "      width: 32px;\n",
       "    }\n",
       "\n",
       "    .colab-df-convert:hover {\n",
       "      background-color: #E2EBFA;\n",
       "      box-shadow: 0px 1px 2px rgba(60, 64, 67, 0.3), 0px 1px 3px 1px rgba(60, 64, 67, 0.15);\n",
       "      fill: #174EA6;\n",
       "    }\n",
       "\n",
       "    [theme=dark] .colab-df-convert {\n",
       "      background-color: #3B4455;\n",
       "      fill: #D2E3FC;\n",
       "    }\n",
       "\n",
       "    [theme=dark] .colab-df-convert:hover {\n",
       "      background-color: #434B5C;\n",
       "      box-shadow: 0px 1px 3px 1px rgba(0, 0, 0, 0.15);\n",
       "      filter: drop-shadow(0px 1px 2px rgba(0, 0, 0, 0.3));\n",
       "      fill: #FFFFFF;\n",
       "    }\n",
       "  </style>\n",
       "\n",
       "      <script>\n",
       "        const buttonEl =\n",
       "          document.querySelector('#df-c875edb1-19f4-40b6-b1db-5ea07db5c635 button.colab-df-convert');\n",
       "        buttonEl.style.display =\n",
       "          google.colab.kernel.accessAllowed ? 'block' : 'none';\n",
       "\n",
       "        async function convertToInteractive(key) {\n",
       "          const element = document.querySelector('#df-c875edb1-19f4-40b6-b1db-5ea07db5c635');\n",
       "          const dataTable =\n",
       "            await google.colab.kernel.invokeFunction('convertToInteractive',\n",
       "                                                     [key], {});\n",
       "          if (!dataTable) return;\n",
       "\n",
       "          const docLinkHtml = 'Like what you see? Visit the ' +\n",
       "            '<a target=\"_blank\" href=https://colab.research.google.com/notebooks/data_table.ipynb>data table notebook</a>'\n",
       "            + ' to learn more about interactive tables.';\n",
       "          element.innerHTML = '';\n",
       "          dataTable['output_type'] = 'display_data';\n",
       "          await google.colab.output.renderOutput(dataTable, element);\n",
       "          const docLink = document.createElement('div');\n",
       "          docLink.innerHTML = docLinkHtml;\n",
       "          element.appendChild(docLink);\n",
       "        }\n",
       "      </script>\n",
       "    </div>\n",
       "  </div>\n",
       "  "
      ],
      "text/plain": [
       "   file_name  cor1  cor2  cor3  cor4  Image_Class\n",
       "0  00001.jpg    39   116   569   375           14\n",
       "1  00002.jpg    36   116   868   587            3\n",
       "2  00003.jpg    85   109   601   381           91\n",
       "3  00004.jpg   621   393  1484  1096          134\n",
       "4  00005.jpg    14    36   133    99          106"
      ]
     },
     "execution_count": 11,
     "metadata": {},
     "output_type": "execute_result"
    }
   ],
   "source": [
    "import pandas as pd\n",
    "\n",
    "#Lets read the Train Annotations\n",
    "\n",
    "#Lets give our own column names as excel sheet does not have proper column names\n",
    "columnNameList=['file_name','cor1','cor2','cor3','cor4','Image_Class']\n",
    "trainAnno= pd.read_csv('/content/drive/MyDrive/Capstone/Annotations/Train Annotations.csv',names=columnNameList,header=0)\n",
    "trainAnno.head(5)"
   ]
  },
  {
   "cell_type": "code",
   "execution_count": null,
   "metadata": {
    "id": "QzfQaPu_xbCU"
   },
   "outputs": [],
   "source": [
    "files = train_data_dir.rglob('*.jpg')\n",
    "input=pd.DataFrame(files,columns =['a'])\n",
    "input['a']=input['a'].astype(str)\n",
    "df_train=input['a'].str.split('/',expand=True)\n",
    "train=input.join(df_train)[['a',8]]\n",
    "train.columns=('file_path','label')"
   ]
  },
  {
   "cell_type": "code",
   "execution_count": null,
   "metadata": {
    "colab": {
     "base_uri": "https://localhost:8080/",
     "height": 224
    },
    "id": "WsbC69ErRs4B",
    "outputId": "9d569262-cc1b-44d8-e027-548f1b32b6ad"
   },
   "outputs": [
    {
     "data": {
      "text/html": [
       "\n",
       "  <div id=\"df-950c4186-dffd-4267-8d9e-32eaa21ba3da\">\n",
       "    <div class=\"colab-df-container\">\n",
       "      <div>\n",
       "<style scoped>\n",
       "    .dataframe tbody tr th:only-of-type {\n",
       "        vertical-align: middle;\n",
       "    }\n",
       "\n",
       "    .dataframe tbody tr th {\n",
       "        vertical-align: top;\n",
       "    }\n",
       "\n",
       "    .dataframe thead th {\n",
       "        text-align: right;\n",
       "    }\n",
       "</style>\n",
       "<table border=\"1\" class=\"dataframe\">\n",
       "  <thead>\n",
       "    <tr style=\"text-align: right;\">\n",
       "      <th></th>\n",
       "      <th>file_path</th>\n",
       "      <th>label</th>\n",
       "    </tr>\n",
       "  </thead>\n",
       "  <tbody>\n",
       "    <tr>\n",
       "      <th>0</th>\n",
       "      <td>/content/drive/MyDrive/Capstone/Car Images/Car...</td>\n",
       "      <td>Suzuki SX4 Sedan 2012</td>\n",
       "    </tr>\n",
       "    <tr>\n",
       "      <th>1</th>\n",
       "      <td>/content/drive/MyDrive/Capstone/Car Images/Car...</td>\n",
       "      <td>Suzuki SX4 Sedan 2012</td>\n",
       "    </tr>\n",
       "    <tr>\n",
       "      <th>2</th>\n",
       "      <td>/content/drive/MyDrive/Capstone/Car Images/Car...</td>\n",
       "      <td>Suzuki SX4 Sedan 2012</td>\n",
       "    </tr>\n",
       "    <tr>\n",
       "      <th>3</th>\n",
       "      <td>/content/drive/MyDrive/Capstone/Car Images/Car...</td>\n",
       "      <td>Suzuki SX4 Sedan 2012</td>\n",
       "    </tr>\n",
       "    <tr>\n",
       "      <th>4</th>\n",
       "      <td>/content/drive/MyDrive/Capstone/Car Images/Car...</td>\n",
       "      <td>Suzuki SX4 Sedan 2012</td>\n",
       "    </tr>\n",
       "  </tbody>\n",
       "</table>\n",
       "</div>\n",
       "      <button class=\"colab-df-convert\" onclick=\"convertToInteractive('df-950c4186-dffd-4267-8d9e-32eaa21ba3da')\"\n",
       "              title=\"Convert this dataframe to an interactive table.\"\n",
       "              style=\"display:none;\">\n",
       "        \n",
       "  <svg xmlns=\"http://www.w3.org/2000/svg\" height=\"24px\"viewBox=\"0 0 24 24\"\n",
       "       width=\"24px\">\n",
       "    <path d=\"M0 0h24v24H0V0z\" fill=\"none\"/>\n",
       "    <path d=\"M18.56 5.44l.94 2.06.94-2.06 2.06-.94-2.06-.94-.94-2.06-.94 2.06-2.06.94zm-11 1L8.5 8.5l.94-2.06 2.06-.94-2.06-.94L8.5 2.5l-.94 2.06-2.06.94zm10 10l.94 2.06.94-2.06 2.06-.94-2.06-.94-.94-2.06-.94 2.06-2.06.94z\"/><path d=\"M17.41 7.96l-1.37-1.37c-.4-.4-.92-.59-1.43-.59-.52 0-1.04.2-1.43.59L10.3 9.45l-7.72 7.72c-.78.78-.78 2.05 0 2.83L4 21.41c.39.39.9.59 1.41.59.51 0 1.02-.2 1.41-.59l7.78-7.78 2.81-2.81c.8-.78.8-2.07 0-2.86zM5.41 20L4 18.59l7.72-7.72 1.47 1.35L5.41 20z\"/>\n",
       "  </svg>\n",
       "      </button>\n",
       "      \n",
       "  <style>\n",
       "    .colab-df-container {\n",
       "      display:flex;\n",
       "      flex-wrap:wrap;\n",
       "      gap: 12px;\n",
       "    }\n",
       "\n",
       "    .colab-df-convert {\n",
       "      background-color: #E8F0FE;\n",
       "      border: none;\n",
       "      border-radius: 50%;\n",
       "      cursor: pointer;\n",
       "      display: none;\n",
       "      fill: #1967D2;\n",
       "      height: 32px;\n",
       "      padding: 0 0 0 0;\n",
       "      width: 32px;\n",
       "    }\n",
       "\n",
       "    .colab-df-convert:hover {\n",
       "      background-color: #E2EBFA;\n",
       "      box-shadow: 0px 1px 2px rgba(60, 64, 67, 0.3), 0px 1px 3px 1px rgba(60, 64, 67, 0.15);\n",
       "      fill: #174EA6;\n",
       "    }\n",
       "\n",
       "    [theme=dark] .colab-df-convert {\n",
       "      background-color: #3B4455;\n",
       "      fill: #D2E3FC;\n",
       "    }\n",
       "\n",
       "    [theme=dark] .colab-df-convert:hover {\n",
       "      background-color: #434B5C;\n",
       "      box-shadow: 0px 1px 3px 1px rgba(0, 0, 0, 0.15);\n",
       "      filter: drop-shadow(0px 1px 2px rgba(0, 0, 0, 0.3));\n",
       "      fill: #FFFFFF;\n",
       "    }\n",
       "  </style>\n",
       "\n",
       "      <script>\n",
       "        const buttonEl =\n",
       "          document.querySelector('#df-950c4186-dffd-4267-8d9e-32eaa21ba3da button.colab-df-convert');\n",
       "        buttonEl.style.display =\n",
       "          google.colab.kernel.accessAllowed ? 'block' : 'none';\n",
       "\n",
       "        async function convertToInteractive(key) {\n",
       "          const element = document.querySelector('#df-950c4186-dffd-4267-8d9e-32eaa21ba3da');\n",
       "          const dataTable =\n",
       "            await google.colab.kernel.invokeFunction('convertToInteractive',\n",
       "                                                     [key], {});\n",
       "          if (!dataTable) return;\n",
       "\n",
       "          const docLinkHtml = 'Like what you see? Visit the ' +\n",
       "            '<a target=\"_blank\" href=https://colab.research.google.com/notebooks/data_table.ipynb>data table notebook</a>'\n",
       "            + ' to learn more about interactive tables.';\n",
       "          element.innerHTML = '';\n",
       "          dataTable['output_type'] = 'display_data';\n",
       "          await google.colab.output.renderOutput(dataTable, element);\n",
       "          const docLink = document.createElement('div');\n",
       "          docLink.innerHTML = docLinkHtml;\n",
       "          element.appendChild(docLink);\n",
       "        }\n",
       "      </script>\n",
       "    </div>\n",
       "  </div>\n",
       "  "
      ],
      "text/plain": [
       "                                           file_path                  label\n",
       "0  /content/drive/MyDrive/Capstone/Car Images/Car...  Suzuki SX4 Sedan 2012\n",
       "1  /content/drive/MyDrive/Capstone/Car Images/Car...  Suzuki SX4 Sedan 2012\n",
       "2  /content/drive/MyDrive/Capstone/Car Images/Car...  Suzuki SX4 Sedan 2012\n",
       "3  /content/drive/MyDrive/Capstone/Car Images/Car...  Suzuki SX4 Sedan 2012\n",
       "4  /content/drive/MyDrive/Capstone/Car Images/Car...  Suzuki SX4 Sedan 2012"
      ]
     },
     "execution_count": 13,
     "metadata": {},
     "output_type": "execute_result"
    },
    {
     "data": {
      "text/plain": [
       "8144"
      ]
     },
     "execution_count": 13,
     "metadata": {},
     "output_type": "execute_result"
    }
   ],
   "source": [
    "train.head()\n",
    "len(train)"
   ]
  },
  {
   "cell_type": "code",
   "execution_count": null,
   "metadata": {
    "colab": {
     "base_uri": "https://localhost:8080/",
     "height": 206
    },
    "id": "nwQrSeTU85ZI",
    "outputId": "fac52f29-8be7-4a17-adc0-f319edd2d0eb"
   },
   "outputs": [
    {
     "data": {
      "text/html": [
       "\n",
       "  <div id=\"df-6a18f18f-9248-4a0d-99fb-4a98b47a5a5b\">\n",
       "    <div class=\"colab-df-container\">\n",
       "      <div>\n",
       "<style scoped>\n",
       "    .dataframe tbody tr th:only-of-type {\n",
       "        vertical-align: middle;\n",
       "    }\n",
       "\n",
       "    .dataframe tbody tr th {\n",
       "        vertical-align: top;\n",
       "    }\n",
       "\n",
       "    .dataframe thead th {\n",
       "        text-align: right;\n",
       "    }\n",
       "</style>\n",
       "<table border=\"1\" class=\"dataframe\">\n",
       "  <thead>\n",
       "    <tr style=\"text-align: right;\">\n",
       "      <th></th>\n",
       "      <th>file_path</th>\n",
       "      <th>label</th>\n",
       "    </tr>\n",
       "  </thead>\n",
       "  <tbody>\n",
       "    <tr>\n",
       "      <th>0</th>\n",
       "      <td>/content/drive/MyDrive/Capstone/Car Images/Car...</td>\n",
       "      <td>Suzuki SX4 Sedan 2012</td>\n",
       "    </tr>\n",
       "    <tr>\n",
       "      <th>1</th>\n",
       "      <td>/content/drive/MyDrive/Capstone/Car Images/Car...</td>\n",
       "      <td>Suzuki SX4 Sedan 2012</td>\n",
       "    </tr>\n",
       "    <tr>\n",
       "      <th>2</th>\n",
       "      <td>/content/drive/MyDrive/Capstone/Car Images/Car...</td>\n",
       "      <td>Suzuki SX4 Sedan 2012</td>\n",
       "    </tr>\n",
       "    <tr>\n",
       "      <th>3</th>\n",
       "      <td>/content/drive/MyDrive/Capstone/Car Images/Car...</td>\n",
       "      <td>Suzuki SX4 Sedan 2012</td>\n",
       "    </tr>\n",
       "    <tr>\n",
       "      <th>4</th>\n",
       "      <td>/content/drive/MyDrive/Capstone/Car Images/Car...</td>\n",
       "      <td>Suzuki SX4 Sedan 2012</td>\n",
       "    </tr>\n",
       "  </tbody>\n",
       "</table>\n",
       "</div>\n",
       "      <button class=\"colab-df-convert\" onclick=\"convertToInteractive('df-6a18f18f-9248-4a0d-99fb-4a98b47a5a5b')\"\n",
       "              title=\"Convert this dataframe to an interactive table.\"\n",
       "              style=\"display:none;\">\n",
       "        \n",
       "  <svg xmlns=\"http://www.w3.org/2000/svg\" height=\"24px\"viewBox=\"0 0 24 24\"\n",
       "       width=\"24px\">\n",
       "    <path d=\"M0 0h24v24H0V0z\" fill=\"none\"/>\n",
       "    <path d=\"M18.56 5.44l.94 2.06.94-2.06 2.06-.94-2.06-.94-.94-2.06-.94 2.06-2.06.94zm-11 1L8.5 8.5l.94-2.06 2.06-.94-2.06-.94L8.5 2.5l-.94 2.06-2.06.94zm10 10l.94 2.06.94-2.06 2.06-.94-2.06-.94-.94-2.06-.94 2.06-2.06.94z\"/><path d=\"M17.41 7.96l-1.37-1.37c-.4-.4-.92-.59-1.43-.59-.52 0-1.04.2-1.43.59L10.3 9.45l-7.72 7.72c-.78.78-.78 2.05 0 2.83L4 21.41c.39.39.9.59 1.41.59.51 0 1.02-.2 1.41-.59l7.78-7.78 2.81-2.81c.8-.78.8-2.07 0-2.86zM5.41 20L4 18.59l7.72-7.72 1.47 1.35L5.41 20z\"/>\n",
       "  </svg>\n",
       "      </button>\n",
       "      \n",
       "  <style>\n",
       "    .colab-df-container {\n",
       "      display:flex;\n",
       "      flex-wrap:wrap;\n",
       "      gap: 12px;\n",
       "    }\n",
       "\n",
       "    .colab-df-convert {\n",
       "      background-color: #E8F0FE;\n",
       "      border: none;\n",
       "      border-radius: 50%;\n",
       "      cursor: pointer;\n",
       "      display: none;\n",
       "      fill: #1967D2;\n",
       "      height: 32px;\n",
       "      padding: 0 0 0 0;\n",
       "      width: 32px;\n",
       "    }\n",
       "\n",
       "    .colab-df-convert:hover {\n",
       "      background-color: #E2EBFA;\n",
       "      box-shadow: 0px 1px 2px rgba(60, 64, 67, 0.3), 0px 1px 3px 1px rgba(60, 64, 67, 0.15);\n",
       "      fill: #174EA6;\n",
       "    }\n",
       "\n",
       "    [theme=dark] .colab-df-convert {\n",
       "      background-color: #3B4455;\n",
       "      fill: #D2E3FC;\n",
       "    }\n",
       "\n",
       "    [theme=dark] .colab-df-convert:hover {\n",
       "      background-color: #434B5C;\n",
       "      box-shadow: 0px 1px 3px 1px rgba(0, 0, 0, 0.15);\n",
       "      filter: drop-shadow(0px 1px 2px rgba(0, 0, 0, 0.3));\n",
       "      fill: #FFFFFF;\n",
       "    }\n",
       "  </style>\n",
       "\n",
       "      <script>\n",
       "        const buttonEl =\n",
       "          document.querySelector('#df-6a18f18f-9248-4a0d-99fb-4a98b47a5a5b button.colab-df-convert');\n",
       "        buttonEl.style.display =\n",
       "          google.colab.kernel.accessAllowed ? 'block' : 'none';\n",
       "\n",
       "        async function convertToInteractive(key) {\n",
       "          const element = document.querySelector('#df-6a18f18f-9248-4a0d-99fb-4a98b47a5a5b');\n",
       "          const dataTable =\n",
       "            await google.colab.kernel.invokeFunction('convertToInteractive',\n",
       "                                                     [key], {});\n",
       "          if (!dataTable) return;\n",
       "\n",
       "          const docLinkHtml = 'Like what you see? Visit the ' +\n",
       "            '<a target=\"_blank\" href=https://colab.research.google.com/notebooks/data_table.ipynb>data table notebook</a>'\n",
       "            + ' to learn more about interactive tables.';\n",
       "          element.innerHTML = '';\n",
       "          dataTable['output_type'] = 'display_data';\n",
       "          await google.colab.output.renderOutput(dataTable, element);\n",
       "          const docLink = document.createElement('div');\n",
       "          docLink.innerHTML = docLinkHtml;\n",
       "          element.appendChild(docLink);\n",
       "        }\n",
       "      </script>\n",
       "    </div>\n",
       "  </div>\n",
       "  "
      ],
      "text/plain": [
       "                                           file_path                  label\n",
       "0  /content/drive/MyDrive/Capstone/Car Images/Car...  Suzuki SX4 Sedan 2012\n",
       "1  /content/drive/MyDrive/Capstone/Car Images/Car...  Suzuki SX4 Sedan 2012\n",
       "2  /content/drive/MyDrive/Capstone/Car Images/Car...  Suzuki SX4 Sedan 2012\n",
       "3  /content/drive/MyDrive/Capstone/Car Images/Car...  Suzuki SX4 Sedan 2012\n",
       "4  /content/drive/MyDrive/Capstone/Car Images/Car...  Suzuki SX4 Sedan 2012"
      ]
     },
     "execution_count": 14,
     "metadata": {},
     "output_type": "execute_result"
    }
   ],
   "source": [
    "train.head()"
   ]
  },
  {
   "cell_type": "code",
   "execution_count": null,
   "metadata": {
    "id": "bmdfZpTVQN5h"
   },
   "outputs": [],
   "source": [
    "train['file_name']=train['file_path'].apply(lambda getFileName:getFileName.split('/')[9])"
   ]
  },
  {
   "cell_type": "code",
   "execution_count": null,
   "metadata": {
    "colab": {
     "base_uri": "https://localhost:8080/",
     "height": 206
    },
    "id": "VEXSSacIVQHf",
    "outputId": "6edb991a-cd85-42c4-f517-a8e18c36a043"
   },
   "outputs": [
    {
     "data": {
      "text/html": [
       "\n",
       "  <div id=\"df-2cf667d3-a019-49f0-98cc-e64effcfafbd\">\n",
       "    <div class=\"colab-df-container\">\n",
       "      <div>\n",
       "<style scoped>\n",
       "    .dataframe tbody tr th:only-of-type {\n",
       "        vertical-align: middle;\n",
       "    }\n",
       "\n",
       "    .dataframe tbody tr th {\n",
       "        vertical-align: top;\n",
       "    }\n",
       "\n",
       "    .dataframe thead th {\n",
       "        text-align: right;\n",
       "    }\n",
       "</style>\n",
       "<table border=\"1\" class=\"dataframe\">\n",
       "  <thead>\n",
       "    <tr style=\"text-align: right;\">\n",
       "      <th></th>\n",
       "      <th>file_path</th>\n",
       "      <th>label</th>\n",
       "      <th>file_name</th>\n",
       "    </tr>\n",
       "  </thead>\n",
       "  <tbody>\n",
       "    <tr>\n",
       "      <th>0</th>\n",
       "      <td>/content/drive/MyDrive/Capstone/Car Images/Car...</td>\n",
       "      <td>Suzuki SX4 Sedan 2012</td>\n",
       "      <td>00482.jpg</td>\n",
       "    </tr>\n",
       "    <tr>\n",
       "      <th>1</th>\n",
       "      <td>/content/drive/MyDrive/Capstone/Car Images/Car...</td>\n",
       "      <td>Suzuki SX4 Sedan 2012</td>\n",
       "      <td>05872.jpg</td>\n",
       "    </tr>\n",
       "    <tr>\n",
       "      <th>2</th>\n",
       "      <td>/content/drive/MyDrive/Capstone/Car Images/Car...</td>\n",
       "      <td>Suzuki SX4 Sedan 2012</td>\n",
       "      <td>06576.jpg</td>\n",
       "    </tr>\n",
       "    <tr>\n",
       "      <th>3</th>\n",
       "      <td>/content/drive/MyDrive/Capstone/Car Images/Car...</td>\n",
       "      <td>Suzuki SX4 Sedan 2012</td>\n",
       "      <td>00719.jpg</td>\n",
       "    </tr>\n",
       "    <tr>\n",
       "      <th>4</th>\n",
       "      <td>/content/drive/MyDrive/Capstone/Car Images/Car...</td>\n",
       "      <td>Suzuki SX4 Sedan 2012</td>\n",
       "      <td>04655.jpg</td>\n",
       "    </tr>\n",
       "  </tbody>\n",
       "</table>\n",
       "</div>\n",
       "      <button class=\"colab-df-convert\" onclick=\"convertToInteractive('df-2cf667d3-a019-49f0-98cc-e64effcfafbd')\"\n",
       "              title=\"Convert this dataframe to an interactive table.\"\n",
       "              style=\"display:none;\">\n",
       "        \n",
       "  <svg xmlns=\"http://www.w3.org/2000/svg\" height=\"24px\"viewBox=\"0 0 24 24\"\n",
       "       width=\"24px\">\n",
       "    <path d=\"M0 0h24v24H0V0z\" fill=\"none\"/>\n",
       "    <path d=\"M18.56 5.44l.94 2.06.94-2.06 2.06-.94-2.06-.94-.94-2.06-.94 2.06-2.06.94zm-11 1L8.5 8.5l.94-2.06 2.06-.94-2.06-.94L8.5 2.5l-.94 2.06-2.06.94zm10 10l.94 2.06.94-2.06 2.06-.94-2.06-.94-.94-2.06-.94 2.06-2.06.94z\"/><path d=\"M17.41 7.96l-1.37-1.37c-.4-.4-.92-.59-1.43-.59-.52 0-1.04.2-1.43.59L10.3 9.45l-7.72 7.72c-.78.78-.78 2.05 0 2.83L4 21.41c.39.39.9.59 1.41.59.51 0 1.02-.2 1.41-.59l7.78-7.78 2.81-2.81c.8-.78.8-2.07 0-2.86zM5.41 20L4 18.59l7.72-7.72 1.47 1.35L5.41 20z\"/>\n",
       "  </svg>\n",
       "      </button>\n",
       "      \n",
       "  <style>\n",
       "    .colab-df-container {\n",
       "      display:flex;\n",
       "      flex-wrap:wrap;\n",
       "      gap: 12px;\n",
       "    }\n",
       "\n",
       "    .colab-df-convert {\n",
       "      background-color: #E8F0FE;\n",
       "      border: none;\n",
       "      border-radius: 50%;\n",
       "      cursor: pointer;\n",
       "      display: none;\n",
       "      fill: #1967D2;\n",
       "      height: 32px;\n",
       "      padding: 0 0 0 0;\n",
       "      width: 32px;\n",
       "    }\n",
       "\n",
       "    .colab-df-convert:hover {\n",
       "      background-color: #E2EBFA;\n",
       "      box-shadow: 0px 1px 2px rgba(60, 64, 67, 0.3), 0px 1px 3px 1px rgba(60, 64, 67, 0.15);\n",
       "      fill: #174EA6;\n",
       "    }\n",
       "\n",
       "    [theme=dark] .colab-df-convert {\n",
       "      background-color: #3B4455;\n",
       "      fill: #D2E3FC;\n",
       "    }\n",
       "\n",
       "    [theme=dark] .colab-df-convert:hover {\n",
       "      background-color: #434B5C;\n",
       "      box-shadow: 0px 1px 3px 1px rgba(0, 0, 0, 0.15);\n",
       "      filter: drop-shadow(0px 1px 2px rgba(0, 0, 0, 0.3));\n",
       "      fill: #FFFFFF;\n",
       "    }\n",
       "  </style>\n",
       "\n",
       "      <script>\n",
       "        const buttonEl =\n",
       "          document.querySelector('#df-2cf667d3-a019-49f0-98cc-e64effcfafbd button.colab-df-convert');\n",
       "        buttonEl.style.display =\n",
       "          google.colab.kernel.accessAllowed ? 'block' : 'none';\n",
       "\n",
       "        async function convertToInteractive(key) {\n",
       "          const element = document.querySelector('#df-2cf667d3-a019-49f0-98cc-e64effcfafbd');\n",
       "          const dataTable =\n",
       "            await google.colab.kernel.invokeFunction('convertToInteractive',\n",
       "                                                     [key], {});\n",
       "          if (!dataTable) return;\n",
       "\n",
       "          const docLinkHtml = 'Like what you see? Visit the ' +\n",
       "            '<a target=\"_blank\" href=https://colab.research.google.com/notebooks/data_table.ipynb>data table notebook</a>'\n",
       "            + ' to learn more about interactive tables.';\n",
       "          element.innerHTML = '';\n",
       "          dataTable['output_type'] = 'display_data';\n",
       "          await google.colab.output.renderOutput(dataTable, element);\n",
       "          const docLink = document.createElement('div');\n",
       "          docLink.innerHTML = docLinkHtml;\n",
       "          element.appendChild(docLink);\n",
       "        }\n",
       "      </script>\n",
       "    </div>\n",
       "  </div>\n",
       "  "
      ],
      "text/plain": [
       "                                           file_path                  label  \\\n",
       "0  /content/drive/MyDrive/Capstone/Car Images/Car...  Suzuki SX4 Sedan 2012   \n",
       "1  /content/drive/MyDrive/Capstone/Car Images/Car...  Suzuki SX4 Sedan 2012   \n",
       "2  /content/drive/MyDrive/Capstone/Car Images/Car...  Suzuki SX4 Sedan 2012   \n",
       "3  /content/drive/MyDrive/Capstone/Car Images/Car...  Suzuki SX4 Sedan 2012   \n",
       "4  /content/drive/MyDrive/Capstone/Car Images/Car...  Suzuki SX4 Sedan 2012   \n",
       "\n",
       "   file_name  \n",
       "0  00482.jpg  \n",
       "1  05872.jpg  \n",
       "2  06576.jpg  \n",
       "3  00719.jpg  \n",
       "4  04655.jpg  "
      ]
     },
     "execution_count": 16,
     "metadata": {},
     "output_type": "execute_result"
    }
   ],
   "source": [
    "train.head()"
   ]
  },
  {
   "cell_type": "code",
   "execution_count": null,
   "metadata": {
    "colab": {
     "base_uri": "https://localhost:8080/",
     "height": 206
    },
    "id": "OBRqSfbZVcg0",
    "outputId": "ddc4bd85-012f-499a-951c-7a03c12d6acd"
   },
   "outputs": [
    {
     "data": {
      "text/html": [
       "\n",
       "  <div id=\"df-6d0c4b0c-a8b0-476d-bb00-316d3585b825\">\n",
       "    <div class=\"colab-df-container\">\n",
       "      <div>\n",
       "<style scoped>\n",
       "    .dataframe tbody tr th:only-of-type {\n",
       "        vertical-align: middle;\n",
       "    }\n",
       "\n",
       "    .dataframe tbody tr th {\n",
       "        vertical-align: top;\n",
       "    }\n",
       "\n",
       "    .dataframe thead th {\n",
       "        text-align: right;\n",
       "    }\n",
       "</style>\n",
       "<table border=\"1\" class=\"dataframe\">\n",
       "  <thead>\n",
       "    <tr style=\"text-align: right;\">\n",
       "      <th></th>\n",
       "      <th>file_name</th>\n",
       "      <th>cor1</th>\n",
       "      <th>cor2</th>\n",
       "      <th>cor3</th>\n",
       "      <th>cor4</th>\n",
       "      <th>Image_Class</th>\n",
       "    </tr>\n",
       "  </thead>\n",
       "  <tbody>\n",
       "    <tr>\n",
       "      <th>0</th>\n",
       "      <td>00001.jpg</td>\n",
       "      <td>39</td>\n",
       "      <td>116</td>\n",
       "      <td>569</td>\n",
       "      <td>375</td>\n",
       "      <td>14</td>\n",
       "    </tr>\n",
       "    <tr>\n",
       "      <th>1</th>\n",
       "      <td>00002.jpg</td>\n",
       "      <td>36</td>\n",
       "      <td>116</td>\n",
       "      <td>868</td>\n",
       "      <td>587</td>\n",
       "      <td>3</td>\n",
       "    </tr>\n",
       "    <tr>\n",
       "      <th>2</th>\n",
       "      <td>00003.jpg</td>\n",
       "      <td>85</td>\n",
       "      <td>109</td>\n",
       "      <td>601</td>\n",
       "      <td>381</td>\n",
       "      <td>91</td>\n",
       "    </tr>\n",
       "    <tr>\n",
       "      <th>3</th>\n",
       "      <td>00004.jpg</td>\n",
       "      <td>621</td>\n",
       "      <td>393</td>\n",
       "      <td>1484</td>\n",
       "      <td>1096</td>\n",
       "      <td>134</td>\n",
       "    </tr>\n",
       "    <tr>\n",
       "      <th>4</th>\n",
       "      <td>00005.jpg</td>\n",
       "      <td>14</td>\n",
       "      <td>36</td>\n",
       "      <td>133</td>\n",
       "      <td>99</td>\n",
       "      <td>106</td>\n",
       "    </tr>\n",
       "  </tbody>\n",
       "</table>\n",
       "</div>\n",
       "      <button class=\"colab-df-convert\" onclick=\"convertToInteractive('df-6d0c4b0c-a8b0-476d-bb00-316d3585b825')\"\n",
       "              title=\"Convert this dataframe to an interactive table.\"\n",
       "              style=\"display:none;\">\n",
       "        \n",
       "  <svg xmlns=\"http://www.w3.org/2000/svg\" height=\"24px\"viewBox=\"0 0 24 24\"\n",
       "       width=\"24px\">\n",
       "    <path d=\"M0 0h24v24H0V0z\" fill=\"none\"/>\n",
       "    <path d=\"M18.56 5.44l.94 2.06.94-2.06 2.06-.94-2.06-.94-.94-2.06-.94 2.06-2.06.94zm-11 1L8.5 8.5l.94-2.06 2.06-.94-2.06-.94L8.5 2.5l-.94 2.06-2.06.94zm10 10l.94 2.06.94-2.06 2.06-.94-2.06-.94-.94-2.06-.94 2.06-2.06.94z\"/><path d=\"M17.41 7.96l-1.37-1.37c-.4-.4-.92-.59-1.43-.59-.52 0-1.04.2-1.43.59L10.3 9.45l-7.72 7.72c-.78.78-.78 2.05 0 2.83L4 21.41c.39.39.9.59 1.41.59.51 0 1.02-.2 1.41-.59l7.78-7.78 2.81-2.81c.8-.78.8-2.07 0-2.86zM5.41 20L4 18.59l7.72-7.72 1.47 1.35L5.41 20z\"/>\n",
       "  </svg>\n",
       "      </button>\n",
       "      \n",
       "  <style>\n",
       "    .colab-df-container {\n",
       "      display:flex;\n",
       "      flex-wrap:wrap;\n",
       "      gap: 12px;\n",
       "    }\n",
       "\n",
       "    .colab-df-convert {\n",
       "      background-color: #E8F0FE;\n",
       "      border: none;\n",
       "      border-radius: 50%;\n",
       "      cursor: pointer;\n",
       "      display: none;\n",
       "      fill: #1967D2;\n",
       "      height: 32px;\n",
       "      padding: 0 0 0 0;\n",
       "      width: 32px;\n",
       "    }\n",
       "\n",
       "    .colab-df-convert:hover {\n",
       "      background-color: #E2EBFA;\n",
       "      box-shadow: 0px 1px 2px rgba(60, 64, 67, 0.3), 0px 1px 3px 1px rgba(60, 64, 67, 0.15);\n",
       "      fill: #174EA6;\n",
       "    }\n",
       "\n",
       "    [theme=dark] .colab-df-convert {\n",
       "      background-color: #3B4455;\n",
       "      fill: #D2E3FC;\n",
       "    }\n",
       "\n",
       "    [theme=dark] .colab-df-convert:hover {\n",
       "      background-color: #434B5C;\n",
       "      box-shadow: 0px 1px 3px 1px rgba(0, 0, 0, 0.15);\n",
       "      filter: drop-shadow(0px 1px 2px rgba(0, 0, 0, 0.3));\n",
       "      fill: #FFFFFF;\n",
       "    }\n",
       "  </style>\n",
       "\n",
       "      <script>\n",
       "        const buttonEl =\n",
       "          document.querySelector('#df-6d0c4b0c-a8b0-476d-bb00-316d3585b825 button.colab-df-convert');\n",
       "        buttonEl.style.display =\n",
       "          google.colab.kernel.accessAllowed ? 'block' : 'none';\n",
       "\n",
       "        async function convertToInteractive(key) {\n",
       "          const element = document.querySelector('#df-6d0c4b0c-a8b0-476d-bb00-316d3585b825');\n",
       "          const dataTable =\n",
       "            await google.colab.kernel.invokeFunction('convertToInteractive',\n",
       "                                                     [key], {});\n",
       "          if (!dataTable) return;\n",
       "\n",
       "          const docLinkHtml = 'Like what you see? Visit the ' +\n",
       "            '<a target=\"_blank\" href=https://colab.research.google.com/notebooks/data_table.ipynb>data table notebook</a>'\n",
       "            + ' to learn more about interactive tables.';\n",
       "          element.innerHTML = '';\n",
       "          dataTable['output_type'] = 'display_data';\n",
       "          await google.colab.output.renderOutput(dataTable, element);\n",
       "          const docLink = document.createElement('div');\n",
       "          docLink.innerHTML = docLinkHtml;\n",
       "          element.appendChild(docLink);\n",
       "        }\n",
       "      </script>\n",
       "    </div>\n",
       "  </div>\n",
       "  "
      ],
      "text/plain": [
       "   file_name  cor1  cor2  cor3  cor4  Image_Class\n",
       "0  00001.jpg    39   116   569   375           14\n",
       "1  00002.jpg    36   116   868   587            3\n",
       "2  00003.jpg    85   109   601   381           91\n",
       "3  00004.jpg   621   393  1484  1096          134\n",
       "4  00005.jpg    14    36   133    99          106"
      ]
     },
     "execution_count": 17,
     "metadata": {},
     "output_type": "execute_result"
    }
   ],
   "source": [
    "trainAnno.head()"
   ]
  },
  {
   "cell_type": "code",
   "execution_count": null,
   "metadata": {
    "id": "kxcOmZhRYqUd"
   },
   "outputs": [],
   "source": [
    "# Lets add coordinate information to the above table\n",
    "trainDFOrig=pd.merge(train,trainAnno,on='file_name',how='inner')"
   ]
  },
  {
   "cell_type": "code",
   "execution_count": null,
   "metadata": {
    "colab": {
     "base_uri": "https://localhost:8080/",
     "height": 206
    },
    "id": "INNEjWIHZbKa",
    "outputId": "bf25a5ab-ad03-4f4c-b7e5-207325468a74"
   },
   "outputs": [
    {
     "data": {
      "text/html": [
       "\n",
       "  <div id=\"df-cd5e4cec-73dc-4329-83ac-3016f57f202a\">\n",
       "    <div class=\"colab-df-container\">\n",
       "      <div>\n",
       "<style scoped>\n",
       "    .dataframe tbody tr th:only-of-type {\n",
       "        vertical-align: middle;\n",
       "    }\n",
       "\n",
       "    .dataframe tbody tr th {\n",
       "        vertical-align: top;\n",
       "    }\n",
       "\n",
       "    .dataframe thead th {\n",
       "        text-align: right;\n",
       "    }\n",
       "</style>\n",
       "<table border=\"1\" class=\"dataframe\">\n",
       "  <thead>\n",
       "    <tr style=\"text-align: right;\">\n",
       "      <th></th>\n",
       "      <th>file_path</th>\n",
       "      <th>label</th>\n",
       "      <th>file_name</th>\n",
       "      <th>cor1</th>\n",
       "      <th>cor2</th>\n",
       "      <th>cor3</th>\n",
       "      <th>cor4</th>\n",
       "      <th>Image_Class</th>\n",
       "    </tr>\n",
       "  </thead>\n",
       "  <tbody>\n",
       "    <tr>\n",
       "      <th>0</th>\n",
       "      <td>/content/drive/MyDrive/Capstone/Car Images/Car...</td>\n",
       "      <td>Suzuki SX4 Sedan 2012</td>\n",
       "      <td>00482.jpg</td>\n",
       "      <td>80</td>\n",
       "      <td>91</td>\n",
       "      <td>589</td>\n",
       "      <td>429</td>\n",
       "      <td>184</td>\n",
       "    </tr>\n",
       "    <tr>\n",
       "      <th>1</th>\n",
       "      <td>/content/drive/MyDrive/Capstone/Car Images/Car...</td>\n",
       "      <td>Suzuki SX4 Sedan 2012</td>\n",
       "      <td>05872.jpg</td>\n",
       "      <td>39</td>\n",
       "      <td>35</td>\n",
       "      <td>591</td>\n",
       "      <td>413</td>\n",
       "      <td>184</td>\n",
       "    </tr>\n",
       "    <tr>\n",
       "      <th>2</th>\n",
       "      <td>/content/drive/MyDrive/Capstone/Car Images/Car...</td>\n",
       "      <td>Suzuki SX4 Sedan 2012</td>\n",
       "      <td>06576.jpg</td>\n",
       "      <td>64</td>\n",
       "      <td>347</td>\n",
       "      <td>629</td>\n",
       "      <td>577</td>\n",
       "      <td>184</td>\n",
       "    </tr>\n",
       "    <tr>\n",
       "      <th>3</th>\n",
       "      <td>/content/drive/MyDrive/Capstone/Car Images/Car...</td>\n",
       "      <td>Suzuki SX4 Sedan 2012</td>\n",
       "      <td>00719.jpg</td>\n",
       "      <td>118</td>\n",
       "      <td>93</td>\n",
       "      <td>380</td>\n",
       "      <td>317</td>\n",
       "      <td>184</td>\n",
       "    </tr>\n",
       "    <tr>\n",
       "      <th>4</th>\n",
       "      <td>/content/drive/MyDrive/Capstone/Car Images/Car...</td>\n",
       "      <td>Suzuki SX4 Sedan 2012</td>\n",
       "      <td>04655.jpg</td>\n",
       "      <td>9</td>\n",
       "      <td>11</td>\n",
       "      <td>824</td>\n",
       "      <td>489</td>\n",
       "      <td>184</td>\n",
       "    </tr>\n",
       "  </tbody>\n",
       "</table>\n",
       "</div>\n",
       "      <button class=\"colab-df-convert\" onclick=\"convertToInteractive('df-cd5e4cec-73dc-4329-83ac-3016f57f202a')\"\n",
       "              title=\"Convert this dataframe to an interactive table.\"\n",
       "              style=\"display:none;\">\n",
       "        \n",
       "  <svg xmlns=\"http://www.w3.org/2000/svg\" height=\"24px\"viewBox=\"0 0 24 24\"\n",
       "       width=\"24px\">\n",
       "    <path d=\"M0 0h24v24H0V0z\" fill=\"none\"/>\n",
       "    <path d=\"M18.56 5.44l.94 2.06.94-2.06 2.06-.94-2.06-.94-.94-2.06-.94 2.06-2.06.94zm-11 1L8.5 8.5l.94-2.06 2.06-.94-2.06-.94L8.5 2.5l-.94 2.06-2.06.94zm10 10l.94 2.06.94-2.06 2.06-.94-2.06-.94-.94-2.06-.94 2.06-2.06.94z\"/><path d=\"M17.41 7.96l-1.37-1.37c-.4-.4-.92-.59-1.43-.59-.52 0-1.04.2-1.43.59L10.3 9.45l-7.72 7.72c-.78.78-.78 2.05 0 2.83L4 21.41c.39.39.9.59 1.41.59.51 0 1.02-.2 1.41-.59l7.78-7.78 2.81-2.81c.8-.78.8-2.07 0-2.86zM5.41 20L4 18.59l7.72-7.72 1.47 1.35L5.41 20z\"/>\n",
       "  </svg>\n",
       "      </button>\n",
       "      \n",
       "  <style>\n",
       "    .colab-df-container {\n",
       "      display:flex;\n",
       "      flex-wrap:wrap;\n",
       "      gap: 12px;\n",
       "    }\n",
       "\n",
       "    .colab-df-convert {\n",
       "      background-color: #E8F0FE;\n",
       "      border: none;\n",
       "      border-radius: 50%;\n",
       "      cursor: pointer;\n",
       "      display: none;\n",
       "      fill: #1967D2;\n",
       "      height: 32px;\n",
       "      padding: 0 0 0 0;\n",
       "      width: 32px;\n",
       "    }\n",
       "\n",
       "    .colab-df-convert:hover {\n",
       "      background-color: #E2EBFA;\n",
       "      box-shadow: 0px 1px 2px rgba(60, 64, 67, 0.3), 0px 1px 3px 1px rgba(60, 64, 67, 0.15);\n",
       "      fill: #174EA6;\n",
       "    }\n",
       "\n",
       "    [theme=dark] .colab-df-convert {\n",
       "      background-color: #3B4455;\n",
       "      fill: #D2E3FC;\n",
       "    }\n",
       "\n",
       "    [theme=dark] .colab-df-convert:hover {\n",
       "      background-color: #434B5C;\n",
       "      box-shadow: 0px 1px 3px 1px rgba(0, 0, 0, 0.15);\n",
       "      filter: drop-shadow(0px 1px 2px rgba(0, 0, 0, 0.3));\n",
       "      fill: #FFFFFF;\n",
       "    }\n",
       "  </style>\n",
       "\n",
       "      <script>\n",
       "        const buttonEl =\n",
       "          document.querySelector('#df-cd5e4cec-73dc-4329-83ac-3016f57f202a button.colab-df-convert');\n",
       "        buttonEl.style.display =\n",
       "          google.colab.kernel.accessAllowed ? 'block' : 'none';\n",
       "\n",
       "        async function convertToInteractive(key) {\n",
       "          const element = document.querySelector('#df-cd5e4cec-73dc-4329-83ac-3016f57f202a');\n",
       "          const dataTable =\n",
       "            await google.colab.kernel.invokeFunction('convertToInteractive',\n",
       "                                                     [key], {});\n",
       "          if (!dataTable) return;\n",
       "\n",
       "          const docLinkHtml = 'Like what you see? Visit the ' +\n",
       "            '<a target=\"_blank\" href=https://colab.research.google.com/notebooks/data_table.ipynb>data table notebook</a>'\n",
       "            + ' to learn more about interactive tables.';\n",
       "          element.innerHTML = '';\n",
       "          dataTable['output_type'] = 'display_data';\n",
       "          await google.colab.output.renderOutput(dataTable, element);\n",
       "          const docLink = document.createElement('div');\n",
       "          docLink.innerHTML = docLinkHtml;\n",
       "          element.appendChild(docLink);\n",
       "        }\n",
       "      </script>\n",
       "    </div>\n",
       "  </div>\n",
       "  "
      ],
      "text/plain": [
       "                                           file_path                  label  \\\n",
       "0  /content/drive/MyDrive/Capstone/Car Images/Car...  Suzuki SX4 Sedan 2012   \n",
       "1  /content/drive/MyDrive/Capstone/Car Images/Car...  Suzuki SX4 Sedan 2012   \n",
       "2  /content/drive/MyDrive/Capstone/Car Images/Car...  Suzuki SX4 Sedan 2012   \n",
       "3  /content/drive/MyDrive/Capstone/Car Images/Car...  Suzuki SX4 Sedan 2012   \n",
       "4  /content/drive/MyDrive/Capstone/Car Images/Car...  Suzuki SX4 Sedan 2012   \n",
       "\n",
       "   file_name  cor1  cor2  cor3  cor4  Image_Class  \n",
       "0  00482.jpg    80    91   589   429          184  \n",
       "1  05872.jpg    39    35   591   413          184  \n",
       "2  06576.jpg    64   347   629   577          184  \n",
       "3  00719.jpg   118    93   380   317          184  \n",
       "4  04655.jpg     9    11   824   489          184  "
      ]
     },
     "execution_count": 19,
     "metadata": {},
     "output_type": "execute_result"
    }
   ],
   "source": [
    "trainDFOrig.head()"
   ]
  },
  {
   "cell_type": "code",
   "execution_count": null,
   "metadata": {
    "id": "bZ-L2zwiP56R"
   },
   "outputs": [],
   "source": [
    "trainDFUpdated=None\n",
    "trainDFUpdated=pd.read_pickle('/content/drive/MyDrive/Capstone/Pickled_Info/trainDFUpdated.pickle')"
   ]
  },
  {
   "cell_type": "code",
   "execution_count": null,
   "metadata": {
    "colab": {
     "base_uri": "https://localhost:8080/"
    },
    "id": "RP-m5oXoU3Gv",
    "outputId": "76b99e77-b166-44e8-9e7c-1ba06efecc54"
   },
   "outputs": [
    {
     "name": "stdout",
     "output_type": "stream",
     "text": [
      "trainDFUpdated is already created \n"
     ]
    }
   ],
   "source": [
    "if(trainDFUpdated is None):\n",
    "  #import matplotlib.image as img\n",
    "  #import cv2\n",
    "  # We are going to work with 128*128 images\n",
    "  # We need to resize bounding box accordingly\n",
    "  # Loop over validation data\n",
    "\n",
    "  flag=1\n",
    "  trainDFUpdated=trainDFOrig.copy()\n",
    "  for i in np.arange(0,len(trainDFOrig)-1,1):\n",
    "    #Read each image  \n",
    "    eachRecord=trainDFOrig.iloc[i,:]\n",
    "    im = img.imread(eachRecord['file_path'])\n",
    "    imgLength=im.shape[0]\n",
    "    imgWidth=im.shape[1]\n",
    "\n",
    "    # Getting the ground truth\n",
    "    x0=int(eachRecord['cor1'])\n",
    "    y0=int(eachRecord['cor2'])\n",
    "    x1=int(eachRecord['cor3'])\n",
    "    y1=int(eachRecord['cor4'])\n",
    "    #imageClass=classDict.get(eachRecord['label'])\n",
    "\n",
    "    # Resize Coordinates because each image will be 300*300\n",
    "    res_x0=int(x0*images_width/imgWidth)\n",
    "    res_y0=int(y0*images_height/imgLength)\n",
    "    res_x1=int(x1*images_width/imgWidth)\n",
    "    res_y1=int(y1*images_height/imgLength)\n",
    "\n",
    "    #Assign the realigned coordinates back\n",
    "    eachRecord['cor1']=res_x0\n",
    "    eachRecord['cor2']=res_y0\n",
    "    eachRecord['cor3']=res_x1\n",
    "    eachRecord['cor4']=res_y1\n",
    "\n",
    "    #Append record to new DF\n",
    "    trainDFUpdated.iloc[i,:]=eachRecord\n",
    "    #print(trainDFOrig.iloc[i,:])\n",
    "    #print('\\n')\n",
    "    #print(trainDFUpdated.iloc[i,:])\n",
    "\n",
    "    #flag=flag+1 \n",
    "    #if(flag==2):\n",
    "    # break\n",
    "  print('Done')\n",
    "  # Pickle the data frame \n",
    "  trainDFUpdated.to_pickle('/content/drive/MyDrive/Capstone/Pickled_Info/trainDFUpdated.pickle')\n",
    "\n",
    "else:\n",
    "  print('trainDFUpdated is already created ')\n",
    "\n",
    "  \n",
    "  "
   ]
  },
  {
   "cell_type": "code",
   "execution_count": null,
   "metadata": {
    "id": "5zSPG9ZUE0Ta"
   },
   "outputs": [],
   "source": []
  },
  {
   "cell_type": "code",
   "execution_count": null,
   "metadata": {
    "colab": {
     "base_uri": "https://localhost:8080/",
     "height": 206
    },
    "id": "tMmFt3irkwIE",
    "outputId": "f4f666de-2545-4eda-9c8a-688815e7a639"
   },
   "outputs": [
    {
     "data": {
      "text/html": [
       "\n",
       "  <div id=\"df-152b3b18-1771-4f9e-834a-f4307d415fdc\">\n",
       "    <div class=\"colab-df-container\">\n",
       "      <div>\n",
       "<style scoped>\n",
       "    .dataframe tbody tr th:only-of-type {\n",
       "        vertical-align: middle;\n",
       "    }\n",
       "\n",
       "    .dataframe tbody tr th {\n",
       "        vertical-align: top;\n",
       "    }\n",
       "\n",
       "    .dataframe thead th {\n",
       "        text-align: right;\n",
       "    }\n",
       "</style>\n",
       "<table border=\"1\" class=\"dataframe\">\n",
       "  <thead>\n",
       "    <tr style=\"text-align: right;\">\n",
       "      <th></th>\n",
       "      <th>file_path</th>\n",
       "      <th>label</th>\n",
       "      <th>file_name</th>\n",
       "      <th>cor1</th>\n",
       "      <th>cor2</th>\n",
       "      <th>cor3</th>\n",
       "      <th>cor4</th>\n",
       "      <th>Image_Class</th>\n",
       "    </tr>\n",
       "  </thead>\n",
       "  <tbody>\n",
       "    <tr>\n",
       "      <th>0</th>\n",
       "      <td>/content/drive/MyDrive/Capstone/Car Images/Car...</td>\n",
       "      <td>Suzuki SX4 Sedan 2012</td>\n",
       "      <td>00482.jpg</td>\n",
       "      <td>16</td>\n",
       "      <td>24</td>\n",
       "      <td>117</td>\n",
       "      <td>114</td>\n",
       "      <td>184</td>\n",
       "    </tr>\n",
       "    <tr>\n",
       "      <th>1</th>\n",
       "      <td>/content/drive/MyDrive/Capstone/Car Images/Car...</td>\n",
       "      <td>Suzuki SX4 Sedan 2012</td>\n",
       "      <td>05872.jpg</td>\n",
       "      <td>7</td>\n",
       "      <td>9</td>\n",
       "      <td>118</td>\n",
       "      <td>110</td>\n",
       "      <td>184</td>\n",
       "    </tr>\n",
       "    <tr>\n",
       "      <th>2</th>\n",
       "      <td>/content/drive/MyDrive/Capstone/Car Images/Car...</td>\n",
       "      <td>Suzuki SX4 Sedan 2012</td>\n",
       "      <td>06576.jpg</td>\n",
       "      <td>8</td>\n",
       "      <td>57</td>\n",
       "      <td>78</td>\n",
       "      <td>96</td>\n",
       "      <td>184</td>\n",
       "    </tr>\n",
       "    <tr>\n",
       "      <th>3</th>\n",
       "      <td>/content/drive/MyDrive/Capstone/Car Images/Car...</td>\n",
       "      <td>Suzuki SX4 Sedan 2012</td>\n",
       "      <td>00719.jpg</td>\n",
       "      <td>26</td>\n",
       "      <td>30</td>\n",
       "      <td>83</td>\n",
       "      <td>104</td>\n",
       "      <td>184</td>\n",
       "    </tr>\n",
       "    <tr>\n",
       "      <th>4</th>\n",
       "      <td>/content/drive/MyDrive/Capstone/Car Images/Car...</td>\n",
       "      <td>Suzuki SX4 Sedan 2012</td>\n",
       "      <td>04655.jpg</td>\n",
       "      <td>1</td>\n",
       "      <td>2</td>\n",
       "      <td>120</td>\n",
       "      <td>112</td>\n",
       "      <td>184</td>\n",
       "    </tr>\n",
       "  </tbody>\n",
       "</table>\n",
       "</div>\n",
       "      <button class=\"colab-df-convert\" onclick=\"convertToInteractive('df-152b3b18-1771-4f9e-834a-f4307d415fdc')\"\n",
       "              title=\"Convert this dataframe to an interactive table.\"\n",
       "              style=\"display:none;\">\n",
       "        \n",
       "  <svg xmlns=\"http://www.w3.org/2000/svg\" height=\"24px\"viewBox=\"0 0 24 24\"\n",
       "       width=\"24px\">\n",
       "    <path d=\"M0 0h24v24H0V0z\" fill=\"none\"/>\n",
       "    <path d=\"M18.56 5.44l.94 2.06.94-2.06 2.06-.94-2.06-.94-.94-2.06-.94 2.06-2.06.94zm-11 1L8.5 8.5l.94-2.06 2.06-.94-2.06-.94L8.5 2.5l-.94 2.06-2.06.94zm10 10l.94 2.06.94-2.06 2.06-.94-2.06-.94-.94-2.06-.94 2.06-2.06.94z\"/><path d=\"M17.41 7.96l-1.37-1.37c-.4-.4-.92-.59-1.43-.59-.52 0-1.04.2-1.43.59L10.3 9.45l-7.72 7.72c-.78.78-.78 2.05 0 2.83L4 21.41c.39.39.9.59 1.41.59.51 0 1.02-.2 1.41-.59l7.78-7.78 2.81-2.81c.8-.78.8-2.07 0-2.86zM5.41 20L4 18.59l7.72-7.72 1.47 1.35L5.41 20z\"/>\n",
       "  </svg>\n",
       "      </button>\n",
       "      \n",
       "  <style>\n",
       "    .colab-df-container {\n",
       "      display:flex;\n",
       "      flex-wrap:wrap;\n",
       "      gap: 12px;\n",
       "    }\n",
       "\n",
       "    .colab-df-convert {\n",
       "      background-color: #E8F0FE;\n",
       "      border: none;\n",
       "      border-radius: 50%;\n",
       "      cursor: pointer;\n",
       "      display: none;\n",
       "      fill: #1967D2;\n",
       "      height: 32px;\n",
       "      padding: 0 0 0 0;\n",
       "      width: 32px;\n",
       "    }\n",
       "\n",
       "    .colab-df-convert:hover {\n",
       "      background-color: #E2EBFA;\n",
       "      box-shadow: 0px 1px 2px rgba(60, 64, 67, 0.3), 0px 1px 3px 1px rgba(60, 64, 67, 0.15);\n",
       "      fill: #174EA6;\n",
       "    }\n",
       "\n",
       "    [theme=dark] .colab-df-convert {\n",
       "      background-color: #3B4455;\n",
       "      fill: #D2E3FC;\n",
       "    }\n",
       "\n",
       "    [theme=dark] .colab-df-convert:hover {\n",
       "      background-color: #434B5C;\n",
       "      box-shadow: 0px 1px 3px 1px rgba(0, 0, 0, 0.15);\n",
       "      filter: drop-shadow(0px 1px 2px rgba(0, 0, 0, 0.3));\n",
       "      fill: #FFFFFF;\n",
       "    }\n",
       "  </style>\n",
       "\n",
       "      <script>\n",
       "        const buttonEl =\n",
       "          document.querySelector('#df-152b3b18-1771-4f9e-834a-f4307d415fdc button.colab-df-convert');\n",
       "        buttonEl.style.display =\n",
       "          google.colab.kernel.accessAllowed ? 'block' : 'none';\n",
       "\n",
       "        async function convertToInteractive(key) {\n",
       "          const element = document.querySelector('#df-152b3b18-1771-4f9e-834a-f4307d415fdc');\n",
       "          const dataTable =\n",
       "            await google.colab.kernel.invokeFunction('convertToInteractive',\n",
       "                                                     [key], {});\n",
       "          if (!dataTable) return;\n",
       "\n",
       "          const docLinkHtml = 'Like what you see? Visit the ' +\n",
       "            '<a target=\"_blank\" href=https://colab.research.google.com/notebooks/data_table.ipynb>data table notebook</a>'\n",
       "            + ' to learn more about interactive tables.';\n",
       "          element.innerHTML = '';\n",
       "          dataTable['output_type'] = 'display_data';\n",
       "          await google.colab.output.renderOutput(dataTable, element);\n",
       "          const docLink = document.createElement('div');\n",
       "          docLink.innerHTML = docLinkHtml;\n",
       "          element.appendChild(docLink);\n",
       "        }\n",
       "      </script>\n",
       "    </div>\n",
       "  </div>\n",
       "  "
      ],
      "text/plain": [
       "                                           file_path                  label  \\\n",
       "0  /content/drive/MyDrive/Capstone/Car Images/Car...  Suzuki SX4 Sedan 2012   \n",
       "1  /content/drive/MyDrive/Capstone/Car Images/Car...  Suzuki SX4 Sedan 2012   \n",
       "2  /content/drive/MyDrive/Capstone/Car Images/Car...  Suzuki SX4 Sedan 2012   \n",
       "3  /content/drive/MyDrive/Capstone/Car Images/Car...  Suzuki SX4 Sedan 2012   \n",
       "4  /content/drive/MyDrive/Capstone/Car Images/Car...  Suzuki SX4 Sedan 2012   \n",
       "\n",
       "   file_name  cor1  cor2  cor3  cor4  Image_Class  \n",
       "0  00482.jpg    16    24   117   114          184  \n",
       "1  05872.jpg     7     9   118   110          184  \n",
       "2  06576.jpg     8    57    78    96          184  \n",
       "3  00719.jpg    26    30    83   104          184  \n",
       "4  04655.jpg     1     2   120   112          184  "
      ]
     },
     "execution_count": 22,
     "metadata": {},
     "output_type": "execute_result"
    }
   ],
   "source": [
    "trainDFUpdated.head()"
   ]
  },
  {
   "cell_type": "code",
   "execution_count": null,
   "metadata": {
    "colab": {
     "base_uri": "https://localhost:8080/",
     "height": 288
    },
    "id": "GmSawGwm-LIl",
    "outputId": "39cca2e2-8b71-4ec4-c6d7-a1e491de4eff"
   },
   "outputs": [
    {
     "data": {
      "text/plain": [
       "<matplotlib.image.AxesImage at 0x7f544e333810>"
      ]
     },
     "execution_count": 23,
     "metadata": {},
     "output_type": "execute_result"
    },
    {
     "data": {
      "text/plain": [
       "<matplotlib.patches.Rectangle at 0x7f544e315b10>"
      ]
     },
     "execution_count": 23,
     "metadata": {},
     "output_type": "execute_result"
    },
    {
     "data": {
      "image/png": "[encoded data removed]",
      "text/plain": [
       "<Figure size 432x288 with 1 Axes>"
      ]
     },
     "metadata": {},
     "output_type": "display_data"
    }
   ],
   "source": [
    "# Lets validate data here \n",
    "\n",
    "#Get any record at random\n",
    "eachRecord=trainDFUpdated.iloc[0,:]\n",
    "im = img.imread(eachRecord['file_path'])  \n",
    "resizedImage=cv2.resize(im, dsize=(images_height, images_width), interpolation=cv2.INTER_CUBIC)\n",
    "#Some These images had 4 channels , needed below line to convert to 3 \n",
    "#convertedImage=cv2.cvtColor(resizedImage, cv2.COLOR_BGRA2BGR)\n",
    "im=resizedImage\n",
    "\n",
    "# Show  image with Box\n",
    "fig,ax = plt.subplots(1)\n",
    "ax.imshow(im/255)\n",
    "rect = patches.Rectangle((eachRecord['cor1'], eachRecord['cor2']), eachRecord['cor3'] - eachRecord['cor1'], eachRecord['cor4'] - eachRecord['cor2'], linewidth=2, edgecolor='r', facecolor='none')\n",
    "ax.add_patch(rect)\n",
    "plt.show()"
   ]
  },
  {
   "cell_type": "code",
   "execution_count": null,
   "metadata": {
    "id": "Scr-YkM29p1m"
   },
   "outputs": [],
   "source": [
    "from sklearn.model_selection import train_test_split\n",
    "train_df,valid_df= train_test_split(trainDFUpdated, test_size=0.20, random_state=0, stratify=train['label'])"
   ]
  },
  {
   "cell_type": "code",
   "execution_count": null,
   "metadata": {
    "colab": {
     "base_uri": "https://localhost:8080/"
    },
    "id": "L-gkAZhAZnHZ",
    "outputId": "62466ff9-1bd3-453c-ea18-f6b116a6a4aa"
   },
   "outputs": [
    {
     "data": {
      "text/plain": [
       "(6515, 8)"
      ]
     },
     "execution_count": 25,
     "metadata": {},
     "output_type": "execute_result"
    },
    {
     "data": {
      "text/plain": [
       "(1629, 8)"
      ]
     },
     "execution_count": 25,
     "metadata": {},
     "output_type": "execute_result"
    }
   ],
   "source": [
    "train_df.shape\n",
    "valid_df.shape"
   ]
  },
  {
   "cell_type": "code",
   "execution_count": null,
   "metadata": {
    "id": "mm6XxePJn74F"
   },
   "outputs": [],
   "source": [
    "#STOP"
   ]
  },
  {
   "cell_type": "code",
   "execution_count": null,
   "metadata": {
    "id": "dttBM_jVHavn"
   },
   "outputs": [],
   "source": [
    "IMG_SIZE=128\n",
    "BATCH_SIZE=32"
   ]
  },
  {
   "cell_type": "code",
   "execution_count": null,
   "metadata": {
    "colab": {
     "base_uri": "https://localhost:8080/"
    },
    "id": "-cO-iCsrGrrf",
    "outputId": "98a266b3-0059-4a30-cedc-f466cd24832b"
   },
   "outputs": [
    {
     "name": "stdout",
     "output_type": "stream",
     "text": [
      "Found 6515 validated image filenames.\n",
      "Found 1629 validated image filenames.\n"
     ]
    }
   ],
   "source": [
    "from keras.preprocessing.image import ImageDataGenerator\n",
    "from keras.applications.mobilenet import preprocess_input\n",
    "\n",
    "datagen =ImageDataGenerator(preprocessing_function=preprocess_input)\n",
    "        \n",
    "\n",
    "\n",
    "train_ds = datagen.flow_from_dataframe(\n",
    "        dataframe=train_df,\n",
    "        directory=train_data_dir,\n",
    "        x_col=\"file_path\",\n",
    "        y_col=['cor1','cor2','cor3','cor4'],\n",
    "        target_size=(IMG_SIZE, IMG_SIZE),\n",
    "        batch_size=BATCH_SIZE,\n",
    "        class_mode='raw',\n",
    "        shuffle=True,\n",
    "        seed=1\n",
    "        )\n",
    "\n",
    "val_ds = datagen.flow_from_dataframe(\n",
    "        dataframe=valid_df,\n",
    "        directory=train_data_dir,\n",
    "        x_col=\"file_path\",\n",
    "        y_col=['cor1','cor2','cor3','cor4'],\n",
    "        target_size=(IMG_SIZE, IMG_SIZE),\n",
    "        batch_size=BATCH_SIZE,\n",
    "        class_mode='raw',\n",
    "        shuffle=True,\n",
    "         seed=1\n",
    "        )"
   ]
  },
  {
   "cell_type": "code",
   "execution_count": null,
   "metadata": {
    "id": "Q1g5S_AQXLeg"
   },
   "outputs": [],
   "source": [
    "# Lts visualise data after it has been run through image generator"
   ]
  },
  {
   "cell_type": "code",
   "execution_count": null,
   "metadata": {
    "id": "YendrCbiKac0"
   },
   "outputs": [],
   "source": [
    "(x,y)=train_ds.next()"
   ]
  },
  {
   "cell_type": "code",
   "execution_count": null,
   "metadata": {
    "colab": {
     "base_uri": "https://localhost:8080/"
    },
    "id": "bHACtTTnKr8o",
    "outputId": "e161d3dd-ac25-4eb1-96ed-92d7c49e5c5b"
   },
   "outputs": [
    {
     "data": {
      "text/plain": [
       "(32, 128, 128, 3)"
      ]
     },
     "execution_count": 31,
     "metadata": {},
     "output_type": "execute_result"
    },
    {
     "data": {
      "text/plain": [
       "(32, 4)"
      ]
     },
     "execution_count": 31,
     "metadata": {},
     "output_type": "execute_result"
    }
   ],
   "source": [
    "x.shape\n",
    "y.shape"
   ]
  },
  {
   "cell_type": "code",
   "execution_count": null,
   "metadata": {
    "colab": {
     "base_uri": "https://localhost:8080/"
    },
    "id": "0QH_ZPmGKg9W",
    "outputId": "02b97a63-bb7e-401f-b18e-8cc2b83bfd84"
   },
   "outputs": [
    {
     "data": {
      "text/plain": [
       "(128, 128, 3)"
      ]
     },
     "execution_count": 32,
     "metadata": {},
     "output_type": "execute_result"
    }
   ],
   "source": [
    "x[0].shape"
   ]
  },
  {
   "cell_type": "code",
   "execution_count": null,
   "metadata": {
    "colab": {
     "base_uri": "https://localhost:8080/"
    },
    "id": "-OqCCH8eKvH9",
    "outputId": "af16f5dc-668e-4042-c084-cfa31141abd6"
   },
   "outputs": [
    {
     "data": {
      "text/plain": [
       "(4,)"
      ]
     },
     "execution_count": 33,
     "metadata": {},
     "output_type": "execute_result"
    }
   ],
   "source": [
    "y[0].shape"
   ]
  },
  {
   "cell_type": "code",
   "execution_count": null,
   "metadata": {
    "colab": {
     "base_uri": "https://localhost:8080/"
    },
    "id": "iIyIC1XTK6xn",
    "outputId": "76d739f8-02b2-401e-d5f6-045b30aa18ca"
   },
   "outputs": [
    {
     "data": {
      "text/plain": [
       "array([ 23,  23, 113, 103])"
      ]
     },
     "execution_count": 34,
     "metadata": {},
     "output_type": "execute_result"
    }
   ],
   "source": [
    "y[0]"
   ]
  },
  {
   "cell_type": "code",
   "execution_count": null,
   "metadata": {
    "colab": {
     "base_uri": "https://localhost:8080/",
     "height": 306
    },
    "id": "KHoUw_DCXqo_",
    "outputId": "d2935242-f789-409c-d7c0-7fb1d2c7393b"
   },
   "outputs": [
    {
     "name": "stderr",
     "output_type": "stream",
     "text": [
      "Clipping input data to the valid range for imshow with RGB data ([0..1] for floats or [0..255] for integers).\n"
     ]
    },
    {
     "data": {
      "text/plain": [
       "<matplotlib.image.AxesImage at 0x7faec4332e10>"
      ]
     },
     "execution_count": 35,
     "metadata": {},
     "output_type": "execute_result"
    },
    {
     "data": {
      "text/plain": [
       "<matplotlib.patches.Rectangle at 0x7faec1414190>"
      ]
     },
     "execution_count": 35,
     "metadata": {},
     "output_type": "execute_result"
    },
    {
     "data": {
      "image/png": "[encoded data removed]",
      "text/plain": [
       "<Figure size 432x288 with 1 Axes>"
      ]
     },
     "metadata": {},
     "output_type": "display_data"
    }
   ],
   "source": [
    "# Lets visually display any two train data samples\n",
    "\n",
    "# View any one sample of prepared Train Data (Ground Truth)\n",
    "im=x[2]\n",
    "# Show resized image with Box\n",
    "fig,ax = plt.subplots(1)\n",
    "ax.imshow(im)\n",
    "res_x0=y[2][0]\n",
    "res_y0=y[2][1]\n",
    "res_x1=y[2][2]\n",
    "res_y1=y[2][3]\n",
    "rect = patches.Rectangle((res_x0, res_y0), res_x1 - res_x0, res_y1 - res_y0, linewidth=2, edgecolor='r', facecolor='none')\n",
    "ax.add_patch(rect)\n",
    "plt.show()\n"
   ]
  },
  {
   "cell_type": "code",
   "execution_count": null,
   "metadata": {
    "id": "rHDHsdA3YIan"
   },
   "outputs": [],
   "source": [
    "# Looks, ok, lets proceed"
   ]
  },
  {
   "cell_type": "markdown",
   "metadata": {
    "id": "IShyfcH9PT5h"
   },
   "source": [
    "## 3.0 Model Building"
   ]
  },
  {
   "cell_type": "code",
   "execution_count": null,
   "metadata": {
    "id": "gPxv5TsjPuHp"
   },
   "outputs": [],
   "source": [
    "images_height=128\n",
    "images_width=128"
   ]
  },
  {
   "cell_type": "code",
   "execution_count": null,
   "metadata": {
    "id": "7qC6F-c9kgGy"
   },
   "outputs": [],
   "source": [
    "# Lets build the model\n",
    "\n",
    "from keras.applications.mobilenet import MobileNet\n",
    "from keras.models import Model,load_model\n",
    "from keras.layers import Conv2D, Reshape,Flatten,Dense,Dropout\n",
    "from keras.callbacks import EarlyStopping\n",
    "from keras.callbacks import ModelCheckpoint\n",
    "\n",
    "ALPHA = 1.0\n",
    "\n",
    "def create_model(trainable=True):\n",
    "    regODModel = MobileNet(input_shape=(images_height, images_width, 3), include_top=False, alpha=ALPHA) # Load pre-trained mobilenet\n",
    "\n",
    "    # to freeze layers, except the new top layer, of course, which will be added below\n",
    "    for layer in regODModel.layers:\n",
    "        layer.trainable = trainable\n",
    "    \n",
    "    # Add new top layer for Regression Head\n",
    "    boxPredicModel = regODModel.layers[-1].output\n",
    "    boxPredicModel = Flatten()(boxPredicModel)\n",
    "    boxPredicModel = Dense(units=4)(boxPredicModel) # These are the 4 predicted coordinates of one BBox\n",
    "   \n",
    "    return Model(inputs=regODModel.input, outputs=boxPredicModel,name=\"box_output\")\n"
   ]
  },
  {
   "cell_type": "code",
   "execution_count": null,
   "metadata": {
    "id": "YHc6bEWTkgGz"
   },
   "outputs": [],
   "source": [
    "# Define evaluation metric\n",
    "\n",
    "def IOU(y_true, y_pred):\n",
    "    intersections = 0\n",
    "    unions = 0\n",
    "    gt = y_true\n",
    "    pred = y_pred\n",
    "    # Compute interection of predicted (pred) and ground truth (gt) bounding boxes\n",
    "    diff_width = np.minimum(gt[:,0] + gt[:,2], pred[:,0] + pred[:,2]) - np.maximum(gt[:,0], pred[:,0])\n",
    "    diff_height = np.minimum(gt[:,1] + gt[:,3], pred[:,1] + pred[:,3]) - np.maximum(gt[:,1], pred[:,1])\n",
    "    intersection = diff_width * diff_height\n",
    "\n",
    "    # Compute union\n",
    "    area_gt = gt[:,2] * gt[:,3]\n",
    "    area_pred = pred[:,2] * pred[:,3]\n",
    "    union = area_gt + area_pred - intersection\n",
    "    # rk - again to repeat we know why he has minues , taken 2 times \n",
    "\n",
    "    # Compute intersection and union over multiple boxes\n",
    "    for j, _ in enumerate(union):\n",
    "      if union[j] > 0 and intersection[j] > 0 and union[j] >= intersection[j]:\n",
    "        intersections += intersection[j]\n",
    "        unions += union[j]\n",
    "\n",
    "    # Compute IOU. Use epsilon to prevent division by zero\n",
    "    iou = np.round(intersections / (unions + tensorflow.keras.backend.epsilon()), 4)# rounded to 4 \n",
    "    # This must match the type used in py_func\n",
    "    iou = iou.astype(np.float32)\n",
    "    return iou\n",
    "    # this is one number for the whole model"
   ]
  },
  {
   "cell_type": "code",
   "execution_count": null,
   "metadata": {
    "id": "HmgZYoVbVXWP"
   },
   "outputs": [],
   "source": [
    "def IoU(y_true, y_pred):\n",
    "    iou = tensorflow.py_function(IOU, [y_true, y_pred], Tout=tensorflow.float32)\n",
    "    return iou\n",
    "# This is a wrapper funcction"
   ]
  },
  {
   "cell_type": "code",
   "execution_count": null,
   "metadata": {
    "colab": {
     "base_uri": "https://localhost:8080/"
    },
    "id": "mRcalqnEkgG0",
    "outputId": "413ee595-95c1-4a3c-83b6-03ec15b7b58b"
   },
   "outputs": [
    {
     "name": "stdout",
     "output_type": "stream",
     "text": [
      "Model: \"box_output\"\n",
      "_________________________________________________________________\n",
      " Layer (type)                Output Shape              Param #   \n",
      "=================================================================\n",
      " input_4 (InputLayer)        [(None, 128, 128, 3)]     0         \n",
      "                                                                 \n",
      " conv1 (Conv2D)              (None, 64, 64, 32)        864       \n",
      "                                                                 \n",
      " conv1_bn (BatchNormalizatio  (None, 64, 64, 32)       128       \n",
      " n)                                                              \n",
      "                                                                 \n",
      " conv1_relu (ReLU)           (None, 64, 64, 32)        0         \n",
      "                                                                 \n",
      " conv_dw_1 (DepthwiseConv2D)  (None, 64, 64, 32)       288       \n",
      "                                                                 \n",
      " conv_dw_1_bn (BatchNormaliz  (None, 64, 64, 32)       128       \n",
      " ation)                                                          \n",
      "                                                                 \n",
      " conv_dw_1_relu (ReLU)       (None, 64, 64, 32)        0         \n",
      "                                                                 \n",
      " conv_pw_1 (Conv2D)          (None, 64, 64, 64)        2048      \n",
      "                                                                 \n",
      " conv_pw_1_bn (BatchNormaliz  (None, 64, 64, 64)       256       \n",
      " ation)                                                          \n",
      "                                                                 \n",
      " conv_pw_1_relu (ReLU)       (None, 64, 64, 64)        0         \n",
      "                                                                 \n",
      " conv_pad_2 (ZeroPadding2D)  (None, 65, 65, 64)        0         \n",
      "                                                                 \n",
      " conv_dw_2 (DepthwiseConv2D)  (None, 32, 32, 64)       576       \n",
      "                                                                 \n",
      " conv_dw_2_bn (BatchNormaliz  (None, 32, 32, 64)       256       \n",
      " ation)                                                          \n",
      "                                                                 \n",
      " conv_dw_2_relu (ReLU)       (None, 32, 32, 64)        0         \n",
      "                                                                 \n",
      " conv_pw_2 (Conv2D)          (None, 32, 32, 128)       8192      \n",
      "                                                                 \n",
      " conv_pw_2_bn (BatchNormaliz  (None, 32, 32, 128)      512       \n",
      " ation)                                                          \n",
      "                                                                 \n",
      " conv_pw_2_relu (ReLU)       (None, 32, 32, 128)       0         \n",
      "                                                                 \n",
      " conv_dw_3 (DepthwiseConv2D)  (None, 32, 32, 128)      1152      \n",
      "                                                                 \n",
      " conv_dw_3_bn (BatchNormaliz  (None, 32, 32, 128)      512       \n",
      " ation)                                                          \n",
      "                                                                 \n",
      " conv_dw_3_relu (ReLU)       (None, 32, 32, 128)       0         \n",
      "                                                                 \n",
      " conv_pw_3 (Conv2D)          (None, 32, 32, 128)       16384     \n",
      "                                                                 \n",
      " conv_pw_3_bn (BatchNormaliz  (None, 32, 32, 128)      512       \n",
      " ation)                                                          \n",
      "                                                                 \n",
      " conv_pw_3_relu (ReLU)       (None, 32, 32, 128)       0         \n",
      "                                                                 \n",
      " conv_pad_4 (ZeroPadding2D)  (None, 33, 33, 128)       0         \n",
      "                                                                 \n",
      " conv_dw_4 (DepthwiseConv2D)  (None, 16, 16, 128)      1152      \n",
      "                                                                 \n",
      " conv_dw_4_bn (BatchNormaliz  (None, 16, 16, 128)      512       \n",
      " ation)                                                          \n",
      "                                                                 \n",
      " conv_dw_4_relu (ReLU)       (None, 16, 16, 128)       0         \n",
      "                                                                 \n",
      " conv_pw_4 (Conv2D)          (None, 16, 16, 256)       32768     \n",
      "                                                                 \n",
      " conv_pw_4_bn (BatchNormaliz  (None, 16, 16, 256)      1024      \n",
      " ation)                                                          \n",
      "                                                                 \n",
      " conv_pw_4_relu (ReLU)       (None, 16, 16, 256)       0         \n",
      "                                                                 \n",
      " conv_dw_5 (DepthwiseConv2D)  (None, 16, 16, 256)      2304      \n",
      "                                                                 \n",
      " conv_dw_5_bn (BatchNormaliz  (None, 16, 16, 256)      1024      \n",
      " ation)                                                          \n",
      "                                                                 \n",
      " conv_dw_5_relu (ReLU)       (None, 16, 16, 256)       0         \n",
      "                                                                 \n",
      " conv_pw_5 (Conv2D)          (None, 16, 16, 256)       65536     \n",
      "                                                                 \n",
      " conv_pw_5_bn (BatchNormaliz  (None, 16, 16, 256)      1024      \n",
      " ation)                                                          \n",
      "                                                                 \n",
      " conv_pw_5_relu (ReLU)       (None, 16, 16, 256)       0         \n",
      "                                                                 \n",
      " conv_pad_6 (ZeroPadding2D)  (None, 17, 17, 256)       0         \n",
      "                                                                 \n",
      " conv_dw_6 (DepthwiseConv2D)  (None, 8, 8, 256)        2304      \n",
      "                                                                 \n",
      " conv_dw_6_bn (BatchNormaliz  (None, 8, 8, 256)        1024      \n",
      " ation)                                                          \n",
      "                                                                 \n",
      " conv_dw_6_relu (ReLU)       (None, 8, 8, 256)         0         \n",
      "                                                                 \n",
      " conv_pw_6 (Conv2D)          (None, 8, 8, 512)         131072    \n",
      "                                                                 \n",
      " conv_pw_6_bn (BatchNormaliz  (None, 8, 8, 512)        2048      \n",
      " ation)                                                          \n",
      "                                                                 \n",
      " conv_pw_6_relu (ReLU)       (None, 8, 8, 512)         0         \n",
      "                                                                 \n",
      " conv_dw_7 (DepthwiseConv2D)  (None, 8, 8, 512)        4608      \n",
      "                                                                 \n",
      " conv_dw_7_bn (BatchNormaliz  (None, 8, 8, 512)        2048      \n",
      " ation)                                                          \n",
      "                                                                 \n",
      " conv_dw_7_relu (ReLU)       (None, 8, 8, 512)         0         \n",
      "                                                                 \n",
      " conv_pw_7 (Conv2D)          (None, 8, 8, 512)         262144    \n",
      "                                                                 \n",
      " conv_pw_7_bn (BatchNormaliz  (None, 8, 8, 512)        2048      \n",
      " ation)                                                          \n",
      "                                                                 \n",
      " conv_pw_7_relu (ReLU)       (None, 8, 8, 512)         0         \n",
      "                                                                 \n",
      " conv_dw_8 (DepthwiseConv2D)  (None, 8, 8, 512)        4608      \n",
      "                                                                 \n",
      " conv_dw_8_bn (BatchNormaliz  (None, 8, 8, 512)        2048      \n",
      " ation)                                                          \n",
      "                                                                 \n",
      " conv_dw_8_relu (ReLU)       (None, 8, 8, 512)         0         \n",
      "                                                                 \n",
      " conv_pw_8 (Conv2D)          (None, 8, 8, 512)         262144    \n",
      "                                                                 \n",
      " conv_pw_8_bn (BatchNormaliz  (None, 8, 8, 512)        2048      \n",
      " ation)                                                          \n",
      "                                                                 \n",
      " conv_pw_8_relu (ReLU)       (None, 8, 8, 512)         0         \n",
      "                                                                 \n",
      " conv_dw_9 (DepthwiseConv2D)  (None, 8, 8, 512)        4608      \n",
      "                                                                 \n",
      " conv_dw_9_bn (BatchNormaliz  (None, 8, 8, 512)        2048      \n",
      " ation)                                                          \n",
      "                                                                 \n",
      " conv_dw_9_relu (ReLU)       (None, 8, 8, 512)         0         \n",
      "                                                                 \n",
      " conv_pw_9 (Conv2D)          (None, 8, 8, 512)         262144    \n",
      "                                                                 \n",
      " conv_pw_9_bn (BatchNormaliz  (None, 8, 8, 512)        2048      \n",
      " ation)                                                          \n",
      "                                                                 \n",
      " conv_pw_9_relu (ReLU)       (None, 8, 8, 512)         0         \n",
      "                                                                 \n",
      " conv_dw_10 (DepthwiseConv2D  (None, 8, 8, 512)        4608      \n",
      " )                                                               \n",
      "                                                                 \n",
      " conv_dw_10_bn (BatchNormali  (None, 8, 8, 512)        2048      \n",
      " zation)                                                         \n",
      "                                                                 \n",
      " conv_dw_10_relu (ReLU)      (None, 8, 8, 512)         0         \n",
      "                                                                 \n",
      " conv_pw_10 (Conv2D)         (None, 8, 8, 512)         262144    \n",
      "                                                                 \n",
      " conv_pw_10_bn (BatchNormali  (None, 8, 8, 512)        2048      \n",
      " zation)                                                         \n",
      "                                                                 \n",
      " conv_pw_10_relu (ReLU)      (None, 8, 8, 512)         0         \n",
      "                                                                 \n",
      " conv_dw_11 (DepthwiseConv2D  (None, 8, 8, 512)        4608      \n",
      " )                                                               \n",
      "                                                                 \n",
      " conv_dw_11_bn (BatchNormali  (None, 8, 8, 512)        2048      \n",
      " zation)                                                         \n",
      "                                                                 \n",
      " conv_dw_11_relu (ReLU)      (None, 8, 8, 512)         0         \n",
      "                                                                 \n",
      " conv_pw_11 (Conv2D)         (None, 8, 8, 512)         262144    \n",
      "                                                                 \n",
      " conv_pw_11_bn (BatchNormali  (None, 8, 8, 512)        2048      \n",
      " zation)                                                         \n",
      "                                                                 \n",
      " conv_pw_11_relu (ReLU)      (None, 8, 8, 512)         0         \n",
      "                                                                 \n",
      " conv_pad_12 (ZeroPadding2D)  (None, 9, 9, 512)        0         \n",
      "                                                                 \n",
      " conv_dw_12 (DepthwiseConv2D  (None, 4, 4, 512)        4608      \n",
      " )                                                               \n",
      "                                                                 \n",
      " conv_dw_12_bn (BatchNormali  (None, 4, 4, 512)        2048      \n",
      " zation)                                                         \n",
      "                                                                 \n",
      " conv_dw_12_relu (ReLU)      (None, 4, 4, 512)         0         \n",
      "                                                                 \n",
      " conv_pw_12 (Conv2D)         (None, 4, 4, 1024)        524288    \n",
      "                                                                 \n",
      " conv_pw_12_bn (BatchNormali  (None, 4, 4, 1024)       4096      \n",
      " zation)                                                         \n",
      "                                                                 \n",
      " conv_pw_12_relu (ReLU)      (None, 4, 4, 1024)        0         \n",
      "                                                                 \n",
      " conv_dw_13 (DepthwiseConv2D  (None, 4, 4, 1024)       9216      \n",
      " )                                                               \n",
      "                                                                 \n",
      " conv_dw_13_bn (BatchNormali  (None, 4, 4, 1024)       4096      \n",
      " zation)                                                         \n",
      "                                                                 \n",
      " conv_dw_13_relu (ReLU)      (None, 4, 4, 1024)        0         \n",
      "                                                                 \n",
      " conv_pw_13 (Conv2D)         (None, 4, 4, 1024)        1048576   \n",
      "                                                                 \n",
      " conv_pw_13_bn (BatchNormali  (None, 4, 4, 1024)       4096      \n",
      " zation)                                                         \n",
      "                                                                 \n",
      " conv_pw_13_relu (ReLU)      (None, 4, 4, 1024)        0         \n",
      "                                                                 \n",
      " flatten_3 (Flatten)         (None, 16384)             0         \n",
      "                                                                 \n",
      " dense_3 (Dense)             (None, 4)                 65540     \n",
      "                                                                 \n",
      "=================================================================\n",
      "Total params: 3,294,404\n",
      "Trainable params: 65,540\n",
      "Non-trainable params: 3,228,864\n",
      "_________________________________________________________________\n"
     ]
    }
   ],
   "source": [
    "#Initialize the model and print summary\n",
    "\n",
    "model = create_model(False) # Arg is False, if you want to freeze lower layers for fast training (but low accuracy)\n",
    "model.summary() # Print summary"
   ]
  },
  {
   "cell_type": "code",
   "execution_count": null,
   "metadata": {
    "id": "nBmnmUT_RmfW"
   },
   "outputs": [],
   "source": [
    "model.compile(loss='mean_squared_error', optimizer='adam', metrics=IoU)"
   ]
  },
  {
   "cell_type": "code",
   "execution_count": null,
   "metadata": {
    "colab": {
     "base_uri": "https://localhost:8080/"
    },
    "id": "HAR-f7J6GVhq",
    "outputId": "44aacc47-e85e-445c-969d-0dc25a952325"
   },
   "outputs": [
    {
     "name": "stdout",
     "output_type": "stream",
     "text": [
      "Epoch 1/10\n",
      "204/204 [==============================] - ETA: 0s - loss: 35.3404 - IoU: 0.8447\n",
      "Epoch 1: val_IoU improved from -inf to 0.81883, saving model to /content/drive/MyDrive/Capstone/Pickled_Info/RegODModel_bestWieghts_128.h5\n",
      "204/204 [==============================] - 68s 333ms/step - loss: 35.3404 - IoU: 0.8447 - val_loss: 2340.9558 - val_IoU: 0.8188\n",
      "Epoch 2/10\n",
      "204/204 [==============================] - ETA: 0s - loss: 24.6965 - IoU: 0.8670\n",
      "Epoch 2: val_IoU improved from 0.81883 to 0.82192, saving model to /content/drive/MyDrive/Capstone/Pickled_Info/RegODModel_bestWieghts_128.h5\n",
      "204/204 [==============================] - 68s 334ms/step - loss: 24.6965 - IoU: 0.8670 - val_loss: 2339.6147 - val_IoU: 0.8219\n",
      "Epoch 3/10\n",
      "204/204 [==============================] - ETA: 0s - loss: 18.7265 - IoU: 0.8839\n",
      "Epoch 3: val_IoU did not improve from 0.82192\n",
      "204/204 [==============================] - 68s 333ms/step - loss: 18.7265 - IoU: 0.8839 - val_loss: 2336.6489 - val_IoU: 0.8208\n",
      "Epoch 4/10\n",
      "204/204 [==============================] - ETA: 0s - loss: 15.0353 - IoU: 0.8953\n",
      "Epoch 4: val_IoU did not improve from 0.82192\n",
      "204/204 [==============================] - 68s 334ms/step - loss: 15.0353 - IoU: 0.8953 - val_loss: 2337.9197 - val_IoU: 0.8213\n",
      "Epoch 5/10\n",
      "204/204 [==============================] - ETA: 0s - loss: 12.5030 - IoU: 0.9037\n",
      "Epoch 5: val_IoU did not improve from 0.82192\n",
      "204/204 [==============================] - 67s 331ms/step - loss: 12.5030 - IoU: 0.9037 - val_loss: 2339.2043 - val_IoU: 0.8177\n",
      "Epoch 6/10\n",
      "204/204 [==============================] - ETA: 0s - loss: 10.2892 - IoU: 0.9123\n",
      "Epoch 6: val_IoU did not improve from 0.82192\n",
      "204/204 [==============================] - 68s 334ms/step - loss: 10.2892 - IoU: 0.9123 - val_loss: 2338.9941 - val_IoU: 0.8209\n"
     ]
    },
    {
     "data": {
      "text/plain": [
       "<keras.callbacks.History at 0x7f22bc035f10>"
      ]
     },
     "execution_count": 112,
     "metadata": {},
     "output_type": "execute_result"
    }
   ],
   "source": [
    "#Training the model\n",
    "#Fit the model to the dataset\n",
    "\n",
    "#Use early stopping,fit the model,give train data - training features and labels,batch size: 32 contd...\n",
    "#...epochs: 10,give validation data - testing features and labels\n",
    "\n",
    "# Use earlystopping\n",
    "callback = EarlyStopping(monitor='val_IoU', patience=5, min_delta=0.01)\n",
    "mc = ModelCheckpoint('/content/drive/MyDrive/Capstone/Pickled_Info/RegODModel_bestWieghts_128.h5', monitor='val_IoU', mode='max', verbose=1, save_best_only=True,save_weights_only=True)\n",
    "# If val_iou does not increase by 001 in 5 epochs , stop\n",
    "# Fit the model\n",
    "model.fit(train_ds, validation_data=val_ds, epochs=10,callbacks=[callback,mc])\n",
    "#Batch sizd ineffcetive here because already coming in batches of 32"
   ]
  },
  {
   "cell_type": "code",
   "execution_count": null,
   "metadata": {
    "id": "h3EBiZq8aqVV"
   },
   "outputs": [],
   "source": [
    "STOP"
   ]
  },
  {
   "cell_type": "code",
   "execution_count": null,
   "metadata": {
    "id": "irKY_0rY29X4"
   },
   "outputs": [],
   "source": [
    "#model.save_weights('/content/drive/MyDrive/Capstone/Pickled_Info/RegODModel_bestWieghts_128.h5')"
   ]
  },
  {
   "cell_type": "code",
   "execution_count": null,
   "metadata": {
    "id": "DQ2T4fhGzZpx"
   },
   "outputs": [],
   "source": [
    "model.load_weights('/content/drive/MyDrive/Capstone/Pickled_Info/RegODModel_bestWieghts_128.h5')\n"
   ]
  },
  {
   "cell_type": "code",
   "execution_count": null,
   "metadata": {
    "id": "f8md12NqzzOp"
   },
   "outputs": [],
   "source": [
    "#model.compile(loss='mean_squared_error', optimizer='adam', metrics=IoU)"
   ]
  },
  {
   "cell_type": "code",
   "execution_count": null,
   "metadata": {
    "id": "aB2sa4ioUGDI"
   },
   "outputs": [],
   "source": [
    "#model.load_weights('/content/drive/MyDrive/Capstone/Pickled_Info/RegODModel_bestWieghts_300.h5')"
   ]
  },
  {
   "cell_type": "code",
   "execution_count": null,
   "metadata": {
    "id": "-56sFKxjYdCj"
   },
   "outputs": [],
   "source": [
    "#model.save('/content/drive/MyDrive/Capstone/Pickled_Info/RegODModel_300.h5')\n",
    "#model.save_weights('/content/drive/MyDrive/Capstone/Pickled_Info/RegODModel_bestWieghts_128.h5')"
   ]
  },
  {
   "cell_type": "code",
   "execution_count": null,
   "metadata": {
    "id": "2sF5PX1bvRpm"
   },
   "outputs": [],
   "source": [
    "#STOP"
   ]
  },
  {
   "cell_type": "code",
   "execution_count": null,
   "metadata": {
    "colab": {
     "base_uri": "https://localhost:8080/"
    },
    "id": "kzbidufqGVhr",
    "outputId": "50232219-a7bb-4c79-8a23-bfd50d1ae6ae"
   },
   "outputs": [
    {
     "name": "stdout",
     "output_type": "stream",
     "text": [
      "51/51 [==============================] - 14s 267ms/step - loss: 2339.6143 - IoU: 0.8217\n"
     ]
    },
    {
     "data": {
      "text/plain": [
       "[2339.6142578125, 0.8216549158096313]"
      ]
     },
     "execution_count": 116,
     "metadata": {},
     "output_type": "execute_result"
    }
   ],
   "source": [
    "#Final loss and accuracy\n",
    "model.evaluate(val_ds)"
   ]
  },
  {
   "cell_type": "code",
   "execution_count": null,
   "metadata": {
    "id": "kFXGcbco5Em_"
   },
   "outputs": [],
   "source": [
    "x,y=val_ds.next()"
   ]
  },
  {
   "cell_type": "code",
   "execution_count": null,
   "metadata": {
    "id": "5YZjJJWhGVhs"
   },
   "outputs": [],
   "source": [
    "# Take some sample image and predict\n",
    "\n",
    "region=model.predict(x[10].reshape(1,128,128,3)) # Predict the BBox\n",
    "groundTruth=y[10]"
   ]
  },
  {
   "cell_type": "code",
   "execution_count": null,
   "metadata": {
    "colab": {
     "base_uri": "https://localhost:8080/"
    },
    "id": "tbtURmoMGVhs",
    "outputId": "f7d0ee31-a9ef-43d6-c2ae-f6b0ff7dcf3d"
   },
   "outputs": [
    {
     "data": {
      "text/plain": [
       "array([[ 12.715022,   8.994607, 110.746284, 125.48972 ]], dtype=float32)"
      ]
     },
     "execution_count": 124,
     "metadata": {},
     "output_type": "execute_result"
    },
    {
     "name": "stdout",
     "output_type": "stream",
     "text": [
      "\n",
      "\n"
     ]
    },
    {
     "data": {
      "text/plain": [
       "array([  8,  10, 109, 123])"
      ]
     },
     "execution_count": 124,
     "metadata": {},
     "output_type": "execute_result"
    }
   ],
   "source": [
    "region\n",
    "print('\\n')\n",
    "groundTruth"
   ]
  },
  {
   "cell_type": "code",
   "execution_count": null,
   "metadata": {
    "id": "VzZae8EJxLqg"
   },
   "outputs": [],
   "source": [
    "################### Lets visually display ground Truth Vs Prediction ###################################################"
   ]
  },
  {
   "cell_type": "code",
   "execution_count": null,
   "metadata": {
    "colab": {
     "base_uri": "https://localhost:8080/",
     "height": 306
    },
    "id": "7q4ty81S6-ip",
    "outputId": "4b433057-5eda-49c4-e2f3-075b1b50df84"
   },
   "outputs": [
    {
     "name": "stderr",
     "output_type": "stream",
     "text": [
      "Clipping input data to the valid range for imshow with RGB data ([0..1] for floats or [0..255] for integers).\n"
     ]
    },
    {
     "data": {
      "text/plain": [
       "<matplotlib.image.AxesImage at 0x7f22b9c8c6d0>"
      ]
     },
     "execution_count": 125,
     "metadata": {},
     "output_type": "execute_result"
    },
    {
     "data": {
      "text/plain": [
       "<matplotlib.patches.Rectangle at 0x7f22bcc49590>"
      ]
     },
     "execution_count": 125,
     "metadata": {},
     "output_type": "execute_result"
    },
    {
     "data": {
      "image/png": "[encoded data removed]",
      "text/plain": [
       "<Figure size 432x288 with 1 Axes>"
      ]
     },
     "metadata": {},
     "output_type": "display_data"
    }
   ],
   "source": [
    "# View any one sample of prepared Train Data /GroundTruth\n",
    "\n",
    "im=x[10]\n",
    "# Show resized image with Box\n",
    "fig,ax = plt.subplots(1)\n",
    "ax.imshow(im)\n",
    "res_x0=groundTruth[0]\n",
    "res_y0=groundTruth[1]\n",
    "res_x1=groundTruth[2]\n",
    "res_y1=groundTruth[3]\n",
    "rect = patches.Rectangle((res_x0, res_y0), res_x1 - res_x0, res_y1 - res_y0, linewidth=2, edgecolor='r', facecolor='none')\n",
    "ax.add_patch(rect)\n",
    "plt.show()"
   ]
  },
  {
   "cell_type": "code",
   "execution_count": null,
   "metadata": {
    "colab": {
     "base_uri": "https://localhost:8080/",
     "height": 306
    },
    "id": "fKpq1EhExQyB",
    "outputId": "256f7557-d774-4e79-9ba6-839a08f5d734"
   },
   "outputs": [
    {
     "name": "stderr",
     "output_type": "stream",
     "text": [
      "Clipping input data to the valid range for imshow with RGB data ([0..1] for floats or [0..255] for integers).\n"
     ]
    },
    {
     "data": {
      "text/plain": [
       "<matplotlib.image.AxesImage at 0x7f22bc782750>"
      ]
     },
     "execution_count": 126,
     "metadata": {},
     "output_type": "execute_result"
    },
    {
     "data": {
      "text/plain": [
       "<matplotlib.patches.Rectangle at 0x7f22bc4dd450>"
      ]
     },
     "execution_count": 126,
     "metadata": {},
     "output_type": "execute_result"
    },
    {
     "data": {
      "image/png": "[encoded data removed]",
      "text/plain": [
       "<Figure size 432x288 with 1 Axes>"
      ]
     },
     "metadata": {},
     "output_type": "display_data"
    }
   ],
   "source": [
    "\n",
    "# Lets view same sample PREDICTION\n",
    "\n",
    "im=x[10]\n",
    "# Show resized image with Box\n",
    "fig,ax = plt.subplots(1)\n",
    "ax.imshow(im)\n",
    "res_x0=region[0][0]\n",
    "res_y0=region[0][1]\n",
    "res_x1=region[0][2]\n",
    "res_y1=region[0][3]\n",
    "rect = patches.Rectangle((res_x0, res_y0), res_x1 - res_x0, res_y1 - res_y0, linewidth=2, edgecolor='r', facecolor='none')\n",
    "ax.add_patch(rect)\n",
    "plt.show()\n"
   ]
  },
  {
   "cell_type": "code",
   "execution_count": null,
   "metadata": {
    "id": "t35zCcrq2jr0"
   },
   "outputs": [],
   "source": [
    "################################# Pickle Validation Data##################################################################"
   ]
  },
  {
   "cell_type": "markdown",
   "metadata": {
    "id": "POxGGhR2RGkc"
   },
   "source": [
    "We will pickle Validation data set in a batch of 1600 for re-use in other notebooks"
   ]
  },
  {
   "cell_type": "code",
   "execution_count": null,
   "metadata": {
    "id": "PFwXx1Uc2opv"
   },
   "outputs": [],
   "source": []
  },
  {
   "cell_type": "code",
   "execution_count": null,
   "metadata": {
    "id": "lBlIn80x2pPB"
   },
   "outputs": [],
   "source": [
    "IMG_SIZE=128\n",
    "BATCH_SIZE=1600"
   ]
  },
  {
   "cell_type": "code",
   "execution_count": null,
   "metadata": {
    "colab": {
     "base_uri": "https://localhost:8080/"
    },
    "id": "qDsr_Bxt2pPC",
    "outputId": "3356b3fa-20e8-46db-de77-c98bda4eb33f"
   },
   "outputs": [
    {
     "name": "stdout",
     "output_type": "stream",
     "text": [
      "Found 6515 validated image filenames.\n",
      "Found 1629 validated image filenames.\n"
     ]
    }
   ],
   "source": [
    "from keras.preprocessing.image import ImageDataGenerator\n",
    "from keras.applications.mobilenet import preprocess_input\n",
    "\n",
    "datagen =ImageDataGenerator(preprocessing_function=preprocess_input)\n",
    "        \n",
    "\n",
    "\n",
    "train_ds = datagen.flow_from_dataframe(\n",
    "        dataframe=train_df,\n",
    "        directory=train_data_dir,\n",
    "        x_col=\"file_path\",\n",
    "        y_col=['cor1','cor2','cor3','cor4'],\n",
    "        target_size=(IMG_SIZE, IMG_SIZE),\n",
    "        batch_size=BATCH_SIZE,\n",
    "        class_mode='raw',\n",
    "        shuffle=True,\n",
    "        seed=1\n",
    "        )\n",
    "\n",
    "val_ds = datagen.flow_from_dataframe(\n",
    "        dataframe=valid_df,\n",
    "        directory=train_data_dir,\n",
    "        x_col=\"file_path\",\n",
    "        y_col=['cor1','cor2','cor3','cor4'],\n",
    "        target_size=(IMG_SIZE, IMG_SIZE),\n",
    "        batch_size=BATCH_SIZE,\n",
    "        class_mode='raw',\n",
    "        shuffle=True,\n",
    "         seed=1\n",
    "        )"
   ]
  },
  {
   "cell_type": "code",
   "execution_count": null,
   "metadata": {
    "colab": {
     "background_save": true
    },
    "id": "YZZQmA3haSvA"
   },
   "outputs": [],
   "source": [
    "(X_Batch,Y_Batch)=val_ds.next()"
   ]
  },
  {
   "cell_type": "code",
   "execution_count": null,
   "metadata": {
    "id": "Wd91tIlSObQh"
   },
   "outputs": [],
   "source": [
    "np.save(\"/content/drive/MyDrive/Capstone/Pickled_Info/X_Batcht_RegIp.npy\",X_Batch)\n",
    "np.save(\"/content/drive/MyDrive/Capstone/Pickled_Info/Y_Batch_RegOp.npy\",Y_Batch)"
   ]
  },
  {
   "cell_type": "code",
   "execution_count": null,
   "metadata": {
    "colab": {
     "base_uri": "https://localhost:8080/"
    },
    "id": "B7r8jHvBTmTf",
    "outputId": "1885b2f3-1bd3-452a-e53f-a087426cabbb"
   },
   "outputs": [
    {
     "data": {
      "text/plain": [
       "(1600, 128, 128, 3)"
      ]
     },
     "execution_count": 34,
     "metadata": {},
     "output_type": "execute_result"
    },
    {
     "data": {
      "text/plain": [
       "(1600, 4)"
      ]
     },
     "execution_count": 34,
     "metadata": {},
     "output_type": "execute_result"
    }
   ],
   "source": [
    "X_Batch.shape\n",
    "Y_Batch.shape"
   ]
  }
 ],
 "metadata": {
  "accelerator": "GPU",
  "colab": {
   "collapsed_sections": [],
   "machine_shape": "hm",
   "name": "Rework-Regression_FreezeWieghts.ipynb",
   "provenance": [],
   "toc_visible": true
  },
  "kernelspec": {
   "display_name": "Python 3 (ipykernel)",
   "language": "python",
   "name": "python3"
  },
  "language_info": {
   "codemirror_mode": {
    "name": "ipython",
    "version": 3
   },
   "file_extension": ".py",
   "mimetype": "text/x-python",
   "name": "python",
   "nbconvert_exporter": "python",
   "pygments_lexer": "ipython3",
   "version": "3.9.7"
  }
 },
 "nbformat": 4,
 "nbformat_minor": 1
}
